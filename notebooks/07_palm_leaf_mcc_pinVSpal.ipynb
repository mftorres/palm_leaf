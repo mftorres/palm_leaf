{
 "cells": [
  {
   "cell_type": "markdown",
   "metadata": {},
   "source": [
    "# Load and prepare the database"
   ]
  },
  {
   "cell_type": "code",
   "execution_count": 25,
   "metadata": {},
   "outputs": [
    {
     "name": "stderr",
     "output_type": "stream",
     "text": [
      "Updating HTML index of packages in '.Library'\n",
      "\n",
      "Making 'packages.html' ...\n",
      " done\n",
      "\n"
     ]
    }
   ],
   "source": [
    "# install.packages('ape')\n",
    "# install.packages('diversitree')\n",
    "# install.packages('codetools')"
   ]
  },
  {
   "cell_type": "code",
   "execution_count": 1,
   "metadata": {},
   "outputs": [],
   "source": [
    "library(ape)"
   ]
  },
  {
   "cell_type": "code",
   "execution_count": 2,
   "metadata": {
    "scrolled": true
   },
   "outputs": [
    {
     "data": {
      "text/html": [
       "<style>\n",
       ".list-inline {list-style: none; margin:0; padding: 0}\n",
       ".list-inline>li {display: inline-block}\n",
       ".list-inline>li:not(:last-child)::after {content: \"\\00b7\"; padding: 0 .5ex}\n",
       "</style>\n",
       "<ol class=list-inline><li>'species'</li><li>'subfamily'</li><li>'plication_all'</li><li>'shape_all'</li><li>'polymorphism'</li><li>'dissection'</li><li>'pinnate'</li><li>'shape_gp'</li><li>'shape_gp_num'</li><li>'induplicate'</li><li>'ind_variable'</li><li>'ind_cospalmate'</li><li>'ind_pinnate'</li><li>'ind_entire'</li><li>'ind_bipinnate'</li><li>'reduplicate'</li><li>'red_variable'</li><li>'red_variance'</li><li>'red_cospalmate'</li><li>'red_pinnate'</li><li>'red_entire'</li></ol>\n"
      ],
      "text/latex": [
       "\\begin{enumerate*}\n",
       "\\item 'species'\n",
       "\\item 'subfamily'\n",
       "\\item 'plication\\_all'\n",
       "\\item 'shape\\_all'\n",
       "\\item 'polymorphism'\n",
       "\\item 'dissection'\n",
       "\\item 'pinnate'\n",
       "\\item 'shape\\_gp'\n",
       "\\item 'shape\\_gp\\_num'\n",
       "\\item 'induplicate'\n",
       "\\item 'ind\\_variable'\n",
       "\\item 'ind\\_cospalmate'\n",
       "\\item 'ind\\_pinnate'\n",
       "\\item 'ind\\_entire'\n",
       "\\item 'ind\\_bipinnate'\n",
       "\\item 'reduplicate'\n",
       "\\item 'red\\_variable'\n",
       "\\item 'red\\_variance'\n",
       "\\item 'red\\_cospalmate'\n",
       "\\item 'red\\_pinnate'\n",
       "\\item 'red\\_entire'\n",
       "\\end{enumerate*}\n"
      ],
      "text/markdown": [
       "1. 'species'\n",
       "2. 'subfamily'\n",
       "3. 'plication_all'\n",
       "4. 'shape_all'\n",
       "5. 'polymorphism'\n",
       "6. 'dissection'\n",
       "7. 'pinnate'\n",
       "8. 'shape_gp'\n",
       "9. 'shape_gp_num'\n",
       "10. 'induplicate'\n",
       "11. 'ind_variable'\n",
       "12. 'ind_cospalmate'\n",
       "13. 'ind_pinnate'\n",
       "14. 'ind_entire'\n",
       "15. 'ind_bipinnate'\n",
       "16. 'reduplicate'\n",
       "17. 'red_variable'\n",
       "18. 'red_variance'\n",
       "19. 'red_cospalmate'\n",
       "20. 'red_pinnate'\n",
       "21. 'red_entire'\n",
       "\n",
       "\n"
      ],
      "text/plain": [
       " [1] \"species\"        \"subfamily\"      \"plication_all\"  \"shape_all\"     \n",
       " [5] \"polymorphism\"   \"dissection\"     \"pinnate\"        \"shape_gp\"      \n",
       " [9] \"shape_gp_num\"   \"induplicate\"    \"ind_variable\"   \"ind_cospalmate\"\n",
       "[13] \"ind_pinnate\"    \"ind_entire\"     \"ind_bipinnate\"  \"reduplicate\"   \n",
       "[17] \"red_variable\"   \"red_variance\"   \"red_cospalmate\" \"red_pinnate\"   \n",
       "[21] \"red_entire\"    "
      ]
     },
     "metadata": {},
     "output_type": "display_data"
    }
   ],
   "source": [
    "database_leafShape<-read.csv('../data_files/palm_leaf_shape_MFT_20221201.csv',sep='\\t',header=TRUE)\n",
    "colnames(database_leafShape)"
   ]
  },
  {
   "cell_type": "code",
   "execution_count": 3,
   "metadata": {},
   "outputs": [],
   "source": [
    "tree_pos<-read.nexus('./Clean_1_1_MCCT_nexus.nex')"
   ]
  },
  {
   "cell_type": "code",
   "execution_count": 4,
   "metadata": {},
   "outputs": [
    {
     "data": {
      "text/html": [
       "TRUE"
      ],
      "text/latex": [
       "TRUE"
      ],
      "text/markdown": [
       "TRUE"
      ],
      "text/plain": [
       "[1] TRUE"
      ]
     },
     "metadata": {},
     "output_type": "display_data"
    }
   ],
   "source": [
    "is.binary(tree_pos)"
   ]
  },
  {
   "cell_type": "markdown",
   "metadata": {},
   "source": [
    "----------------\n",
    "# 1- Diversification rate using MuSSE"
   ]
  },
  {
   "cell_type": "markdown",
   "metadata": {},
   "source": [
    "#### Reduce database to induplicate/reduplicate"
   ]
  },
  {
   "cell_type": "code",
   "execution_count": 5,
   "metadata": {
    "scrolled": false
   },
   "outputs": [
    {
     "data": {
      "text/html": [
       "<style>\n",
       ".list-inline {list-style: none; margin:0; padding: 0}\n",
       ".list-inline>li {display: inline-block}\n",
       ".list-inline>li:not(:last-child)::after {content: \"\\00b7\"; padding: 0 .5ex}\n",
       "</style>\n",
       "<ol class=list-inline><li>'species'</li><li>'subfamily'</li><li>'plication_all'</li><li>'shape_all'</li><li>'polymorphism'</li><li>'dissection'</li><li>'pinnate'</li><li>'shape_gp'</li><li>'shape_gp_num'</li><li>'induplicate'</li><li>'ind_variable'</li><li>'ind_cospalmate'</li><li>'ind_pinnate'</li><li>'ind_entire'</li><li>'ind_bipinnate'</li><li>'reduplicate'</li><li>'red_variable'</li><li>'red_variance'</li><li>'red_cospalmate'</li><li>'red_pinnate'</li><li>'red_entire'</li></ol>\n"
      ],
      "text/latex": [
       "\\begin{enumerate*}\n",
       "\\item 'species'\n",
       "\\item 'subfamily'\n",
       "\\item 'plication\\_all'\n",
       "\\item 'shape\\_all'\n",
       "\\item 'polymorphism'\n",
       "\\item 'dissection'\n",
       "\\item 'pinnate'\n",
       "\\item 'shape\\_gp'\n",
       "\\item 'shape\\_gp\\_num'\n",
       "\\item 'induplicate'\n",
       "\\item 'ind\\_variable'\n",
       "\\item 'ind\\_cospalmate'\n",
       "\\item 'ind\\_pinnate'\n",
       "\\item 'ind\\_entire'\n",
       "\\item 'ind\\_bipinnate'\n",
       "\\item 'reduplicate'\n",
       "\\item 'red\\_variable'\n",
       "\\item 'red\\_variance'\n",
       "\\item 'red\\_cospalmate'\n",
       "\\item 'red\\_pinnate'\n",
       "\\item 'red\\_entire'\n",
       "\\end{enumerate*}\n"
      ],
      "text/markdown": [
       "1. 'species'\n",
       "2. 'subfamily'\n",
       "3. 'plication_all'\n",
       "4. 'shape_all'\n",
       "5. 'polymorphism'\n",
       "6. 'dissection'\n",
       "7. 'pinnate'\n",
       "8. 'shape_gp'\n",
       "9. 'shape_gp_num'\n",
       "10. 'induplicate'\n",
       "11. 'ind_variable'\n",
       "12. 'ind_cospalmate'\n",
       "13. 'ind_pinnate'\n",
       "14. 'ind_entire'\n",
       "15. 'ind_bipinnate'\n",
       "16. 'reduplicate'\n",
       "17. 'red_variable'\n",
       "18. 'red_variance'\n",
       "19. 'red_cospalmate'\n",
       "20. 'red_pinnate'\n",
       "21. 'red_entire'\n",
       "\n",
       "\n"
      ],
      "text/plain": [
       " [1] \"species\"        \"subfamily\"      \"plication_all\"  \"shape_all\"     \n",
       " [5] \"polymorphism\"   \"dissection\"     \"pinnate\"        \"shape_gp\"      \n",
       " [9] \"shape_gp_num\"   \"induplicate\"    \"ind_variable\"   \"ind_cospalmate\"\n",
       "[13] \"ind_pinnate\"    \"ind_entire\"     \"ind_bipinnate\"  \"reduplicate\"   \n",
       "[17] \"red_variable\"   \"red_variance\"   \"red_cospalmate\" \"red_pinnate\"   \n",
       "[21] \"red_entire\"    "
      ]
     },
     "metadata": {},
     "output_type": "display_data"
    }
   ],
   "source": [
    "names(database_leafShape)\n",
    "#\"dissection\" -> use for dissected vs entire models. binary\n",
    "# \"pinnate\" -> binary -> 1 pinnates 0 palmates\n",
    "#\"shape_gp_num\" -> third classification"
   ]
  },
  {
   "cell_type": "code",
   "execution_count": 6,
   "metadata": {},
   "outputs": [
    {
     "data": {
      "text/html": [
       "<table class=\"dataframe\">\n",
       "<caption>A data.frame: 6 × 2</caption>\n",
       "<thead>\n",
       "\t<tr><th></th><th scope=col>species</th><th scope=col>pinnate</th></tr>\n",
       "\t<tr><th></th><th scope=col>&lt;chr&gt;</th><th scope=col>&lt;int&gt;</th></tr>\n",
       "</thead>\n",
       "<tbody>\n",
       "\t<tr><th scope=row>1</th><td>Saribus_brevifolius  </td><td>0</td></tr>\n",
       "\t<tr><th scope=row>2</th><td>Saribus_chocolatinus </td><td>0</td></tr>\n",
       "\t<tr><th scope=row>3</th><td>Saribus_jeanneneyi   </td><td>0</td></tr>\n",
       "\t<tr><th scope=row>4</th><td>Saribus_merrillii    </td><td>0</td></tr>\n",
       "\t<tr><th scope=row>5</th><td>Saribus_papuanus     </td><td>0</td></tr>\n",
       "\t<tr><th scope=row>6</th><td>Saribus_rotundifolius</td><td>0</td></tr>\n",
       "</tbody>\n",
       "</table>\n"
      ],
      "text/latex": [
       "A data.frame: 6 × 2\n",
       "\\begin{tabular}{r|ll}\n",
       "  & species & pinnate\\\\\n",
       "  & <chr> & <int>\\\\\n",
       "\\hline\n",
       "\t1 & Saribus\\_brevifolius   & 0\\\\\n",
       "\t2 & Saribus\\_chocolatinus  & 0\\\\\n",
       "\t3 & Saribus\\_jeanneneyi    & 0\\\\\n",
       "\t4 & Saribus\\_merrillii     & 0\\\\\n",
       "\t5 & Saribus\\_papuanus      & 0\\\\\n",
       "\t6 & Saribus\\_rotundifolius & 0\\\\\n",
       "\\end{tabular}\n"
      ],
      "text/markdown": [
       "\n",
       "A data.frame: 6 × 2\n",
       "\n",
       "| <!--/--> | species &lt;chr&gt; | pinnate &lt;int&gt; |\n",
       "|---|---|---|\n",
       "| 1 | Saribus_brevifolius   | 0 |\n",
       "| 2 | Saribus_chocolatinus  | 0 |\n",
       "| 3 | Saribus_jeanneneyi    | 0 |\n",
       "| 4 | Saribus_merrillii     | 0 |\n",
       "| 5 | Saribus_papuanus      | 0 |\n",
       "| 6 | Saribus_rotundifolius | 0 |\n",
       "\n"
      ],
      "text/plain": [
       "  species               pinnate\n",
       "1 Saribus_brevifolius   0      \n",
       "2 Saribus_chocolatinus  0      \n",
       "3 Saribus_jeanneneyi    0      \n",
       "4 Saribus_merrillii     0      \n",
       "5 Saribus_papuanus      0      \n",
       "6 Saribus_rotundifolius 0      "
      ]
     },
     "metadata": {},
     "output_type": "display_data"
    },
    {
     "data": {
      "text/html": [
       "<style>\n",
       ".list-inline {list-style: none; margin:0; padding: 0}\n",
       ".list-inline>li {display: inline-block}\n",
       ".list-inline>li:not(:last-child)::after {content: \"\\00b7\"; padding: 0 .5ex}\n",
       "</style>\n",
       "<ol class=list-inline><li>2648</li><li>2</li></ol>\n"
      ],
      "text/latex": [
       "\\begin{enumerate*}\n",
       "\\item 2648\n",
       "\\item 2\n",
       "\\end{enumerate*}\n"
      ],
      "text/markdown": [
       "1. 2648\n",
       "2. 2\n",
       "\n",
       "\n"
      ],
      "text/plain": [
       "[1] 2648    2"
      ]
     },
     "metadata": {},
     "output_type": "display_data"
    }
   ],
   "source": [
    "dt<-database_leafShape[,c('species','pinnate')]\n",
    "head(dt)\n",
    "dim(dt) # dimentions"
   ]
  },
  {
   "cell_type": "code",
   "execution_count": 7,
   "metadata": {},
   "outputs": [
    {
     "data": {
      "text/html": [],
      "text/latex": [],
      "text/markdown": [],
      "text/plain": [
       "integer(0)"
      ]
     },
     "metadata": {},
     "output_type": "display_data"
    }
   ],
   "source": [
    "which(is.na(dt[,2])) # all data coded"
   ]
  },
  {
   "cell_type": "code",
   "execution_count": 8,
   "metadata": {},
   "outputs": [],
   "source": [
    "rownames(dt)<-dt[,1] # R is 1 indexed!"
   ]
  },
  {
   "cell_type": "code",
   "execution_count": 9,
   "metadata": {},
   "outputs": [
    {
     "data": {
      "text/html": [
       "<table class=\"dataframe\">\n",
       "<caption>A data.frame: 6 × 2</caption>\n",
       "<thead>\n",
       "\t<tr><th></th><th scope=col>species</th><th scope=col>pinnate</th></tr>\n",
       "\t<tr><th></th><th scope=col>&lt;chr&gt;</th><th scope=col>&lt;int&gt;</th></tr>\n",
       "</thead>\n",
       "<tbody>\n",
       "\t<tr><th scope=row>Saribus_brevifolius</th><td>Saribus_brevifolius  </td><td>0</td></tr>\n",
       "\t<tr><th scope=row>Saribus_chocolatinus</th><td>Saribus_chocolatinus </td><td>0</td></tr>\n",
       "\t<tr><th scope=row>Saribus_jeanneneyi</th><td>Saribus_jeanneneyi   </td><td>0</td></tr>\n",
       "\t<tr><th scope=row>Saribus_merrillii</th><td>Saribus_merrillii    </td><td>0</td></tr>\n",
       "\t<tr><th scope=row>Saribus_papuanus</th><td>Saribus_papuanus     </td><td>0</td></tr>\n",
       "\t<tr><th scope=row>Saribus_rotundifolius</th><td>Saribus_rotundifolius</td><td>0</td></tr>\n",
       "</tbody>\n",
       "</table>\n"
      ],
      "text/latex": [
       "A data.frame: 6 × 2\n",
       "\\begin{tabular}{r|ll}\n",
       "  & species & pinnate\\\\\n",
       "  & <chr> & <int>\\\\\n",
       "\\hline\n",
       "\tSaribus\\_brevifolius & Saribus\\_brevifolius   & 0\\\\\n",
       "\tSaribus\\_chocolatinus & Saribus\\_chocolatinus  & 0\\\\\n",
       "\tSaribus\\_jeanneneyi & Saribus\\_jeanneneyi    & 0\\\\\n",
       "\tSaribus\\_merrillii & Saribus\\_merrillii     & 0\\\\\n",
       "\tSaribus\\_papuanus & Saribus\\_papuanus      & 0\\\\\n",
       "\tSaribus\\_rotundifolius & Saribus\\_rotundifolius & 0\\\\\n",
       "\\end{tabular}\n"
      ],
      "text/markdown": [
       "\n",
       "A data.frame: 6 × 2\n",
       "\n",
       "| <!--/--> | species &lt;chr&gt; | pinnate &lt;int&gt; |\n",
       "|---|---|---|\n",
       "| Saribus_brevifolius | Saribus_brevifolius   | 0 |\n",
       "| Saribus_chocolatinus | Saribus_chocolatinus  | 0 |\n",
       "| Saribus_jeanneneyi | Saribus_jeanneneyi    | 0 |\n",
       "| Saribus_merrillii | Saribus_merrillii     | 0 |\n",
       "| Saribus_papuanus | Saribus_papuanus      | 0 |\n",
       "| Saribus_rotundifolius | Saribus_rotundifolius | 0 |\n",
       "\n"
      ],
      "text/plain": [
       "                      species               pinnate\n",
       "Saribus_brevifolius   Saribus_brevifolius   0      \n",
       "Saribus_chocolatinus  Saribus_chocolatinus  0      \n",
       "Saribus_jeanneneyi    Saribus_jeanneneyi    0      \n",
       "Saribus_merrillii     Saribus_merrillii     0      \n",
       "Saribus_papuanus      Saribus_papuanus      0      \n",
       "Saribus_rotundifolius Saribus_rotundifolius 0      "
      ]
     },
     "metadata": {},
     "output_type": "display_data"
    }
   ],
   "source": [
    "head(dt)"
   ]
  },
  {
   "cell_type": "markdown",
   "metadata": {},
   "source": [
    "#### Species with no leaf shape information. \n",
    "- Removed from the analysis"
   ]
  },
  {
   "cell_type": "code",
   "execution_count": 10,
   "metadata": {},
   "outputs": [],
   "source": [
    "# remove species that are not in the tree\n",
    "list_taxa<-Reduce(intersect, list(tree_pos$tip.label,dt[,1]))"
   ]
  },
  {
   "cell_type": "code",
   "execution_count": 11,
   "metadata": {},
   "outputs": [
    {
     "data": {
      "text/html": [
       "2547"
      ],
      "text/latex": [
       "2547"
      ],
      "text/markdown": [
       "2547"
      ],
      "text/plain": [
       "[1] 2547"
      ]
     },
     "metadata": {},
     "output_type": "display_data"
    }
   ],
   "source": [
    "length(list_taxa)"
   ]
  },
  {
   "cell_type": "code",
   "execution_count": 12,
   "metadata": {
    "scrolled": true
   },
   "outputs": [],
   "source": [
    "#missing_sp<-dt[which(apply(dt[,2:7],1,sum) == 0),1]\n",
    "#missing_sp"
   ]
  },
  {
   "cell_type": "code",
   "execution_count": 15,
   "metadata": {},
   "outputs": [
    {
     "data": {
      "text/html": [
       "<style>\n",
       ".list-inline {list-style: none; margin:0; padding: 0}\n",
       ".list-inline>li {display: inline-block}\n",
       ".list-inline>li:not(:last-child)::after {content: \"\\00b7\"; padding: 0 .5ex}\n",
       "</style>\n",
       "<ol class=list-inline><li>2547</li><li>2</li></ol>\n"
      ],
      "text/latex": [
       "\\begin{enumerate*}\n",
       "\\item 2547\n",
       "\\item 2\n",
       "\\end{enumerate*}\n"
      ],
      "text/markdown": [
       "1. 2547\n",
       "2. 2\n",
       "\n",
       "\n"
      ],
      "text/plain": [
       "[1] 2547    2"
      ]
     },
     "metadata": {},
     "output_type": "display_data"
    }
   ],
   "source": [
    "#sorting trait data according to tree tip names order\n",
    "dt<-dt[list_taxa,]\n",
    "dim(dt)"
   ]
  },
  {
   "cell_type": "code",
   "execution_count": 13,
   "metadata": {},
   "outputs": [
    {
     "data": {
      "text/plain": [
       "\n",
       "Phylogenetic tree with 2547 tips and 2546 internal nodes.\n",
       "\n",
       "Tip labels:\n",
       "  Socratea_karstenii, Socratea_exorrhiza, Socratea_rostrata, Socratea_salazarii, Socratea_hecatonandra, Iriartella_setigera, ...\n",
       "\n",
       "Rooted; includes branch lengths."
      ]
     },
     "metadata": {},
     "output_type": "display_data"
    }
   ],
   "source": [
    "#reducing the tree in case there is missing data\n",
    "tree<-drop.tip(tree_pos,setdiff(tree_pos$tip.label,list_taxa))\n",
    "tree"
   ]
  },
  {
   "cell_type": "code",
   "execution_count": 14,
   "metadata": {},
   "outputs": [
    {
     "data": {
      "text/html": [
       "<table class=\"dataframe\">\n",
       "<caption>A data.frame: 6 × 2</caption>\n",
       "<thead>\n",
       "\t<tr><th></th><th scope=col>species</th><th scope=col>pinnate</th></tr>\n",
       "\t<tr><th></th><th scope=col>&lt;chr&gt;</th><th scope=col>&lt;int&gt;</th></tr>\n",
       "</thead>\n",
       "<tbody>\n",
       "\t<tr><th scope=row>Saribus_brevifolius</th><td>Saribus_brevifolius  </td><td>0</td></tr>\n",
       "\t<tr><th scope=row>Saribus_chocolatinus</th><td>Saribus_chocolatinus </td><td>0</td></tr>\n",
       "\t<tr><th scope=row>Saribus_jeanneneyi</th><td>Saribus_jeanneneyi   </td><td>0</td></tr>\n",
       "\t<tr><th scope=row>Saribus_merrillii</th><td>Saribus_merrillii    </td><td>0</td></tr>\n",
       "\t<tr><th scope=row>Saribus_papuanus</th><td>Saribus_papuanus     </td><td>0</td></tr>\n",
       "\t<tr><th scope=row>Saribus_rotundifolius</th><td>Saribus_rotundifolius</td><td>0</td></tr>\n",
       "</tbody>\n",
       "</table>\n"
      ],
      "text/latex": [
       "A data.frame: 6 × 2\n",
       "\\begin{tabular}{r|ll}\n",
       "  & species & pinnate\\\\\n",
       "  & <chr> & <int>\\\\\n",
       "\\hline\n",
       "\tSaribus\\_brevifolius & Saribus\\_brevifolius   & 0\\\\\n",
       "\tSaribus\\_chocolatinus & Saribus\\_chocolatinus  & 0\\\\\n",
       "\tSaribus\\_jeanneneyi & Saribus\\_jeanneneyi    & 0\\\\\n",
       "\tSaribus\\_merrillii & Saribus\\_merrillii     & 0\\\\\n",
       "\tSaribus\\_papuanus & Saribus\\_papuanus      & 0\\\\\n",
       "\tSaribus\\_rotundifolius & Saribus\\_rotundifolius & 0\\\\\n",
       "\\end{tabular}\n"
      ],
      "text/markdown": [
       "\n",
       "A data.frame: 6 × 2\n",
       "\n",
       "| <!--/--> | species &lt;chr&gt; | pinnate &lt;int&gt; |\n",
       "|---|---|---|\n",
       "| Saribus_brevifolius | Saribus_brevifolius   | 0 |\n",
       "| Saribus_chocolatinus | Saribus_chocolatinus  | 0 |\n",
       "| Saribus_jeanneneyi | Saribus_jeanneneyi    | 0 |\n",
       "| Saribus_merrillii | Saribus_merrillii     | 0 |\n",
       "| Saribus_papuanus | Saribus_papuanus      | 0 |\n",
       "| Saribus_rotundifolius | Saribus_rotundifolius | 0 |\n",
       "\n"
      ],
      "text/plain": [
       "                      species               pinnate\n",
       "Saribus_brevifolius   Saribus_brevifolius   0      \n",
       "Saribus_chocolatinus  Saribus_chocolatinus  0      \n",
       "Saribus_jeanneneyi    Saribus_jeanneneyi    0      \n",
       "Saribus_merrillii     Saribus_merrillii     0      \n",
       "Saribus_papuanus      Saribus_papuanus      0      \n",
       "Saribus_rotundifolius Saribus_rotundifolius 0      "
      ]
     },
     "metadata": {},
     "output_type": "display_data"
    }
   ],
   "source": [
    "head(dt)"
   ]
  },
  {
   "cell_type": "code",
   "execution_count": 15,
   "metadata": {
    "scrolled": false
   },
   "outputs": [
    {
     "data": {
      "text/plain": [
       "\n",
       "   0    1 \n",
       " 461 2187 "
      ]
     },
     "metadata": {},
     "output_type": "display_data"
    }
   ],
   "source": [
    "table(dt[,2])"
   ]
  },
  {
   "cell_type": "markdown",
   "metadata": {},
   "source": [
    "## Transform data into: 1 = palmates , 2= pinnates\n",
    "\n",
    "#### pinnates -> \"pinnate\" + \"pinnate - entire\" + \"bipinnates\" + \"polymorphic\"\n",
    "#### palmates -> \"palmate\" + \"palmate - entire\" + \"cospalmates\""
   ]
  },
  {
   "cell_type": "code",
   "execution_count": 16,
   "metadata": {
    "scrolled": true
   },
   "outputs": [
    {
     "data": {
      "text/html": [
       "<table class=\"dataframe\">\n",
       "<caption>A data.frame: 6 × 2</caption>\n",
       "<thead>\n",
       "\t<tr><th></th><th scope=col>species</th><th scope=col>pinnate</th></tr>\n",
       "\t<tr><th></th><th scope=col>&lt;chr&gt;</th><th scope=col>&lt;int&gt;</th></tr>\n",
       "</thead>\n",
       "<tbody>\n",
       "\t<tr><th scope=row>Saribus_brevifolius</th><td>Saribus_brevifolius  </td><td>0</td></tr>\n",
       "\t<tr><th scope=row>Saribus_chocolatinus</th><td>Saribus_chocolatinus </td><td>0</td></tr>\n",
       "\t<tr><th scope=row>Saribus_jeanneneyi</th><td>Saribus_jeanneneyi   </td><td>0</td></tr>\n",
       "\t<tr><th scope=row>Saribus_merrillii</th><td>Saribus_merrillii    </td><td>0</td></tr>\n",
       "\t<tr><th scope=row>Saribus_papuanus</th><td>Saribus_papuanus     </td><td>0</td></tr>\n",
       "\t<tr><th scope=row>Saribus_rotundifolius</th><td>Saribus_rotundifolius</td><td>0</td></tr>\n",
       "</tbody>\n",
       "</table>\n"
      ],
      "text/latex": [
       "A data.frame: 6 × 2\n",
       "\\begin{tabular}{r|ll}\n",
       "  & species & pinnate\\\\\n",
       "  & <chr> & <int>\\\\\n",
       "\\hline\n",
       "\tSaribus\\_brevifolius & Saribus\\_brevifolius   & 0\\\\\n",
       "\tSaribus\\_chocolatinus & Saribus\\_chocolatinus  & 0\\\\\n",
       "\tSaribus\\_jeanneneyi & Saribus\\_jeanneneyi    & 0\\\\\n",
       "\tSaribus\\_merrillii & Saribus\\_merrillii     & 0\\\\\n",
       "\tSaribus\\_papuanus & Saribus\\_papuanus      & 0\\\\\n",
       "\tSaribus\\_rotundifolius & Saribus\\_rotundifolius & 0\\\\\n",
       "\\end{tabular}\n"
      ],
      "text/markdown": [
       "\n",
       "A data.frame: 6 × 2\n",
       "\n",
       "| <!--/--> | species &lt;chr&gt; | pinnate &lt;int&gt; |\n",
       "|---|---|---|\n",
       "| Saribus_brevifolius | Saribus_brevifolius   | 0 |\n",
       "| Saribus_chocolatinus | Saribus_chocolatinus  | 0 |\n",
       "| Saribus_jeanneneyi | Saribus_jeanneneyi    | 0 |\n",
       "| Saribus_merrillii | Saribus_merrillii     | 0 |\n",
       "| Saribus_papuanus | Saribus_papuanus      | 0 |\n",
       "| Saribus_rotundifolius | Saribus_rotundifolius | 0 |\n",
       "\n"
      ],
      "text/plain": [
       "                      species               pinnate\n",
       "Saribus_brevifolius   Saribus_brevifolius   0      \n",
       "Saribus_chocolatinus  Saribus_chocolatinus  0      \n",
       "Saribus_jeanneneyi    Saribus_jeanneneyi    0      \n",
       "Saribus_merrillii     Saribus_merrillii     0      \n",
       "Saribus_papuanus      Saribus_papuanus      0      \n",
       "Saribus_rotundifolius Saribus_rotundifolius 0      "
      ]
     },
     "metadata": {},
     "output_type": "display_data"
    }
   ],
   "source": [
    "head(dt)"
   ]
  },
  {
   "cell_type": "code",
   "execution_count": 17,
   "metadata": {
    "scrolled": true
   },
   "outputs": [
    {
     "data": {
      "text/html": [
       "<style>\n",
       ".dl-inline {width: auto; margin:0; padding: 0}\n",
       ".dl-inline>dt, .dl-inline>dd {float: none; width: auto; display: inline-block}\n",
       ".dl-inline>dt::after {content: \":\\0020\"; padding-right: .5ex}\n",
       ".dl-inline>dt:not(:first-of-type) {padding-left: .5ex}\n",
       "</style><dl class=dl-inline><dt>Saribus_brevifolius</dt><dd>1</dd><dt>Saribus_chocolatinus</dt><dd>1</dd><dt>Saribus_jeanneneyi</dt><dd>1</dd><dt>Saribus_merrillii</dt><dd>1</dd><dt>Saribus_papuanus</dt><dd>1</dd><dt>Saribus_rotundifolius</dt><dd>1</dd></dl>\n"
      ],
      "text/latex": [
       "\\begin{description*}\n",
       "\\item[Saribus\\textbackslash{}\\_brevifolius] 1\n",
       "\\item[Saribus\\textbackslash{}\\_chocolatinus] 1\n",
       "\\item[Saribus\\textbackslash{}\\_jeanneneyi] 1\n",
       "\\item[Saribus\\textbackslash{}\\_merrillii] 1\n",
       "\\item[Saribus\\textbackslash{}\\_papuanus] 1\n",
       "\\item[Saribus\\textbackslash{}\\_rotundifolius] 1\n",
       "\\end{description*}\n"
      ],
      "text/markdown": [
       "Saribus_brevifolius\n",
       ":   1Saribus_chocolatinus\n",
       ":   1Saribus_jeanneneyi\n",
       ":   1Saribus_merrillii\n",
       ":   1Saribus_papuanus\n",
       ":   1Saribus_rotundifolius\n",
       ":   1\n",
       "\n"
      ],
      "text/plain": [
       "  Saribus_brevifolius  Saribus_chocolatinus    Saribus_jeanneneyi \n",
       "                    1                     1                     1 \n",
       "    Saribus_merrillii      Saribus_papuanus Saribus_rotundifolius \n",
       "                    1                     1                     1 "
      ]
     },
     "metadata": {},
     "output_type": "display_data"
    }
   ],
   "source": [
    "#musse model needs characters coded as 1, 2, 3, etc and not 0, 1 so:\n",
    "dt2<-dt[,2]+1\n",
    "names(dt2)<-dt[,1]\n",
    "head(dt2)"
   ]
  },
  {
   "cell_type": "markdown",
   "metadata": {},
   "source": [
    "## Run MuSSE on a single tree - ALL MODELS (START)"
   ]
  },
  {
   "cell_type": "code",
   "execution_count": 18,
   "metadata": {},
   "outputs": [],
   "source": [
    "#code for the trait classification -> used for generating file names in the end\n",
    "trait_mod<-'pinVSpal'"
   ]
  },
  {
   "cell_type": "code",
   "execution_count": 19,
   "metadata": {},
   "outputs": [],
   "source": [
    "library(diversitree)"
   ]
  },
  {
   "cell_type": "code",
   "execution_count": 20,
   "metadata": {
    "scrolled": true
   },
   "outputs": [
    {
     "data": {
      "text/html": [
       "2547"
      ],
      "text/latex": [
       "2547"
      ],
      "text/markdown": [
       "2547"
      ],
      "text/plain": [
       "[1] 2547"
      ]
     },
     "metadata": {},
     "output_type": "display_data"
    }
   ],
   "source": [
    "trait<-dt2[tree$tip.label]\n",
    "names(trait)<-tree$tip.label\n",
    "length(trait)"
   ]
  },
  {
   "cell_type": "code",
   "execution_count": 21,
   "metadata": {
    "scrolled": false
   },
   "outputs": [
    {
     "data": {
      "text/plain": [
       "trait\n",
       "   1    2 \n",
       " 447 2100 "
      ]
     },
     "metadata": {},
     "output_type": "display_data"
    }
   ],
   "source": [
    "table(trait)"
   ]
  },
  {
   "cell_type": "code",
   "execution_count": 22,
   "metadata": {},
   "outputs": [
    {
     "data": {
      "text/html": [
       "<style>\n",
       ".dl-inline {width: auto; margin:0; padding: 0}\n",
       ".dl-inline>dt, .dl-inline>dd {float: none; width: auto; display: inline-block}\n",
       ".dl-inline>dt::after {content: \":\\0020\"; padding-right: .5ex}\n",
       ".dl-inline>dt:not(:first-of-type) {padding-left: .5ex}\n",
       "</style><dl class=dl-inline><dt>lambda1</dt><dd>0.216323820809597</dd><dt>lambda2</dt><dd>0.216323820809597</dd><dt>mu1</dt><dd>0.13657864814326</dd><dt>mu2</dt><dd>0.13657864814326</dd><dt>q12</dt><dd>0.0159490345332674</dd><dt>q21</dt><dd>0.0159490345332674</dd></dl>\n"
      ],
      "text/latex": [
       "\\begin{description*}\n",
       "\\item[lambda1] 0.216323820809597\n",
       "\\item[lambda2] 0.216323820809597\n",
       "\\item[mu1] 0.13657864814326\n",
       "\\item[mu2] 0.13657864814326\n",
       "\\item[q12] 0.0159490345332674\n",
       "\\item[q21] 0.0159490345332674\n",
       "\\end{description*}\n"
      ],
      "text/markdown": [
       "lambda1\n",
       ":   0.216323820809597lambda2\n",
       ":   0.216323820809597mu1\n",
       ":   0.13657864814326mu2\n",
       ":   0.13657864814326q12\n",
       ":   0.0159490345332674q21\n",
       ":   0.0159490345332674\n",
       "\n"
      ],
      "text/plain": [
       "   lambda1    lambda2        mu1        mu2        q12        q21 \n",
       "0.21632382 0.21632382 0.13657865 0.13657865 0.01594903 0.01594903 "
      ]
     },
     "metadata": {},
     "output_type": "display_data"
    }
   ],
   "source": [
    "#find sensible starting points for the ML search\n",
    "p<-starting.point.musse(tree,k=length(unique(trait)))\n",
    "p"
   ]
  },
  {
   "cell_type": "code",
   "execution_count": 23,
   "metadata": {},
   "outputs": [
    {
     "data": {
      "text/html": [
       "<style>\n",
       ".list-inline {list-style: none; margin:0; padding: 0}\n",
       ".list-inline>li {display: inline-block}\n",
       ".list-inline>li:not(:last-child)::after {content: \"\\00b7\"; padding: 0 .5ex}\n",
       "</style>\n",
       "<ol class=list-inline><li>'lambda1'</li><li>'lambda2'</li><li>'mu1'</li><li>'mu2'</li><li>'q12'</li><li>'q21'</li></ol>\n"
      ],
      "text/latex": [
       "\\begin{enumerate*}\n",
       "\\item 'lambda1'\n",
       "\\item 'lambda2'\n",
       "\\item 'mu1'\n",
       "\\item 'mu2'\n",
       "\\item 'q12'\n",
       "\\item 'q21'\n",
       "\\end{enumerate*}\n"
      ],
      "text/markdown": [
       "1. 'lambda1'\n",
       "2. 'lambda2'\n",
       "3. 'mu1'\n",
       "4. 'mu2'\n",
       "5. 'q12'\n",
       "6. 'q21'\n",
       "\n",
       "\n"
      ],
      "text/plain": [
       "[1] \"lambda1\" \"lambda2\" \"mu1\"     \"mu2\"     \"q12\"     \"q21\"    "
      ]
     },
     "metadata": {},
     "output_type": "display_data"
    }
   ],
   "source": [
    "#create the likelihood function\n",
    "lik<-make.musse(tree,trait,k=length(unique(trait)),sampling.f=rep(1,length(unique(trait))))\n",
    "argnames(lik)"
   ]
  },
  {
   "cell_type": "code",
   "execution_count": 24,
   "metadata": {},
   "outputs": [
    {
     "data": {
      "text/html": [
       "<style>\n",
       ".dl-inline {width: auto; margin:0; padding: 0}\n",
       ".dl-inline>dt, .dl-inline>dd {float: none; width: auto; display: inline-block}\n",
       ".dl-inline>dt::after {content: \":\\0020\"; padding-right: .5ex}\n",
       ".dl-inline>dt:not(:first-of-type) {padding-left: .5ex}\n",
       "</style><dl class=dl-inline><dt>lambda1</dt><dd>0.211550731826425</dd><dt>lambda2</dt><dd>0.217329067048513</dd><dt>mu1</dt><dd>0.125856308522966</dd><dt>mu2</dt><dd>0.138892348117715</dd><dt>q12</dt><dd>0.000330829429411641</dd><dt>q21</dt><dd>0.000126396638380665</dd></dl>\n"
      ],
      "text/latex": [
       "\\begin{description*}\n",
       "\\item[lambda1] 0.211550731826425\n",
       "\\item[lambda2] 0.217329067048513\n",
       "\\item[mu1] 0.125856308522966\n",
       "\\item[mu2] 0.138892348117715\n",
       "\\item[q12] 0.000330829429411641\n",
       "\\item[q21] 0.000126396638380665\n",
       "\\end{description*}\n"
      ],
      "text/markdown": [
       "lambda1\n",
       ":   0.211550731826425lambda2\n",
       ":   0.217329067048513mu1\n",
       ":   0.125856308522966mu2\n",
       ":   0.138892348117715q12\n",
       ":   0.000330829429411641q21\n",
       ":   0.000126396638380665\n",
       "\n"
      ],
      "text/plain": [
       "     lambda1      lambda2          mu1          mu2          q12          q21 \n",
       "0.2115507318 0.2173290670 0.1258563085 0.1388923481 0.0003308294 0.0001263966 "
      ]
     },
     "metadata": {},
     "output_type": "display_data"
    }
   ],
   "source": [
    "#constrained model based on all.free estimation\n",
    "fit.free<-find.mle(lik, p[argnames(lik)])\n",
    "fit.free$par"
   ]
  },
  {
   "cell_type": "code",
   "execution_count": 25,
   "metadata": {},
   "outputs": [],
   "source": [
    "save(fit.free,file=paste(trait_mod, 'pinVSpal_fit.free.Rdata', sep='_'))"
   ]
  },
  {
   "cell_type": "code",
   "execution_count": 26,
   "metadata": {
    "scrolled": true
   },
   "outputs": [
    {
     "data": {
      "text/html": [
       "<style>\n",
       ".dl-inline {width: auto; margin:0; padding: 0}\n",
       ".dl-inline>dt, .dl-inline>dd {float: none; width: auto; display: inline-block}\n",
       ".dl-inline>dt::after {content: \":\\0020\"; padding-right: .5ex}\n",
       ".dl-inline>dt:not(:first-of-type) {padding-left: .5ex}\n",
       "</style><dl class=dl-inline><dt>lambda1</dt><dd>0.216334056615233</dd><dt>mu1</dt><dd>0.131782984751866</dd><dt>mu2</dt><dd>0.13761861914168</dd><dt>q12</dt><dd>0.000330169719174556</dd><dt>q21</dt><dd>0.000130556977465586</dd></dl>\n"
      ],
      "text/latex": [
       "\\begin{description*}\n",
       "\\item[lambda1] 0.216334056615233\n",
       "\\item[mu1] 0.131782984751866\n",
       "\\item[mu2] 0.13761861914168\n",
       "\\item[q12] 0.000330169719174556\n",
       "\\item[q21] 0.000130556977465586\n",
       "\\end{description*}\n"
      ],
      "text/markdown": [
       "lambda1\n",
       ":   0.216334056615233mu1\n",
       ":   0.131782984751866mu2\n",
       ":   0.13761861914168q12\n",
       ":   0.000330169719174556q21\n",
       ":   0.000130556977465586\n",
       "\n"
      ],
      "text/plain": [
       "     lambda1          mu1          mu2          q12          q21 \n",
       "0.2163340566 0.1317829848 0.1376186191 0.0003301697 0.0001305570 "
      ]
     },
     "metadata": {},
     "output_type": "display_data"
    }
   ],
   "source": [
    "#lamb constrained\n",
    "lik.1<-constrain(lik,lambda2~lambda1)\n",
    "fit.1<-find.mle(lik.1, p[argnames(lik.1)])\n",
    "save(fit.1,file=paste(trait_mod, 'pinVSpal_fit.1.Rdata'))\n",
    "fit.1$par"
   ]
  },
  {
   "cell_type": "code",
   "execution_count": 27,
   "metadata": {
    "scrolled": true
   },
   "outputs": [
    {
     "data": {
      "text/html": [
       "<style>\n",
       ".dl-inline {width: auto; margin:0; padding: 0}\n",
       ".dl-inline>dt, .dl-inline>dd {float: none; width: auto; display: inline-block}\n",
       ".dl-inline>dt::after {content: \":\\0020\"; padding-right: .5ex}\n",
       ".dl-inline>dt:not(:first-of-type) {padding-left: .5ex}\n",
       "</style><dl class=dl-inline><dt>lambda1</dt><dd>0.218731163984968</dd><dt>lambda2</dt><dd>0.215793153018534</dd><dt>mu1</dt><dd>0.136620102593411</dd><dt>q12</dt><dd>0.000323077914129811</dd><dt>q21</dt><dd>0.000132272882679952</dd></dl>\n"
      ],
      "text/latex": [
       "\\begin{description*}\n",
       "\\item[lambda1] 0.218731163984968\n",
       "\\item[lambda2] 0.215793153018534\n",
       "\\item[mu1] 0.136620102593411\n",
       "\\item[q12] 0.000323077914129811\n",
       "\\item[q21] 0.000132272882679952\n",
       "\\end{description*}\n"
      ],
      "text/markdown": [
       "lambda1\n",
       ":   0.218731163984968lambda2\n",
       ":   0.215793153018534mu1\n",
       ":   0.136620102593411q12\n",
       ":   0.000323077914129811q21\n",
       ":   0.000132272882679952\n",
       "\n"
      ],
      "text/plain": [
       "     lambda1      lambda2          mu1          q12          q21 \n",
       "0.2187311640 0.2157931530 0.1366201026 0.0003230779 0.0001322729 "
      ]
     },
     "metadata": {},
     "output_type": "display_data"
    }
   ],
   "source": [
    "#mu constrained\n",
    "lik.2<-constrain(lik,mu2~mu1)\n",
    "fit.2<-find.mle(lik.2, p[argnames(lik.2)])\n",
    "save(fit.2,file=paste(trait_mod, 'pinVSpal_fit.2.Rdata'))\n",
    "fit.2$par"
   ]
  },
  {
   "cell_type": "code",
   "execution_count": 28,
   "metadata": {},
   "outputs": [
    {
     "data": {
      "text/html": [
       "<style>\n",
       ".dl-inline {width: auto; margin:0; padding: 0}\n",
       ".dl-inline>dt, .dl-inline>dd {float: none; width: auto; display: inline-block}\n",
       ".dl-inline>dt::after {content: \":\\0020\"; padding-right: .5ex}\n",
       ".dl-inline>dt:not(:first-of-type) {padding-left: .5ex}\n",
       "</style><dl class=dl-inline><dt>lambda1</dt><dd>0.21282425344529</dd><dt>lambda2</dt><dd>0.217065706031267</dd><dt>mu1</dt><dd>0.127953670836967</dd><dt>mu2</dt><dd>0.138406724844351</dd><dt>q12</dt><dd>0.000161815258106487</dd></dl>\n"
      ],
      "text/latex": [
       "\\begin{description*}\n",
       "\\item[lambda1] 0.21282425344529\n",
       "\\item[lambda2] 0.217065706031267\n",
       "\\item[mu1] 0.127953670836967\n",
       "\\item[mu2] 0.138406724844351\n",
       "\\item[q12] 0.000161815258106487\n",
       "\\end{description*}\n"
      ],
      "text/markdown": [
       "lambda1\n",
       ":   0.21282425344529lambda2\n",
       ":   0.217065706031267mu1\n",
       ":   0.127953670836967mu2\n",
       ":   0.138406724844351q12\n",
       ":   0.000161815258106487\n",
       "\n"
      ],
      "text/plain": [
       "     lambda1      lambda2          mu1          mu2          q12 \n",
       "0.2128242534 0.2170657060 0.1279536708 0.1384067248 0.0001618153 "
      ]
     },
     "metadata": {},
     "output_type": "display_data"
    }
   ],
   "source": [
    "#q constrained\n",
    "lik.3<-constrain(lik, q21~q12)\n",
    "fit.3<-find.mle(lik.3, p[argnames(lik.3)])\n",
    "save(fit.3,file=paste(trait_mod, 'pinVSpal_fit.3.Rdata'))\n",
    "fit.3$par"
   ]
  },
  {
   "cell_type": "code",
   "execution_count": 29,
   "metadata": {
    "scrolled": true
   },
   "outputs": [
    {
     "data": {
      "text/html": [
       "<style>\n",
       ".dl-inline {width: auto; margin:0; padding: 0}\n",
       ".dl-inline>dt, .dl-inline>dd {float: none; width: auto; display: inline-block}\n",
       ".dl-inline>dt::after {content: \":\\0020\"; padding-right: .5ex}\n",
       ".dl-inline>dt:not(:first-of-type) {padding-left: .5ex}\n",
       "</style><dl class=dl-inline><dt>lambda1</dt><dd>0.216330021766904</dd><dt>mu1</dt><dd>0.136588963827002</dd><dt>q12</dt><dd>0.000304448802689252</dd><dt>q21</dt><dd>0.000134205078387481</dd></dl>\n"
      ],
      "text/latex": [
       "\\begin{description*}\n",
       "\\item[lambda1] 0.216330021766904\n",
       "\\item[mu1] 0.136588963827002\n",
       "\\item[q12] 0.000304448802689252\n",
       "\\item[q21] 0.000134205078387481\n",
       "\\end{description*}\n"
      ],
      "text/markdown": [
       "lambda1\n",
       ":   0.216330021766904mu1\n",
       ":   0.136588963827002q12\n",
       ":   0.000304448802689252q21\n",
       ":   0.000134205078387481\n",
       "\n"
      ],
      "text/plain": [
       "     lambda1          mu1          q12          q21 \n",
       "0.2163300218 0.1365889638 0.0003044488 0.0001342051 "
      ]
     },
     "metadata": {},
     "output_type": "display_data"
    }
   ],
   "source": [
    "#lamb and mu constrained\n",
    "lik.4<-constrain(lik,lambda2~lambda1,mu2~mu1)\n",
    "fit.4<-find.mle(lik.4, p[argnames(lik.4)])\n",
    "save(fit.4,file=paste(trait_mod, 'pinVSpal_fit.4.Rdata'))\n",
    "fit.4$par"
   ]
  },
  {
   "cell_type": "code",
   "execution_count": 30,
   "metadata": {
    "scrolled": true
   },
   "outputs": [
    {
     "data": {
      "text/html": [
       "<style>\n",
       ".dl-inline {width: auto; margin:0; padding: 0}\n",
       ".dl-inline>dt, .dl-inline>dd {float: none; width: auto; display: inline-block}\n",
       ".dl-inline>dt::after {content: \":\\0020\"; padding-right: .5ex}\n",
       ".dl-inline>dt:not(:first-of-type) {padding-left: .5ex}\n",
       "</style><dl class=dl-inline><dt>lambda1</dt><dd>0.216118667453922</dd><dt>mu1</dt><dd>0.131935785066361</dd><dt>mu2</dt><dd>0.137111517543246</dd><dt>q12</dt><dd>0.000163395781031658</dd></dl>\n"
      ],
      "text/latex": [
       "\\begin{description*}\n",
       "\\item[lambda1] 0.216118667453922\n",
       "\\item[mu1] 0.131935785066361\n",
       "\\item[mu2] 0.137111517543246\n",
       "\\item[q12] 0.000163395781031658\n",
       "\\end{description*}\n"
      ],
      "text/markdown": [
       "lambda1\n",
       ":   0.216118667453922mu1\n",
       ":   0.131935785066361mu2\n",
       ":   0.137111517543246q12\n",
       ":   0.000163395781031658\n",
       "\n"
      ],
      "text/plain": [
       "     lambda1          mu1          mu2          q12 \n",
       "0.2161186675 0.1319357851 0.1371115175 0.0001633958 "
      ]
     },
     "metadata": {},
     "output_type": "display_data"
    }
   ],
   "source": [
    "#lamb and q constrained\n",
    "lik.5<-constrain(lik,lambda2~lambda1,q21~q12)\n",
    "fit.5<-find.mle(lik.5, p[argnames(lik.5)])\n",
    "save(fit.5,file=paste(trait_mod, 'pinVSpal_fit.5.Rdata'))\n",
    "fit.5$par"
   ]
  },
  {
   "cell_type": "code",
   "execution_count": 31,
   "metadata": {
    "scrolled": true
   },
   "outputs": [
    {
     "data": {
      "text/html": [
       "<style>\n",
       ".dl-inline {width: auto; margin:0; padding: 0}\n",
       ".dl-inline>dt, .dl-inline>dd {float: none; width: auto; display: inline-block}\n",
       ".dl-inline>dt::after {content: \":\\0020\"; padding-right: .5ex}\n",
       ".dl-inline>dt:not(:first-of-type) {padding-left: .5ex}\n",
       "</style><dl class=dl-inline><dt>lambda1</dt><dd>0.218582586848216</dd><dt>lambda2</dt><dd>0.215841578964047</dd><dt>mu1</dt><dd>0.136572259831154</dd><dt>q12</dt><dd>0.00016561274706145</dd></dl>\n"
      ],
      "text/latex": [
       "\\begin{description*}\n",
       "\\item[lambda1] 0.218582586848216\n",
       "\\item[lambda2] 0.215841578964047\n",
       "\\item[mu1] 0.136572259831154\n",
       "\\item[q12] 0.00016561274706145\n",
       "\\end{description*}\n"
      ],
      "text/markdown": [
       "lambda1\n",
       ":   0.218582586848216lambda2\n",
       ":   0.215841578964047mu1\n",
       ":   0.136572259831154q12\n",
       ":   0.00016561274706145\n",
       "\n"
      ],
      "text/plain": [
       "     lambda1      lambda2          mu1          q12 \n",
       "0.2185825868 0.2158415790 0.1365722598 0.0001656127 "
      ]
     },
     "metadata": {},
     "output_type": "display_data"
    }
   ],
   "source": [
    "#mu and q constrained\n",
    "lik.6<-constrain(lik,mu2~mu1,q21~q12)\n",
    "fit.6<-find.mle(lik.6, p[argnames(lik.6)])\n",
    "save(fit.6,file=paste(trait_mod, 'pinVSpal_fit.6.Rdata'))\n",
    "fit.6$par"
   ]
  },
  {
   "cell_type": "code",
   "execution_count": 32,
   "metadata": {},
   "outputs": [],
   "source": [
    "lik_list<-list(lik, lik.1,lik.2,lik.3,lik.4,lik.5,lik.6)\n",
    "model_list<-list(fit.free, fit.1,fit.2,fit.3,fit.4,fit.5,fit.6)\n",
    "model_names<-list('fit.free','fit.1','fit.2','fit.3','fit.4','fit.5','fit.6')"
   ]
  },
  {
   "cell_type": "code",
   "execution_count": 33,
   "metadata": {},
   "outputs": [
    {
     "data": {
      "text/html": [
       "-7461.49053330913"
      ],
      "text/latex": [
       "-7461.49053330913"
      ],
      "text/markdown": [
       "-7461.49053330913"
      ],
      "text/plain": [
       "[1] -7461.491"
      ]
     },
     "metadata": {},
     "output_type": "display_data"
    }
   ],
   "source": [
    "fit.6$lnLik"
   ]
  },
  {
   "cell_type": "code",
   "execution_count": 34,
   "metadata": {},
   "outputs": [],
   "source": [
    "logLik_step1<-c()\n",
    "AIC_step1<-c()\n",
    "k<-c()\n",
    "for(i in 1:length(model_list))\n",
    "{\n",
    "    logLik_step1<-rbind(logLik_step1,model_list[[i]]$lnLik)\n",
    "    AIC_step1<-rbind(AIC_step1,AIC(model_list[[i]],k=length(model_list[[i]]$par)))\n",
    "    k<-rbind(k,length(model_list[[i]]$par))\n",
    "}"
   ]
  },
  {
   "cell_type": "code",
   "execution_count": 35,
   "metadata": {},
   "outputs": [
    {
     "data": {
      "text/html": [
       "<table class=\"dataframe\">\n",
       "<caption>A matrix: 7 × 1 of type dbl</caption>\n",
       "<tbody>\n",
       "\t<tr><td>-7461.148</td></tr>\n",
       "\t<tr><td>-7461.189</td></tr>\n",
       "\t<tr><td>-7461.258</td></tr>\n",
       "\t<tr><td>-7461.420</td></tr>\n",
       "\t<tr><td>-7461.315</td></tr>\n",
       "\t<tr><td>-7461.442</td></tr>\n",
       "\t<tr><td>-7461.491</td></tr>\n",
       "</tbody>\n",
       "</table>\n"
      ],
      "text/latex": [
       "A matrix: 7 × 1 of type dbl\n",
       "\\begin{tabular}{l}\n",
       "\t -7461.148\\\\\n",
       "\t -7461.189\\\\\n",
       "\t -7461.258\\\\\n",
       "\t -7461.420\\\\\n",
       "\t -7461.315\\\\\n",
       "\t -7461.442\\\\\n",
       "\t -7461.491\\\\\n",
       "\\end{tabular}\n"
      ],
      "text/markdown": [
       "\n",
       "A matrix: 7 × 1 of type dbl\n",
       "\n",
       "| -7461.148 |\n",
       "| -7461.189 |\n",
       "| -7461.258 |\n",
       "| -7461.420 |\n",
       "| -7461.315 |\n",
       "| -7461.442 |\n",
       "| -7461.491 |\n",
       "\n"
      ],
      "text/plain": [
       "     [,1]     \n",
       "[1,] -7461.148\n",
       "[2,] -7461.189\n",
       "[3,] -7461.258\n",
       "[4,] -7461.420\n",
       "[5,] -7461.315\n",
       "[6,] -7461.442\n",
       "[7,] -7461.491"
      ]
     },
     "metadata": {},
     "output_type": "display_data"
    }
   ],
   "source": [
    "logLik_step1"
   ]
  },
  {
   "cell_type": "code",
   "execution_count": 36,
   "metadata": {},
   "outputs": [],
   "source": [
    "rownames(logLik_step1)<-model_names\n",
    "rownames(AIC_step1)<-model_names\n",
    "rownames(k)<-model_names"
   ]
  },
  {
   "cell_type": "code",
   "execution_count": 37,
   "metadata": {},
   "outputs": [],
   "source": [
    "AIC_step1<-sort(AIC_step1[,1],decreasing=FALSE)"
   ]
  },
  {
   "cell_type": "code",
   "execution_count": 38,
   "metadata": {},
   "outputs": [
    {
     "data": {
      "text/html": [
       "<style>\n",
       ".dl-inline {width: auto; margin:0; padding: 0}\n",
       ".dl-inline>dt, .dl-inline>dd {float: none; width: auto; display: inline-block}\n",
       ".dl-inline>dt::after {content: \":\\0020\"; padding-right: .5ex}\n",
       ".dl-inline>dt:not(:first-of-type) {padding-left: .5ex}\n",
       "</style><dl class=dl-inline><dt>fit.4</dt><dd>14938.6294725086</dd><dt>fit.5</dt><dd>14938.8843433839</dd><dt>fit.6</dt><dd>14938.9810666183</dd><dt>fit.1</dt><dd>14947.3774131563</dd><dt>fit.2</dt><dd>14947.5157265914</dd><dt>fit.3</dt><dd>14947.8396312715</dd><dt>fit.free</dt><dd>14958.2956457492</dd></dl>\n"
      ],
      "text/latex": [
       "\\begin{description*}\n",
       "\\item[fit.4] 14938.6294725086\n",
       "\\item[fit.5] 14938.8843433839\n",
       "\\item[fit.6] 14938.9810666183\n",
       "\\item[fit.1] 14947.3774131563\n",
       "\\item[fit.2] 14947.5157265914\n",
       "\\item[fit.3] 14947.8396312715\n",
       "\\item[fit.free] 14958.2956457492\n",
       "\\end{description*}\n"
      ],
      "text/markdown": [
       "fit.4\n",
       ":   14938.6294725086fit.5\n",
       ":   14938.8843433839fit.6\n",
       ":   14938.9810666183fit.1\n",
       ":   14947.3774131563fit.2\n",
       ":   14947.5157265914fit.3\n",
       ":   14947.8396312715fit.free\n",
       ":   14958.2956457492\n",
       "\n"
      ],
      "text/plain": [
       "   fit.4    fit.5    fit.6    fit.1    fit.2    fit.3 fit.free \n",
       "14938.63 14938.88 14938.98 14947.38 14947.52 14947.84 14958.30 "
      ]
     },
     "metadata": {},
     "output_type": "display_data"
    }
   ],
   "source": [
    "AIC_step1"
   ]
  },
  {
   "cell_type": "markdown",
   "metadata": {},
   "source": [
    "------\n",
    "## Best fitting model"
   ]
  },
  {
   "cell_type": "code",
   "execution_count": 39,
   "metadata": {},
   "outputs": [],
   "source": [
    "best_fit<-model_list[[which(model_names==names(AIC_step1[1]))]]\n",
    "best_lik<-lik_list[[which(model_names==names(AIC_step1[1]))]]"
   ]
  },
  {
   "cell_type": "code",
   "execution_count": 40,
   "metadata": {},
   "outputs": [
    {
     "data": {
      "text/html": [
       "<style>\n",
       ".dl-inline {width: auto; margin:0; padding: 0}\n",
       ".dl-inline>dt, .dl-inline>dd {float: none; width: auto; display: inline-block}\n",
       ".dl-inline>dt::after {content: \":\\0020\"; padding-right: .5ex}\n",
       ".dl-inline>dt:not(:first-of-type) {padding-left: .5ex}\n",
       "</style><dl class=dl-inline><dt>lambda1</dt><dd>0.216330021766904</dd><dt>mu1</dt><dd>0.136588963827002</dd><dt>q12</dt><dd>0.000304448802689252</dd><dt>q21</dt><dd>0.000134205078387481</dd></dl>\n"
      ],
      "text/latex": [
       "\\begin{description*}\n",
       "\\item[lambda1] 0.216330021766904\n",
       "\\item[mu1] 0.136588963827002\n",
       "\\item[q12] 0.000304448802689252\n",
       "\\item[q21] 0.000134205078387481\n",
       "\\end{description*}\n"
      ],
      "text/markdown": [
       "lambda1\n",
       ":   0.216330021766904mu1\n",
       ":   0.136588963827002q12\n",
       ":   0.000304448802689252q21\n",
       ":   0.000134205078387481\n",
       "\n"
      ],
      "text/plain": [
       "     lambda1          mu1          q12          q21 \n",
       "0.2163300218 0.1365889638 0.0003044488 0.0001342051 "
      ]
     },
     "metadata": {},
     "output_type": "display_data"
    }
   ],
   "source": [
    "best_fit$par"
   ]
  },
  {
   "cell_type": "code",
   "execution_count": 41,
   "metadata": {},
   "outputs": [
    {
     "data": {
      "text/plain": [
       "$par\n",
       "     lambda1          mu1          q12          q21 \n",
       "0.2163300218 0.1365889638 0.0003044488 0.0001342051 \n",
       "\n",
       "$lnLik\n",
       "[1] -7461.315\n",
       "\n",
       "$counts\n",
       "[1] 275\n",
       "\n",
       "$convergence\n",
       "[1] 0\n",
       "\n",
       "$message\n",
       "[1] \"success! tolerance satisfied\"\n",
       "\n",
       "$hessian\n",
       "NULL\n",
       "\n",
       "$method\n",
       "[1] \"subplex\"\n",
       "\n",
       "$par.full\n",
       "     lambda1      lambda2          mu1          mu2          q12          q21 \n",
       "0.2163300218 0.2163300218 0.1365889638 0.1365889638 0.0003044488 0.0001342051 \n",
       "\n",
       "$func.class\n",
       "[1] \"constrained\" \"musse\"       \"dtlik\"       \"function\"   \n",
       "\n",
       "attr(,\"func\")\n",
       "MuSSE likelihood function:\n",
       "  * Parameter vector takes 4 elements:\n",
       "     - lambda1, mu1, q12, q21\n",
       "  * Function constrained (original took 6 elements):\n",
       "     - lambda2 ~ lambda1\n",
       "     - mu2 ~ mu1\n",
       "  * Function takes arguments (with defaults)\n",
       "     - pars: Parameter vector\n",
       "     - ...: Additional arguments to underlying function\n",
       "     - pars.only [FALSE]: Return full parameter vector?\n",
       "  * Phylogeny with 2547 tips and 2546 nodes\n",
       "     - Taxa: Socratea_karstenii, Socratea_exorrhiza, ...\n",
       "  * Reference:\n",
       "     - FitzJohn (submitted)\n",
       "R definition:\n",
       "function (pars, ..., pars.only = FALSE)  \n",
       "attr(,\"class\")\n",
       "[1] \"fit.mle.musse\" \"fit.mle\"      "
      ]
     },
     "metadata": {},
     "output_type": "display_data"
    }
   ],
   "source": [
    "best_fit"
   ]
  },
  {
   "cell_type": "markdown",
   "metadata": {},
   "source": [
    "-------\n",
    "\n",
    "\n",
    "## Ancestral state estimation based on MuSSE"
   ]
  },
  {
   "cell_type": "code",
   "execution_count": 42,
   "metadata": {},
   "outputs": [],
   "source": [
    "st <- asr.marginal(best_lik, coef(best_fit))"
   ]
  },
  {
   "cell_type": "code",
   "execution_count": 43,
   "metadata": {},
   "outputs": [
    {
     "data": {
      "text/html": [
       "<table class=\"dataframe\">\n",
       "<caption>A matrix: 2 × 2546 of type dbl</caption>\n",
       "<tbody>\n",
       "\t<tr><td>4.394057e-05</td><td>7.829685e-06</td><td>3.336603e-05</td><td>1.838927e-07</td><td>6.296185e-09</td><td>1.686865e-08</td><td>4.205054e-10</td><td>1.858175e-09</td><td>6.591238e-09</td><td>9.566975e-09</td><td>⋯</td><td>1.26722e-08</td><td>4.428663e-09</td><td>4.106281e-09</td><td>3.969666e-10</td><td>2.579016e-08</td><td>3.540794e-09</td><td>1.395753e-08</td><td>4.829331e-10</td><td>1.154292e-08</td><td>6.747683e-09</td></tr>\n",
       "\t<tr><td>9.999561e-01</td><td>9.999922e-01</td><td>9.999666e-01</td><td>9.999998e-01</td><td>1.000000e+00</td><td>1.000000e+00</td><td>1.000000e+00</td><td>1.000000e+00</td><td>1.000000e+00</td><td>1.000000e+00</td><td>⋯</td><td>1.00000e+00</td><td>1.000000e+00</td><td>1.000000e+00</td><td>1.000000e+00</td><td>1.000000e+00</td><td>1.000000e+00</td><td>1.000000e+00</td><td>1.000000e+00</td><td>1.000000e+00</td><td>1.000000e+00</td></tr>\n",
       "</tbody>\n",
       "</table>\n"
      ],
      "text/latex": [
       "A matrix: 2 × 2546 of type dbl\n",
       "\\begin{tabular}{lllllllllllllllllllll}\n",
       "\t 4.394057e-05 & 7.829685e-06 & 3.336603e-05 & 1.838927e-07 & 6.296185e-09 & 1.686865e-08 & 4.205054e-10 & 1.858175e-09 & 6.591238e-09 & 9.566975e-09 & ⋯ & 1.26722e-08 & 4.428663e-09 & 4.106281e-09 & 3.969666e-10 & 2.579016e-08 & 3.540794e-09 & 1.395753e-08 & 4.829331e-10 & 1.154292e-08 & 6.747683e-09\\\\\n",
       "\t 9.999561e-01 & 9.999922e-01 & 9.999666e-01 & 9.999998e-01 & 1.000000e+00 & 1.000000e+00 & 1.000000e+00 & 1.000000e+00 & 1.000000e+00 & 1.000000e+00 & ⋯ & 1.00000e+00 & 1.000000e+00 & 1.000000e+00 & 1.000000e+00 & 1.000000e+00 & 1.000000e+00 & 1.000000e+00 & 1.000000e+00 & 1.000000e+00 & 1.000000e+00\\\\\n",
       "\\end{tabular}\n"
      ],
      "text/markdown": [
       "\n",
       "A matrix: 2 × 2546 of type dbl\n",
       "\n",
       "| 4.394057e-05 | 7.829685e-06 | 3.336603e-05 | 1.838927e-07 | 6.296185e-09 | 1.686865e-08 | 4.205054e-10 | 1.858175e-09 | 6.591238e-09 | 9.566975e-09 | ⋯ | 1.26722e-08 | 4.428663e-09 | 4.106281e-09 | 3.969666e-10 | 2.579016e-08 | 3.540794e-09 | 1.395753e-08 | 4.829331e-10 | 1.154292e-08 | 6.747683e-09 |\n",
       "| 9.999561e-01 | 9.999922e-01 | 9.999666e-01 | 9.999998e-01 | 1.000000e+00 | 1.000000e+00 | 1.000000e+00 | 1.000000e+00 | 1.000000e+00 | 1.000000e+00 | ⋯ | 1.00000e+00 | 1.000000e+00 | 1.000000e+00 | 1.000000e+00 | 1.000000e+00 | 1.000000e+00 | 1.000000e+00 | 1.000000e+00 | 1.000000e+00 | 1.000000e+00 |\n",
       "\n"
      ],
      "text/plain": [
       "     [,1]         [,2]         [,3]         [,4]         [,5]        \n",
       "[1,] 4.394057e-05 7.829685e-06 3.336603e-05 1.838927e-07 6.296185e-09\n",
       "[2,] 9.999561e-01 9.999922e-01 9.999666e-01 9.999998e-01 1.000000e+00\n",
       "     [,6]         [,7]         [,8]         [,9]         [,10]        [,11]\n",
       "[1,] 1.686865e-08 4.205054e-10 1.858175e-09 6.591238e-09 9.566975e-09 ⋯    \n",
       "[2,] 1.000000e+00 1.000000e+00 1.000000e+00 1.000000e+00 1.000000e+00 ⋯    \n",
       "     [,12]       [,13]        [,14]        [,15]        [,16]       \n",
       "[1,] 1.26722e-08 4.428663e-09 4.106281e-09 3.969666e-10 2.579016e-08\n",
       "[2,] 1.00000e+00 1.000000e+00 1.000000e+00 1.000000e+00 1.000000e+00\n",
       "     [,17]        [,18]        [,19]        [,20]        [,21]       \n",
       "[1,] 3.540794e-09 1.395753e-08 4.829331e-10 1.154292e-08 6.747683e-09\n",
       "[2,] 1.000000e+00 1.000000e+00 1.000000e+00 1.000000e+00 1.000000e+00"
      ]
     },
     "metadata": {},
     "output_type": "display_data"
    }
   ],
   "source": [
    "head(st)"
   ]
  },
  {
   "cell_type": "code",
   "execution_count": 44,
   "metadata": {
    "scrolled": true
   },
   "outputs": [
    {
     "data": {
      "text/html": [
       "<strong>png:</strong> 2"
      ],
      "text/latex": [
       "\\textbf{png:} 2"
      ],
      "text/markdown": [
       "**png:** 2"
      ],
      "text/plain": [
       "png \n",
       "  2 "
      ]
     },
     "metadata": {},
     "output_type": "display_data"
    }
   ],
   "source": [
    "pdf(paste(trait_mod,'pinVSpal_ase_musse_best_backwardSelect.pdf',sep='_'),width=75,height=75)\n",
    "\n",
    "par(mar=c(0,0,0,0))\n",
    "\n",
    "#col<-c(\n",
    "#rgb(alpha =0.6,0.211,0.211,0.211), \n",
    "#rgb(alpha =0.6,red=1,green=0.00,blue=0.0), \n",
    "#rgb(alpha =0.6,red=0,green=0,blue=1), \n",
    "#rgb(alpha =0.6,red=0,green=1,blue=0.0),\n",
    "#rgb(alpha =0.6,red=230/255,green=0,blue=1),\n",
    "#rgb(alpha =0.6,red=3/255,green=1,blue=248/255)\n",
    "#rgb(alpha =0.6,red=3/255,green=1,blue=248/255)\n",
    "#)\n",
    "\n",
    "#1 = cos.palmate, 2 = pinnate, 3 = entire, 4 = polymorphic\n",
    "#col=c(\"#15B0DE\",\"#DD3D3D\",\"#02C39A\",\"#FBE279\")\n",
    "\n",
    "#1 = palmate, 2 = pinnate\n",
    "col=c(\"#15B0DE\",\"#DD3D3D\")\n",
    "\n",
    "\n",
    "plot.phylo(tree,edge.width=1,label.offset=1,cex=0.1,show.tip.label=T, type=\"fan\")\n",
    "\n",
    "nodelabels(pie=t(st), piecol=col, cex=0.2)\n",
    "tiplabels(col=col[trait],pch=19,adj=1,cex=0.3) # trait datset must be sorted according to the tip.label order to be plotted correctly\n",
    "\n",
    "\n",
    "#legend(\"topleft\",legend=c(\"cos.palmate\",\"pinnate\", \"bipinnate\", \"entire\", \"polymorphic\"),\n",
    "legend(\"topleft\",legend=c(\"palmate\",\"pinnate\"),\n",
    "cex=10,\n",
    "col= col,\n",
    "text.col=col,\n",
    ",pt.cex=10,pch=15,box.lwd=0)\n",
    "\n",
    "\n",
    "dev.off()"
   ]
  },
  {
   "cell_type": "markdown",
   "metadata": {},
   "source": [
    "------\n",
    "\n",
    "## MCMC MuSSE\n",
    "\n",
    "#### on the MCC tree only\n",
    "#### best model only\n",
    "#### starting parameters are the ML estimates"
   ]
  },
  {
   "cell_type": "code",
   "execution_count": 45,
   "metadata": {},
   "outputs": [
    {
     "data": {
      "text/html": [
       "<style>\n",
       ".dl-inline {width: auto; margin:0; padding: 0}\n",
       ".dl-inline>dt, .dl-inline>dd {float: none; width: auto; display: inline-block}\n",
       ".dl-inline>dt::after {content: \":\\0020\"; padding-right: .5ex}\n",
       ".dl-inline>dt:not(:first-of-type) {padding-left: .5ex}\n",
       "</style><dl class=dl-inline><dt>lambda1</dt><dd>0.216323820809597</dd><dt>lambda2</dt><dd>0.216323820809597</dd><dt>mu1</dt><dd>0.13657864814326</dd><dt>mu2</dt><dd>0.13657864814326</dd><dt>q12</dt><dd>0.0159490345332674</dd><dt>q21</dt><dd>0.0159490345332674</dd></dl>\n"
      ],
      "text/latex": [
       "\\begin{description*}\n",
       "\\item[lambda1] 0.216323820809597\n",
       "\\item[lambda2] 0.216323820809597\n",
       "\\item[mu1] 0.13657864814326\n",
       "\\item[mu2] 0.13657864814326\n",
       "\\item[q12] 0.0159490345332674\n",
       "\\item[q21] 0.0159490345332674\n",
       "\\end{description*}\n"
      ],
      "text/markdown": [
       "lambda1\n",
       ":   0.216323820809597lambda2\n",
       ":   0.216323820809597mu1\n",
       ":   0.13657864814326mu2\n",
       ":   0.13657864814326q12\n",
       ":   0.0159490345332674q21\n",
       ":   0.0159490345332674\n",
       "\n"
      ],
      "text/plain": [
       "   lambda1    lambda2        mu1        mu2        q12        q21 \n",
       "0.21632382 0.21632382 0.13657865 0.13657865 0.01594903 0.01594903 "
      ]
     },
     "metadata": {},
     "output_type": "display_data"
    }
   ],
   "source": [
    "#find sensible starting points for the ML search\n",
    "p"
   ]
  },
  {
   "cell_type": "code",
   "execution_count": 46,
   "metadata": {
    "scrolled": true
   },
   "outputs": [],
   "source": [
    "prior <- make.prior.exponential(1 / (2 * (p[1] - p[3])))"
   ]
  },
  {
   "cell_type": "markdown",
   "metadata": {},
   "source": [
    "the tuning parameter w affects how many function evaluations are required between sample updates, but in almost all cases it does not affect how fast the MCMC “mixes” (Neal 2003). In particular, w is not analagous to the step sizes used in conventional Metropolis-Hastings updaters that use some fixed kernel for updates (see below). Ideally, w would be set to approximately the width of the high probability region. I find that chosing the distance between the 5% and 95% quantiles of the marginal distributions of each parameter works well, computed from this preliminary set of samples (see Examples). If a single value is given, this is shared across all parameters.\n",
    "\n",
    "If a vector is given, then it must be the same length as w, and parameter i will use w[i]"
   ]
  },
  {
   "cell_type": "code",
   "execution_count": 47,
   "metadata": {},
   "outputs": [],
   "source": [
    "#The “stepsize” (argument w) for the mcmc needs to be carefully tuned. To do so we run a short chain and use the range of observed samples as a measure of this.\n",
    "# https://rdrr.io/cran/diversitree/man/mcmc.html\n",
    "# best_lik = likelihood function\n",
    "# best_fit$par = initial state. parameters of the best fit model\n",
    "# w = Tuning parameter for the sampler\n",
    "\n",
    "tmp <- mcmc(best_lik, best_fit$par, nsteps=150, prior=prior,lower=0, w=rep(1, length(best_fit$par)), print.every=0)\n"
   ]
  },
  {
   "cell_type": "code",
   "execution_count": 48,
   "metadata": {},
   "outputs": [
    {
     "data": {
      "text/html": [
       "<table class=\"dataframe\">\n",
       "<caption>A mcmcsamples.musse: 6 × 6</caption>\n",
       "<thead>\n",
       "\t<tr><th></th><th scope=col>i</th><th scope=col>lambda1</th><th scope=col>mu1</th><th scope=col>q12</th><th scope=col>q21</th><th scope=col>p</th></tr>\n",
       "\t<tr><th></th><th scope=col>&lt;int&gt;</th><th scope=col>&lt;dbl&gt;</th><th scope=col>&lt;dbl&gt;</th><th scope=col>&lt;dbl&gt;</th><th scope=col>&lt;dbl&gt;</th><th scope=col>&lt;dbl&gt;</th></tr>\n",
       "</thead>\n",
       "<tbody>\n",
       "\t<tr><th scope=row>1</th><td>1</td><td>0.2176611</td><td>0.1384821</td><td>0.0007628595</td><td>0.0001834885</td><td>-7456.838</td></tr>\n",
       "\t<tr><th scope=row>2</th><td>2</td><td>0.2196058</td><td>0.1358379</td><td>0.0003840646</td><td>0.0001725464</td><td>-7456.959</td></tr>\n",
       "\t<tr><th scope=row>3</th><td>3</td><td>0.2210227</td><td>0.1411256</td><td>0.0002904623</td><td>0.0003086736</td><td>-7457.403</td></tr>\n",
       "\t<tr><th scope=row>4</th><td>4</td><td>0.2170828</td><td>0.1345854</td><td>0.0003559898</td><td>0.0002386676</td><td>-7456.814</td></tr>\n",
       "\t<tr><th scope=row>5</th><td>5</td><td>0.2171956</td><td>0.1446714</td><td>0.0015021529</td><td>0.0002725237</td><td>-7460.303</td></tr>\n",
       "\t<tr><th scope=row>6</th><td>6</td><td>0.2207148</td><td>0.1448740</td><td>0.0018137154</td><td>0.0003257004</td><td>-7460.610</td></tr>\n",
       "</tbody>\n",
       "</table>\n"
      ],
      "text/latex": [
       "A mcmcsamples.musse: 6 × 6\n",
       "\\begin{tabular}{r|llllll}\n",
       "  & i & lambda1 & mu1 & q12 & q21 & p\\\\\n",
       "  & <int> & <dbl> & <dbl> & <dbl> & <dbl> & <dbl>\\\\\n",
       "\\hline\n",
       "\t1 & 1 & 0.2176611 & 0.1384821 & 0.0007628595 & 0.0001834885 & -7456.838\\\\\n",
       "\t2 & 2 & 0.2196058 & 0.1358379 & 0.0003840646 & 0.0001725464 & -7456.959\\\\\n",
       "\t3 & 3 & 0.2210227 & 0.1411256 & 0.0002904623 & 0.0003086736 & -7457.403\\\\\n",
       "\t4 & 4 & 0.2170828 & 0.1345854 & 0.0003559898 & 0.0002386676 & -7456.814\\\\\n",
       "\t5 & 5 & 0.2171956 & 0.1446714 & 0.0015021529 & 0.0002725237 & -7460.303\\\\\n",
       "\t6 & 6 & 0.2207148 & 0.1448740 & 0.0018137154 & 0.0003257004 & -7460.610\\\\\n",
       "\\end{tabular}\n"
      ],
      "text/markdown": [
       "\n",
       "A mcmcsamples.musse: 6 × 6\n",
       "\n",
       "| <!--/--> | i &lt;int&gt; | lambda1 &lt;dbl&gt; | mu1 &lt;dbl&gt; | q12 &lt;dbl&gt; | q21 &lt;dbl&gt; | p &lt;dbl&gt; |\n",
       "|---|---|---|---|---|---|---|\n",
       "| 1 | 1 | 0.2176611 | 0.1384821 | 0.0007628595 | 0.0001834885 | -7456.838 |\n",
       "| 2 | 2 | 0.2196058 | 0.1358379 | 0.0003840646 | 0.0001725464 | -7456.959 |\n",
       "| 3 | 3 | 0.2210227 | 0.1411256 | 0.0002904623 | 0.0003086736 | -7457.403 |\n",
       "| 4 | 4 | 0.2170828 | 0.1345854 | 0.0003559898 | 0.0002386676 | -7456.814 |\n",
       "| 5 | 5 | 0.2171956 | 0.1446714 | 0.0015021529 | 0.0002725237 | -7460.303 |\n",
       "| 6 | 6 | 0.2207148 | 0.1448740 | 0.0018137154 | 0.0003257004 | -7460.610 |\n",
       "\n"
      ],
      "text/plain": [
       "  i lambda1   mu1       q12          q21          p        \n",
       "1 1 0.2176611 0.1384821 0.0007628595 0.0001834885 -7456.838\n",
       "2 2 0.2196058 0.1358379 0.0003840646 0.0001725464 -7456.959\n",
       "3 3 0.2210227 0.1411256 0.0002904623 0.0003086736 -7457.403\n",
       "4 4 0.2170828 0.1345854 0.0003559898 0.0002386676 -7456.814\n",
       "5 5 0.2171956 0.1446714 0.0015021529 0.0002725237 -7460.303\n",
       "6 6 0.2207148 0.1448740 0.0018137154 0.0003257004 -7460.610"
      ]
     },
     "metadata": {},
     "output_type": "display_data"
    }
   ],
   "source": [
    "head(tmp)"
   ]
  },
  {
   "cell_type": "code",
   "execution_count": 49,
   "metadata": {
    "scrolled": true
   },
   "outputs": [
    {
     "data": {
      "text/html": [
       "<table class=\"dataframe\">\n",
       "<caption>A mcmcsamples.musse: 150 × 5</caption>\n",
       "<thead>\n",
       "\t<tr><th scope=col>lambda1</th><th scope=col>mu1</th><th scope=col>q12</th><th scope=col>q21</th><th scope=col>p</th></tr>\n",
       "\t<tr><th scope=col>&lt;dbl&gt;</th><th scope=col>&lt;dbl&gt;</th><th scope=col>&lt;dbl&gt;</th><th scope=col>&lt;dbl&gt;</th><th scope=col>&lt;dbl&gt;</th></tr>\n",
       "</thead>\n",
       "<tbody>\n",
       "\t<tr><td>0.2176611</td><td>0.1384821</td><td>7.628595e-04</td><td>1.834885e-04</td><td>-7456.838</td></tr>\n",
       "\t<tr><td>0.2196058</td><td>0.1358379</td><td>3.840646e-04</td><td>1.725464e-04</td><td>-7456.959</td></tr>\n",
       "\t<tr><td>0.2210227</td><td>0.1411256</td><td>2.904623e-04</td><td>3.086736e-04</td><td>-7457.403</td></tr>\n",
       "\t<tr><td>0.2170828</td><td>0.1345854</td><td>3.559898e-04</td><td>2.386676e-04</td><td>-7456.814</td></tr>\n",
       "\t<tr><td>0.2171956</td><td>0.1446714</td><td>1.502153e-03</td><td>2.725237e-04</td><td>-7460.303</td></tr>\n",
       "\t<tr><td>0.2207148</td><td>0.1448740</td><td>1.813715e-03</td><td>3.257004e-04</td><td>-7460.610</td></tr>\n",
       "\t<tr><td>0.2226705</td><td>0.1465981</td><td>1.131018e-03</td><td>9.438478e-05</td><td>-7458.119</td></tr>\n",
       "\t<tr><td>0.2243027</td><td>0.1464308</td><td>4.035295e-04</td><td>3.136624e-04</td><td>-7457.812</td></tr>\n",
       "\t<tr><td>0.2204327</td><td>0.1340172</td><td>3.247060e-04</td><td>2.645013e-04</td><td>-7458.395</td></tr>\n",
       "\t<tr><td>0.2166696</td><td>0.1353811</td><td>4.068884e-04</td><td>2.271561e-04</td><td>-7456.612</td></tr>\n",
       "\t<tr><td>0.2139326</td><td>0.1309588</td><td>1.390693e-04</td><td>1.494547e-04</td><td>-7456.650</td></tr>\n",
       "\t<tr><td>0.2116627</td><td>0.1278233</td><td>3.135825e-04</td><td>1.441127e-04</td><td>-7456.522</td></tr>\n",
       "\t<tr><td>0.2082795</td><td>0.1315193</td><td>4.607572e-04</td><td>3.979582e-04</td><td>-7459.108</td></tr>\n",
       "\t<tr><td>0.2178718</td><td>0.1379063</td><td>6.789510e-05</td><td>1.091746e-04</td><td>-7457.037</td></tr>\n",
       "\t<tr><td>0.2157426</td><td>0.1425300</td><td>3.277957e-04</td><td>2.393502e-04</td><td>-7457.797</td></tr>\n",
       "\t<tr><td>0.2265457</td><td>0.1578298</td><td>6.649648e-04</td><td>9.229714e-05</td><td>-7459.712</td></tr>\n",
       "\t<tr><td>0.2331048</td><td>0.1520703</td><td>6.209892e-04</td><td>1.019537e-04</td><td>-7459.543</td></tr>\n",
       "\t<tr><td>0.2307224</td><td>0.1513344</td><td>2.566711e-04</td><td>1.313486e-04</td><td>-7458.215</td></tr>\n",
       "\t<tr><td>0.2227727</td><td>0.1351595</td><td>2.798359e-04</td><td>2.469327e-04</td><td>-7459.240</td></tr>\n",
       "\t<tr><td>0.2081573</td><td>0.1193564</td><td>2.143811e-04</td><td>3.025840e-04</td><td>-7458.841</td></tr>\n",
       "\t<tr><td>0.2087470</td><td>0.1222394</td><td>7.608286e-04</td><td>2.836051e-04</td><td>-7458.398</td></tr>\n",
       "\t<tr><td>0.2029956</td><td>0.1187741</td><td>9.860454e-05</td><td>3.421683e-04</td><td>-7459.320</td></tr>\n",
       "\t<tr><td>0.2047890</td><td>0.1164301</td><td>3.121488e-04</td><td>2.186191e-04</td><td>-7458.298</td></tr>\n",
       "\t<tr><td>0.2027698</td><td>0.1221315</td><td>7.884621e-04</td><td>3.314251e-04</td><td>-7459.454</td></tr>\n",
       "\t<tr><td>0.2073800</td><td>0.1214853</td><td>5.530013e-04</td><td>1.992244e-04</td><td>-7457.493</td></tr>\n",
       "\t<tr><td>0.2099667</td><td>0.1275244</td><td>4.803501e-04</td><td>1.792336e-04</td><td>-7456.656</td></tr>\n",
       "\t<tr><td>0.2118893</td><td>0.1351269</td><td>8.121073e-04</td><td>1.383339e-04</td><td>-7457.335</td></tr>\n",
       "\t<tr><td>0.2187466</td><td>0.1416254</td><td>1.181795e-03</td><td>1.581035e-04</td><td>-7457.793</td></tr>\n",
       "\t<tr><td>0.2209786</td><td>0.1432985</td><td>5.003003e-04</td><td>1.560426e-04</td><td>-7456.597</td></tr>\n",
       "\t<tr><td>0.2199802</td><td>0.1458917</td><td>1.835465e-04</td><td>3.523613e-04</td><td>-7458.443</td></tr>\n",
       "\t<tr><td>⋮</td><td>⋮</td><td>⋮</td><td>⋮</td><td>⋮</td></tr>\n",
       "\t<tr><td>0.2094410</td><td>0.1283491</td><td>9.084828e-04</td><td>1.344866e-04</td><td>-7457.286</td></tr>\n",
       "\t<tr><td>0.2115606</td><td>0.1272857</td><td>1.014677e-03</td><td>2.152309e-04</td><td>-7457.853</td></tr>\n",
       "\t<tr><td>0.2121922</td><td>0.1253014</td><td>5.418776e-05</td><td>1.923348e-04</td><td>-7458.303</td></tr>\n",
       "\t<tr><td>0.2129360</td><td>0.1259329</td><td>1.570016e-04</td><td>1.860428e-04</td><td>-7457.584</td></tr>\n",
       "\t<tr><td>0.2118625</td><td>0.1219248</td><td>4.960469e-04</td><td>1.555729e-04</td><td>-7458.480</td></tr>\n",
       "\t<tr><td>0.2036630</td><td>0.1172978</td><td>3.727312e-04</td><td>1.518289e-04</td><td>-7457.745</td></tr>\n",
       "\t<tr><td>0.2001546</td><td>0.1243573</td><td>2.581060e-04</td><td>2.447528e-04</td><td>-7460.419</td></tr>\n",
       "\t<tr><td>0.2078148</td><td>0.1285436</td><td>4.989603e-04</td><td>2.516847e-04</td><td>-7457.471</td></tr>\n",
       "\t<tr><td>0.2114196</td><td>0.1240301</td><td>5.076955e-04</td><td>2.194106e-04</td><td>-7457.759</td></tr>\n",
       "\t<tr><td>0.2070843</td><td>0.1259939</td><td>2.956132e-05</td><td>1.565237e-04</td><td>-7458.323</td></tr>\n",
       "\t<tr><td>0.2077273</td><td>0.1272173</td><td>2.164111e-03</td><td>1.699640e-04</td><td>-7460.643</td></tr>\n",
       "\t<tr><td>0.2101309</td><td>0.1264516</td><td>1.738787e-03</td><td>1.561728e-04</td><td>-7459.315</td></tr>\n",
       "\t<tr><td>0.2081651</td><td>0.1242232</td><td>1.080930e-03</td><td>2.713456e-04</td><td>-7458.537</td></tr>\n",
       "\t<tr><td>0.2090727</td><td>0.1350760</td><td>1.110525e-03</td><td>3.402548e-04</td><td>-7460.443</td></tr>\n",
       "\t<tr><td>0.2156377</td><td>0.1338669</td><td>1.382558e-03</td><td>1.331797e-04</td><td>-7458.102</td></tr>\n",
       "\t<tr><td>0.2182645</td><td>0.1377672</td><td>7.014771e-05</td><td>1.973902e-04</td><td>-7457.186</td></tr>\n",
       "\t<tr><td>0.2198676</td><td>0.1354386</td><td>2.818040e-04</td><td>1.412707e-04</td><td>-7457.087</td></tr>\n",
       "\t<tr><td>0.2115802</td><td>0.1320914</td><td>5.673713e-04</td><td>1.154096e-04</td><td>-7456.585</td></tr>\n",
       "\t<tr><td>0.2121977</td><td>0.1254598</td><td>7.443689e-04</td><td>2.176306e-04</td><td>-7457.907</td></tr>\n",
       "\t<tr><td>0.2106501</td><td>0.1240944</td><td>7.212604e-04</td><td>2.047545e-04</td><td>-7457.748</td></tr>\n",
       "\t<tr><td>0.2100402</td><td>0.1317054</td><td>5.345156e-04</td><td>1.665418e-04</td><td>-7456.872</td></tr>\n",
       "\t<tr><td>0.2119752</td><td>0.1343892</td><td>4.703432e-04</td><td>1.520382e-04</td><td>-7456.665</td></tr>\n",
       "\t<tr><td>0.2206118</td><td>0.1501023</td><td>1.246692e-04</td><td>1.745662e-04</td><td>-7458.661</td></tr>\n",
       "\t<tr><td>0.2303077</td><td>0.1446517</td><td>5.465393e-04</td><td>1.705028e-04</td><td>-7460.158</td></tr>\n",
       "\t<tr><td>0.2245914</td><td>0.1511488</td><td>2.619466e-04</td><td>2.709947e-04</td><td>-7458.050</td></tr>\n",
       "\t<tr><td>0.2273190</td><td>0.1510639</td><td>3.408519e-04</td><td>1.915677e-04</td><td>-7457.475</td></tr>\n",
       "\t<tr><td>0.2236527</td><td>0.1449393</td><td>3.497850e-04</td><td>9.980556e-05</td><td>-7456.808</td></tr>\n",
       "\t<tr><td>0.2233866</td><td>0.1455928</td><td>6.425279e-04</td><td>1.441751e-04</td><td>-7457.002</td></tr>\n",
       "\t<tr><td>0.2254943</td><td>0.1516265</td><td>7.434077e-04</td><td>4.551910e-04</td><td>-7460.195</td></tr>\n",
       "\t<tr><td>0.2272165</td><td>0.1540161</td><td>5.550107e-04</td><td>5.789544e-04</td><td>-7461.627</td></tr>\n",
       "</tbody>\n",
       "</table>\n"
      ],
      "text/latex": [
       "A mcmcsamples.musse: 150 × 5\n",
       "\\begin{tabular}{lllll}\n",
       " lambda1 & mu1 & q12 & q21 & p\\\\\n",
       " <dbl> & <dbl> & <dbl> & <dbl> & <dbl>\\\\\n",
       "\\hline\n",
       "\t 0.2176611 & 0.1384821 & 7.628595e-04 & 1.834885e-04 & -7456.838\\\\\n",
       "\t 0.2196058 & 0.1358379 & 3.840646e-04 & 1.725464e-04 & -7456.959\\\\\n",
       "\t 0.2210227 & 0.1411256 & 2.904623e-04 & 3.086736e-04 & -7457.403\\\\\n",
       "\t 0.2170828 & 0.1345854 & 3.559898e-04 & 2.386676e-04 & -7456.814\\\\\n",
       "\t 0.2171956 & 0.1446714 & 1.502153e-03 & 2.725237e-04 & -7460.303\\\\\n",
       "\t 0.2207148 & 0.1448740 & 1.813715e-03 & 3.257004e-04 & -7460.610\\\\\n",
       "\t 0.2226705 & 0.1465981 & 1.131018e-03 & 9.438478e-05 & -7458.119\\\\\n",
       "\t 0.2243027 & 0.1464308 & 4.035295e-04 & 3.136624e-04 & -7457.812\\\\\n",
       "\t 0.2204327 & 0.1340172 & 3.247060e-04 & 2.645013e-04 & -7458.395\\\\\n",
       "\t 0.2166696 & 0.1353811 & 4.068884e-04 & 2.271561e-04 & -7456.612\\\\\n",
       "\t 0.2139326 & 0.1309588 & 1.390693e-04 & 1.494547e-04 & -7456.650\\\\\n",
       "\t 0.2116627 & 0.1278233 & 3.135825e-04 & 1.441127e-04 & -7456.522\\\\\n",
       "\t 0.2082795 & 0.1315193 & 4.607572e-04 & 3.979582e-04 & -7459.108\\\\\n",
       "\t 0.2178718 & 0.1379063 & 6.789510e-05 & 1.091746e-04 & -7457.037\\\\\n",
       "\t 0.2157426 & 0.1425300 & 3.277957e-04 & 2.393502e-04 & -7457.797\\\\\n",
       "\t 0.2265457 & 0.1578298 & 6.649648e-04 & 9.229714e-05 & -7459.712\\\\\n",
       "\t 0.2331048 & 0.1520703 & 6.209892e-04 & 1.019537e-04 & -7459.543\\\\\n",
       "\t 0.2307224 & 0.1513344 & 2.566711e-04 & 1.313486e-04 & -7458.215\\\\\n",
       "\t 0.2227727 & 0.1351595 & 2.798359e-04 & 2.469327e-04 & -7459.240\\\\\n",
       "\t 0.2081573 & 0.1193564 & 2.143811e-04 & 3.025840e-04 & -7458.841\\\\\n",
       "\t 0.2087470 & 0.1222394 & 7.608286e-04 & 2.836051e-04 & -7458.398\\\\\n",
       "\t 0.2029956 & 0.1187741 & 9.860454e-05 & 3.421683e-04 & -7459.320\\\\\n",
       "\t 0.2047890 & 0.1164301 & 3.121488e-04 & 2.186191e-04 & -7458.298\\\\\n",
       "\t 0.2027698 & 0.1221315 & 7.884621e-04 & 3.314251e-04 & -7459.454\\\\\n",
       "\t 0.2073800 & 0.1214853 & 5.530013e-04 & 1.992244e-04 & -7457.493\\\\\n",
       "\t 0.2099667 & 0.1275244 & 4.803501e-04 & 1.792336e-04 & -7456.656\\\\\n",
       "\t 0.2118893 & 0.1351269 & 8.121073e-04 & 1.383339e-04 & -7457.335\\\\\n",
       "\t 0.2187466 & 0.1416254 & 1.181795e-03 & 1.581035e-04 & -7457.793\\\\\n",
       "\t 0.2209786 & 0.1432985 & 5.003003e-04 & 1.560426e-04 & -7456.597\\\\\n",
       "\t 0.2199802 & 0.1458917 & 1.835465e-04 & 3.523613e-04 & -7458.443\\\\\n",
       "\t ⋮ & ⋮ & ⋮ & ⋮ & ⋮\\\\\n",
       "\t 0.2094410 & 0.1283491 & 9.084828e-04 & 1.344866e-04 & -7457.286\\\\\n",
       "\t 0.2115606 & 0.1272857 & 1.014677e-03 & 2.152309e-04 & -7457.853\\\\\n",
       "\t 0.2121922 & 0.1253014 & 5.418776e-05 & 1.923348e-04 & -7458.303\\\\\n",
       "\t 0.2129360 & 0.1259329 & 1.570016e-04 & 1.860428e-04 & -7457.584\\\\\n",
       "\t 0.2118625 & 0.1219248 & 4.960469e-04 & 1.555729e-04 & -7458.480\\\\\n",
       "\t 0.2036630 & 0.1172978 & 3.727312e-04 & 1.518289e-04 & -7457.745\\\\\n",
       "\t 0.2001546 & 0.1243573 & 2.581060e-04 & 2.447528e-04 & -7460.419\\\\\n",
       "\t 0.2078148 & 0.1285436 & 4.989603e-04 & 2.516847e-04 & -7457.471\\\\\n",
       "\t 0.2114196 & 0.1240301 & 5.076955e-04 & 2.194106e-04 & -7457.759\\\\\n",
       "\t 0.2070843 & 0.1259939 & 2.956132e-05 & 1.565237e-04 & -7458.323\\\\\n",
       "\t 0.2077273 & 0.1272173 & 2.164111e-03 & 1.699640e-04 & -7460.643\\\\\n",
       "\t 0.2101309 & 0.1264516 & 1.738787e-03 & 1.561728e-04 & -7459.315\\\\\n",
       "\t 0.2081651 & 0.1242232 & 1.080930e-03 & 2.713456e-04 & -7458.537\\\\\n",
       "\t 0.2090727 & 0.1350760 & 1.110525e-03 & 3.402548e-04 & -7460.443\\\\\n",
       "\t 0.2156377 & 0.1338669 & 1.382558e-03 & 1.331797e-04 & -7458.102\\\\\n",
       "\t 0.2182645 & 0.1377672 & 7.014771e-05 & 1.973902e-04 & -7457.186\\\\\n",
       "\t 0.2198676 & 0.1354386 & 2.818040e-04 & 1.412707e-04 & -7457.087\\\\\n",
       "\t 0.2115802 & 0.1320914 & 5.673713e-04 & 1.154096e-04 & -7456.585\\\\\n",
       "\t 0.2121977 & 0.1254598 & 7.443689e-04 & 2.176306e-04 & -7457.907\\\\\n",
       "\t 0.2106501 & 0.1240944 & 7.212604e-04 & 2.047545e-04 & -7457.748\\\\\n",
       "\t 0.2100402 & 0.1317054 & 5.345156e-04 & 1.665418e-04 & -7456.872\\\\\n",
       "\t 0.2119752 & 0.1343892 & 4.703432e-04 & 1.520382e-04 & -7456.665\\\\\n",
       "\t 0.2206118 & 0.1501023 & 1.246692e-04 & 1.745662e-04 & -7458.661\\\\\n",
       "\t 0.2303077 & 0.1446517 & 5.465393e-04 & 1.705028e-04 & -7460.158\\\\\n",
       "\t 0.2245914 & 0.1511488 & 2.619466e-04 & 2.709947e-04 & -7458.050\\\\\n",
       "\t 0.2273190 & 0.1510639 & 3.408519e-04 & 1.915677e-04 & -7457.475\\\\\n",
       "\t 0.2236527 & 0.1449393 & 3.497850e-04 & 9.980556e-05 & -7456.808\\\\\n",
       "\t 0.2233866 & 0.1455928 & 6.425279e-04 & 1.441751e-04 & -7457.002\\\\\n",
       "\t 0.2254943 & 0.1516265 & 7.434077e-04 & 4.551910e-04 & -7460.195\\\\\n",
       "\t 0.2272165 & 0.1540161 & 5.550107e-04 & 5.789544e-04 & -7461.627\\\\\n",
       "\\end{tabular}\n"
      ],
      "text/markdown": [
       "\n",
       "A mcmcsamples.musse: 150 × 5\n",
       "\n",
       "| lambda1 &lt;dbl&gt; | mu1 &lt;dbl&gt; | q12 &lt;dbl&gt; | q21 &lt;dbl&gt; | p &lt;dbl&gt; |\n",
       "|---|---|---|---|---|\n",
       "| 0.2176611 | 0.1384821 | 7.628595e-04 | 1.834885e-04 | -7456.838 |\n",
       "| 0.2196058 | 0.1358379 | 3.840646e-04 | 1.725464e-04 | -7456.959 |\n",
       "| 0.2210227 | 0.1411256 | 2.904623e-04 | 3.086736e-04 | -7457.403 |\n",
       "| 0.2170828 | 0.1345854 | 3.559898e-04 | 2.386676e-04 | -7456.814 |\n",
       "| 0.2171956 | 0.1446714 | 1.502153e-03 | 2.725237e-04 | -7460.303 |\n",
       "| 0.2207148 | 0.1448740 | 1.813715e-03 | 3.257004e-04 | -7460.610 |\n",
       "| 0.2226705 | 0.1465981 | 1.131018e-03 | 9.438478e-05 | -7458.119 |\n",
       "| 0.2243027 | 0.1464308 | 4.035295e-04 | 3.136624e-04 | -7457.812 |\n",
       "| 0.2204327 | 0.1340172 | 3.247060e-04 | 2.645013e-04 | -7458.395 |\n",
       "| 0.2166696 | 0.1353811 | 4.068884e-04 | 2.271561e-04 | -7456.612 |\n",
       "| 0.2139326 | 0.1309588 | 1.390693e-04 | 1.494547e-04 | -7456.650 |\n",
       "| 0.2116627 | 0.1278233 | 3.135825e-04 | 1.441127e-04 | -7456.522 |\n",
       "| 0.2082795 | 0.1315193 | 4.607572e-04 | 3.979582e-04 | -7459.108 |\n",
       "| 0.2178718 | 0.1379063 | 6.789510e-05 | 1.091746e-04 | -7457.037 |\n",
       "| 0.2157426 | 0.1425300 | 3.277957e-04 | 2.393502e-04 | -7457.797 |\n",
       "| 0.2265457 | 0.1578298 | 6.649648e-04 | 9.229714e-05 | -7459.712 |\n",
       "| 0.2331048 | 0.1520703 | 6.209892e-04 | 1.019537e-04 | -7459.543 |\n",
       "| 0.2307224 | 0.1513344 | 2.566711e-04 | 1.313486e-04 | -7458.215 |\n",
       "| 0.2227727 | 0.1351595 | 2.798359e-04 | 2.469327e-04 | -7459.240 |\n",
       "| 0.2081573 | 0.1193564 | 2.143811e-04 | 3.025840e-04 | -7458.841 |\n",
       "| 0.2087470 | 0.1222394 | 7.608286e-04 | 2.836051e-04 | -7458.398 |\n",
       "| 0.2029956 | 0.1187741 | 9.860454e-05 | 3.421683e-04 | -7459.320 |\n",
       "| 0.2047890 | 0.1164301 | 3.121488e-04 | 2.186191e-04 | -7458.298 |\n",
       "| 0.2027698 | 0.1221315 | 7.884621e-04 | 3.314251e-04 | -7459.454 |\n",
       "| 0.2073800 | 0.1214853 | 5.530013e-04 | 1.992244e-04 | -7457.493 |\n",
       "| 0.2099667 | 0.1275244 | 4.803501e-04 | 1.792336e-04 | -7456.656 |\n",
       "| 0.2118893 | 0.1351269 | 8.121073e-04 | 1.383339e-04 | -7457.335 |\n",
       "| 0.2187466 | 0.1416254 | 1.181795e-03 | 1.581035e-04 | -7457.793 |\n",
       "| 0.2209786 | 0.1432985 | 5.003003e-04 | 1.560426e-04 | -7456.597 |\n",
       "| 0.2199802 | 0.1458917 | 1.835465e-04 | 3.523613e-04 | -7458.443 |\n",
       "| ⋮ | ⋮ | ⋮ | ⋮ | ⋮ |\n",
       "| 0.2094410 | 0.1283491 | 9.084828e-04 | 1.344866e-04 | -7457.286 |\n",
       "| 0.2115606 | 0.1272857 | 1.014677e-03 | 2.152309e-04 | -7457.853 |\n",
       "| 0.2121922 | 0.1253014 | 5.418776e-05 | 1.923348e-04 | -7458.303 |\n",
       "| 0.2129360 | 0.1259329 | 1.570016e-04 | 1.860428e-04 | -7457.584 |\n",
       "| 0.2118625 | 0.1219248 | 4.960469e-04 | 1.555729e-04 | -7458.480 |\n",
       "| 0.2036630 | 0.1172978 | 3.727312e-04 | 1.518289e-04 | -7457.745 |\n",
       "| 0.2001546 | 0.1243573 | 2.581060e-04 | 2.447528e-04 | -7460.419 |\n",
       "| 0.2078148 | 0.1285436 | 4.989603e-04 | 2.516847e-04 | -7457.471 |\n",
       "| 0.2114196 | 0.1240301 | 5.076955e-04 | 2.194106e-04 | -7457.759 |\n",
       "| 0.2070843 | 0.1259939 | 2.956132e-05 | 1.565237e-04 | -7458.323 |\n",
       "| 0.2077273 | 0.1272173 | 2.164111e-03 | 1.699640e-04 | -7460.643 |\n",
       "| 0.2101309 | 0.1264516 | 1.738787e-03 | 1.561728e-04 | -7459.315 |\n",
       "| 0.2081651 | 0.1242232 | 1.080930e-03 | 2.713456e-04 | -7458.537 |\n",
       "| 0.2090727 | 0.1350760 | 1.110525e-03 | 3.402548e-04 | -7460.443 |\n",
       "| 0.2156377 | 0.1338669 | 1.382558e-03 | 1.331797e-04 | -7458.102 |\n",
       "| 0.2182645 | 0.1377672 | 7.014771e-05 | 1.973902e-04 | -7457.186 |\n",
       "| 0.2198676 | 0.1354386 | 2.818040e-04 | 1.412707e-04 | -7457.087 |\n",
       "| 0.2115802 | 0.1320914 | 5.673713e-04 | 1.154096e-04 | -7456.585 |\n",
       "| 0.2121977 | 0.1254598 | 7.443689e-04 | 2.176306e-04 | -7457.907 |\n",
       "| 0.2106501 | 0.1240944 | 7.212604e-04 | 2.047545e-04 | -7457.748 |\n",
       "| 0.2100402 | 0.1317054 | 5.345156e-04 | 1.665418e-04 | -7456.872 |\n",
       "| 0.2119752 | 0.1343892 | 4.703432e-04 | 1.520382e-04 | -7456.665 |\n",
       "| 0.2206118 | 0.1501023 | 1.246692e-04 | 1.745662e-04 | -7458.661 |\n",
       "| 0.2303077 | 0.1446517 | 5.465393e-04 | 1.705028e-04 | -7460.158 |\n",
       "| 0.2245914 | 0.1511488 | 2.619466e-04 | 2.709947e-04 | -7458.050 |\n",
       "| 0.2273190 | 0.1510639 | 3.408519e-04 | 1.915677e-04 | -7457.475 |\n",
       "| 0.2236527 | 0.1449393 | 3.497850e-04 | 9.980556e-05 | -7456.808 |\n",
       "| 0.2233866 | 0.1455928 | 6.425279e-04 | 1.441751e-04 | -7457.002 |\n",
       "| 0.2254943 | 0.1516265 | 7.434077e-04 | 4.551910e-04 | -7460.195 |\n",
       "| 0.2272165 | 0.1540161 | 5.550107e-04 | 5.789544e-04 | -7461.627 |\n",
       "\n"
      ],
      "text/plain": [
       "    lambda1   mu1       q12          q21          p        \n",
       "1   0.2176611 0.1384821 7.628595e-04 1.834885e-04 -7456.838\n",
       "2   0.2196058 0.1358379 3.840646e-04 1.725464e-04 -7456.959\n",
       "3   0.2210227 0.1411256 2.904623e-04 3.086736e-04 -7457.403\n",
       "4   0.2170828 0.1345854 3.559898e-04 2.386676e-04 -7456.814\n",
       "5   0.2171956 0.1446714 1.502153e-03 2.725237e-04 -7460.303\n",
       "6   0.2207148 0.1448740 1.813715e-03 3.257004e-04 -7460.610\n",
       "7   0.2226705 0.1465981 1.131018e-03 9.438478e-05 -7458.119\n",
       "8   0.2243027 0.1464308 4.035295e-04 3.136624e-04 -7457.812\n",
       "9   0.2204327 0.1340172 3.247060e-04 2.645013e-04 -7458.395\n",
       "10  0.2166696 0.1353811 4.068884e-04 2.271561e-04 -7456.612\n",
       "11  0.2139326 0.1309588 1.390693e-04 1.494547e-04 -7456.650\n",
       "12  0.2116627 0.1278233 3.135825e-04 1.441127e-04 -7456.522\n",
       "13  0.2082795 0.1315193 4.607572e-04 3.979582e-04 -7459.108\n",
       "14  0.2178718 0.1379063 6.789510e-05 1.091746e-04 -7457.037\n",
       "15  0.2157426 0.1425300 3.277957e-04 2.393502e-04 -7457.797\n",
       "16  0.2265457 0.1578298 6.649648e-04 9.229714e-05 -7459.712\n",
       "17  0.2331048 0.1520703 6.209892e-04 1.019537e-04 -7459.543\n",
       "18  0.2307224 0.1513344 2.566711e-04 1.313486e-04 -7458.215\n",
       "19  0.2227727 0.1351595 2.798359e-04 2.469327e-04 -7459.240\n",
       "20  0.2081573 0.1193564 2.143811e-04 3.025840e-04 -7458.841\n",
       "21  0.2087470 0.1222394 7.608286e-04 2.836051e-04 -7458.398\n",
       "22  0.2029956 0.1187741 9.860454e-05 3.421683e-04 -7459.320\n",
       "23  0.2047890 0.1164301 3.121488e-04 2.186191e-04 -7458.298\n",
       "24  0.2027698 0.1221315 7.884621e-04 3.314251e-04 -7459.454\n",
       "25  0.2073800 0.1214853 5.530013e-04 1.992244e-04 -7457.493\n",
       "26  0.2099667 0.1275244 4.803501e-04 1.792336e-04 -7456.656\n",
       "27  0.2118893 0.1351269 8.121073e-04 1.383339e-04 -7457.335\n",
       "28  0.2187466 0.1416254 1.181795e-03 1.581035e-04 -7457.793\n",
       "29  0.2209786 0.1432985 5.003003e-04 1.560426e-04 -7456.597\n",
       "30  0.2199802 0.1458917 1.835465e-04 3.523613e-04 -7458.443\n",
       "⋮   ⋮         ⋮         ⋮            ⋮            ⋮        \n",
       "121 0.2094410 0.1283491 9.084828e-04 1.344866e-04 -7457.286\n",
       "122 0.2115606 0.1272857 1.014677e-03 2.152309e-04 -7457.853\n",
       "123 0.2121922 0.1253014 5.418776e-05 1.923348e-04 -7458.303\n",
       "124 0.2129360 0.1259329 1.570016e-04 1.860428e-04 -7457.584\n",
       "125 0.2118625 0.1219248 4.960469e-04 1.555729e-04 -7458.480\n",
       "126 0.2036630 0.1172978 3.727312e-04 1.518289e-04 -7457.745\n",
       "127 0.2001546 0.1243573 2.581060e-04 2.447528e-04 -7460.419\n",
       "128 0.2078148 0.1285436 4.989603e-04 2.516847e-04 -7457.471\n",
       "129 0.2114196 0.1240301 5.076955e-04 2.194106e-04 -7457.759\n",
       "130 0.2070843 0.1259939 2.956132e-05 1.565237e-04 -7458.323\n",
       "131 0.2077273 0.1272173 2.164111e-03 1.699640e-04 -7460.643\n",
       "132 0.2101309 0.1264516 1.738787e-03 1.561728e-04 -7459.315\n",
       "133 0.2081651 0.1242232 1.080930e-03 2.713456e-04 -7458.537\n",
       "134 0.2090727 0.1350760 1.110525e-03 3.402548e-04 -7460.443\n",
       "135 0.2156377 0.1338669 1.382558e-03 1.331797e-04 -7458.102\n",
       "136 0.2182645 0.1377672 7.014771e-05 1.973902e-04 -7457.186\n",
       "137 0.2198676 0.1354386 2.818040e-04 1.412707e-04 -7457.087\n",
       "138 0.2115802 0.1320914 5.673713e-04 1.154096e-04 -7456.585\n",
       "139 0.2121977 0.1254598 7.443689e-04 2.176306e-04 -7457.907\n",
       "140 0.2106501 0.1240944 7.212604e-04 2.047545e-04 -7457.748\n",
       "141 0.2100402 0.1317054 5.345156e-04 1.665418e-04 -7456.872\n",
       "142 0.2119752 0.1343892 4.703432e-04 1.520382e-04 -7456.665\n",
       "143 0.2206118 0.1501023 1.246692e-04 1.745662e-04 -7458.661\n",
       "144 0.2303077 0.1446517 5.465393e-04 1.705028e-04 -7460.158\n",
       "145 0.2245914 0.1511488 2.619466e-04 2.709947e-04 -7458.050\n",
       "146 0.2273190 0.1510639 3.408519e-04 1.915677e-04 -7457.475\n",
       "147 0.2236527 0.1449393 3.497850e-04 9.980556e-05 -7456.808\n",
       "148 0.2233866 0.1455928 6.425279e-04 1.441751e-04 -7457.002\n",
       "149 0.2254943 0.1516265 7.434077e-04 4.551910e-04 -7460.195\n",
       "150 0.2272165 0.1540161 5.550107e-04 5.789544e-04 -7461.627"
      ]
     },
     "metadata": {},
     "output_type": "display_data"
    }
   ],
   "source": [
    "tmp[2:ncol(tmp)] # assuming that the length of w has to be the same as the number of parameters"
   ]
  },
  {
   "cell_type": "code",
   "execution_count": 50,
   "metadata": {
    "scrolled": true
   },
   "outputs": [
    {
     "data": {
      "text/html": [
       "<table class=\"dataframe\">\n",
       "<caption>A mcmcsamples.musse: 150 × 4</caption>\n",
       "<thead>\n",
       "\t<tr><th scope=col>lambda1</th><th scope=col>mu1</th><th scope=col>q12</th><th scope=col>q21</th></tr>\n",
       "\t<tr><th scope=col>&lt;dbl&gt;</th><th scope=col>&lt;dbl&gt;</th><th scope=col>&lt;dbl&gt;</th><th scope=col>&lt;dbl&gt;</th></tr>\n",
       "</thead>\n",
       "<tbody>\n",
       "\t<tr><td>0.2176611</td><td>0.1384821</td><td>7.628595e-04</td><td>1.834885e-04</td></tr>\n",
       "\t<tr><td>0.2196058</td><td>0.1358379</td><td>3.840646e-04</td><td>1.725464e-04</td></tr>\n",
       "\t<tr><td>0.2210227</td><td>0.1411256</td><td>2.904623e-04</td><td>3.086736e-04</td></tr>\n",
       "\t<tr><td>0.2170828</td><td>0.1345854</td><td>3.559898e-04</td><td>2.386676e-04</td></tr>\n",
       "\t<tr><td>0.2171956</td><td>0.1446714</td><td>1.502153e-03</td><td>2.725237e-04</td></tr>\n",
       "\t<tr><td>0.2207148</td><td>0.1448740</td><td>1.813715e-03</td><td>3.257004e-04</td></tr>\n",
       "\t<tr><td>0.2226705</td><td>0.1465981</td><td>1.131018e-03</td><td>9.438478e-05</td></tr>\n",
       "\t<tr><td>0.2243027</td><td>0.1464308</td><td>4.035295e-04</td><td>3.136624e-04</td></tr>\n",
       "\t<tr><td>0.2204327</td><td>0.1340172</td><td>3.247060e-04</td><td>2.645013e-04</td></tr>\n",
       "\t<tr><td>0.2166696</td><td>0.1353811</td><td>4.068884e-04</td><td>2.271561e-04</td></tr>\n",
       "\t<tr><td>0.2139326</td><td>0.1309588</td><td>1.390693e-04</td><td>1.494547e-04</td></tr>\n",
       "\t<tr><td>0.2116627</td><td>0.1278233</td><td>3.135825e-04</td><td>1.441127e-04</td></tr>\n",
       "\t<tr><td>0.2082795</td><td>0.1315193</td><td>4.607572e-04</td><td>3.979582e-04</td></tr>\n",
       "\t<tr><td>0.2178718</td><td>0.1379063</td><td>6.789510e-05</td><td>1.091746e-04</td></tr>\n",
       "\t<tr><td>0.2157426</td><td>0.1425300</td><td>3.277957e-04</td><td>2.393502e-04</td></tr>\n",
       "\t<tr><td>0.2265457</td><td>0.1578298</td><td>6.649648e-04</td><td>9.229714e-05</td></tr>\n",
       "\t<tr><td>0.2331048</td><td>0.1520703</td><td>6.209892e-04</td><td>1.019537e-04</td></tr>\n",
       "\t<tr><td>0.2307224</td><td>0.1513344</td><td>2.566711e-04</td><td>1.313486e-04</td></tr>\n",
       "\t<tr><td>0.2227727</td><td>0.1351595</td><td>2.798359e-04</td><td>2.469327e-04</td></tr>\n",
       "\t<tr><td>0.2081573</td><td>0.1193564</td><td>2.143811e-04</td><td>3.025840e-04</td></tr>\n",
       "\t<tr><td>0.2087470</td><td>0.1222394</td><td>7.608286e-04</td><td>2.836051e-04</td></tr>\n",
       "\t<tr><td>0.2029956</td><td>0.1187741</td><td>9.860454e-05</td><td>3.421683e-04</td></tr>\n",
       "\t<tr><td>0.2047890</td><td>0.1164301</td><td>3.121488e-04</td><td>2.186191e-04</td></tr>\n",
       "\t<tr><td>0.2027698</td><td>0.1221315</td><td>7.884621e-04</td><td>3.314251e-04</td></tr>\n",
       "\t<tr><td>0.2073800</td><td>0.1214853</td><td>5.530013e-04</td><td>1.992244e-04</td></tr>\n",
       "\t<tr><td>0.2099667</td><td>0.1275244</td><td>4.803501e-04</td><td>1.792336e-04</td></tr>\n",
       "\t<tr><td>0.2118893</td><td>0.1351269</td><td>8.121073e-04</td><td>1.383339e-04</td></tr>\n",
       "\t<tr><td>0.2187466</td><td>0.1416254</td><td>1.181795e-03</td><td>1.581035e-04</td></tr>\n",
       "\t<tr><td>0.2209786</td><td>0.1432985</td><td>5.003003e-04</td><td>1.560426e-04</td></tr>\n",
       "\t<tr><td>0.2199802</td><td>0.1458917</td><td>1.835465e-04</td><td>3.523613e-04</td></tr>\n",
       "\t<tr><td>⋮</td><td>⋮</td><td>⋮</td><td>⋮</td></tr>\n",
       "\t<tr><td>0.2094410</td><td>0.1283491</td><td>9.084828e-04</td><td>1.344866e-04</td></tr>\n",
       "\t<tr><td>0.2115606</td><td>0.1272857</td><td>1.014677e-03</td><td>2.152309e-04</td></tr>\n",
       "\t<tr><td>0.2121922</td><td>0.1253014</td><td>5.418776e-05</td><td>1.923348e-04</td></tr>\n",
       "\t<tr><td>0.2129360</td><td>0.1259329</td><td>1.570016e-04</td><td>1.860428e-04</td></tr>\n",
       "\t<tr><td>0.2118625</td><td>0.1219248</td><td>4.960469e-04</td><td>1.555729e-04</td></tr>\n",
       "\t<tr><td>0.2036630</td><td>0.1172978</td><td>3.727312e-04</td><td>1.518289e-04</td></tr>\n",
       "\t<tr><td>0.2001546</td><td>0.1243573</td><td>2.581060e-04</td><td>2.447528e-04</td></tr>\n",
       "\t<tr><td>0.2078148</td><td>0.1285436</td><td>4.989603e-04</td><td>2.516847e-04</td></tr>\n",
       "\t<tr><td>0.2114196</td><td>0.1240301</td><td>5.076955e-04</td><td>2.194106e-04</td></tr>\n",
       "\t<tr><td>0.2070843</td><td>0.1259939</td><td>2.956132e-05</td><td>1.565237e-04</td></tr>\n",
       "\t<tr><td>0.2077273</td><td>0.1272173</td><td>2.164111e-03</td><td>1.699640e-04</td></tr>\n",
       "\t<tr><td>0.2101309</td><td>0.1264516</td><td>1.738787e-03</td><td>1.561728e-04</td></tr>\n",
       "\t<tr><td>0.2081651</td><td>0.1242232</td><td>1.080930e-03</td><td>2.713456e-04</td></tr>\n",
       "\t<tr><td>0.2090727</td><td>0.1350760</td><td>1.110525e-03</td><td>3.402548e-04</td></tr>\n",
       "\t<tr><td>0.2156377</td><td>0.1338669</td><td>1.382558e-03</td><td>1.331797e-04</td></tr>\n",
       "\t<tr><td>0.2182645</td><td>0.1377672</td><td>7.014771e-05</td><td>1.973902e-04</td></tr>\n",
       "\t<tr><td>0.2198676</td><td>0.1354386</td><td>2.818040e-04</td><td>1.412707e-04</td></tr>\n",
       "\t<tr><td>0.2115802</td><td>0.1320914</td><td>5.673713e-04</td><td>1.154096e-04</td></tr>\n",
       "\t<tr><td>0.2121977</td><td>0.1254598</td><td>7.443689e-04</td><td>2.176306e-04</td></tr>\n",
       "\t<tr><td>0.2106501</td><td>0.1240944</td><td>7.212604e-04</td><td>2.047545e-04</td></tr>\n",
       "\t<tr><td>0.2100402</td><td>0.1317054</td><td>5.345156e-04</td><td>1.665418e-04</td></tr>\n",
       "\t<tr><td>0.2119752</td><td>0.1343892</td><td>4.703432e-04</td><td>1.520382e-04</td></tr>\n",
       "\t<tr><td>0.2206118</td><td>0.1501023</td><td>1.246692e-04</td><td>1.745662e-04</td></tr>\n",
       "\t<tr><td>0.2303077</td><td>0.1446517</td><td>5.465393e-04</td><td>1.705028e-04</td></tr>\n",
       "\t<tr><td>0.2245914</td><td>0.1511488</td><td>2.619466e-04</td><td>2.709947e-04</td></tr>\n",
       "\t<tr><td>0.2273190</td><td>0.1510639</td><td>3.408519e-04</td><td>1.915677e-04</td></tr>\n",
       "\t<tr><td>0.2236527</td><td>0.1449393</td><td>3.497850e-04</td><td>9.980556e-05</td></tr>\n",
       "\t<tr><td>0.2233866</td><td>0.1455928</td><td>6.425279e-04</td><td>1.441751e-04</td></tr>\n",
       "\t<tr><td>0.2254943</td><td>0.1516265</td><td>7.434077e-04</td><td>4.551910e-04</td></tr>\n",
       "\t<tr><td>0.2272165</td><td>0.1540161</td><td>5.550107e-04</td><td>5.789544e-04</td></tr>\n",
       "</tbody>\n",
       "</table>\n"
      ],
      "text/latex": [
       "A mcmcsamples.musse: 150 × 4\n",
       "\\begin{tabular}{llll}\n",
       " lambda1 & mu1 & q12 & q21\\\\\n",
       " <dbl> & <dbl> & <dbl> & <dbl>\\\\\n",
       "\\hline\n",
       "\t 0.2176611 & 0.1384821 & 7.628595e-04 & 1.834885e-04\\\\\n",
       "\t 0.2196058 & 0.1358379 & 3.840646e-04 & 1.725464e-04\\\\\n",
       "\t 0.2210227 & 0.1411256 & 2.904623e-04 & 3.086736e-04\\\\\n",
       "\t 0.2170828 & 0.1345854 & 3.559898e-04 & 2.386676e-04\\\\\n",
       "\t 0.2171956 & 0.1446714 & 1.502153e-03 & 2.725237e-04\\\\\n",
       "\t 0.2207148 & 0.1448740 & 1.813715e-03 & 3.257004e-04\\\\\n",
       "\t 0.2226705 & 0.1465981 & 1.131018e-03 & 9.438478e-05\\\\\n",
       "\t 0.2243027 & 0.1464308 & 4.035295e-04 & 3.136624e-04\\\\\n",
       "\t 0.2204327 & 0.1340172 & 3.247060e-04 & 2.645013e-04\\\\\n",
       "\t 0.2166696 & 0.1353811 & 4.068884e-04 & 2.271561e-04\\\\\n",
       "\t 0.2139326 & 0.1309588 & 1.390693e-04 & 1.494547e-04\\\\\n",
       "\t 0.2116627 & 0.1278233 & 3.135825e-04 & 1.441127e-04\\\\\n",
       "\t 0.2082795 & 0.1315193 & 4.607572e-04 & 3.979582e-04\\\\\n",
       "\t 0.2178718 & 0.1379063 & 6.789510e-05 & 1.091746e-04\\\\\n",
       "\t 0.2157426 & 0.1425300 & 3.277957e-04 & 2.393502e-04\\\\\n",
       "\t 0.2265457 & 0.1578298 & 6.649648e-04 & 9.229714e-05\\\\\n",
       "\t 0.2331048 & 0.1520703 & 6.209892e-04 & 1.019537e-04\\\\\n",
       "\t 0.2307224 & 0.1513344 & 2.566711e-04 & 1.313486e-04\\\\\n",
       "\t 0.2227727 & 0.1351595 & 2.798359e-04 & 2.469327e-04\\\\\n",
       "\t 0.2081573 & 0.1193564 & 2.143811e-04 & 3.025840e-04\\\\\n",
       "\t 0.2087470 & 0.1222394 & 7.608286e-04 & 2.836051e-04\\\\\n",
       "\t 0.2029956 & 0.1187741 & 9.860454e-05 & 3.421683e-04\\\\\n",
       "\t 0.2047890 & 0.1164301 & 3.121488e-04 & 2.186191e-04\\\\\n",
       "\t 0.2027698 & 0.1221315 & 7.884621e-04 & 3.314251e-04\\\\\n",
       "\t 0.2073800 & 0.1214853 & 5.530013e-04 & 1.992244e-04\\\\\n",
       "\t 0.2099667 & 0.1275244 & 4.803501e-04 & 1.792336e-04\\\\\n",
       "\t 0.2118893 & 0.1351269 & 8.121073e-04 & 1.383339e-04\\\\\n",
       "\t 0.2187466 & 0.1416254 & 1.181795e-03 & 1.581035e-04\\\\\n",
       "\t 0.2209786 & 0.1432985 & 5.003003e-04 & 1.560426e-04\\\\\n",
       "\t 0.2199802 & 0.1458917 & 1.835465e-04 & 3.523613e-04\\\\\n",
       "\t ⋮ & ⋮ & ⋮ & ⋮\\\\\n",
       "\t 0.2094410 & 0.1283491 & 9.084828e-04 & 1.344866e-04\\\\\n",
       "\t 0.2115606 & 0.1272857 & 1.014677e-03 & 2.152309e-04\\\\\n",
       "\t 0.2121922 & 0.1253014 & 5.418776e-05 & 1.923348e-04\\\\\n",
       "\t 0.2129360 & 0.1259329 & 1.570016e-04 & 1.860428e-04\\\\\n",
       "\t 0.2118625 & 0.1219248 & 4.960469e-04 & 1.555729e-04\\\\\n",
       "\t 0.2036630 & 0.1172978 & 3.727312e-04 & 1.518289e-04\\\\\n",
       "\t 0.2001546 & 0.1243573 & 2.581060e-04 & 2.447528e-04\\\\\n",
       "\t 0.2078148 & 0.1285436 & 4.989603e-04 & 2.516847e-04\\\\\n",
       "\t 0.2114196 & 0.1240301 & 5.076955e-04 & 2.194106e-04\\\\\n",
       "\t 0.2070843 & 0.1259939 & 2.956132e-05 & 1.565237e-04\\\\\n",
       "\t 0.2077273 & 0.1272173 & 2.164111e-03 & 1.699640e-04\\\\\n",
       "\t 0.2101309 & 0.1264516 & 1.738787e-03 & 1.561728e-04\\\\\n",
       "\t 0.2081651 & 0.1242232 & 1.080930e-03 & 2.713456e-04\\\\\n",
       "\t 0.2090727 & 0.1350760 & 1.110525e-03 & 3.402548e-04\\\\\n",
       "\t 0.2156377 & 0.1338669 & 1.382558e-03 & 1.331797e-04\\\\\n",
       "\t 0.2182645 & 0.1377672 & 7.014771e-05 & 1.973902e-04\\\\\n",
       "\t 0.2198676 & 0.1354386 & 2.818040e-04 & 1.412707e-04\\\\\n",
       "\t 0.2115802 & 0.1320914 & 5.673713e-04 & 1.154096e-04\\\\\n",
       "\t 0.2121977 & 0.1254598 & 7.443689e-04 & 2.176306e-04\\\\\n",
       "\t 0.2106501 & 0.1240944 & 7.212604e-04 & 2.047545e-04\\\\\n",
       "\t 0.2100402 & 0.1317054 & 5.345156e-04 & 1.665418e-04\\\\\n",
       "\t 0.2119752 & 0.1343892 & 4.703432e-04 & 1.520382e-04\\\\\n",
       "\t 0.2206118 & 0.1501023 & 1.246692e-04 & 1.745662e-04\\\\\n",
       "\t 0.2303077 & 0.1446517 & 5.465393e-04 & 1.705028e-04\\\\\n",
       "\t 0.2245914 & 0.1511488 & 2.619466e-04 & 2.709947e-04\\\\\n",
       "\t 0.2273190 & 0.1510639 & 3.408519e-04 & 1.915677e-04\\\\\n",
       "\t 0.2236527 & 0.1449393 & 3.497850e-04 & 9.980556e-05\\\\\n",
       "\t 0.2233866 & 0.1455928 & 6.425279e-04 & 1.441751e-04\\\\\n",
       "\t 0.2254943 & 0.1516265 & 7.434077e-04 & 4.551910e-04\\\\\n",
       "\t 0.2272165 & 0.1540161 & 5.550107e-04 & 5.789544e-04\\\\\n",
       "\\end{tabular}\n"
      ],
      "text/markdown": [
       "\n",
       "A mcmcsamples.musse: 150 × 4\n",
       "\n",
       "| lambda1 &lt;dbl&gt; | mu1 &lt;dbl&gt; | q12 &lt;dbl&gt; | q21 &lt;dbl&gt; |\n",
       "|---|---|---|---|\n",
       "| 0.2176611 | 0.1384821 | 7.628595e-04 | 1.834885e-04 |\n",
       "| 0.2196058 | 0.1358379 | 3.840646e-04 | 1.725464e-04 |\n",
       "| 0.2210227 | 0.1411256 | 2.904623e-04 | 3.086736e-04 |\n",
       "| 0.2170828 | 0.1345854 | 3.559898e-04 | 2.386676e-04 |\n",
       "| 0.2171956 | 0.1446714 | 1.502153e-03 | 2.725237e-04 |\n",
       "| 0.2207148 | 0.1448740 | 1.813715e-03 | 3.257004e-04 |\n",
       "| 0.2226705 | 0.1465981 | 1.131018e-03 | 9.438478e-05 |\n",
       "| 0.2243027 | 0.1464308 | 4.035295e-04 | 3.136624e-04 |\n",
       "| 0.2204327 | 0.1340172 | 3.247060e-04 | 2.645013e-04 |\n",
       "| 0.2166696 | 0.1353811 | 4.068884e-04 | 2.271561e-04 |\n",
       "| 0.2139326 | 0.1309588 | 1.390693e-04 | 1.494547e-04 |\n",
       "| 0.2116627 | 0.1278233 | 3.135825e-04 | 1.441127e-04 |\n",
       "| 0.2082795 | 0.1315193 | 4.607572e-04 | 3.979582e-04 |\n",
       "| 0.2178718 | 0.1379063 | 6.789510e-05 | 1.091746e-04 |\n",
       "| 0.2157426 | 0.1425300 | 3.277957e-04 | 2.393502e-04 |\n",
       "| 0.2265457 | 0.1578298 | 6.649648e-04 | 9.229714e-05 |\n",
       "| 0.2331048 | 0.1520703 | 6.209892e-04 | 1.019537e-04 |\n",
       "| 0.2307224 | 0.1513344 | 2.566711e-04 | 1.313486e-04 |\n",
       "| 0.2227727 | 0.1351595 | 2.798359e-04 | 2.469327e-04 |\n",
       "| 0.2081573 | 0.1193564 | 2.143811e-04 | 3.025840e-04 |\n",
       "| 0.2087470 | 0.1222394 | 7.608286e-04 | 2.836051e-04 |\n",
       "| 0.2029956 | 0.1187741 | 9.860454e-05 | 3.421683e-04 |\n",
       "| 0.2047890 | 0.1164301 | 3.121488e-04 | 2.186191e-04 |\n",
       "| 0.2027698 | 0.1221315 | 7.884621e-04 | 3.314251e-04 |\n",
       "| 0.2073800 | 0.1214853 | 5.530013e-04 | 1.992244e-04 |\n",
       "| 0.2099667 | 0.1275244 | 4.803501e-04 | 1.792336e-04 |\n",
       "| 0.2118893 | 0.1351269 | 8.121073e-04 | 1.383339e-04 |\n",
       "| 0.2187466 | 0.1416254 | 1.181795e-03 | 1.581035e-04 |\n",
       "| 0.2209786 | 0.1432985 | 5.003003e-04 | 1.560426e-04 |\n",
       "| 0.2199802 | 0.1458917 | 1.835465e-04 | 3.523613e-04 |\n",
       "| ⋮ | ⋮ | ⋮ | ⋮ |\n",
       "| 0.2094410 | 0.1283491 | 9.084828e-04 | 1.344866e-04 |\n",
       "| 0.2115606 | 0.1272857 | 1.014677e-03 | 2.152309e-04 |\n",
       "| 0.2121922 | 0.1253014 | 5.418776e-05 | 1.923348e-04 |\n",
       "| 0.2129360 | 0.1259329 | 1.570016e-04 | 1.860428e-04 |\n",
       "| 0.2118625 | 0.1219248 | 4.960469e-04 | 1.555729e-04 |\n",
       "| 0.2036630 | 0.1172978 | 3.727312e-04 | 1.518289e-04 |\n",
       "| 0.2001546 | 0.1243573 | 2.581060e-04 | 2.447528e-04 |\n",
       "| 0.2078148 | 0.1285436 | 4.989603e-04 | 2.516847e-04 |\n",
       "| 0.2114196 | 0.1240301 | 5.076955e-04 | 2.194106e-04 |\n",
       "| 0.2070843 | 0.1259939 | 2.956132e-05 | 1.565237e-04 |\n",
       "| 0.2077273 | 0.1272173 | 2.164111e-03 | 1.699640e-04 |\n",
       "| 0.2101309 | 0.1264516 | 1.738787e-03 | 1.561728e-04 |\n",
       "| 0.2081651 | 0.1242232 | 1.080930e-03 | 2.713456e-04 |\n",
       "| 0.2090727 | 0.1350760 | 1.110525e-03 | 3.402548e-04 |\n",
       "| 0.2156377 | 0.1338669 | 1.382558e-03 | 1.331797e-04 |\n",
       "| 0.2182645 | 0.1377672 | 7.014771e-05 | 1.973902e-04 |\n",
       "| 0.2198676 | 0.1354386 | 2.818040e-04 | 1.412707e-04 |\n",
       "| 0.2115802 | 0.1320914 | 5.673713e-04 | 1.154096e-04 |\n",
       "| 0.2121977 | 0.1254598 | 7.443689e-04 | 2.176306e-04 |\n",
       "| 0.2106501 | 0.1240944 | 7.212604e-04 | 2.047545e-04 |\n",
       "| 0.2100402 | 0.1317054 | 5.345156e-04 | 1.665418e-04 |\n",
       "| 0.2119752 | 0.1343892 | 4.703432e-04 | 1.520382e-04 |\n",
       "| 0.2206118 | 0.1501023 | 1.246692e-04 | 1.745662e-04 |\n",
       "| 0.2303077 | 0.1446517 | 5.465393e-04 | 1.705028e-04 |\n",
       "| 0.2245914 | 0.1511488 | 2.619466e-04 | 2.709947e-04 |\n",
       "| 0.2273190 | 0.1510639 | 3.408519e-04 | 1.915677e-04 |\n",
       "| 0.2236527 | 0.1449393 | 3.497850e-04 | 9.980556e-05 |\n",
       "| 0.2233866 | 0.1455928 | 6.425279e-04 | 1.441751e-04 |\n",
       "| 0.2254943 | 0.1516265 | 7.434077e-04 | 4.551910e-04 |\n",
       "| 0.2272165 | 0.1540161 | 5.550107e-04 | 5.789544e-04 |\n",
       "\n"
      ],
      "text/plain": [
       "    lambda1   mu1       q12          q21         \n",
       "1   0.2176611 0.1384821 7.628595e-04 1.834885e-04\n",
       "2   0.2196058 0.1358379 3.840646e-04 1.725464e-04\n",
       "3   0.2210227 0.1411256 2.904623e-04 3.086736e-04\n",
       "4   0.2170828 0.1345854 3.559898e-04 2.386676e-04\n",
       "5   0.2171956 0.1446714 1.502153e-03 2.725237e-04\n",
       "6   0.2207148 0.1448740 1.813715e-03 3.257004e-04\n",
       "7   0.2226705 0.1465981 1.131018e-03 9.438478e-05\n",
       "8   0.2243027 0.1464308 4.035295e-04 3.136624e-04\n",
       "9   0.2204327 0.1340172 3.247060e-04 2.645013e-04\n",
       "10  0.2166696 0.1353811 4.068884e-04 2.271561e-04\n",
       "11  0.2139326 0.1309588 1.390693e-04 1.494547e-04\n",
       "12  0.2116627 0.1278233 3.135825e-04 1.441127e-04\n",
       "13  0.2082795 0.1315193 4.607572e-04 3.979582e-04\n",
       "14  0.2178718 0.1379063 6.789510e-05 1.091746e-04\n",
       "15  0.2157426 0.1425300 3.277957e-04 2.393502e-04\n",
       "16  0.2265457 0.1578298 6.649648e-04 9.229714e-05\n",
       "17  0.2331048 0.1520703 6.209892e-04 1.019537e-04\n",
       "18  0.2307224 0.1513344 2.566711e-04 1.313486e-04\n",
       "19  0.2227727 0.1351595 2.798359e-04 2.469327e-04\n",
       "20  0.2081573 0.1193564 2.143811e-04 3.025840e-04\n",
       "21  0.2087470 0.1222394 7.608286e-04 2.836051e-04\n",
       "22  0.2029956 0.1187741 9.860454e-05 3.421683e-04\n",
       "23  0.2047890 0.1164301 3.121488e-04 2.186191e-04\n",
       "24  0.2027698 0.1221315 7.884621e-04 3.314251e-04\n",
       "25  0.2073800 0.1214853 5.530013e-04 1.992244e-04\n",
       "26  0.2099667 0.1275244 4.803501e-04 1.792336e-04\n",
       "27  0.2118893 0.1351269 8.121073e-04 1.383339e-04\n",
       "28  0.2187466 0.1416254 1.181795e-03 1.581035e-04\n",
       "29  0.2209786 0.1432985 5.003003e-04 1.560426e-04\n",
       "30  0.2199802 0.1458917 1.835465e-04 3.523613e-04\n",
       "⋮   ⋮         ⋮         ⋮            ⋮           \n",
       "121 0.2094410 0.1283491 9.084828e-04 1.344866e-04\n",
       "122 0.2115606 0.1272857 1.014677e-03 2.152309e-04\n",
       "123 0.2121922 0.1253014 5.418776e-05 1.923348e-04\n",
       "124 0.2129360 0.1259329 1.570016e-04 1.860428e-04\n",
       "125 0.2118625 0.1219248 4.960469e-04 1.555729e-04\n",
       "126 0.2036630 0.1172978 3.727312e-04 1.518289e-04\n",
       "127 0.2001546 0.1243573 2.581060e-04 2.447528e-04\n",
       "128 0.2078148 0.1285436 4.989603e-04 2.516847e-04\n",
       "129 0.2114196 0.1240301 5.076955e-04 2.194106e-04\n",
       "130 0.2070843 0.1259939 2.956132e-05 1.565237e-04\n",
       "131 0.2077273 0.1272173 2.164111e-03 1.699640e-04\n",
       "132 0.2101309 0.1264516 1.738787e-03 1.561728e-04\n",
       "133 0.2081651 0.1242232 1.080930e-03 2.713456e-04\n",
       "134 0.2090727 0.1350760 1.110525e-03 3.402548e-04\n",
       "135 0.2156377 0.1338669 1.382558e-03 1.331797e-04\n",
       "136 0.2182645 0.1377672 7.014771e-05 1.973902e-04\n",
       "137 0.2198676 0.1354386 2.818040e-04 1.412707e-04\n",
       "138 0.2115802 0.1320914 5.673713e-04 1.154096e-04\n",
       "139 0.2121977 0.1254598 7.443689e-04 2.176306e-04\n",
       "140 0.2106501 0.1240944 7.212604e-04 2.047545e-04\n",
       "141 0.2100402 0.1317054 5.345156e-04 1.665418e-04\n",
       "142 0.2119752 0.1343892 4.703432e-04 1.520382e-04\n",
       "143 0.2206118 0.1501023 1.246692e-04 1.745662e-04\n",
       "144 0.2303077 0.1446517 5.465393e-04 1.705028e-04\n",
       "145 0.2245914 0.1511488 2.619466e-04 2.709947e-04\n",
       "146 0.2273190 0.1510639 3.408519e-04 1.915677e-04\n",
       "147 0.2236527 0.1449393 3.497850e-04 9.980556e-05\n",
       "148 0.2233866 0.1455928 6.425279e-04 1.441751e-04\n",
       "149 0.2254943 0.1516265 7.434077e-04 4.551910e-04\n",
       "150 0.2272165 0.1540161 5.550107e-04 5.789544e-04"
      ]
     },
     "metadata": {},
     "output_type": "display_data"
    }
   ],
   "source": [
    " # we need to remove the p column because is the likelihood probability and not a parameter. To get w, we need only the parameters\n",
    "tmp[2:(ncol(tmp)-1)]"
   ]
  },
  {
   "cell_type": "markdown",
   "metadata": {},
   "source": [
    "sapply() function takes list, vector or data frame as input and gives output in vector or matrix. It is useful for operations on list objects and returns a list object of same length of original set. \n",
    "\n",
    "Range in R returns a vector that contains the minimum and maximum values of the given argument"
   ]
  },
  {
   "cell_type": "code",
   "execution_count": 51,
   "metadata": {},
   "outputs": [
    {
     "data": {
      "text/html": [
       "<table class=\"dataframe\">\n",
       "<caption>A matrix: 2 × 4 of type dbl</caption>\n",
       "<thead>\n",
       "\t<tr><th scope=col>lambda1</th><th scope=col>mu1</th><th scope=col>q12</th><th scope=col>q21</th></tr>\n",
       "</thead>\n",
       "<tbody>\n",
       "\t<tr><td>0.2001546</td><td>0.1164301</td><td>2.956132e-05</td><td>1.144095e-05</td></tr>\n",
       "\t<tr><td>0.2331048</td><td>0.1578298</td><td>2.164111e-03</td><td>6.379337e-04</td></tr>\n",
       "</tbody>\n",
       "</table>\n"
      ],
      "text/latex": [
       "A matrix: 2 × 4 of type dbl\n",
       "\\begin{tabular}{llll}\n",
       " lambda1 & mu1 & q12 & q21\\\\\n",
       "\\hline\n",
       "\t 0.2001546 & 0.1164301 & 2.956132e-05 & 1.144095e-05\\\\\n",
       "\t 0.2331048 & 0.1578298 & 2.164111e-03 & 6.379337e-04\\\\\n",
       "\\end{tabular}\n"
      ],
      "text/markdown": [
       "\n",
       "A matrix: 2 × 4 of type dbl\n",
       "\n",
       "| lambda1 | mu1 | q12 | q21 |\n",
       "|---|---|---|---|\n",
       "| 0.2001546 | 0.1164301 | 2.956132e-05 | 1.144095e-05 |\n",
       "| 0.2331048 | 0.1578298 | 2.164111e-03 | 6.379337e-04 |\n",
       "\n"
      ],
      "text/plain": [
       "     lambda1   mu1       q12          q21         \n",
       "[1,] 0.2001546 0.1164301 2.956132e-05 1.144095e-05\n",
       "[2,] 0.2331048 0.1578298 2.164111e-03 6.379337e-04"
      ]
     },
     "metadata": {},
     "output_type": "display_data"
    }
   ],
   "source": [
    "sapply(tmp[2:(ncol(tmp)-1)], range)"
   ]
  },
  {
   "cell_type": "code",
   "execution_count": 52,
   "metadata": {},
   "outputs": [
    {
     "data": {
      "text/html": [
       "<table class=\"dataframe\">\n",
       "<caption>A matrix: 1 × 4 of type dbl</caption>\n",
       "<thead>\n",
       "\t<tr><th scope=col>lambda1</th><th scope=col>mu1</th><th scope=col>q12</th><th scope=col>q21</th></tr>\n",
       "</thead>\n",
       "<tbody>\n",
       "\t<tr><td>0.03295025</td><td>0.04139976</td><td>0.002134549</td><td>0.0006264928</td></tr>\n",
       "</tbody>\n",
       "</table>\n"
      ],
      "text/latex": [
       "A matrix: 1 × 4 of type dbl\n",
       "\\begin{tabular}{llll}\n",
       " lambda1 & mu1 & q12 & q21\\\\\n",
       "\\hline\n",
       "\t 0.03295025 & 0.04139976 & 0.002134549 & 0.0006264928\\\\\n",
       "\\end{tabular}\n"
      ],
      "text/markdown": [
       "\n",
       "A matrix: 1 × 4 of type dbl\n",
       "\n",
       "| lambda1 | mu1 | q12 | q21 |\n",
       "|---|---|---|---|\n",
       "| 0.03295025 | 0.04139976 | 0.002134549 | 0.0006264928 |\n",
       "\n"
      ],
      "text/plain": [
       "     lambda1    mu1        q12         q21         \n",
       "[1,] 0.03295025 0.04139976 0.002134549 0.0006264928"
      ]
     },
     "metadata": {},
     "output_type": "display_data"
    }
   ],
   "source": [
    "diff(sapply(tmp[2:(ncol(tmp)-1)], range)) # returns a vector with the differences"
   ]
  },
  {
   "cell_type": "code",
   "execution_count": 53,
   "metadata": {},
   "outputs": [
    {
     "data": {
      "text/html": [
       "<table class=\"dataframe\">\n",
       "<caption>A matrix: 1 × 4 of type dbl</caption>\n",
       "<thead>\n",
       "\t<tr><th scope=col>lambda1</th><th scope=col>mu1</th><th scope=col>q12</th><th scope=col>q21</th></tr>\n",
       "</thead>\n",
       "<tbody>\n",
       "\t<tr><td>0.03295025</td><td>0.04139976</td><td>0.002134549</td><td>0.0006264928</td></tr>\n",
       "</tbody>\n",
       "</table>\n"
      ],
      "text/latex": [
       "A matrix: 1 × 4 of type dbl\n",
       "\\begin{tabular}{llll}\n",
       " lambda1 & mu1 & q12 & q21\\\\\n",
       "\\hline\n",
       "\t 0.03295025 & 0.04139976 & 0.002134549 & 0.0006264928\\\\\n",
       "\\end{tabular}\n"
      ],
      "text/markdown": [
       "\n",
       "A matrix: 1 × 4 of type dbl\n",
       "\n",
       "| lambda1 | mu1 | q12 | q21 |\n",
       "|---|---|---|---|\n",
       "| 0.03295025 | 0.04139976 | 0.002134549 | 0.0006264928 |\n",
       "\n"
      ],
      "text/plain": [
       "     lambda1    mu1        q12         q21         \n",
       "[1,] 0.03295025 0.04139976 0.002134549 0.0006264928"
      ]
     },
     "metadata": {},
     "output_type": "display_data"
    }
   ],
   "source": [
    "w <- diff(sapply(tmp[2:(ncol(tmp)-1)], range))\n",
    "w"
   ]
  },
  {
   "cell_type": "code",
   "execution_count": 54,
   "metadata": {},
   "outputs": [
    {
     "name": "stdout",
     "output_type": "stream",
     "text": [
      "200: {0.2203, 0.1434, 0.0010, 0.0001} -> -7457.57300\n",
      "400: {0.2252, 0.1376, 0.0009, 0.0003} -> -7460.85583\n",
      "600: {0.2217, 0.1474, 0.0007, 0.0001} -> -7457.97248\n",
      "800: {0.2323, 0.1517, 0.0006, 0.0002} -> -7459.31696\n",
      "1000: {0.2192, 0.1405, 0.0001, 0.0003} -> -7457.78832\n",
      "1200: {0.2214, 0.1338, 0.0002, 0.0008} -> -7464.42823\n",
      "1400: {0.1983, 0.1228, 0.0007, 0.0001} -> -7461.38403\n",
      "1600: {0.2143, 0.1287, 0.0002, 0.0002} -> -7457.04664\n",
      "1800: {0.2109, 0.1240, 0.0005, 0.0001} -> -7457.40194\n",
      "2000: {0.2048, 0.1221, 0.0007, 0.0002} -> -7457.76755\n",
      "2200: {0.2132, 0.1328, 0.0001, 0.0001} -> -7457.45032\n",
      "2400: {0.2255, 0.1499, 0.0005, 0.0002} -> -7457.54282\n",
      "2600: {0.2088, 0.1264, 0.0004, 0.0001} -> -7456.62390\n",
      "2800: {0.2209, 0.1353, 0.0004, 0.0001} -> -7457.87620\n",
      "3000: {0.2274, 0.1511, 0.0001, 0.0002} -> -7458.11109\n"
     ]
    }
   ],
   "source": [
    "#run the mcmc\n",
    "samples <- mcmc(best_lik, best_fit$par, nsteps=3000, w=w, lower=0, prior=prior,print.every=200)"
   ]
  },
  {
   "cell_type": "code",
   "execution_count": 55,
   "metadata": {},
   "outputs": [],
   "source": [
    "write.table(samples,paste(trait_mod, 'mcmc_2000gen_MCC_bestfit_pinnate_vs_palmate.txt', sep='_'),sep=';')"
   ]
  },
  {
   "cell_type": "code",
   "execution_count": 56,
   "metadata": {},
   "outputs": [
    {
     "data": {
      "text/html": [
       "<table class=\"dataframe\">\n",
       "<caption>A mcmcsamples.musse: 6 × 6</caption>\n",
       "<thead>\n",
       "\t<tr><th></th><th scope=col>i</th><th scope=col>lambda1</th><th scope=col>mu1</th><th scope=col>q12</th><th scope=col>q21</th><th scope=col>p</th></tr>\n",
       "\t<tr><th></th><th scope=col>&lt;int&gt;</th><th scope=col>&lt;dbl&gt;</th><th scope=col>&lt;dbl&gt;</th><th scope=col>&lt;dbl&gt;</th><th scope=col>&lt;dbl&gt;</th><th scope=col>&lt;dbl&gt;</th></tr>\n",
       "</thead>\n",
       "<tbody>\n",
       "\t<tr><th scope=row>1</th><td>1</td><td>0.2181797</td><td>0.1418896</td><td>0.0003003000</td><td>0.0002187918</td><td>-7456.784</td></tr>\n",
       "\t<tr><th scope=row>2</th><td>2</td><td>0.2214263</td><td>0.1460085</td><td>0.0007787353</td><td>0.0002462612</td><td>-7457.739</td></tr>\n",
       "\t<tr><th scope=row>3</th><td>3</td><td>0.2225945</td><td>0.1502132</td><td>0.0006659550</td><td>0.0002930171</td><td>-7458.702</td></tr>\n",
       "\t<tr><th scope=row>4</th><td>4</td><td>0.2244738</td><td>0.1510758</td><td>0.0001700237</td><td>0.0003493676</td><td>-7458.860</td></tr>\n",
       "\t<tr><th scope=row>5</th><td>5</td><td>0.2265543</td><td>0.1464441</td><td>0.0011883633</td><td>0.0002489112</td><td>-7459.178</td></tr>\n",
       "\t<tr><th scope=row>6</th><td>6</td><td>0.2191964</td><td>0.1490745</td><td>0.0001592408</td><td>0.0001888877</td><td>-7458.804</td></tr>\n",
       "</tbody>\n",
       "</table>\n"
      ],
      "text/latex": [
       "A mcmcsamples.musse: 6 × 6\n",
       "\\begin{tabular}{r|llllll}\n",
       "  & i & lambda1 & mu1 & q12 & q21 & p\\\\\n",
       "  & <int> & <dbl> & <dbl> & <dbl> & <dbl> & <dbl>\\\\\n",
       "\\hline\n",
       "\t1 & 1 & 0.2181797 & 0.1418896 & 0.0003003000 & 0.0002187918 & -7456.784\\\\\n",
       "\t2 & 2 & 0.2214263 & 0.1460085 & 0.0007787353 & 0.0002462612 & -7457.739\\\\\n",
       "\t3 & 3 & 0.2225945 & 0.1502132 & 0.0006659550 & 0.0002930171 & -7458.702\\\\\n",
       "\t4 & 4 & 0.2244738 & 0.1510758 & 0.0001700237 & 0.0003493676 & -7458.860\\\\\n",
       "\t5 & 5 & 0.2265543 & 0.1464441 & 0.0011883633 & 0.0002489112 & -7459.178\\\\\n",
       "\t6 & 6 & 0.2191964 & 0.1490745 & 0.0001592408 & 0.0001888877 & -7458.804\\\\\n",
       "\\end{tabular}\n"
      ],
      "text/markdown": [
       "\n",
       "A mcmcsamples.musse: 6 × 6\n",
       "\n",
       "| <!--/--> | i &lt;int&gt; | lambda1 &lt;dbl&gt; | mu1 &lt;dbl&gt; | q12 &lt;dbl&gt; | q21 &lt;dbl&gt; | p &lt;dbl&gt; |\n",
       "|---|---|---|---|---|---|---|\n",
       "| 1 | 1 | 0.2181797 | 0.1418896 | 0.0003003000 | 0.0002187918 | -7456.784 |\n",
       "| 2 | 2 | 0.2214263 | 0.1460085 | 0.0007787353 | 0.0002462612 | -7457.739 |\n",
       "| 3 | 3 | 0.2225945 | 0.1502132 | 0.0006659550 | 0.0002930171 | -7458.702 |\n",
       "| 4 | 4 | 0.2244738 | 0.1510758 | 0.0001700237 | 0.0003493676 | -7458.860 |\n",
       "| 5 | 5 | 0.2265543 | 0.1464441 | 0.0011883633 | 0.0002489112 | -7459.178 |\n",
       "| 6 | 6 | 0.2191964 | 0.1490745 | 0.0001592408 | 0.0001888877 | -7458.804 |\n",
       "\n"
      ],
      "text/plain": [
       "  i lambda1   mu1       q12          q21          p        \n",
       "1 1 0.2181797 0.1418896 0.0003003000 0.0002187918 -7456.784\n",
       "2 2 0.2214263 0.1460085 0.0007787353 0.0002462612 -7457.739\n",
       "3 3 0.2225945 0.1502132 0.0006659550 0.0002930171 -7458.702\n",
       "4 4 0.2244738 0.1510758 0.0001700237 0.0003493676 -7458.860\n",
       "5 5 0.2265543 0.1464441 0.0011883633 0.0002489112 -7459.178\n",
       "6 6 0.2191964 0.1490745 0.0001592408 0.0001888877 -7458.804"
      ]
     },
     "metadata": {},
     "output_type": "display_data"
    }
   ],
   "source": [
    "head(samples)"
   ]
  },
  {
   "cell_type": "code",
   "execution_count": 57,
   "metadata": {},
   "outputs": [
    {
     "data": {
      "image/png": "[encoded data removed]",
      "text/plain": [
       "plot without title"
      ]
     },
     "metadata": {
      "image/png": {
       "height": 420,
       "width": 420
      }
     },
     "output_type": "display_data"
    },
    {
     "data": {
      "image/png": "[encoded data removed]",
      "text/plain": [
       "Plot with title “Histogram of samples[, 6]”"
      ]
     },
     "metadata": {
      "image/png": {
       "height": 420,
       "width": 420
      }
     },
     "output_type": "display_data"
    }
   ],
   "source": [
    "#check mcmc trace for parameters\n",
    "#remove suitable burnin fraction\n",
    "\n",
    "plot(1:nrow(samples),samples[,6],type=\"l\")\n",
    "hist(samples[,6])"
   ]
  },
  {
   "cell_type": "markdown",
   "metadata": {},
   "source": [
    "#### For plotting parameter posterior distribution. This needs to be changed manually according to parameters contained in the best models. I can do later with output files."
   ]
  },
  {
   "cell_type": "code",
   "execution_count": null,
   "metadata": {},
   "outputs": [],
   "source": [
    "# pdf(\"lambda_mcmc_postdis_best_MCC_dissected_entire.pdf\",width=6,height=6)\n",
    "# #plot posterior distributions of parameters\n",
    "# profiles.plot(samples[c(\"lambda2\", \"lambda4\")], col.line=c(\"grey\",col[4]), las=1)\n",
    "# legend(\"topright\",legend=c(\"cos.palmate\",\"pinnate\", \"entire\", \"polymorphic\"),\n",
    "# col= c(\"grey\",\"grey\",\"grey\",col[4]),\n",
    "# text.col=c(\"grey\",\"grey\",\"grey\",col[4]),\n",
    "# ,pt.cex=2,pch=15,box.lwd=0)\n",
    "# dev.off()"
   ]
  },
  {
   "cell_type": "code",
   "execution_count": 104,
   "metadata": {},
   "outputs": [
    {
     "data": {
      "text/html": [
       "<strong>png:</strong> 2"
      ],
      "text/latex": [
       "\\textbf{png:} 2"
      ],
      "text/markdown": [
       "**png:** 2"
      ],
      "text/plain": [
       "png \n",
       "  2 "
      ]
     },
     "metadata": {},
     "output_type": "display_data"
    }
   ],
   "source": [
    "pdf('pinVSpal_lambda_mcmc_postdis_best_MCC.pdf',width=6,height=6)\n",
    "#plot posterior distributions of parameters\n",
    "profiles.plot(samples[c('lambda1')], col.line=c('grey'), las=1)\n",
    "legend('topright',legend=c('pinnate','palmate'),\n",
    "col= c('grey'),\n",
    "text.col=c('grey'),\n",
    ",pt.cex=2,pch=15,box.lwd=0)\n",
    "dev.off()"
   ]
  },
  {
   "cell_type": "code",
   "execution_count": 106,
   "metadata": {},
   "outputs": [
    {
     "data": {
      "text/html": [
       "<strong>png:</strong> 2"
      ],
      "text/latex": [
       "\\textbf{png:} 2"
      ],
      "text/markdown": [
       "**png:** 2"
      ],
      "text/plain": [
       "png \n",
       "  2 "
      ]
     },
     "metadata": {},
     "output_type": "display_data"
    }
   ],
   "source": [
    "pdf('pinVSpal_mu_mcmc_postdis_best_MCC.pdf',width=6,height=6)\n",
    "#plot posterior distributions of parameters\n",
    "profiles.plot(samples[c('mu1')], col.line=c(col[1],col[2],'grey'), las=1)\n",
    "legend('topright',legend=c('pinnate', 'palmate'),\n",
    "col= c(col[1],col[2],'grey','grey'),\n",
    "text.col=c(col[1],col[2],'grey','grey'),\n",
    ",pt.cex=2,pch=15,box.lwd=0)\n",
    "dev.off()"
   ]
  },
  {
   "cell_type": "code",
   "execution_count": null,
   "metadata": {},
   "outputs": [],
   "source": [
    "net_div_t<-cbind(samples[,2]-samples[,4],samples[,2]-samples[,5],samples[,2]-samples[,6],samples[,3]-samples[,6])\n",
    "head(net_div_t)"
   ]
  },
  {
   "cell_type": "code",
   "execution_count": null,
   "metadata": {},
   "outputs": [],
   "source": [
    "pdf(\"netdiv_mcmc_postdis_best_MCC.pdf\",width=6,height=6)\n",
    "#plot posterior distributions of parameters\n",
    "profiles.plot(net_div_t, col.line=col, las=1)\n",
    "legend(\"topright\",legend=c(\"cos.palmate\",\"pinnate\", \"entire\", \"polymorphic\"),\n",
    "col= col,\n",
    "text.col=col,\n",
    ",pt.cex=2,pch=15,box.lwd=0)\n",
    "dev.off()"
   ]
  },
  {
   "cell_type": "code",
   "execution_count": null,
   "metadata": {},
   "outputs": [],
   "source": [
    "pdf(\"q_mcmc_postdis_best_MCC.pdf\",width=6,height=6)\n",
    "#1 = cos.palmate, 2 = pinnate, 3 = entire, 4 = polymorphic\n",
    "col=c(\"#15B0DE\",\"#DD3D3D\",\"#02C39A\",\"#FBE279\")\n",
    "\n",
    "#q21 ~ q12, q24 ~ q12, q31 ~ q12, q23 ~ q13, q43 ~ q13\n",
    "\n",
    "#plot posterior distributions of parameters\n",
    "profiles.plot(log(samples[c(\"q12\", \"q13\", \"q34\", \"q42\")]), col.line=c(\"#FBE279\",\"darkorange\",\"red\",\"saddlebrown\"), las=1)\n",
    "legend(\"topleft\",legend=c(\"cos->pin\", \"pin->cos\", \"pin->poly\", \"ent->cos\", \n",
    "                          \"cos->ent\", \"pin->ent\", \"poly->ent\",\n",
    "                            \"ent->poly\", \n",
    "                            \"poly->pin\"\n",
    "                          ),\n",
    "col= c(\"#FBE279\",\"#FBE279\",\"#FBE279\",\"#FBE279\",\"darkorange\",\"darkorange\",\"darkorange\",\"red\",\"saddlebrown\"),\n",
    "text.col=c(\"#FBE279\",\"#FBE279\",\"#FBE279\",\"#FBE279\",\"darkorange\",\"darkorange\",\"darkorange\",\"red\",\"saddlebrown\"),\n",
    ",pt.cex=2,pch=15,box.lwd=0)\n",
    "dev.off()"
   ]
  },
  {
   "cell_type": "markdown",
   "metadata": {},
   "source": [
    "-----\n",
    "# Repeat the best model on a posterior distribution of trees"
   ]
  },
  {
   "cell_type": "code",
   "execution_count": 58,
   "metadata": {},
   "outputs": [],
   "source": [
    "tree_samp<-read.tree('sampled_trees_100.nex')"
   ]
  },
  {
   "cell_type": "code",
   "execution_count": 59,
   "metadata": {},
   "outputs": [],
   "source": [
    "T<-100"
   ]
  },
  {
   "cell_type": "code",
   "execution_count": 60,
   "metadata": {},
   "outputs": [
    {
     "data": {
      "text/html": [
       "<style>\n",
       ".dl-inline {width: auto; margin:0; padding: 0}\n",
       ".dl-inline>dt, .dl-inline>dd {float: none; width: auto; display: inline-block}\n",
       ".dl-inline>dt::after {content: \":\\0020\"; padding-right: .5ex}\n",
       ".dl-inline>dt:not(:first-of-type) {padding-left: .5ex}\n",
       "</style><dl class=dl-inline><dt>lambda1</dt><dd>0.216330021766904</dd><dt>mu1</dt><dd>0.136588963827002</dd><dt>q12</dt><dd>0.000304448802689252</dd><dt>q21</dt><dd>0.000134205078387481</dd></dl>\n"
      ],
      "text/latex": [
       "\\begin{description*}\n",
       "\\item[lambda1] 0.216330021766904\n",
       "\\item[mu1] 0.136588963827002\n",
       "\\item[q12] 0.000304448802689252\n",
       "\\item[q21] 0.000134205078387481\n",
       "\\end{description*}\n"
      ],
      "text/markdown": [
       "lambda1\n",
       ":   0.216330021766904mu1\n",
       ":   0.136588963827002q12\n",
       ":   0.000304448802689252q21\n",
       ":   0.000134205078387481\n",
       "\n"
      ],
      "text/plain": [
       "     lambda1          mu1          q12          q21 \n",
       "0.2163300218 0.1365889638 0.0003044488 0.0001342051 "
      ]
     },
     "metadata": {},
     "output_type": "display_data"
    },
    {
     "data": {
      "text/html": [
       "<pre class=language-r><code>structure(function (pars, ..., pars.only = FALSE) \n",
       "{\n",
       "<span style=white-space:pre-wrap>    if (length(pars) != npar) </span>\n",
       "<span style=white-space:pre-wrap>        stop(sprintf(\"Incorrect parameter length: expected %d, got %d\", </span>\n",
       "<span style=white-space:pre-wrap>            npar, length(pars)))</span>\n",
       "<span style=white-space:pre-wrap>    pars.out[free.i] &lt;- pars[free.j]</span>\n",
       "<span style=white-space:pre-wrap>    e &lt;- structure(as.list(pars), names = final)</span>\n",
       "<span style=white-space:pre-wrap>    pars.out[target.i] &lt;- unlist(lapply(rels, eval, e))</span>\n",
       "<span style=white-space:pre-wrap>    if (pars.only) </span>\n",
       "<span style=white-space:pre-wrap>        pars.out</span>\n",
       "<span style=white-space:pre-wrap>    else f(pars.out, ...)</span>\n",
       "}, class = c(\"constrained\", \"musse\", \"dtlik\", \"function\"), argnames = c(\"lambda1\", \n",
       "\"mu1\", \"q12\", \"q21\"), formulae = list(lambda2 ~ lambda1, mu2 ~ \n",
       "<span style=white-space:pre-wrap>    mu1), func = structure(function (pars, condition.surv = TRUE, </span>\n",
       "<span style=white-space:pre-wrap>    root = ROOT.OBS, root.p = NULL, intermediates = FALSE) </span>\n",
       "{\n",
       "<span style=white-space:pre-wrap>    pars2 &lt;- f.pars(pars)</span>\n",
       "<span style=white-space:pre-wrap>    ans &lt;- all.branches(pars2, intermediates)</span>\n",
       "<span style=white-space:pre-wrap>    rootfunc(ans, pars2, condition.surv, root, root.p, intermediates)</span>\n",
       "}, class = c(\"musse\", \"dtlik\", \"function\")))</code></pre>"
      ],
      "text/latex": [
       "\\begin{minted}{r}\n",
       "structure(function (pars, ..., pars.only = FALSE) \n",
       "\\{\n",
       "    if (length(pars) != npar) \n",
       "        stop(sprintf(\"Incorrect parameter length: expected \\%d, got \\%d\", \n",
       "            npar, length(pars)))\n",
       "    pars.out{[}free.i{]} <- pars{[}free.j{]}\n",
       "    e <- structure(as.list(pars), names = final)\n",
       "    pars.out{[}target.i{]} <- unlist(lapply(rels, eval, e))\n",
       "    if (pars.only) \n",
       "        pars.out\n",
       "    else f(pars.out, ...)\n",
       "\\}, class = c(\"constrained\", \"musse\", \"dtlik\", \"function\"), argnames = c(\"lambda1\", \n",
       "\"mu1\", \"q12\", \"q21\"), formulae = list(lambda2 \\textasciitilde{} lambda1, mu2 \\textasciitilde{} \n",
       "    mu1), func = structure(function (pars, condition.surv = TRUE, \n",
       "    root = ROOT.OBS, root.p = NULL, intermediates = FALSE) \n",
       "\\{\n",
       "    pars2 <- f.pars(pars)\n",
       "    ans <- all.branches(pars2, intermediates)\n",
       "    rootfunc(ans, pars2, condition.surv, root, root.p, intermediates)\n",
       "\\}, class = c(\"musse\", \"dtlik\", \"function\")))\n",
       "\\end{minted}"
      ],
      "text/markdown": [
       "```r\n",
       "structure(function (pars, ..., pars.only = FALSE) \n",
       "{\n",
       "    if (length(pars) != npar) \n",
       "        stop(sprintf(\"Incorrect parameter length: expected %d, got %d\", \n",
       "            npar, length(pars)))\n",
       "    pars.out[free.i] <- pars[free.j]\n",
       "    e <- structure(as.list(pars), names = final)\n",
       "    pars.out[target.i] <- unlist(lapply(rels, eval, e))\n",
       "    if (pars.only) \n",
       "        pars.out\n",
       "    else f(pars.out, ...)\n",
       "}, class = c(\"constrained\", \"musse\", \"dtlik\", \"function\"), argnames = c(\"lambda1\", \n",
       "\"mu1\", \"q12\", \"q21\"), formulae = list(lambda2 ~ lambda1, mu2 ~ \n",
       "    mu1), func = structure(function (pars, condition.surv = TRUE, \n",
       "    root = ROOT.OBS, root.p = NULL, intermediates = FALSE) \n",
       "{\n",
       "    pars2 <- f.pars(pars)\n",
       "    ans <- all.branches(pars2, intermediates)\n",
       "    rootfunc(ans, pars2, condition.surv, root, root.p, intermediates)\n",
       "}, class = c(\"musse\", \"dtlik\", \"function\")))\n",
       "```"
      ],
      "text/plain": [
       "MuSSE likelihood function:\n",
       "  * Parameter vector takes 4 elements:\n",
       "     - lambda1, mu1, q12, q21\n",
       "  * Function constrained (original took 6 elements):\n",
       "     - lambda2 ~ lambda1\n",
       "     - mu2 ~ mu1\n",
       "  * Function takes arguments (with defaults)\n",
       "     - pars: Parameter vector\n",
       "     - ...: Additional arguments to underlying function\n",
       "     - pars.only [FALSE]: Return full parameter vector?\n",
       "  * Phylogeny with 2547 tips and 2546 nodes\n",
       "     - Taxa: Socratea_karstenii, Socratea_exorrhiza, ...\n",
       "  * Reference:\n",
       "     - FitzJohn (submitted)\n",
       "R definition:\n",
       "function (pars, ..., pars.only = FALSE)  "
      ]
     },
     "metadata": {},
     "output_type": "display_data"
    }
   ],
   "source": [
    "best_fit$par\n",
    "best_lik"
   ]
  },
  {
   "cell_type": "code",
   "execution_count": 61,
   "metadata": {},
   "outputs": [],
   "source": [
    "for(t in 1:T)\n",
    "{\n",
    "    tree_t<-tree_samp[[t]]\n",
    "    tree_t<-drop.tip(tree_t,setdiff(tree_t$tip.label,names(trait)))\n",
    "    \n",
    "    trait<-dt2[tree_t$tip.label]\n",
    "    names(trait)<-tree_t$tip.label\n",
    "    \n",
    "    p<-starting.point.musse(tree_t,k=length(unique(trait)))\n",
    "        \n",
    "    fit.best_t<-find.mle(best_lik, p[argnames(best_lik)])\n",
    "    \n",
    "    save(fit.best_t,file=paste(trait_mod,'pinVSpal_fit.best_t_tree',t,'.Rdata',sep=\"\"))\n",
    "}\n"
   ]
  },
  {
   "cell_type": "code",
   "execution_count": 62,
   "metadata": {},
   "outputs": [],
   "source": [
    "#pdf(\"asr_best_model_postdis.pdf\",width=75,height=75)\n",
    "\n",
    "par_post_dis<-c()\n",
    "root_state_prob<-c()\n",
    "\n",
    "for(t in 1:T)\n",
    "{   \n",
    "    tree_t<-tree_samp[[t]]\n",
    "    tree_t<-drop.tip(tree_t,setdiff(tree_t$tip.label,list_taxa))\n",
    "\n",
    "    trait<-dt2[tree_t$tip.label]\n",
    "    names(trait)<-tree_t$tip.label\n",
    "\n",
    "    tip_data<-cbind(1:Ntip(tree_t), trait, 1)\n",
    "\n",
    "    p<-starting.point.musse(tree_t,k=length(unique(trait)))\n",
    "    \n",
    "    load(file=paste(trait_mod,'pinVSpal_fit.best_t_tree',t,'.Rdata',sep=\"\"))\n",
    "    \n",
    "    st <- asr.marginal(best_lik, coef(fit.best_t))\n",
    "    st.mtx<-t(st)\n",
    "        \n",
    "    par_post_dis<-rbind(par_post_dis,fit.best_t$par)\n",
    "    root_state_prob<-rbind(root_state_prob,t(st)[1,])\n",
    "\n",
    "    par(mar=c(0,0,0,0))\n",
    "\n",
    "    \n",
    "#1 = palmate, 2 = pinnate\n",
    "#col=c(\"#15B0DE\",\"#DD3D3D\")\n",
    "\n",
    "#plot.phylo(tree_t,edge.width=1,label.offset=1,cex=0.1,show.tip.label=T, type=\"fan\")\n",
    "\n",
    "#nodelabels(pie=t(st), piecol=col, cex=0.2)\n",
    "#tiplabels(col=col[trait],pch=19,adj=1,cex=0.3) # trait datset must be sorted according to the tip.label order to be plotted correctly\n",
    "\n",
    "\n",
    "#legend(\"topleft\",legend=c(\"cos.palmate\",\"pinnate\", \"bipinnate\", \"entire\", \"polymorphic\"),\n",
    "#legend(\"topleft\",legend=c(\"palmate\",\"pinnate\"),\n",
    "#cex=10,\n",
    "#col= col,\n",
    "#text.col=col,\n",
    "#,pt.cex=10,pch=15,box.lwd=0)\n",
    "\n",
    "}\n",
    "\n",
    "#dev.off()\n",
    "\n"
   ]
  },
  {
   "cell_type": "code",
   "execution_count": 63,
   "metadata": {},
   "outputs": [
    {
     "data": {
      "text/html": [
       "<table class=\"dataframe\">\n",
       "<caption>A matrix: 6 × 2 of type dbl</caption>\n",
       "<tbody>\n",
       "\t<tr><td>4.884990e-05</td><td>0.9999512</td></tr>\n",
       "\t<tr><td>7.232525e-05</td><td>0.9999277</td></tr>\n",
       "\t<tr><td>5.262562e-05</td><td>0.9999474</td></tr>\n",
       "\t<tr><td>5.916048e-05</td><td>0.9999408</td></tr>\n",
       "\t<tr><td>5.041397e-05</td><td>0.9999496</td></tr>\n",
       "\t<tr><td>4.301687e-05</td><td>0.9999570</td></tr>\n",
       "</tbody>\n",
       "</table>\n"
      ],
      "text/latex": [
       "A matrix: 6 × 2 of type dbl\n",
       "\\begin{tabular}{ll}\n",
       "\t 4.884990e-05 & 0.9999512\\\\\n",
       "\t 7.232525e-05 & 0.9999277\\\\\n",
       "\t 5.262562e-05 & 0.9999474\\\\\n",
       "\t 5.916048e-05 & 0.9999408\\\\\n",
       "\t 5.041397e-05 & 0.9999496\\\\\n",
       "\t 4.301687e-05 & 0.9999570\\\\\n",
       "\\end{tabular}\n"
      ],
      "text/markdown": [
       "\n",
       "A matrix: 6 × 2 of type dbl\n",
       "\n",
       "| 4.884990e-05 | 0.9999512 |\n",
       "| 7.232525e-05 | 0.9999277 |\n",
       "| 5.262562e-05 | 0.9999474 |\n",
       "| 5.916048e-05 | 0.9999408 |\n",
       "| 5.041397e-05 | 0.9999496 |\n",
       "| 4.301687e-05 | 0.9999570 |\n",
       "\n"
      ],
      "text/plain": [
       "     [,1]         [,2]     \n",
       "[1,] 4.884990e-05 0.9999512\n",
       "[2,] 7.232525e-05 0.9999277\n",
       "[3,] 5.262562e-05 0.9999474\n",
       "[4,] 5.916048e-05 0.9999408\n",
       "[5,] 5.041397e-05 0.9999496\n",
       "[6,] 4.301687e-05 0.9999570"
      ]
     },
     "metadata": {},
     "output_type": "display_data"
    }
   ],
   "source": [
    "#relative probability of character states at the root across 100 trees\n",
    "head(root_state_prob)"
   ]
  },
  {
   "cell_type": "code",
   "execution_count": 64,
   "metadata": {},
   "outputs": [
    {
     "data": {
      "text/html": [
       "200"
      ],
      "text/latex": [
       "200"
      ],
      "text/markdown": [
       "200"
      ],
      "text/plain": [
       "[1] 200"
      ]
     },
     "metadata": {},
     "output_type": "display_data"
    }
   ],
   "source": [
    "length(root_state_prob)"
   ]
  },
  {
   "cell_type": "code",
   "execution_count": 65,
   "metadata": {},
   "outputs": [
    {
     "data": {
      "text/html": [
       "<table class=\"dataframe\">\n",
       "<caption>A matrix: 6 × 4 of type dbl</caption>\n",
       "<thead>\n",
       "\t<tr><th scope=col>lambda1</th><th scope=col>mu1</th><th scope=col>q12</th><th scope=col>q21</th></tr>\n",
       "</thead>\n",
       "<tbody>\n",
       "\t<tr><td>0.2163305</td><td>0.1365884</td><td>0.0003184790</td><td>0.0001314585</td></tr>\n",
       "\t<tr><td>0.2163428</td><td>0.1365951</td><td>0.0003737275</td><td>0.0001197378</td></tr>\n",
       "\t<tr><td>0.2163063</td><td>0.1365648</td><td>0.0003293328</td><td>0.0001341602</td></tr>\n",
       "\t<tr><td>0.2163117</td><td>0.1365674</td><td>0.0003459683</td><td>0.0001321137</td></tr>\n",
       "\t<tr><td>0.2163070</td><td>0.1365634</td><td>0.0003234671</td><td>0.0001355392</td></tr>\n",
       "\t<tr><td>0.2163414</td><td>0.1365804</td><td>0.0003013239</td><td>0.0001318500</td></tr>\n",
       "</tbody>\n",
       "</table>\n"
      ],
      "text/latex": [
       "A matrix: 6 × 4 of type dbl\n",
       "\\begin{tabular}{llll}\n",
       " lambda1 & mu1 & q12 & q21\\\\\n",
       "\\hline\n",
       "\t 0.2163305 & 0.1365884 & 0.0003184790 & 0.0001314585\\\\\n",
       "\t 0.2163428 & 0.1365951 & 0.0003737275 & 0.0001197378\\\\\n",
       "\t 0.2163063 & 0.1365648 & 0.0003293328 & 0.0001341602\\\\\n",
       "\t 0.2163117 & 0.1365674 & 0.0003459683 & 0.0001321137\\\\\n",
       "\t 0.2163070 & 0.1365634 & 0.0003234671 & 0.0001355392\\\\\n",
       "\t 0.2163414 & 0.1365804 & 0.0003013239 & 0.0001318500\\\\\n",
       "\\end{tabular}\n"
      ],
      "text/markdown": [
       "\n",
       "A matrix: 6 × 4 of type dbl\n",
       "\n",
       "| lambda1 | mu1 | q12 | q21 |\n",
       "|---|---|---|---|\n",
       "| 0.2163305 | 0.1365884 | 0.0003184790 | 0.0001314585 |\n",
       "| 0.2163428 | 0.1365951 | 0.0003737275 | 0.0001197378 |\n",
       "| 0.2163063 | 0.1365648 | 0.0003293328 | 0.0001341602 |\n",
       "| 0.2163117 | 0.1365674 | 0.0003459683 | 0.0001321137 |\n",
       "| 0.2163070 | 0.1365634 | 0.0003234671 | 0.0001355392 |\n",
       "| 0.2163414 | 0.1365804 | 0.0003013239 | 0.0001318500 |\n",
       "\n"
      ],
      "text/plain": [
       "     lambda1   mu1       q12          q21         \n",
       "[1,] 0.2163305 0.1365884 0.0003184790 0.0001314585\n",
       "[2,] 0.2163428 0.1365951 0.0003737275 0.0001197378\n",
       "[3,] 0.2163063 0.1365648 0.0003293328 0.0001341602\n",
       "[4,] 0.2163117 0.1365674 0.0003459683 0.0001321137\n",
       "[5,] 0.2163070 0.1365634 0.0003234671 0.0001355392\n",
       "[6,] 0.2163414 0.1365804 0.0003013239 0.0001318500"
      ]
     },
     "metadata": {},
     "output_type": "display_data"
    }
   ],
   "source": [
    "#ML estimates of model parameters across 100 trees\n",
    "head(par_post_dis)"
   ]
  },
  {
   "cell_type": "code",
   "execution_count": 66,
   "metadata": {},
   "outputs": [],
   "source": [
    "write.table(par_post_dis, paste(trait_mod,\"pinVSpal_par_post_dis.txt\",sep=\"_\"),row.names = FALSE)\n",
    "write.table(root_state_prob, paste(trait_mod,\"pinVSpal_root_state_prob.txt\",sep=\"_\"),row.names = FALSE)"
   ]
  },
  {
   "cell_type": "code",
   "execution_count": 67,
   "metadata": {},
   "outputs": [
    {
     "name": "stderr",
     "output_type": "stream",
     "text": [
      "Warning message in arrows(ci[[i]][1], z[i], ci[[i]][2], z[i], code = 3, angle = 90, :\n",
      "“zero-length arrow is of indeterminate angle and so skipped”\n",
      "Warning message in arrows(ci[[i]][1], z[i], ci[[i]][2], z[i], code = 3, angle = 90, :\n",
      "“zero-length arrow is of indeterminate angle and so skipped”\n"
     ]
    },
    {
     "data": {
      "text/html": [
       "<strong>png:</strong> 2"
      ],
      "text/latex": [
       "\\textbf{png:} 2"
      ],
      "text/markdown": [
       "**png:** 2"
      ],
      "text/plain": [
       "png \n",
       "  2 "
      ]
     },
     "metadata": {},
     "output_type": "display_data"
    }
   ],
   "source": [
    "pdf(paste(trait_mod,\"pinVSpal_root_state_prob_postdis.pdf\",sep=\"_\"),width=6,height=6)\n",
    "\n",
    "#1 = palmate, 2 = pinnate\n",
    "col=c(\"#15B0DE\",\"#DD3D3D\")\n",
    "\n",
    "#plot posterior distributions of parameters\n",
    "profiles.plot(root_state_prob[,c(1,2)], col.line=col, las=1)\n",
    "legend(\"topright\",legend=c(\"palmate\",\"pinnate\"),\n",
    "col= col,\n",
    "text.col=col,\n",
    ",pt.cex=2,pch=15,box.lwd=0)\n",
    "\n",
    "abline(v=apply(root_state_prob, MARGIN=2, FUN=median), col=col, lwd=2)\n",
    "\n",
    "dev.off()"
   ]
  },
  {
   "cell_type": "markdown",
   "metadata": {},
   "source": [
    "#### For plotting parameter posterior distribution. This needs to be changed manually according to parameters contained in the best models. I can do later with output files."
   ]
  },
  {
   "cell_type": "code",
   "execution_count": 68,
   "metadata": {},
   "outputs": [
    {
     "data": {
      "text/html": [
       "<table class=\"dataframe\">\n",
       "<caption>A matrix: 6 × 4 of type dbl</caption>\n",
       "<thead>\n",
       "\t<tr><th scope=col>lambda1</th><th scope=col>mu1</th><th scope=col>q12</th><th scope=col>q21</th></tr>\n",
       "</thead>\n",
       "<tbody>\n",
       "\t<tr><td>0.2163305</td><td>0.1365884</td><td>0.0003184790</td><td>0.0001314585</td></tr>\n",
       "\t<tr><td>0.2163428</td><td>0.1365951</td><td>0.0003737275</td><td>0.0001197378</td></tr>\n",
       "\t<tr><td>0.2163063</td><td>0.1365648</td><td>0.0003293328</td><td>0.0001341602</td></tr>\n",
       "\t<tr><td>0.2163117</td><td>0.1365674</td><td>0.0003459683</td><td>0.0001321137</td></tr>\n",
       "\t<tr><td>0.2163070</td><td>0.1365634</td><td>0.0003234671</td><td>0.0001355392</td></tr>\n",
       "\t<tr><td>0.2163414</td><td>0.1365804</td><td>0.0003013239</td><td>0.0001318500</td></tr>\n",
       "</tbody>\n",
       "</table>\n"
      ],
      "text/latex": [
       "A matrix: 6 × 4 of type dbl\n",
       "\\begin{tabular}{llll}\n",
       " lambda1 & mu1 & q12 & q21\\\\\n",
       "\\hline\n",
       "\t 0.2163305 & 0.1365884 & 0.0003184790 & 0.0001314585\\\\\n",
       "\t 0.2163428 & 0.1365951 & 0.0003737275 & 0.0001197378\\\\\n",
       "\t 0.2163063 & 0.1365648 & 0.0003293328 & 0.0001341602\\\\\n",
       "\t 0.2163117 & 0.1365674 & 0.0003459683 & 0.0001321137\\\\\n",
       "\t 0.2163070 & 0.1365634 & 0.0003234671 & 0.0001355392\\\\\n",
       "\t 0.2163414 & 0.1365804 & 0.0003013239 & 0.0001318500\\\\\n",
       "\\end{tabular}\n"
      ],
      "text/markdown": [
       "\n",
       "A matrix: 6 × 4 of type dbl\n",
       "\n",
       "| lambda1 | mu1 | q12 | q21 |\n",
       "|---|---|---|---|\n",
       "| 0.2163305 | 0.1365884 | 0.0003184790 | 0.0001314585 |\n",
       "| 0.2163428 | 0.1365951 | 0.0003737275 | 0.0001197378 |\n",
       "| 0.2163063 | 0.1365648 | 0.0003293328 | 0.0001341602 |\n",
       "| 0.2163117 | 0.1365674 | 0.0003459683 | 0.0001321137 |\n",
       "| 0.2163070 | 0.1365634 | 0.0003234671 | 0.0001355392 |\n",
       "| 0.2163414 | 0.1365804 | 0.0003013239 | 0.0001318500 |\n",
       "\n"
      ],
      "text/plain": [
       "     lambda1   mu1       q12          q21         \n",
       "[1,] 0.2163305 0.1365884 0.0003184790 0.0001314585\n",
       "[2,] 0.2163428 0.1365951 0.0003737275 0.0001197378\n",
       "[3,] 0.2163063 0.1365648 0.0003293328 0.0001341602\n",
       "[4,] 0.2163117 0.1365674 0.0003459683 0.0001321137\n",
       "[5,] 0.2163070 0.1365634 0.0003234671 0.0001355392\n",
       "[6,] 0.2163414 0.1365804 0.0003013239 0.0001318500"
      ]
     },
     "metadata": {},
     "output_type": "display_data"
    }
   ],
   "source": [
    "head(par_post_dis)"
   ]
  },
  {
   "cell_type": "code",
   "execution_count": 78,
   "metadata": {},
   "outputs": [
    {
     "data": {
      "text/html": [
       "<strong>png:</strong> 2"
      ],
      "text/latex": [
       "\\textbf{png:} 2"
      ],
      "text/markdown": [
       "**png:** 2"
      ],
      "text/plain": [
       "png \n",
       "  2 "
      ]
     },
     "metadata": {},
     "output_type": "display_data"
    },
    {
     "data": {
      "text/html": [
       "<strong>png:</strong> 2"
      ],
      "text/latex": [
       "\\textbf{png:} 2"
      ],
      "text/markdown": [
       "**png:** 2"
      ],
      "text/plain": [
       "png \n",
       "  2 "
      ]
     },
     "metadata": {},
     "output_type": "display_data"
    },
    {
     "data": {
      "text/html": [
       "<table class=\"dataframe\">\n",
       "<caption>A matrix: 6 × 1 of type dbl</caption>\n",
       "<tbody>\n",
       "\t<tr><td>0.07974211</td></tr>\n",
       "\t<tr><td>0.07974775</td></tr>\n",
       "\t<tr><td>0.07974143</td></tr>\n",
       "\t<tr><td>0.07974425</td></tr>\n",
       "\t<tr><td>0.07974355</td></tr>\n",
       "\t<tr><td>0.07976091</td></tr>\n",
       "</tbody>\n",
       "</table>\n"
      ],
      "text/latex": [
       "A matrix: 6 × 1 of type dbl\n",
       "\\begin{tabular}{l}\n",
       "\t 0.07974211\\\\\n",
       "\t 0.07974775\\\\\n",
       "\t 0.07974143\\\\\n",
       "\t 0.07974425\\\\\n",
       "\t 0.07974355\\\\\n",
       "\t 0.07976091\\\\\n",
       "\\end{tabular}\n"
      ],
      "text/markdown": [
       "\n",
       "A matrix: 6 × 1 of type dbl\n",
       "\n",
       "| 0.07974211 |\n",
       "| 0.07974775 |\n",
       "| 0.07974143 |\n",
       "| 0.07974425 |\n",
       "| 0.07974355 |\n",
       "| 0.07976091 |\n",
       "\n"
      ],
      "text/plain": [
       "     [,1]      \n",
       "[1,] 0.07974211\n",
       "[2,] 0.07974775\n",
       "[3,] 0.07974143\n",
       "[4,] 0.07974425\n",
       "[5,] 0.07974355\n",
       "[6,] 0.07976091"
      ]
     },
     "metadata": {},
     "output_type": "display_data"
    },
    {
     "data": {
      "text/html": [
       "<strong>png:</strong> 2"
      ],
      "text/latex": [
       "\\textbf{png:} 2"
      ],
      "text/markdown": [
       "**png:** 2"
      ],
      "text/plain": [
       "png \n",
       "  2 "
      ]
     },
     "metadata": {},
     "output_type": "display_data"
    },
    {
     "data": {
      "text/html": [
       "<strong>png:</strong> 2"
      ],
      "text/latex": [
       "\\textbf{png:} 2"
      ],
      "text/markdown": [
       "**png:** 2"
      ],
      "text/plain": [
       "png \n",
       "  2 "
      ]
     },
     "metadata": {},
     "output_type": "display_data"
    }
   ],
   "source": [
    "pdf(\"pinVSpal_lambda_tree_postdis_best.pdf\",width=6,height=6)\n",
    "\n",
    "#1 = cos.palmate, 2 = pinnate, 3 = entire, 4 = polymorphic\n",
    "# col=c(\"#15B0DE\",\"#DD3D3D\",\"#02C39A\",\"#FBE279\")\n",
    "\n",
    "#1 = palmate, 2 = pinnate\n",
    "col=c(\"#15B0DE\",\"#DD3D3D\")\n",
    "\n",
    "#plot posterior distributions of parameters\n",
    "# profiles.plot(par_post_dis[,c(1,1)], col.line=c(col[1],col[2]), las=1) # lambda is the same for both, merged lambda1 and 2\n",
    "profiles.plot(par_post_dis[,c(1,1)], col.line=c(col[1],col[2]), las=1) # lambda is the same for both, merged lambda1 and 2\n",
    "legend(\"topright\",legend=c(\"palmate and pinnate\"),\n",
    "col= c(col[1],col[2]),\n",
    "text.col=c(col[1],col[2]),\n",
    ",pt.cex=2,pch=15,box.lwd=0)\n",
    "\n",
    "dev.off()\n",
    "\n",
    "pdf(\"pinVSpal_mu_tree_postdis_best.pdf\",width=6,height=6)\n",
    "\n",
    "#plot posterior distributions of parameters\n",
    "# profiles.plot(par_post_dis[,c(2,2)], col.line=c(col[1],col[2]), las=1)\n",
    "profiles.plot(par_post_dis[,c(2,2)], col.line=c(col[1],col[2]), las=1)\n",
    "legend(\"topright\",legend=c(\"palmate and pinnate\"),\n",
    "col= c(col[1],col[2]),\n",
    "text.col=c(col[1],col[2]),\n",
    ",pt.cex=2,pch=15,box.lwd=0)\n",
    "col= c(col[1],col[2])\n",
    "\n",
    "dev.off()\n",
    "\n",
    "net_div_posdis<-cbind(par_post_dis[,1]-par_post_dis[,2]) # there's only one\n",
    "head(net_div_posdis)\n",
    "\n",
    "\n",
    "\n",
    "pdf(\"pinVSpal_netdiv_tree_postdis_best.pdf\",width=6,height=6)\n",
    "\n",
    "#plot posterior distributions of parameters\n",
    "profiles.plot(net_div_posdis, col.line=col, las=1)\n",
    "legend(\"topright\",legend=c(\"palmate and pinnate\"),\n",
    "col= col,\n",
    "text.col=col,\n",
    ",pt.cex=2,pch=15,box.lwd=0)\n",
    "\n",
    "dev.off()\n",
    "\n",
    "pdf(\"pinVSpal_q_tree_postdis_best.pdf\",width=6,height=6)\n",
    "\n",
    "#plot posterior distributions of parameters\n",
    "profiles.plot(log(par_post_dis[,c(3,4)]), col.line=c(\"darkorange\",\"red\"), las=1)\n",
    "legend(\"topleft\",legend=c(\"pal->pin\", \"pin->pal\"),\n",
    "col= c(\"darkorange\",\"red\"),\n",
    "text.col=c(\"darkorange\",\"red\"),\n",
    ",pt.cex=2,pch=15,box.lwd=0)\n",
    "\n",
    "dev.off()"
   ]
  },
  {
   "cell_type": "markdown",
   "metadata": {},
   "source": [
    "--------------------------\n",
    "# ML fitting on different starting parameters"
   ]
  },
  {
   "cell_type": "code",
   "execution_count": 79,
   "metadata": {},
   "outputs": [],
   "source": [
    "lambda_p_range<-c(0.01,0.05,0.1,0.15,0.2,0.25,0.3,0.35,0.4)\n",
    "mu_p_range<-c(0.01,0.05,0.1,0.15,0.2,0.25,0.3,0.35,0.4)\n",
    "q_p_range<-c(0.01,0.05,0.1,0.15,0.2,0.25,0.3,0.35,0.4)"
   ]
  },
  {
   "cell_type": "code",
   "execution_count": 80,
   "metadata": {},
   "outputs": [
    {
     "data": {
      "text/html": [
       "<style>\n",
       ".dl-inline {width: auto; margin:0; padding: 0}\n",
       ".dl-inline>dt, .dl-inline>dd {float: none; width: auto; display: inline-block}\n",
       ".dl-inline>dt::after {content: \":\\0020\"; padding-right: .5ex}\n",
       ".dl-inline>dt:not(:first-of-type) {padding-left: .5ex}\n",
       "</style><dl class=dl-inline><dt>lambda1</dt><dd>0.210730207624836</dd><dt>lambda2</dt><dd>0.210730207624836</dd><dt>mu1</dt><dd>0.125148143195482</dd><dt>mu2</dt><dd>0.125148143195482</dd><dt>q12</dt><dd>0.0171164128858708</dd><dt>q21</dt><dd>0.0171164128858708</dd></dl>\n"
      ],
      "text/latex": [
       "\\begin{description*}\n",
       "\\item[lambda1] 0.210730207624836\n",
       "\\item[lambda2] 0.210730207624836\n",
       "\\item[mu1] 0.125148143195482\n",
       "\\item[mu2] 0.125148143195482\n",
       "\\item[q12] 0.0171164128858708\n",
       "\\item[q21] 0.0171164128858708\n",
       "\\end{description*}\n"
      ],
      "text/markdown": [
       "lambda1\n",
       ":   0.210730207624836lambda2\n",
       ":   0.210730207624836mu1\n",
       ":   0.125148143195482mu2\n",
       ":   0.125148143195482q12\n",
       ":   0.0171164128858708q21\n",
       ":   0.0171164128858708\n",
       "\n"
      ],
      "text/plain": [
       "   lambda1    lambda2        mu1        mu2        q12        q21 \n",
       "0.21073021 0.21073021 0.12514814 0.12514814 0.01711641 0.01711641 "
      ]
     },
     "metadata": {},
     "output_type": "display_data"
    }
   ],
   "source": [
    "p"
   ]
  },
  {
   "cell_type": "code",
   "execution_count": 81,
   "metadata": {},
   "outputs": [
    {
     "data": {
      "text/html": [
       "<style>\n",
       ".dl-inline {width: auto; margin:0; padding: 0}\n",
       ".dl-inline>dt, .dl-inline>dd {float: none; width: auto; display: inline-block}\n",
       ".dl-inline>dt::after {content: \":\\0020\"; padding-right: .5ex}\n",
       ".dl-inline>dt:not(:first-of-type) {padding-left: .5ex}\n",
       "</style><dl class=dl-inline><dt>lambda1</dt><dd>0.216330021766904</dd><dt>mu1</dt><dd>0.136588963827002</dd><dt>q12</dt><dd>0.000304448802689252</dd><dt>q21</dt><dd>0.000134205078387481</dd></dl>\n"
      ],
      "text/latex": [
       "\\begin{description*}\n",
       "\\item[lambda1] 0.216330021766904\n",
       "\\item[mu1] 0.136588963827002\n",
       "\\item[q12] 0.000304448802689252\n",
       "\\item[q21] 0.000134205078387481\n",
       "\\end{description*}\n"
      ],
      "text/markdown": [
       "lambda1\n",
       ":   0.216330021766904mu1\n",
       ":   0.136588963827002q12\n",
       ":   0.000304448802689252q21\n",
       ":   0.000134205078387481\n",
       "\n"
      ],
      "text/plain": [
       "     lambda1          mu1          q12          q21 \n",
       "0.2163300218 0.1365889638 0.0003044488 0.0001342051 "
      ]
     },
     "metadata": {},
     "output_type": "display_data"
    }
   ],
   "source": [
    "best_fit$par"
   ]
  },
  {
   "cell_type": "code",
   "execution_count": 82,
   "metadata": {},
   "outputs": [],
   "source": [
    "par_lambda_range<-c()\n",
    "par_mu_range<-c()\n",
    "par_q_range<-c()\n",
    "for(i in 1:1)\n",
    "#for(i in 1:length(lambda_p_range))\n",
    "{\n",
    "    fit.i<-find.mle(best_lik, c(lambda_p_range[i],p[c(2,3,4)]))\n",
    "    par_lambda_range<-rbind(par_lambda_range,fit.i$par)\n",
    "\n",
    "    fit.i<-find.mle(best_lik, c(p[c(1)],mu_p_range[i],p[c(3,4)]))\n",
    "    par_mu_range<-rbind(par_mu_range,fit.i$par)\n",
    "\n",
    "    fit.j<-find.mle(best_lik, c(p[c(1,2)], q_p_range[i],q_p_range[i]))\n",
    "    par_q_range<-rbind(par_q_range,fit.j$par)\n",
    "}"
   ]
  },
  {
   "cell_type": "code",
   "execution_count": 83,
   "metadata": {},
   "outputs": [],
   "source": [
    "colnames(par_lambda_range)<-colnames(par_mu_range)<-colnames(par_q_range)<-c(\"lambda1\",\"mu1\",\"q12\",\"q21\")"
   ]
  },
  {
   "cell_type": "code",
   "execution_count": 84,
   "metadata": {},
   "outputs": [],
   "source": [
    "write.table(par_lambda_range,paste(trait_mod,\"pinVSpal_par_lambda_range.txt\",sep=\"_\"),row.names = FALSE)\n",
    "write.table(par_mu_range,paste(trait_mod,\"pinVSpal_par_mu_range.txt\",sep=\"_\"),row.names = FALSE)\n",
    "write.table(par_q_range,paste(trait_mod,\"pinVSpal_par_q_range.txt\",sep=\"_\"),row.names = FALSE)"
   ]
  },
  {
   "cell_type": "markdown",
   "metadata": {},
   "source": [
    "#### I will deal with the plotting later  if you want"
   ]
  },
  {
   "cell_type": "markdown",
   "metadata": {},
   "source": [
    "----------------\n",
    "# 2- Diversification rate using HiSSE"
   ]
  },
  {
   "cell_type": "code",
   "execution_count": 35,
   "metadata": {},
   "outputs": [
    {
     "name": "stderr",
     "output_type": "stream",
     "text": [
      "Loading required package: deSolve\n",
      "Loading required package: GenSA\n",
      "Loading required package: subplex\n",
      "Loading required package: nloptr\n"
     ]
    }
   ],
   "source": [
    "library(hisse)\n"
   ]
  },
  {
   "cell_type": "code",
   "execution_count": null,
   "metadata": {},
   "outputs": [],
   "source": [
    "0 1\n",
    "\n",
    "A B\n",
    "\n",
    "0A 0B 1A 1B\n",
    "\n"
   ]
  },
  {
   "cell_type": "code",
   "execution_count": 36,
   "metadata": {},
   "outputs": [
    {
     "data": {
      "text/html": [
       "5094"
      ],
      "text/latex": [
       "5094"
      ],
      "text/markdown": [
       "5094"
      ],
      "text/plain": [
       "[1] 5094"
      ]
     },
     "metadata": {},
     "output_type": "display_data"
    }
   ],
   "source": [
    "trait<-dt2[tree$tip.label]-1\n",
    "trait<-cbind(tree$tip.label,trait)\n",
    "rownames(trait)<-tree$tip.label\n",
    "length(trait)"
   ]
  },
  {
   "cell_type": "code",
   "execution_count": 37,
   "metadata": {},
   "outputs": [],
   "source": [
    "#0A != 1A != 0B != 1B\n",
    "turnover.allfree = c(1,2,3,4)\n",
    "eps.allfree = c(1,2,3,4)\n",
    "\n",
    "#0A = 1A != 0B = 1B => div rate difference between hidden states\n",
    "turnover.hidfree = c(1,1,2,2)\n",
    "eps.hidfree = c(1,1,2,2)\n",
    "\n",
    "#0A = 0B != 1A = 1B => div rate difference between observed states\n",
    "turnover.obsfree = c(1,2,1,2)\n",
    "eps.obsfree = c(1,2,1,2)\n",
    "\n",
    "\n",
    "#0A = 0B = 1A = 1B => NO div rate difference at all\n",
    "turnover.allequal = c(1,1,1,1)\n",
    "eps.allequal = c(1,1,1,1)\n"
   ]
  },
  {
   "cell_type": "code",
   "execution_count": 38,
   "metadata": {},
   "outputs": [
    {
     "data": {
      "text/html": [
       "<table>\n",
       "<caption>A matrix: 4 × 4 of type dbl</caption>\n",
       "<thead>\n",
       "\t<tr><th></th><th scope=col>(0A)</th><th scope=col>(1A)</th><th scope=col>(0B)</th><th scope=col>(1B)</th></tr>\n",
       "</thead>\n",
       "<tbody>\n",
       "\t<tr><th scope=row>(0A)</th><td>NA</td><td> 4</td><td> 7</td><td>10</td></tr>\n",
       "\t<tr><th scope=row>(1A)</th><td> 1</td><td>NA</td><td> 8</td><td>11</td></tr>\n",
       "\t<tr><th scope=row>(0B)</th><td> 2</td><td> 5</td><td>NA</td><td>12</td></tr>\n",
       "\t<tr><th scope=row>(1B)</th><td> 3</td><td> 6</td><td> 9</td><td>NA</td></tr>\n",
       "</tbody>\n",
       "</table>\n"
      ],
      "text/latex": [
       "A matrix: 4 × 4 of type dbl\n",
       "\\begin{tabular}{r|llll}\n",
       "  & (0A) & (1A) & (0B) & (1B)\\\\\n",
       "\\hline\n",
       "\t(0A) & NA &  4 &  7 & 10\\\\\n",
       "\t(1A) &  1 & NA &  8 & 11\\\\\n",
       "\t(0B) &  2 &  5 & NA & 12\\\\\n",
       "\t(1B) &  3 &  6 &  9 & NA\\\\\n",
       "\\end{tabular}\n"
      ],
      "text/markdown": [
       "\n",
       "A matrix: 4 × 4 of type dbl\n",
       "\n",
       "| <!--/--> | (0A) | (1A) | (0B) | (1B) |\n",
       "|---|---|---|---|---|\n",
       "| (0A) | NA |  4 |  7 | 10 |\n",
       "| (1A) |  1 | NA |  8 | 11 |\n",
       "| (0B) |  2 |  5 | NA | 12 |\n",
       "| (1B) |  3 |  6 |  9 | NA |\n",
       "\n"
      ],
      "text/plain": [
       "     (0A) (1A) (0B) (1B)\n",
       "(0A) NA    4    7   10  \n",
       "(1A)  1   NA    8   11  \n",
       "(0B)  2    5   NA   12  \n",
       "(1B)  3    6    9   NA  "
      ]
     },
     "metadata": {},
     "output_type": "display_data"
    }
   ],
   "source": [
    "trans.rates = TransMatMaker(hidden.states=TRUE)\n",
    "trans.rates"
   ]
  },
  {
   "cell_type": "code",
   "execution_count": 39,
   "metadata": {},
   "outputs": [
    {
     "data": {
      "text/html": [
       "<table>\n",
       "<caption>A matrix: 4 × 4 of type dbl</caption>\n",
       "<thead>\n",
       "\t<tr><th></th><th scope=col>(0A)</th><th scope=col>(1A)</th><th scope=col>(0B)</th><th scope=col>(1B)</th></tr>\n",
       "</thead>\n",
       "<tbody>\n",
       "\t<tr><th scope=row>(0A)</th><td>NA</td><td> 3</td><td> 5</td><td> 0</td></tr>\n",
       "\t<tr><th scope=row>(1A)</th><td> 1</td><td>NA</td><td> 0</td><td> 7</td></tr>\n",
       "\t<tr><th scope=row>(0B)</th><td> 2</td><td> 0</td><td>NA</td><td> 8</td></tr>\n",
       "\t<tr><th scope=row>(1B)</th><td> 0</td><td> 4</td><td> 6</td><td>NA</td></tr>\n",
       "</tbody>\n",
       "</table>\n"
      ],
      "text/latex": [
       "A matrix: 4 × 4 of type dbl\n",
       "\\begin{tabular}{r|llll}\n",
       "  & (0A) & (1A) & (0B) & (1B)\\\\\n",
       "\\hline\n",
       "\t(0A) & NA &  3 &  5 &  0\\\\\n",
       "\t(1A) &  1 & NA &  0 &  7\\\\\n",
       "\t(0B) &  2 &  0 & NA &  8\\\\\n",
       "\t(1B) &  0 &  4 &  6 & NA\\\\\n",
       "\\end{tabular}\n"
      ],
      "text/markdown": [
       "\n",
       "A matrix: 4 × 4 of type dbl\n",
       "\n",
       "| <!--/--> | (0A) | (1A) | (0B) | (1B) |\n",
       "|---|---|---|---|---|\n",
       "| (0A) | NA |  3 |  5 |  0 |\n",
       "| (1A) |  1 | NA |  0 |  7 |\n",
       "| (0B) |  2 |  0 | NA |  8 |\n",
       "| (1B) |  0 |  4 |  6 | NA |\n",
       "\n"
      ],
      "text/plain": [
       "     (0A) (1A) (0B) (1B)\n",
       "(0A) NA    3    5    0  \n",
       "(1A)  1   NA    0    7  \n",
       "(0B)  2    0   NA    8  \n",
       "(1B)  0    4    6   NA  "
      ]
     },
     "metadata": {},
     "output_type": "display_data"
    }
   ],
   "source": [
    "#remove simultaneous transition of both observed and hidden states\n",
    "trans.rates.nodual = ParDrop(trans.rates, c(3,5,8,10))\n",
    "trans.rates.nodual"
   ]
  },
  {
   "cell_type": "code",
   "execution_count": 40,
   "metadata": {},
   "outputs": [
    {
     "data": {
      "text/html": [
       "<table>\n",
       "<caption>A matrix: 4 × 4 of type dbl</caption>\n",
       "<thead>\n",
       "\t<tr><th></th><th scope=col>(0A)</th><th scope=col>(1A)</th><th scope=col>(0B)</th><th scope=col>(1B)</th></tr>\n",
       "</thead>\n",
       "<tbody>\n",
       "\t<tr><th scope=row>(0A)</th><td>NA</td><td> 1</td><td> 1</td><td> 0</td></tr>\n",
       "\t<tr><th scope=row>(1A)</th><td> 1</td><td>NA</td><td> 0</td><td> 1</td></tr>\n",
       "\t<tr><th scope=row>(0B)</th><td> 1</td><td> 0</td><td>NA</td><td> 1</td></tr>\n",
       "\t<tr><th scope=row>(1B)</th><td> 0</td><td> 1</td><td> 1</td><td>NA</td></tr>\n",
       "</tbody>\n",
       "</table>\n"
      ],
      "text/latex": [
       "A matrix: 4 × 4 of type dbl\n",
       "\\begin{tabular}{r|llll}\n",
       "  & (0A) & (1A) & (0B) & (1B)\\\\\n",
       "\\hline\n",
       "\t(0A) & NA &  1 &  1 &  0\\\\\n",
       "\t(1A) &  1 & NA &  0 &  1\\\\\n",
       "\t(0B) &  1 &  0 & NA &  1\\\\\n",
       "\t(1B) &  0 &  1 &  1 & NA\\\\\n",
       "\\end{tabular}\n"
      ],
      "text/markdown": [
       "\n",
       "A matrix: 4 × 4 of type dbl\n",
       "\n",
       "| <!--/--> | (0A) | (1A) | (0B) | (1B) |\n",
       "|---|---|---|---|---|\n",
       "| (0A) | NA |  1 |  1 |  0 |\n",
       "| (1A) |  1 | NA |  0 |  1 |\n",
       "| (0B) |  1 |  0 | NA |  1 |\n",
       "| (1B) |  0 |  1 |  1 | NA |\n",
       "\n"
      ],
      "text/plain": [
       "     (0A) (1A) (0B) (1B)\n",
       "(0A) NA    1    1    0  \n",
       "(1A)  1   NA    0    1  \n",
       "(0B)  1    0   NA    1  \n",
       "(1B)  0    1    1   NA  "
      ]
     },
     "metadata": {},
     "output_type": "display_data"
    },
    {
     "data": {
      "text/html": [
       "<table>\n",
       "<caption>A matrix: 4 × 4 of type dbl</caption>\n",
       "<thead>\n",
       "\t<tr><th></th><th scope=col>(0A)</th><th scope=col>(1A)</th><th scope=col>(0B)</th><th scope=col>(1B)</th></tr>\n",
       "</thead>\n",
       "<tbody>\n",
       "\t<tr><th scope=row>(0A)</th><td>NA</td><td> 1</td><td> 2</td><td> 0</td></tr>\n",
       "\t<tr><th scope=row>(1A)</th><td> 1</td><td>NA</td><td> 0</td><td> 2</td></tr>\n",
       "\t<tr><th scope=row>(0B)</th><td> 2</td><td> 0</td><td>NA</td><td> 4</td></tr>\n",
       "\t<tr><th scope=row>(1B)</th><td> 0</td><td> 2</td><td> 3</td><td>NA</td></tr>\n",
       "</tbody>\n",
       "</table>\n"
      ],
      "text/latex": [
       "A matrix: 4 × 4 of type dbl\n",
       "\\begin{tabular}{r|llll}\n",
       "  & (0A) & (1A) & (0B) & (1B)\\\\\n",
       "\\hline\n",
       "\t(0A) & NA &  1 &  2 &  0\\\\\n",
       "\t(1A) &  1 & NA &  0 &  2\\\\\n",
       "\t(0B) &  2 &  0 & NA &  4\\\\\n",
       "\t(1B) &  0 &  2 &  3 & NA\\\\\n",
       "\\end{tabular}\n"
      ],
      "text/markdown": [
       "\n",
       "A matrix: 4 × 4 of type dbl\n",
       "\n",
       "| <!--/--> | (0A) | (1A) | (0B) | (1B) |\n",
       "|---|---|---|---|---|\n",
       "| (0A) | NA |  1 |  2 |  0 |\n",
       "| (1A) |  1 | NA |  0 |  2 |\n",
       "| (0B) |  2 |  0 | NA |  4 |\n",
       "| (1B) |  0 |  2 |  3 | NA |\n",
       "\n"
      ],
      "text/plain": [
       "     (0A) (1A) (0B) (1B)\n",
       "(0A) NA    1    2    0  \n",
       "(1A)  1   NA    0    2  \n",
       "(0B)  2    0   NA    4  \n",
       "(1B)  0    2    3   NA  "
      ]
     },
     "metadata": {},
     "output_type": "display_data"
    },
    {
     "data": {
      "text/html": [
       "<table>\n",
       "<caption>A matrix: 4 × 4 of type dbl</caption>\n",
       "<thead>\n",
       "\t<tr><th></th><th scope=col>(0A)</th><th scope=col>(1A)</th><th scope=col>(0B)</th><th scope=col>(1B)</th></tr>\n",
       "</thead>\n",
       "<tbody>\n",
       "\t<tr><th scope=row>(0A)</th><td>NA</td><td> 1</td><td> 2</td><td> 0</td></tr>\n",
       "\t<tr><th scope=row>(1A)</th><td> 1</td><td>NA</td><td> 0</td><td> 2</td></tr>\n",
       "\t<tr><th scope=row>(0B)</th><td> 2</td><td> 0</td><td>NA</td><td> 3</td></tr>\n",
       "\t<tr><th scope=row>(1B)</th><td> 0</td><td> 2</td><td> 3</td><td>NA</td></tr>\n",
       "</tbody>\n",
       "</table>\n"
      ],
      "text/latex": [
       "A matrix: 4 × 4 of type dbl\n",
       "\\begin{tabular}{r|llll}\n",
       "  & (0A) & (1A) & (0B) & (1B)\\\\\n",
       "\\hline\n",
       "\t(0A) & NA &  1 &  2 &  0\\\\\n",
       "\t(1A) &  1 & NA &  0 &  2\\\\\n",
       "\t(0B) &  2 &  0 & NA &  3\\\\\n",
       "\t(1B) &  0 &  2 &  3 & NA\\\\\n",
       "\\end{tabular}\n"
      ],
      "text/markdown": [
       "\n",
       "A matrix: 4 × 4 of type dbl\n",
       "\n",
       "| <!--/--> | (0A) | (1A) | (0B) | (1B) |\n",
       "|---|---|---|---|---|\n",
       "| (0A) | NA |  1 |  2 |  0 |\n",
       "| (1A) |  1 | NA |  0 |  2 |\n",
       "| (0B) |  2 |  0 | NA |  3 |\n",
       "| (1B) |  0 |  2 |  3 | NA |\n",
       "\n"
      ],
      "text/plain": [
       "     (0A) (1A) (0B) (1B)\n",
       "(0A) NA    1    2    0  \n",
       "(1A)  1   NA    0    2  \n",
       "(0B)  2    0   NA    3  \n",
       "(1B)  0    2    3   NA  "
      ]
     },
     "metadata": {},
     "output_type": "display_data"
    },
    {
     "data": {
      "text/html": [
       "<table>\n",
       "<caption>A matrix: 4 × 4 of type dbl</caption>\n",
       "<thead>\n",
       "\t<tr><th></th><th scope=col>(0A)</th><th scope=col>(1A)</th><th scope=col>(0B)</th><th scope=col>(1B)</th></tr>\n",
       "</thead>\n",
       "<tbody>\n",
       "\t<tr><th scope=row>(0A)</th><td>NA</td><td> 3</td><td> 2</td><td> 0</td></tr>\n",
       "\t<tr><th scope=row>(1A)</th><td> 1</td><td>NA</td><td> 0</td><td> 2</td></tr>\n",
       "\t<tr><th scope=row>(0B)</th><td> 2</td><td> 0</td><td>NA</td><td> 4</td></tr>\n",
       "\t<tr><th scope=row>(1B)</th><td> 0</td><td> 2</td><td> 4</td><td>NA</td></tr>\n",
       "</tbody>\n",
       "</table>\n"
      ],
      "text/latex": [
       "A matrix: 4 × 4 of type dbl\n",
       "\\begin{tabular}{r|llll}\n",
       "  & (0A) & (1A) & (0B) & (1B)\\\\\n",
       "\\hline\n",
       "\t(0A) & NA &  3 &  2 &  0\\\\\n",
       "\t(1A) &  1 & NA &  0 &  2\\\\\n",
       "\t(0B) &  2 &  0 & NA &  4\\\\\n",
       "\t(1B) &  0 &  2 &  4 & NA\\\\\n",
       "\\end{tabular}\n"
      ],
      "text/markdown": [
       "\n",
       "A matrix: 4 × 4 of type dbl\n",
       "\n",
       "| <!--/--> | (0A) | (1A) | (0B) | (1B) |\n",
       "|---|---|---|---|---|\n",
       "| (0A) | NA |  3 |  2 |  0 |\n",
       "| (1A) |  1 | NA |  0 |  2 |\n",
       "| (0B) |  2 |  0 | NA |  4 |\n",
       "| (1B) |  0 |  2 |  4 | NA |\n",
       "\n"
      ],
      "text/plain": [
       "     (0A) (1A) (0B) (1B)\n",
       "(0A) NA    3    2    0  \n",
       "(1A)  1   NA    0    2  \n",
       "(0B)  2    0   NA    4  \n",
       "(1B)  0    2    4   NA  "
      ]
     },
     "metadata": {},
     "output_type": "display_data"
    }
   ],
   "source": [
    "trans.rates.nodual.allequal = ParEqual(trans.rates.nodual, c(1,2,1,3,1,4,1,5,1,6,1,7,1,8))\n",
    "trans.rates.nodual.allequal\n",
    "\n",
    "#0A->1A=1A->0A != 0B->1B=1B->0B\n",
    "trans.rates.nodual.1 = ParEqual(trans.rates.nodual, c(1,3))\n",
    "trans.rates.nodual.1.1 = ParEqual(trans.rates.nodual.1, c(2,3,2,4,2,6))\n",
    "trans.rates.nodual.1.1\n",
    "\n",
    "trans.rates.nodual.1.2 = ParEqual(trans.rates.nodual.1.1, c(3,4))\n",
    "trans.rates.nodual.1.2\n",
    "\n",
    "trans.rates.nodual.1.3 = ParEqual(trans.rates.nodual, c(2,4,2,5,2,7))\n",
    "trans.rates.nodual.1.4 = ParEqual(trans.rates.nodual.1.3, c(4,5))\n",
    "trans.rates.nodual.1.4\n"
   ]
  },
  {
   "cell_type": "code",
   "execution_count": 41,
   "metadata": {},
   "outputs": [],
   "source": [
    "#0A->0B=0B->0A != 1A->1B=1B->1A\n",
    "#trans.rates.nodual.2 = ParEqual(trans.rates.nodual, c(2,5))\n",
    "#trans.rates.nodual.2 = ParEqual(trans.rates.nodual.2, c(1,3,1,5,1,7))\n",
    "#trans.rates.nodual.2 = ParEqual(trans.rates.nodual.2, c(3,4))\n",
    "#trans.rates.nodual.2"
   ]
  },
  {
   "cell_type": "code",
   "execution_count": 42,
   "metadata": {},
   "outputs": [
    {
     "data": {
      "text/html": [
       "<table>\n",
       "<caption>A matrix: 4 × 4 of type dbl</caption>\n",
       "<thead>\n",
       "\t<tr><th></th><th scope=col>(0A)</th><th scope=col>(1A)</th><th scope=col>(0B)</th><th scope=col>(1B)</th></tr>\n",
       "</thead>\n",
       "<tbody>\n",
       "\t<tr><th scope=row>(0A)</th><td>NA</td><td> 1</td><td> 1</td><td> 0</td></tr>\n",
       "\t<tr><th scope=row>(1A)</th><td> 1</td><td>NA</td><td> 0</td><td> 1</td></tr>\n",
       "\t<tr><th scope=row>(0B)</th><td> 1</td><td> 0</td><td>NA</td><td> 2</td></tr>\n",
       "\t<tr><th scope=row>(1B)</th><td> 0</td><td> 1</td><td> 1</td><td>NA</td></tr>\n",
       "</tbody>\n",
       "</table>\n"
      ],
      "text/latex": [
       "A matrix: 4 × 4 of type dbl\n",
       "\\begin{tabular}{r|llll}\n",
       "  & (0A) & (1A) & (0B) & (1B)\\\\\n",
       "\\hline\n",
       "\t(0A) & NA &  1 &  1 &  0\\\\\n",
       "\t(1A) &  1 & NA &  0 &  1\\\\\n",
       "\t(0B) &  1 &  0 & NA &  2\\\\\n",
       "\t(1B) &  0 &  1 &  1 & NA\\\\\n",
       "\\end{tabular}\n"
      ],
      "text/markdown": [
       "\n",
       "A matrix: 4 × 4 of type dbl\n",
       "\n",
       "| <!--/--> | (0A) | (1A) | (0B) | (1B) |\n",
       "|---|---|---|---|---|\n",
       "| (0A) | NA |  1 |  1 |  0 |\n",
       "| (1A) |  1 | NA |  0 |  1 |\n",
       "| (0B) |  1 |  0 | NA |  2 |\n",
       "| (1B) |  0 |  1 |  1 | NA |\n",
       "\n"
      ],
      "text/plain": [
       "     (0A) (1A) (0B) (1B)\n",
       "(0A) NA    1    1    0  \n",
       "(1A)  1   NA    0    1  \n",
       "(0B)  1    0   NA    2  \n",
       "(1B)  0    1    1   NA  "
      ]
     },
     "metadata": {},
     "output_type": "display_data"
    },
    {
     "data": {
      "text/html": [
       "<table>\n",
       "<caption>A matrix: 4 × 4 of type dbl</caption>\n",
       "<thead>\n",
       "\t<tr><th></th><th scope=col>(0A)</th><th scope=col>(1A)</th><th scope=col>(0B)</th><th scope=col>(1B)</th></tr>\n",
       "</thead>\n",
       "<tbody>\n",
       "\t<tr><th scope=row>(0A)</th><td>NA</td><td> 1</td><td> 1</td><td> 0</td></tr>\n",
       "\t<tr><th scope=row>(1A)</th><td> 1</td><td>NA</td><td> 0</td><td> 1</td></tr>\n",
       "\t<tr><th scope=row>(0B)</th><td> 1</td><td> 0</td><td>NA</td><td> 1</td></tr>\n",
       "\t<tr><th scope=row>(1B)</th><td> 0</td><td> 1</td><td> 2</td><td>NA</td></tr>\n",
       "</tbody>\n",
       "</table>\n"
      ],
      "text/latex": [
       "A matrix: 4 × 4 of type dbl\n",
       "\\begin{tabular}{r|llll}\n",
       "  & (0A) & (1A) & (0B) & (1B)\\\\\n",
       "\\hline\n",
       "\t(0A) & NA &  1 &  1 &  0\\\\\n",
       "\t(1A) &  1 & NA &  0 &  1\\\\\n",
       "\t(0B) &  1 &  0 & NA &  1\\\\\n",
       "\t(1B) &  0 &  1 &  2 & NA\\\\\n",
       "\\end{tabular}\n"
      ],
      "text/markdown": [
       "\n",
       "A matrix: 4 × 4 of type dbl\n",
       "\n",
       "| <!--/--> | (0A) | (1A) | (0B) | (1B) |\n",
       "|---|---|---|---|---|\n",
       "| (0A) | NA |  1 |  1 |  0 |\n",
       "| (1A) |  1 | NA |  0 |  1 |\n",
       "| (0B) |  1 |  0 | NA |  1 |\n",
       "| (1B) |  0 |  1 |  2 | NA |\n",
       "\n"
      ],
      "text/plain": [
       "     (0A) (1A) (0B) (1B)\n",
       "(0A) NA    1    1    0  \n",
       "(1A)  1   NA    0    1  \n",
       "(0B)  1    0   NA    1  \n",
       "(1B)  0    1    2   NA  "
      ]
     },
     "metadata": {},
     "output_type": "display_data"
    },
    {
     "data": {
      "text/html": [
       "<table>\n",
       "<caption>A matrix: 4 × 4 of type dbl</caption>\n",
       "<thead>\n",
       "\t<tr><th></th><th scope=col>(0A)</th><th scope=col>(1A)</th><th scope=col>(0B)</th><th scope=col>(1B)</th></tr>\n",
       "</thead>\n",
       "<tbody>\n",
       "\t<tr><th scope=row>(0A)</th><td>NA</td><td> 2</td><td> 1</td><td> 0</td></tr>\n",
       "\t<tr><th scope=row>(1A)</th><td> 1</td><td>NA</td><td> 0</td><td> 1</td></tr>\n",
       "\t<tr><th scope=row>(0B)</th><td> 1</td><td> 0</td><td>NA</td><td> 1</td></tr>\n",
       "\t<tr><th scope=row>(1B)</th><td> 0</td><td> 1</td><td> 1</td><td>NA</td></tr>\n",
       "</tbody>\n",
       "</table>\n"
      ],
      "text/latex": [
       "A matrix: 4 × 4 of type dbl\n",
       "\\begin{tabular}{r|llll}\n",
       "  & (0A) & (1A) & (0B) & (1B)\\\\\n",
       "\\hline\n",
       "\t(0A) & NA &  2 &  1 &  0\\\\\n",
       "\t(1A) &  1 & NA &  0 &  1\\\\\n",
       "\t(0B) &  1 &  0 & NA &  1\\\\\n",
       "\t(1B) &  0 &  1 &  1 & NA\\\\\n",
       "\\end{tabular}\n"
      ],
      "text/markdown": [
       "\n",
       "A matrix: 4 × 4 of type dbl\n",
       "\n",
       "| <!--/--> | (0A) | (1A) | (0B) | (1B) |\n",
       "|---|---|---|---|---|\n",
       "| (0A) | NA |  2 |  1 |  0 |\n",
       "| (1A) |  1 | NA |  0 |  1 |\n",
       "| (0B) |  1 |  0 | NA |  1 |\n",
       "| (1B) |  0 |  1 |  1 | NA |\n",
       "\n"
      ],
      "text/plain": [
       "     (0A) (1A) (0B) (1B)\n",
       "(0A) NA    2    1    0  \n",
       "(1A)  1   NA    0    1  \n",
       "(0B)  1    0   NA    1  \n",
       "(1B)  0    1    1   NA  "
      ]
     },
     "metadata": {},
     "output_type": "display_data"
    },
    {
     "data": {
      "text/html": [
       "<table>\n",
       "<caption>A matrix: 4 × 4 of type dbl</caption>\n",
       "<thead>\n",
       "\t<tr><th></th><th scope=col>(0A)</th><th scope=col>(1A)</th><th scope=col>(0B)</th><th scope=col>(1B)</th></tr>\n",
       "</thead>\n",
       "<tbody>\n",
       "\t<tr><th scope=row>(0A)</th><td>NA</td><td> 2</td><td> 2</td><td> 0</td></tr>\n",
       "\t<tr><th scope=row>(1A)</th><td> 1</td><td>NA</td><td> 0</td><td> 2</td></tr>\n",
       "\t<tr><th scope=row>(0B)</th><td> 2</td><td> 0</td><td>NA</td><td> 2</td></tr>\n",
       "\t<tr><th scope=row>(1B)</th><td> 0</td><td> 2</td><td> 2</td><td>NA</td></tr>\n",
       "</tbody>\n",
       "</table>\n"
      ],
      "text/latex": [
       "A matrix: 4 × 4 of type dbl\n",
       "\\begin{tabular}{r|llll}\n",
       "  & (0A) & (1A) & (0B) & (1B)\\\\\n",
       "\\hline\n",
       "\t(0A) & NA &  2 &  2 &  0\\\\\n",
       "\t(1A) &  1 & NA &  0 &  2\\\\\n",
       "\t(0B) &  2 &  0 & NA &  2\\\\\n",
       "\t(1B) &  0 &  2 &  2 & NA\\\\\n",
       "\\end{tabular}\n"
      ],
      "text/markdown": [
       "\n",
       "A matrix: 4 × 4 of type dbl\n",
       "\n",
       "| <!--/--> | (0A) | (1A) | (0B) | (1B) |\n",
       "|---|---|---|---|---|\n",
       "| (0A) | NA |  2 |  2 |  0 |\n",
       "| (1A) |  1 | NA |  0 |  2 |\n",
       "| (0B) |  2 |  0 | NA |  2 |\n",
       "| (1B) |  0 |  2 |  2 | NA |\n",
       "\n"
      ],
      "text/plain": [
       "     (0A) (1A) (0B) (1B)\n",
       "(0A) NA    2    2    0  \n",
       "(1A)  1   NA    0    2  \n",
       "(0B)  2    0   NA    2  \n",
       "(1B)  0    2    2   NA  "
      ]
     },
     "metadata": {},
     "output_type": "display_data"
    }
   ],
   "source": [
    "trans.rates.nodual.allequal = ParEqual(trans.rates.nodual, c(1,2,1,3,1,4,1,5,1,6,1,7,1,8))\n",
    "\n",
    "#1 free transition models\n",
    "trans.rates.nodual.3 = ParEqual(trans.rates.nodual, c(1,2,1,3,1,4,1,5,1,6,1,7))\n",
    "trans.rates.nodual.3\n",
    "trans.rates.nodual.4 = ParEqual(trans.rates.nodual, c(1,2,1,3,1,4,1,5,1,7,1,8))\n",
    "trans.rates.nodual.4\n",
    "trans.rates.nodual.5 = ParEqual(trans.rates.nodual, c(1,2,1,4,1,5,1,6,1,7,1,8))\n",
    "trans.rates.nodual.5\n",
    "trans.rates.nodual.6 = ParEqual(trans.rates.nodual, c(2,3,2,4,2,5,2,6,2,7,2,8))\n",
    "trans.rates.nodual.6"
   ]
  },
  {
   "cell_type": "code",
   "execution_count": 43,
   "metadata": {},
   "outputs": [
    {
     "data": {
      "text/html": [
       "<table>\n",
       "<caption>A matrix: 4 × 4 of type dbl</caption>\n",
       "<thead>\n",
       "\t<tr><th></th><th scope=col>(0A)</th><th scope=col>(1A)</th><th scope=col>(0B)</th><th scope=col>(1B)</th></tr>\n",
       "</thead>\n",
       "<tbody>\n",
       "\t<tr><th scope=row>(0A)</th><td>NA</td><td> 1</td><td> 1</td><td> 0</td></tr>\n",
       "\t<tr><th scope=row>(1A)</th><td> 1</td><td>NA</td><td> 0</td><td> 1</td></tr>\n",
       "\t<tr><th scope=row>(0B)</th><td> 1</td><td> 0</td><td>NA</td><td> 3</td></tr>\n",
       "\t<tr><th scope=row>(1B)</th><td> 0</td><td> 1</td><td> 2</td><td>NA</td></tr>\n",
       "</tbody>\n",
       "</table>\n"
      ],
      "text/latex": [
       "A matrix: 4 × 4 of type dbl\n",
       "\\begin{tabular}{r|llll}\n",
       "  & (0A) & (1A) & (0B) & (1B)\\\\\n",
       "\\hline\n",
       "\t(0A) & NA &  1 &  1 &  0\\\\\n",
       "\t(1A) &  1 & NA &  0 &  1\\\\\n",
       "\t(0B) &  1 &  0 & NA &  3\\\\\n",
       "\t(1B) &  0 &  1 &  2 & NA\\\\\n",
       "\\end{tabular}\n"
      ],
      "text/markdown": [
       "\n",
       "A matrix: 4 × 4 of type dbl\n",
       "\n",
       "| <!--/--> | (0A) | (1A) | (0B) | (1B) |\n",
       "|---|---|---|---|---|\n",
       "| (0A) | NA |  1 |  1 |  0 |\n",
       "| (1A) |  1 | NA |  0 |  1 |\n",
       "| (0B) |  1 |  0 | NA |  3 |\n",
       "| (1B) |  0 |  1 |  2 | NA |\n",
       "\n"
      ],
      "text/plain": [
       "     (0A) (1A) (0B) (1B)\n",
       "(0A) NA    1    1    0  \n",
       "(1A)  1   NA    0    1  \n",
       "(0B)  1    0   NA    3  \n",
       "(1B)  0    1    2   NA  "
      ]
     },
     "metadata": {},
     "output_type": "display_data"
    },
    {
     "data": {
      "text/html": [
       "<table>\n",
       "<caption>A matrix: 4 × 4 of type dbl</caption>\n",
       "<thead>\n",
       "\t<tr><th></th><th scope=col>(0A)</th><th scope=col>(1A)</th><th scope=col>(0B)</th><th scope=col>(1B)</th></tr>\n",
       "</thead>\n",
       "<tbody>\n",
       "\t<tr><th scope=row>(0A)</th><td>NA</td><td> 2</td><td> 1</td><td> 0</td></tr>\n",
       "\t<tr><th scope=row>(1A)</th><td> 1</td><td>NA</td><td> 0</td><td> 1</td></tr>\n",
       "\t<tr><th scope=row>(0B)</th><td> 1</td><td> 0</td><td>NA</td><td> 3</td></tr>\n",
       "\t<tr><th scope=row>(1B)</th><td> 0</td><td> 1</td><td> 1</td><td>NA</td></tr>\n",
       "</tbody>\n",
       "</table>\n"
      ],
      "text/latex": [
       "A matrix: 4 × 4 of type dbl\n",
       "\\begin{tabular}{r|llll}\n",
       "  & (0A) & (1A) & (0B) & (1B)\\\\\n",
       "\\hline\n",
       "\t(0A) & NA &  2 &  1 &  0\\\\\n",
       "\t(1A) &  1 & NA &  0 &  1\\\\\n",
       "\t(0B) &  1 &  0 & NA &  3\\\\\n",
       "\t(1B) &  0 &  1 &  1 & NA\\\\\n",
       "\\end{tabular}\n"
      ],
      "text/markdown": [
       "\n",
       "A matrix: 4 × 4 of type dbl\n",
       "\n",
       "| <!--/--> | (0A) | (1A) | (0B) | (1B) |\n",
       "|---|---|---|---|---|\n",
       "| (0A) | NA |  2 |  1 |  0 |\n",
       "| (1A) |  1 | NA |  0 |  1 |\n",
       "| (0B) |  1 |  0 | NA |  3 |\n",
       "| (1B) |  0 |  1 |  1 | NA |\n",
       "\n"
      ],
      "text/plain": [
       "     (0A) (1A) (0B) (1B)\n",
       "(0A) NA    2    1    0  \n",
       "(1A)  1   NA    0    1  \n",
       "(0B)  1    0   NA    3  \n",
       "(1B)  0    1    1   NA  "
      ]
     },
     "metadata": {},
     "output_type": "display_data"
    },
    {
     "data": {
      "text/html": [
       "<table>\n",
       "<caption>A matrix: 4 × 4 of type dbl</caption>\n",
       "<thead>\n",
       "\t<tr><th></th><th scope=col>(0A)</th><th scope=col>(1A)</th><th scope=col>(0B)</th><th scope=col>(1B)</th></tr>\n",
       "</thead>\n",
       "<tbody>\n",
       "\t<tr><th scope=row>(0A)</th><td>NA</td><td> 2</td><td> 2</td><td> 0</td></tr>\n",
       "\t<tr><th scope=row>(1A)</th><td> 1</td><td>NA</td><td> 0</td><td> 2</td></tr>\n",
       "\t<tr><th scope=row>(0B)</th><td> 2</td><td> 0</td><td>NA</td><td> 3</td></tr>\n",
       "\t<tr><th scope=row>(1B)</th><td> 0</td><td> 2</td><td> 2</td><td>NA</td></tr>\n",
       "</tbody>\n",
       "</table>\n"
      ],
      "text/latex": [
       "A matrix: 4 × 4 of type dbl\n",
       "\\begin{tabular}{r|llll}\n",
       "  & (0A) & (1A) & (0B) & (1B)\\\\\n",
       "\\hline\n",
       "\t(0A) & NA &  2 &  2 &  0\\\\\n",
       "\t(1A) &  1 & NA &  0 &  2\\\\\n",
       "\t(0B) &  2 &  0 & NA &  3\\\\\n",
       "\t(1B) &  0 &  2 &  2 & NA\\\\\n",
       "\\end{tabular}\n"
      ],
      "text/markdown": [
       "\n",
       "A matrix: 4 × 4 of type dbl\n",
       "\n",
       "| <!--/--> | (0A) | (1A) | (0B) | (1B) |\n",
       "|---|---|---|---|---|\n",
       "| (0A) | NA |  2 |  2 |  0 |\n",
       "| (1A) |  1 | NA |  0 |  2 |\n",
       "| (0B) |  2 |  0 | NA |  3 |\n",
       "| (1B) |  0 |  2 |  2 | NA |\n",
       "\n"
      ],
      "text/plain": [
       "     (0A) (1A) (0B) (1B)\n",
       "(0A) NA    2    2    0  \n",
       "(1A)  1   NA    0    2  \n",
       "(0B)  2    0   NA    3  \n",
       "(1B)  0    2    2   NA  "
      ]
     },
     "metadata": {},
     "output_type": "display_data"
    },
    {
     "data": {
      "text/html": [
       "<table>\n",
       "<caption>A matrix: 4 × 4 of type dbl</caption>\n",
       "<thead>\n",
       "\t<tr><th></th><th scope=col>(0A)</th><th scope=col>(1A)</th><th scope=col>(0B)</th><th scope=col>(1B)</th></tr>\n",
       "</thead>\n",
       "<tbody>\n",
       "\t<tr><th scope=row>(0A)</th><td>NA</td><td> 2</td><td> 1</td><td> 0</td></tr>\n",
       "\t<tr><th scope=row>(1A)</th><td> 1</td><td>NA</td><td> 0</td><td> 1</td></tr>\n",
       "\t<tr><th scope=row>(0B)</th><td> 1</td><td> 0</td><td>NA</td><td> 1</td></tr>\n",
       "\t<tr><th scope=row>(1B)</th><td> 0</td><td> 1</td><td> 3</td><td>NA</td></tr>\n",
       "</tbody>\n",
       "</table>\n"
      ],
      "text/latex": [
       "A matrix: 4 × 4 of type dbl\n",
       "\\begin{tabular}{r|llll}\n",
       "  & (0A) & (1A) & (0B) & (1B)\\\\\n",
       "\\hline\n",
       "\t(0A) & NA &  2 &  1 &  0\\\\\n",
       "\t(1A) &  1 & NA &  0 &  1\\\\\n",
       "\t(0B) &  1 &  0 & NA &  1\\\\\n",
       "\t(1B) &  0 &  1 &  3 & NA\\\\\n",
       "\\end{tabular}\n"
      ],
      "text/markdown": [
       "\n",
       "A matrix: 4 × 4 of type dbl\n",
       "\n",
       "| <!--/--> | (0A) | (1A) | (0B) | (1B) |\n",
       "|---|---|---|---|---|\n",
       "| (0A) | NA |  2 |  1 |  0 |\n",
       "| (1A) |  1 | NA |  0 |  1 |\n",
       "| (0B) |  1 |  0 | NA |  1 |\n",
       "| (1B) |  0 |  1 |  3 | NA |\n",
       "\n"
      ],
      "text/plain": [
       "     (0A) (1A) (0B) (1B)\n",
       "(0A) NA    2    1    0  \n",
       "(1A)  1   NA    0    1  \n",
       "(0B)  1    0   NA    1  \n",
       "(1B)  0    1    3   NA  "
      ]
     },
     "metadata": {},
     "output_type": "display_data"
    },
    {
     "data": {
      "text/html": [
       "<table>\n",
       "<caption>A matrix: 4 × 4 of type dbl</caption>\n",
       "<thead>\n",
       "\t<tr><th></th><th scope=col>(0A)</th><th scope=col>(1A)</th><th scope=col>(0B)</th><th scope=col>(1B)</th></tr>\n",
       "</thead>\n",
       "<tbody>\n",
       "\t<tr><th scope=row>(0A)</th><td>NA</td><td> 2</td><td> 2</td><td> 0</td></tr>\n",
       "\t<tr><th scope=row>(1A)</th><td> 1</td><td>NA</td><td> 0</td><td> 2</td></tr>\n",
       "\t<tr><th scope=row>(0B)</th><td> 2</td><td> 0</td><td>NA</td><td> 2</td></tr>\n",
       "\t<tr><th scope=row>(1B)</th><td> 0</td><td> 2</td><td> 3</td><td>NA</td></tr>\n",
       "</tbody>\n",
       "</table>\n"
      ],
      "text/latex": [
       "A matrix: 4 × 4 of type dbl\n",
       "\\begin{tabular}{r|llll}\n",
       "  & (0A) & (1A) & (0B) & (1B)\\\\\n",
       "\\hline\n",
       "\t(0A) & NA &  2 &  2 &  0\\\\\n",
       "\t(1A) &  1 & NA &  0 &  2\\\\\n",
       "\t(0B) &  2 &  0 & NA &  2\\\\\n",
       "\t(1B) &  0 &  2 &  3 & NA\\\\\n",
       "\\end{tabular}\n"
      ],
      "text/markdown": [
       "\n",
       "A matrix: 4 × 4 of type dbl\n",
       "\n",
       "| <!--/--> | (0A) | (1A) | (0B) | (1B) |\n",
       "|---|---|---|---|---|\n",
       "| (0A) | NA |  2 |  2 |  0 |\n",
       "| (1A) |  1 | NA |  0 |  2 |\n",
       "| (0B) |  2 |  0 | NA |  2 |\n",
       "| (1B) |  0 |  2 |  3 | NA |\n",
       "\n"
      ],
      "text/plain": [
       "     (0A) (1A) (0B) (1B)\n",
       "(0A) NA    2    2    0  \n",
       "(1A)  1   NA    0    2  \n",
       "(0B)  2    0   NA    2  \n",
       "(1B)  0    2    3   NA  "
      ]
     },
     "metadata": {},
     "output_type": "display_data"
    },
    {
     "data": {
      "text/html": [
       "<table>\n",
       "<caption>A matrix: 4 × 4 of type dbl</caption>\n",
       "<thead>\n",
       "\t<tr><th></th><th scope=col>(0A)</th><th scope=col>(1A)</th><th scope=col>(0B)</th><th scope=col>(1B)</th></tr>\n",
       "</thead>\n",
       "<tbody>\n",
       "\t<tr><th scope=row>(0A)</th><td>NA</td><td> 3</td><td> 2</td><td> 0</td></tr>\n",
       "\t<tr><th scope=row>(1A)</th><td> 1</td><td>NA</td><td> 0</td><td> 2</td></tr>\n",
       "\t<tr><th scope=row>(0B)</th><td> 2</td><td> 0</td><td>NA</td><td> 2</td></tr>\n",
       "\t<tr><th scope=row>(1B)</th><td> 0</td><td> 2</td><td> 2</td><td>NA</td></tr>\n",
       "</tbody>\n",
       "</table>\n"
      ],
      "text/latex": [
       "A matrix: 4 × 4 of type dbl\n",
       "\\begin{tabular}{r|llll}\n",
       "  & (0A) & (1A) & (0B) & (1B)\\\\\n",
       "\\hline\n",
       "\t(0A) & NA &  3 &  2 &  0\\\\\n",
       "\t(1A) &  1 & NA &  0 &  2\\\\\n",
       "\t(0B) &  2 &  0 & NA &  2\\\\\n",
       "\t(1B) &  0 &  2 &  2 & NA\\\\\n",
       "\\end{tabular}\n"
      ],
      "text/markdown": [
       "\n",
       "A matrix: 4 × 4 of type dbl\n",
       "\n",
       "| <!--/--> | (0A) | (1A) | (0B) | (1B) |\n",
       "|---|---|---|---|---|\n",
       "| (0A) | NA |  3 |  2 |  0 |\n",
       "| (1A) |  1 | NA |  0 |  2 |\n",
       "| (0B) |  2 |  0 | NA |  2 |\n",
       "| (1B) |  0 |  2 |  2 | NA |\n",
       "\n"
      ],
      "text/plain": [
       "     (0A) (1A) (0B) (1B)\n",
       "(0A) NA    3    2    0  \n",
       "(1A)  1   NA    0    2  \n",
       "(0B)  2    0   NA    2  \n",
       "(1B)  0    2    2   NA  "
      ]
     },
     "metadata": {},
     "output_type": "display_data"
    }
   ],
   "source": [
    "#2 free transition models\n",
    "trans.rates.nodual.7 = ParEqual(trans.rates.nodual, c(1,2,1,3,1,4,1,5,1,7))\n",
    "trans.rates.nodual.7\n",
    "trans.rates.nodual.8 = ParEqual(trans.rates.nodual, c(1,2,1,4,1,5,1,6,1,7))\n",
    "trans.rates.nodual.8\n",
    "trans.rates.nodual.9 = ParEqual(trans.rates.nodual, c(2,3,2,4,2,5,2,6,2,7))\n",
    "trans.rates.nodual.9\n",
    "\n",
    "trans.rates.nodual.10 = ParEqual(trans.rates.nodual, c(1,2,1,4,1,5,1,7,1,8))\n",
    "trans.rates.nodual.10\n",
    "trans.rates.nodual.11 = ParEqual(trans.rates.nodual, c(2,3,2,4,2,5,2,7,2,8))\n",
    "trans.rates.nodual.11\n",
    "\n",
    "trans.rates.nodual.12 = ParEqual(trans.rates.nodual, c(2,4,2,5,2,6,2,7,2,8))\n",
    "trans.rates.nodual.12"
   ]
  },
  {
   "cell_type": "code",
   "execution_count": 44,
   "metadata": {},
   "outputs": [
    {
     "data": {
      "text/html": [
       "<table>\n",
       "<caption>A matrix: 4 × 4 of type dbl</caption>\n",
       "<thead>\n",
       "\t<tr><th></th><th scope=col>(0A)</th><th scope=col>(1A)</th><th scope=col>(0B)</th><th scope=col>(1B)</th></tr>\n",
       "</thead>\n",
       "<tbody>\n",
       "\t<tr><th scope=row>(0A)</th><td>NA</td><td> 2</td><td> 1</td><td> 0</td></tr>\n",
       "\t<tr><th scope=row>(1A)</th><td> 1</td><td>NA</td><td> 0</td><td> 1</td></tr>\n",
       "\t<tr><th scope=row>(0B)</th><td> 1</td><td> 0</td><td>NA</td><td> 4</td></tr>\n",
       "\t<tr><th scope=row>(1B)</th><td> 0</td><td> 1</td><td> 3</td><td>NA</td></tr>\n",
       "</tbody>\n",
       "</table>\n"
      ],
      "text/latex": [
       "A matrix: 4 × 4 of type dbl\n",
       "\\begin{tabular}{r|llll}\n",
       "  & (0A) & (1A) & (0B) & (1B)\\\\\n",
       "\\hline\n",
       "\t(0A) & NA &  2 &  1 &  0\\\\\n",
       "\t(1A) &  1 & NA &  0 &  1\\\\\n",
       "\t(0B) &  1 &  0 & NA &  4\\\\\n",
       "\t(1B) &  0 &  1 &  3 & NA\\\\\n",
       "\\end{tabular}\n"
      ],
      "text/markdown": [
       "\n",
       "A matrix: 4 × 4 of type dbl\n",
       "\n",
       "| <!--/--> | (0A) | (1A) | (0B) | (1B) |\n",
       "|---|---|---|---|---|\n",
       "| (0A) | NA |  2 |  1 |  0 |\n",
       "| (1A) |  1 | NA |  0 |  1 |\n",
       "| (0B) |  1 |  0 | NA |  4 |\n",
       "| (1B) |  0 |  1 |  3 | NA |\n",
       "\n"
      ],
      "text/plain": [
       "     (0A) (1A) (0B) (1B)\n",
       "(0A) NA    2    1    0  \n",
       "(1A)  1   NA    0    1  \n",
       "(0B)  1    0   NA    4  \n",
       "(1B)  0    1    3   NA  "
      ]
     },
     "metadata": {},
     "output_type": "display_data"
    },
    {
     "data": {
      "text/html": [
       "<table>\n",
       "<caption>A matrix: 4 × 4 of type dbl</caption>\n",
       "<thead>\n",
       "\t<tr><th></th><th scope=col>(0A)</th><th scope=col>(1A)</th><th scope=col>(0B)</th><th scope=col>(1B)</th></tr>\n",
       "</thead>\n",
       "<tbody>\n",
       "\t<tr><th scope=row>(0A)</th><td>NA</td><td> 2</td><td> 2</td><td> 0</td></tr>\n",
       "\t<tr><th scope=row>(1A)</th><td> 1</td><td>NA</td><td> 0</td><td> 2</td></tr>\n",
       "\t<tr><th scope=row>(0B)</th><td> 2</td><td> 0</td><td>NA</td><td> 4</td></tr>\n",
       "\t<tr><th scope=row>(1B)</th><td> 0</td><td> 2</td><td> 3</td><td>NA</td></tr>\n",
       "</tbody>\n",
       "</table>\n"
      ],
      "text/latex": [
       "A matrix: 4 × 4 of type dbl\n",
       "\\begin{tabular}{r|llll}\n",
       "  & (0A) & (1A) & (0B) & (1B)\\\\\n",
       "\\hline\n",
       "\t(0A) & NA &  2 &  2 &  0\\\\\n",
       "\t(1A) &  1 & NA &  0 &  2\\\\\n",
       "\t(0B) &  2 &  0 & NA &  4\\\\\n",
       "\t(1B) &  0 &  2 &  3 & NA\\\\\n",
       "\\end{tabular}\n"
      ],
      "text/markdown": [
       "\n",
       "A matrix: 4 × 4 of type dbl\n",
       "\n",
       "| <!--/--> | (0A) | (1A) | (0B) | (1B) |\n",
       "|---|---|---|---|---|\n",
       "| (0A) | NA |  2 |  2 |  0 |\n",
       "| (1A) |  1 | NA |  0 |  2 |\n",
       "| (0B) |  2 |  0 | NA |  4 |\n",
       "| (1B) |  0 |  2 |  3 | NA |\n",
       "\n"
      ],
      "text/plain": [
       "     (0A) (1A) (0B) (1B)\n",
       "(0A) NA    2    2    0  \n",
       "(1A)  1   NA    0    2  \n",
       "(0B)  2    0   NA    4  \n",
       "(1B)  0    2    3   NA  "
      ]
     },
     "metadata": {},
     "output_type": "display_data"
    },
    {
     "data": {
      "text/html": [
       "<table>\n",
       "<caption>A matrix: 4 × 4 of type dbl</caption>\n",
       "<thead>\n",
       "\t<tr><th></th><th scope=col>(0A)</th><th scope=col>(1A)</th><th scope=col>(0B)</th><th scope=col>(1B)</th></tr>\n",
       "</thead>\n",
       "<tbody>\n",
       "\t<tr><th scope=row>(0A)</th><td>NA</td><td> 3</td><td> 2</td><td> 0</td></tr>\n",
       "\t<tr><th scope=row>(1A)</th><td> 1</td><td>NA</td><td> 0</td><td> 2</td></tr>\n",
       "\t<tr><th scope=row>(0B)</th><td> 2</td><td> 0</td><td>NA</td><td> 2</td></tr>\n",
       "\t<tr><th scope=row>(1B)</th><td> 0</td><td> 2</td><td> 4</td><td>NA</td></tr>\n",
       "</tbody>\n",
       "</table>\n"
      ],
      "text/latex": [
       "A matrix: 4 × 4 of type dbl\n",
       "\\begin{tabular}{r|llll}\n",
       "  & (0A) & (1A) & (0B) & (1B)\\\\\n",
       "\\hline\n",
       "\t(0A) & NA &  3 &  2 &  0\\\\\n",
       "\t(1A) &  1 & NA &  0 &  2\\\\\n",
       "\t(0B) &  2 &  0 & NA &  2\\\\\n",
       "\t(1B) &  0 &  2 &  4 & NA\\\\\n",
       "\\end{tabular}\n"
      ],
      "text/markdown": [
       "\n",
       "A matrix: 4 × 4 of type dbl\n",
       "\n",
       "| <!--/--> | (0A) | (1A) | (0B) | (1B) |\n",
       "|---|---|---|---|---|\n",
       "| (0A) | NA |  3 |  2 |  0 |\n",
       "| (1A) |  1 | NA |  0 |  2 |\n",
       "| (0B) |  2 |  0 | NA |  2 |\n",
       "| (1B) |  0 |  2 |  4 | NA |\n",
       "\n"
      ],
      "text/plain": [
       "     (0A) (1A) (0B) (1B)\n",
       "(0A) NA    3    2    0  \n",
       "(1A)  1   NA    0    2  \n",
       "(0B)  2    0   NA    2  \n",
       "(1B)  0    2    4   NA  "
      ]
     },
     "metadata": {},
     "output_type": "display_data"
    }
   ],
   "source": [
    "#3 free transition models\n",
    "trans.rates.nodual.13 = ParEqual(trans.rates.nodual, c(1,2,1,4,1,5,1,7))\n",
    "trans.rates.nodual.13\n",
    "trans.rates.nodual.14 = ParEqual(trans.rates.nodual, c(2,3,2,4,2,5,2,7))\n",
    "trans.rates.nodual.14\n",
    "\n",
    "trans.rates.nodual.15 = ParEqual(trans.rates.nodual, c(2,4,2,5,2,7,2,8))\n",
    "trans.rates.nodual.15"
   ]
  },
  {
   "cell_type": "code",
   "execution_count": 45,
   "metadata": {},
   "outputs": [
    {
     "data": {
      "text/html": [
       "<table>\n",
       "<caption>A matrix: 4 × 4 of type dbl</caption>\n",
       "<thead>\n",
       "\t<tr><th></th><th scope=col>(0A)</th><th scope=col>(1A)</th><th scope=col>(0B)</th><th scope=col>(1B)</th></tr>\n",
       "</thead>\n",
       "<tbody>\n",
       "\t<tr><th scope=row>(0A)</th><td>NA</td><td> 3</td><td> 2</td><td> 0</td></tr>\n",
       "\t<tr><th scope=row>(1A)</th><td> 1</td><td>NA</td><td> 0</td><td> 2</td></tr>\n",
       "\t<tr><th scope=row>(0B)</th><td> 2</td><td> 0</td><td>NA</td><td> 5</td></tr>\n",
       "\t<tr><th scope=row>(1B)</th><td> 0</td><td> 2</td><td> 4</td><td>NA</td></tr>\n",
       "</tbody>\n",
       "</table>\n"
      ],
      "text/latex": [
       "A matrix: 4 × 4 of type dbl\n",
       "\\begin{tabular}{r|llll}\n",
       "  & (0A) & (1A) & (0B) & (1B)\\\\\n",
       "\\hline\n",
       "\t(0A) & NA &  3 &  2 &  0\\\\\n",
       "\t(1A) &  1 & NA &  0 &  2\\\\\n",
       "\t(0B) &  2 &  0 & NA &  5\\\\\n",
       "\t(1B) &  0 &  2 &  4 & NA\\\\\n",
       "\\end{tabular}\n"
      ],
      "text/markdown": [
       "\n",
       "A matrix: 4 × 4 of type dbl\n",
       "\n",
       "| <!--/--> | (0A) | (1A) | (0B) | (1B) |\n",
       "|---|---|---|---|---|\n",
       "| (0A) | NA |  3 |  2 |  0 |\n",
       "| (1A) |  1 | NA |  0 |  2 |\n",
       "| (0B) |  2 |  0 | NA |  5 |\n",
       "| (1B) |  0 |  2 |  4 | NA |\n",
       "\n"
      ],
      "text/plain": [
       "     (0A) (1A) (0B) (1B)\n",
       "(0A) NA    3    2    0  \n",
       "(1A)  1   NA    0    2  \n",
       "(0B)  2    0   NA    5  \n",
       "(1B)  0    2    4   NA  "
      ]
     },
     "metadata": {},
     "output_type": "display_data"
    }
   ],
   "source": [
    "#4 free transition models\n",
    "trans.rates.nodual.16 = ParEqual(trans.rates.nodual, c(2,4,2,5,2,7))\n",
    "trans.rates.nodual.16"
   ]
  },
  {
   "cell_type": "code",
   "execution_count": 46,
   "metadata": {},
   "outputs": [
    {
     "data": {
      "text/html": [
       "<table>\n",
       "<caption>A matrix: 4 × 4 of type dbl</caption>\n",
       "<thead>\n",
       "\t<tr><th></th><th scope=col>(0A)</th><th scope=col>(1A)</th><th scope=col>(0B)</th><th scope=col>(1B)</th></tr>\n",
       "</thead>\n",
       "<tbody>\n",
       "\t<tr><th scope=row>(0A)</th><td>NA</td><td> 3</td><td> 5</td><td> 0</td></tr>\n",
       "\t<tr><th scope=row>(1A)</th><td> 1</td><td>NA</td><td> 0</td><td> 7</td></tr>\n",
       "\t<tr><th scope=row>(0B)</th><td> 2</td><td> 0</td><td>NA</td><td> 8</td></tr>\n",
       "\t<tr><th scope=row>(1B)</th><td> 0</td><td> 4</td><td> 6</td><td>NA</td></tr>\n",
       "</tbody>\n",
       "</table>\n"
      ],
      "text/latex": [
       "A matrix: 4 × 4 of type dbl\n",
       "\\begin{tabular}{r|llll}\n",
       "  & (0A) & (1A) & (0B) & (1B)\\\\\n",
       "\\hline\n",
       "\t(0A) & NA &  3 &  5 &  0\\\\\n",
       "\t(1A) &  1 & NA &  0 &  7\\\\\n",
       "\t(0B) &  2 &  0 & NA &  8\\\\\n",
       "\t(1B) &  0 &  4 &  6 & NA\\\\\n",
       "\\end{tabular}\n"
      ],
      "text/markdown": [
       "\n",
       "A matrix: 4 × 4 of type dbl\n",
       "\n",
       "| <!--/--> | (0A) | (1A) | (0B) | (1B) |\n",
       "|---|---|---|---|---|\n",
       "| (0A) | NA |  3 |  5 |  0 |\n",
       "| (1A) |  1 | NA |  0 |  7 |\n",
       "| (0B) |  2 |  0 | NA |  8 |\n",
       "| (1B) |  0 |  4 |  6 | NA |\n",
       "\n"
      ],
      "text/plain": [
       "     (0A) (1A) (0B) (1B)\n",
       "(0A) NA    3    5    0  \n",
       "(1A)  1   NA    0    7  \n",
       "(0B)  2    0   NA    8  \n",
       "(1B)  0    4    6   NA  "
      ]
     },
     "metadata": {},
     "output_type": "display_data"
    }
   ],
   "source": [
    "trans.rates.nodual"
   ]
  },
  {
   "cell_type": "code",
   "execution_count": 47,
   "metadata": {},
   "outputs": [],
   "source": [
    "trans_list<-list(trans.rates.nodual,\n",
    "trans.rates.nodual.allequal,\n",
    "trans.rates.nodual.1.1,\n",
    "trans.rates.nodual.1.2,\n",
    "trans.rates.nodual.1.4,\n",
    "trans.rates.nodual.3,\n",
    "trans.rates.nodual.4,\n",
    "trans.rates.nodual.5,\n",
    "trans.rates.nodual.6,\n",
    "trans.rates.nodual.7,\n",
    "trans.rates.nodual.8,\n",
    "trans.rates.nodual.9,\n",
    "trans.rates.nodual.10,\n",
    "trans.rates.nodual.11,\n",
    "trans.rates.nodual.12,\n",
    "trans.rates.nodual.13,\n",
    "trans.rates.nodual.14,\n",
    "trans.rates.nodual.15,\n",
    "trans.rates.nodual.16)\n",
    "\n",
    "trans_names<-c(\"trans.rates.nodual\",\n",
    "\"trans.rates.nodual.allequal\",\n",
    "\"trans.rates.nodual.1.1\",\n",
    "\"trans.rates.nodual.1.2\",\n",
    "\"trans.rates.nodual.1.4\",\n",
    "\"trans.rates.nodual.3\",\n",
    "\"trans.rates.nodual.4\",\n",
    "\"trans.rates.nodual.5\",\n",
    "\"trans.rates.nodual.6\",\n",
    "\"trans.rates.nodual.7\",\n",
    "\"trans.rates.nodual.8\",\n",
    "\"trans.rates.nodual.9\",\n",
    "\"trans.rates.nodual.10\",\n",
    "\"trans.rates.nodual.11\",\n",
    "\"trans.rates.nodual.12\",\n",
    "\"trans.rates.nodual.13\",\n",
    "\"trans.rates.nodual.14\",\n",
    "\"trans.rates.nodual.15\",\n",
    "\"trans.rates.nodual.16\")"
   ]
  },
  {
   "cell_type": "code",
   "execution_count": 48,
   "metadata": {},
   "outputs": [],
   "source": [
    "turnover_list<-list(\n",
    "    turnover.allfree,\n",
    "    turnover.hidfree,\n",
    "    turnover.obsfree,\n",
    "    turnover.allequal\n",
    ")\n",
    "\n",
    "turnover_names<-c(\n",
    "    \"turnover.allfree\",\n",
    "    \"turnover.hidfree\",\n",
    "    \"turnover.obsfree\",\n",
    "    \"turnover.allequal\"\n",
    ")\n",
    "\n",
    "eps_list<-list(\n",
    "    eps.allfree,\n",
    "    eps.hidfree,\n",
    "    eps.obsfree,\n",
    "    eps.allequal\n",
    ")\n",
    "\n",
    "eps_names<-c(\n",
    "    \"eps.allfree\",\n",
    "    \"eps.hidfree\",\n",
    "    \"eps.obsfree\",\n",
    "    \"eps.allequal\"\n",
    ")"
   ]
  },
  {
   "cell_type": "code",
   "execution_count": 49,
   "metadata": {},
   "outputs": [],
   "source": [
    "trait_mod<-\"pinVSpal\""
   ]
  },
  {
   "cell_type": "code",
   "execution_count": 174,
   "metadata": {},
   "outputs": [
    {
     "name": "stdout",
     "output_type": "stream",
     "text": [
      "Initializing... \n",
      "Finished. Beginning bounded subplex routine... \n",
      "Finished. Summarizing results... \n"
     ]
    }
   ],
   "source": [
    "m1 = hisse(tree, trait, f=c(1,1), hidden.states=TRUE, turnover.anc=turnover_list[[1]], \n",
    "           eps.anc=eps_list[[1]], trans.rate=trans_list[[1]])"
   ]
  },
  {
   "cell_type": "code",
   "execution_count": 175,
   "metadata": {},
   "outputs": [],
   "source": [
    "save(m1,file=paste(trait_mod,turnover_names[1],eps_names[1],trans_names[1], \"fit.hisse.Rdata\", sep=\"_\"))"
   ]
  },
  {
   "cell_type": "code",
   "execution_count": 50,
   "metadata": {},
   "outputs": [],
   "source": [
    "load(paste(trait_mod,turnover_names[1],eps_names[1],trans_names[1], \"fit.hisse.Rdata\", sep=\"_\"))\n"
   ]
  },
  {
   "cell_type": "code",
   "execution_count": 51,
   "metadata": {},
   "outputs": [
    {
     "data": {
      "text/plain": [
       "\n",
       "Fit\n",
       "       lnL      AIC     AICc ntax\n",
       " -7240.676 14513.35 14513.57 2547\n",
       "\n",
       "Probability of extinction: \n",
       "\n",
       "Diversification Rates\n",
       "                    turnover  ext.frac\n",
       "rate0A             0.1494639 0.6181761\n",
       "alpha0A            1.0000000 1.0000000\n",
       "beta0A             1.0000000 1.0000000\n",
       "timeslice.factor0A 1.0000000 1.0000000\n",
       "\n",
       "                   turnover ext.frac\n",
       "rate1A             9.881495 2.877659\n",
       "alpha1A            1.000000 1.000000\n",
       "beta1A             1.000000 1.000000\n",
       "timeslice.factor1A 1.000000 1.000000\n",
       "\n",
       "                    turnover  ext.frac\n",
       "rate0B             0.4047937 0.2641867\n",
       "alpha0B            1.0000000 1.0000000\n",
       "beta0B             1.0000000 1.0000000\n",
       "timeslice.factor0B 1.0000000 1.0000000\n",
       "\n",
       "                    turnover  ext.frac\n",
       "rate1B             0.3290119 0.5796047\n",
       "alpha1B            1.0000000 1.0000000\n",
       "beta1B             1.0000000 1.0000000\n",
       "timeslice.factor1B 1.0000000 1.0000000\n",
       "\n",
       "Transition Rates\n",
       "             (0A)        (1A)        (0B)         (1B)\n",
       "(0A)           NA 3.49307e-09 0.002488889 0.000000e+00\n",
       "(1A) 100.00000000          NA 0.000000000 1.622092e-05\n",
       "(0B)   0.08641641 0.00000e+00          NA 3.788988e-04\n",
       "(1B)   0.00000000 2.71237e-09 0.001351121           NA\n"
      ]
     },
     "metadata": {},
     "output_type": "display_data"
    }
   ],
   "source": [
    "m1"
   ]
  },
  {
   "cell_type": "code",
   "execution_count": 177,
   "metadata": {},
   "outputs": [
    {
     "data": {
      "text/html": [
       "14513.3523880401"
      ],
      "text/latex": [
       "14513.3523880401"
      ],
      "text/markdown": [
       "14513.3523880401"
      ],
      "text/plain": [
       "[1] 14513.35"
      ]
     },
     "metadata": {},
     "output_type": "display_data"
    }
   ],
   "source": [
    "m1$AIC"
   ]
  },
  {
   "cell_type": "code",
   "execution_count": null,
   "metadata": {},
   "outputs": [],
   "source": [
    "m1.recon = MarginRecon(tree, trait, f=c(1,1), hidden.states=TRUE, pars=m1$solution, \n",
    "                       n.cores=3)"
   ]
  },
  {
   "cell_type": "code",
   "execution_count": null,
   "metadata": {},
   "outputs": [],
   "source": [
    "m1.recon"
   ]
  },
  {
   "cell_type": "code",
   "execution_count": null,
   "metadata": {},
   "outputs": [],
   "source": [
    "for(i in 1:length(turnover_list))\n",
    "    {\n",
    "    for(j in 1:length(trans_list))\n",
    "        {\n",
    "            m = hisse(tree, trait, f=c(1,1), hidden.states=TRUE, turnover.anc=turnover_list[[i]], \n",
    "           eps.anc=eps_list[[i]], trans.rate=trans_list[[j]])\n",
    "            save(m,file=paste(trait_mod,turnover_names[i],eps_names[i],trans_names[j], \"fit.hisse.Rdata\", sep=\"_\"))\n",
    "    }\n",
    "}"
   ]
  },
  {
   "cell_type": "code",
   "execution_count": null,
   "metadata": {},
   "outputs": [],
   "source": []
  }
 ],
 "metadata": {
  "kernelspec": {
   "display_name": "R",
   "language": "R",
   "name": "ir"
  },
  "language_info": {
   "codemirror_mode": "r",
   "file_extension": ".r",
   "mimetype": "text/x-r-source",
   "name": "R",
   "pygments_lexer": "r",
   "version": "4.1.3"
  }
 },
 "nbformat": 4,
 "nbformat_minor": 2
}
