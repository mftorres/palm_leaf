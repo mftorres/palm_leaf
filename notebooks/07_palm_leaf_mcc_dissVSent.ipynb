{
 "cells": [
  {
   "cell_type": "markdown",
   "metadata": {},
   "source": [
    "# Load and prepare the database"
   ]
  },
  {
   "cell_type": "code",
   "execution_count": 1,
   "metadata": {},
   "outputs": [
    {
     "name": "stderr",
     "output_type": "stream",
     "text": [
      "Updating HTML index of packages in '.Library'\n",
      "\n",
      "Making 'packages.html' ...\n",
      " done\n",
      "\n"
     ]
    }
   ],
   "source": [
    "# install.packages('ape')\n",
    "# install.packages('diversitree')\n",
    "# install.packages('codetools')"
   ]
  },
  {
   "cell_type": "code",
   "execution_count": 1,
   "metadata": {},
   "outputs": [],
   "source": [
    "library(ape)"
   ]
  },
  {
   "cell_type": "code",
   "execution_count": 2,
   "metadata": {
    "scrolled": true
   },
   "outputs": [
    {
     "data": {
      "text/html": [
       "<style>\n",
       ".list-inline {list-style: none; margin:0; padding: 0}\n",
       ".list-inline>li {display: inline-block}\n",
       ".list-inline>li:not(:last-child)::after {content: \"\\00b7\"; padding: 0 .5ex}\n",
       "</style>\n",
       "<ol class=list-inline><li>'species'</li><li>'subfamily'</li><li>'plication_all'</li><li>'shape_all'</li><li>'polymorphism'</li><li>'dissection'</li><li>'pinnate'</li><li>'shape_gp'</li><li>'shape_gp_num'</li><li>'induplicate'</li><li>'ind_variable'</li><li>'ind_cospalmate'</li><li>'ind_pinnate'</li><li>'ind_entire'</li><li>'ind_bipinnate'</li><li>'reduplicate'</li><li>'red_variable'</li><li>'red_variance'</li><li>'red_cospalmate'</li><li>'red_pinnate'</li><li>'red_entire'</li></ol>\n"
      ],
      "text/latex": [
       "\\begin{enumerate*}\n",
       "\\item 'species'\n",
       "\\item 'subfamily'\n",
       "\\item 'plication\\_all'\n",
       "\\item 'shape\\_all'\n",
       "\\item 'polymorphism'\n",
       "\\item 'dissection'\n",
       "\\item 'pinnate'\n",
       "\\item 'shape\\_gp'\n",
       "\\item 'shape\\_gp\\_num'\n",
       "\\item 'induplicate'\n",
       "\\item 'ind\\_variable'\n",
       "\\item 'ind\\_cospalmate'\n",
       "\\item 'ind\\_pinnate'\n",
       "\\item 'ind\\_entire'\n",
       "\\item 'ind\\_bipinnate'\n",
       "\\item 'reduplicate'\n",
       "\\item 'red\\_variable'\n",
       "\\item 'red\\_variance'\n",
       "\\item 'red\\_cospalmate'\n",
       "\\item 'red\\_pinnate'\n",
       "\\item 'red\\_entire'\n",
       "\\end{enumerate*}\n"
      ],
      "text/markdown": [
       "1. 'species'\n",
       "2. 'subfamily'\n",
       "3. 'plication_all'\n",
       "4. 'shape_all'\n",
       "5. 'polymorphism'\n",
       "6. 'dissection'\n",
       "7. 'pinnate'\n",
       "8. 'shape_gp'\n",
       "9. 'shape_gp_num'\n",
       "10. 'induplicate'\n",
       "11. 'ind_variable'\n",
       "12. 'ind_cospalmate'\n",
       "13. 'ind_pinnate'\n",
       "14. 'ind_entire'\n",
       "15. 'ind_bipinnate'\n",
       "16. 'reduplicate'\n",
       "17. 'red_variable'\n",
       "18. 'red_variance'\n",
       "19. 'red_cospalmate'\n",
       "20. 'red_pinnate'\n",
       "21. 'red_entire'\n",
       "\n",
       "\n"
      ],
      "text/plain": [
       " [1] \"species\"        \"subfamily\"      \"plication_all\"  \"shape_all\"     \n",
       " [5] \"polymorphism\"   \"dissection\"     \"pinnate\"        \"shape_gp\"      \n",
       " [9] \"shape_gp_num\"   \"induplicate\"    \"ind_variable\"   \"ind_cospalmate\"\n",
       "[13] \"ind_pinnate\"    \"ind_entire\"     \"ind_bipinnate\"  \"reduplicate\"   \n",
       "[17] \"red_variable\"   \"red_variance\"   \"red_cospalmate\" \"red_pinnate\"   \n",
       "[21] \"red_entire\"    "
      ]
     },
     "metadata": {},
     "output_type": "display_data"
    }
   ],
   "source": [
    "database_leafShape<-read.csv('../data_files/palm_leaf_shape_MFT_20221201.csv',sep='\\t',header=TRUE)\n",
    "colnames(database_leafShape)"
   ]
  },
  {
   "cell_type": "code",
   "execution_count": 3,
   "metadata": {},
   "outputs": [],
   "source": [
    "tree_pos<-read.nexus('./Clean_1_1_MCCT_nexus.nex')"
   ]
  },
  {
   "cell_type": "code",
   "execution_count": 4,
   "metadata": {},
   "outputs": [
    {
     "data": {
      "text/html": [
       "TRUE"
      ],
      "text/latex": [
       "TRUE"
      ],
      "text/markdown": [
       "TRUE"
      ],
      "text/plain": [
       "[1] TRUE"
      ]
     },
     "metadata": {},
     "output_type": "display_data"
    }
   ],
   "source": [
    "is.binary(tree_pos)"
   ]
  },
  {
   "cell_type": "markdown",
   "metadata": {},
   "source": [
    "----------------\n",
    "# 1- Diversification rate using MuSSE"
   ]
  },
  {
   "cell_type": "markdown",
   "metadata": {},
   "source": [
    "#### Reduce database to induplicate/reduplicate"
   ]
  },
  {
   "cell_type": "code",
   "execution_count": 5,
   "metadata": {
    "scrolled": false
   },
   "outputs": [
    {
     "data": {
      "text/html": [
       "<style>\n",
       ".list-inline {list-style: none; margin:0; padding: 0}\n",
       ".list-inline>li {display: inline-block}\n",
       ".list-inline>li:not(:last-child)::after {content: \"\\00b7\"; padding: 0 .5ex}\n",
       "</style>\n",
       "<ol class=list-inline><li>'species'</li><li>'subfamily'</li><li>'plication_all'</li><li>'shape_all'</li><li>'polymorphism'</li><li>'dissection'</li><li>'pinnate'</li><li>'shape_gp'</li><li>'shape_gp_num'</li><li>'induplicate'</li><li>'ind_variable'</li><li>'ind_cospalmate'</li><li>'ind_pinnate'</li><li>'ind_entire'</li><li>'ind_bipinnate'</li><li>'reduplicate'</li><li>'red_variable'</li><li>'red_variance'</li><li>'red_cospalmate'</li><li>'red_pinnate'</li><li>'red_entire'</li></ol>\n"
      ],
      "text/latex": [
       "\\begin{enumerate*}\n",
       "\\item 'species'\n",
       "\\item 'subfamily'\n",
       "\\item 'plication\\_all'\n",
       "\\item 'shape\\_all'\n",
       "\\item 'polymorphism'\n",
       "\\item 'dissection'\n",
       "\\item 'pinnate'\n",
       "\\item 'shape\\_gp'\n",
       "\\item 'shape\\_gp\\_num'\n",
       "\\item 'induplicate'\n",
       "\\item 'ind\\_variable'\n",
       "\\item 'ind\\_cospalmate'\n",
       "\\item 'ind\\_pinnate'\n",
       "\\item 'ind\\_entire'\n",
       "\\item 'ind\\_bipinnate'\n",
       "\\item 'reduplicate'\n",
       "\\item 'red\\_variable'\n",
       "\\item 'red\\_variance'\n",
       "\\item 'red\\_cospalmate'\n",
       "\\item 'red\\_pinnate'\n",
       "\\item 'red\\_entire'\n",
       "\\end{enumerate*}\n"
      ],
      "text/markdown": [
       "1. 'species'\n",
       "2. 'subfamily'\n",
       "3. 'plication_all'\n",
       "4. 'shape_all'\n",
       "5. 'polymorphism'\n",
       "6. 'dissection'\n",
       "7. 'pinnate'\n",
       "8. 'shape_gp'\n",
       "9. 'shape_gp_num'\n",
       "10. 'induplicate'\n",
       "11. 'ind_variable'\n",
       "12. 'ind_cospalmate'\n",
       "13. 'ind_pinnate'\n",
       "14. 'ind_entire'\n",
       "15. 'ind_bipinnate'\n",
       "16. 'reduplicate'\n",
       "17. 'red_variable'\n",
       "18. 'red_variance'\n",
       "19. 'red_cospalmate'\n",
       "20. 'red_pinnate'\n",
       "21. 'red_entire'\n",
       "\n",
       "\n"
      ],
      "text/plain": [
       " [1] \"species\"        \"subfamily\"      \"plication_all\"  \"shape_all\"     \n",
       " [5] \"polymorphism\"   \"dissection\"     \"pinnate\"        \"shape_gp\"      \n",
       " [9] \"shape_gp_num\"   \"induplicate\"    \"ind_variable\"   \"ind_cospalmate\"\n",
       "[13] \"ind_pinnate\"    \"ind_entire\"     \"ind_bipinnate\"  \"reduplicate\"   \n",
       "[17] \"red_variable\"   \"red_variance\"   \"red_cospalmate\" \"red_pinnate\"   \n",
       "[21] \"red_entire\"    "
      ]
     },
     "metadata": {},
     "output_type": "display_data"
    }
   ],
   "source": [
    "names(database_leafShape)\n",
    "#\"dissection\" -> use for dissected vs entire models. binary\n",
    "# \"pinnate\" -> binary -> 1 pinnates 0 palmates\n",
    "#\"shape_gp_num\" -> third classification"
   ]
  },
  {
   "cell_type": "code",
   "execution_count": 7,
   "metadata": {},
   "outputs": [
    {
     "data": {
      "text/html": [
       "<table class=\"dataframe\">\n",
       "<caption>A data.frame: 6 × 21</caption>\n",
       "<thead>\n",
       "\t<tr><th></th><th scope=col>species</th><th scope=col>subfamily</th><th scope=col>plication_all</th><th scope=col>shape_all</th><th scope=col>polymorphism</th><th scope=col>dissection</th><th scope=col>pinnate</th><th scope=col>shape_gp</th><th scope=col>shape_gp_num</th><th scope=col>induplicate</th><th scope=col>⋯</th><th scope=col>ind_cospalmate</th><th scope=col>ind_pinnate</th><th scope=col>ind_entire</th><th scope=col>ind_bipinnate</th><th scope=col>reduplicate</th><th scope=col>red_variable</th><th scope=col>red_variance</th><th scope=col>red_cospalmate</th><th scope=col>red_pinnate</th><th scope=col>red_entire</th></tr>\n",
       "\t<tr><th></th><th scope=col>&lt;chr&gt;</th><th scope=col>&lt;chr&gt;</th><th scope=col>&lt;chr&gt;</th><th scope=col>&lt;chr&gt;</th><th scope=col>&lt;chr&gt;</th><th scope=col>&lt;int&gt;</th><th scope=col>&lt;int&gt;</th><th scope=col>&lt;chr&gt;</th><th scope=col>&lt;int&gt;</th><th scope=col>&lt;int&gt;</th><th scope=col>⋯</th><th scope=col>&lt;int&gt;</th><th scope=col>&lt;int&gt;</th><th scope=col>&lt;int&gt;</th><th scope=col>&lt;int&gt;</th><th scope=col>&lt;int&gt;</th><th scope=col>&lt;int&gt;</th><th scope=col>&lt;chr&gt;</th><th scope=col>&lt;int&gt;</th><th scope=col>&lt;int&gt;</th><th scope=col>&lt;int&gt;</th></tr>\n",
       "</thead>\n",
       "<tbody>\n",
       "\t<tr><th scope=row>1</th><td>Saribus_brevifolius  </td><td>coryphoideae</td><td>induplicate</td><td>costapalmate</td><td></td><td>1</td><td>0</td><td>palmate</td><td>1</td><td>1</td><td>⋯</td><td>1</td><td>0</td><td>0</td><td>0</td><td>0</td><td>0</td><td>0</td><td>0</td><td>0</td><td>0</td></tr>\n",
       "\t<tr><th scope=row>2</th><td>Saribus_chocolatinus </td><td>coryphoideae</td><td>induplicate</td><td>costapalmate</td><td></td><td>1</td><td>0</td><td>palmate</td><td>1</td><td>1</td><td>⋯</td><td>1</td><td>0</td><td>0</td><td>0</td><td>0</td><td>0</td><td>0</td><td>0</td><td>0</td><td>0</td></tr>\n",
       "\t<tr><th scope=row>3</th><td>Saribus_jeanneneyi   </td><td>coryphoideae</td><td>induplicate</td><td>costapalmate</td><td></td><td>1</td><td>0</td><td>palmate</td><td>1</td><td>1</td><td>⋯</td><td>1</td><td>0</td><td>0</td><td>0</td><td>0</td><td>0</td><td>0</td><td>0</td><td>0</td><td>0</td></tr>\n",
       "\t<tr><th scope=row>4</th><td>Saribus_merrillii    </td><td>coryphoideae</td><td>induplicate</td><td>costapalmate</td><td></td><td>1</td><td>0</td><td>palmate</td><td>1</td><td>1</td><td>⋯</td><td>1</td><td>0</td><td>0</td><td>0</td><td>0</td><td>0</td><td>0</td><td>0</td><td>0</td><td>0</td></tr>\n",
       "\t<tr><th scope=row>5</th><td>Saribus_papuanus     </td><td>coryphoideae</td><td>induplicate</td><td>costapalmate</td><td></td><td>1</td><td>0</td><td>palmate</td><td>1</td><td>1</td><td>⋯</td><td>1</td><td>0</td><td>0</td><td>0</td><td>0</td><td>0</td><td>0</td><td>0</td><td>0</td><td>0</td></tr>\n",
       "\t<tr><th scope=row>6</th><td>Saribus_rotundifolius</td><td>coryphoideae</td><td>induplicate</td><td>costapalmate</td><td></td><td>1</td><td>0</td><td>palmate</td><td>1</td><td>1</td><td>⋯</td><td>1</td><td>0</td><td>0</td><td>0</td><td>0</td><td>0</td><td>0</td><td>0</td><td>0</td><td>0</td></tr>\n",
       "</tbody>\n",
       "</table>\n"
      ],
      "text/latex": [
       "A data.frame: 6 × 21\n",
       "\\begin{tabular}{r|lllllllllllllllllllll}\n",
       "  & species & subfamily & plication\\_all & shape\\_all & polymorphism & dissection & pinnate & shape\\_gp & shape\\_gp\\_num & induplicate & ⋯ & ind\\_cospalmate & ind\\_pinnate & ind\\_entire & ind\\_bipinnate & reduplicate & red\\_variable & red\\_variance & red\\_cospalmate & red\\_pinnate & red\\_entire\\\\\n",
       "  & <chr> & <chr> & <chr> & <chr> & <chr> & <int> & <int> & <chr> & <int> & <int> & ⋯ & <int> & <int> & <int> & <int> & <int> & <int> & <chr> & <int> & <int> & <int>\\\\\n",
       "\\hline\n",
       "\t1 & Saribus\\_brevifolius   & coryphoideae & induplicate & costapalmate &  & 1 & 0 & palmate & 1 & 1 & ⋯ & 1 & 0 & 0 & 0 & 0 & 0 & 0 & 0 & 0 & 0\\\\\n",
       "\t2 & Saribus\\_chocolatinus  & coryphoideae & induplicate & costapalmate &  & 1 & 0 & palmate & 1 & 1 & ⋯ & 1 & 0 & 0 & 0 & 0 & 0 & 0 & 0 & 0 & 0\\\\\n",
       "\t3 & Saribus\\_jeanneneyi    & coryphoideae & induplicate & costapalmate &  & 1 & 0 & palmate & 1 & 1 & ⋯ & 1 & 0 & 0 & 0 & 0 & 0 & 0 & 0 & 0 & 0\\\\\n",
       "\t4 & Saribus\\_merrillii     & coryphoideae & induplicate & costapalmate &  & 1 & 0 & palmate & 1 & 1 & ⋯ & 1 & 0 & 0 & 0 & 0 & 0 & 0 & 0 & 0 & 0\\\\\n",
       "\t5 & Saribus\\_papuanus      & coryphoideae & induplicate & costapalmate &  & 1 & 0 & palmate & 1 & 1 & ⋯ & 1 & 0 & 0 & 0 & 0 & 0 & 0 & 0 & 0 & 0\\\\\n",
       "\t6 & Saribus\\_rotundifolius & coryphoideae & induplicate & costapalmate &  & 1 & 0 & palmate & 1 & 1 & ⋯ & 1 & 0 & 0 & 0 & 0 & 0 & 0 & 0 & 0 & 0\\\\\n",
       "\\end{tabular}\n"
      ],
      "text/markdown": [
       "\n",
       "A data.frame: 6 × 21\n",
       "\n",
       "| <!--/--> | species &lt;chr&gt; | subfamily &lt;chr&gt; | plication_all &lt;chr&gt; | shape_all &lt;chr&gt; | polymorphism &lt;chr&gt; | dissection &lt;int&gt; | pinnate &lt;int&gt; | shape_gp &lt;chr&gt; | shape_gp_num &lt;int&gt; | induplicate &lt;int&gt; | ⋯ ⋯ | ind_cospalmate &lt;int&gt; | ind_pinnate &lt;int&gt; | ind_entire &lt;int&gt; | ind_bipinnate &lt;int&gt; | reduplicate &lt;int&gt; | red_variable &lt;int&gt; | red_variance &lt;chr&gt; | red_cospalmate &lt;int&gt; | red_pinnate &lt;int&gt; | red_entire &lt;int&gt; |\n",
       "|---|---|---|---|---|---|---|---|---|---|---|---|---|---|---|---|---|---|---|---|---|---|\n",
       "| 1 | Saribus_brevifolius   | coryphoideae | induplicate | costapalmate | <!----> | 1 | 0 | palmate | 1 | 1 | ⋯ | 1 | 0 | 0 | 0 | 0 | 0 | 0 | 0 | 0 | 0 |\n",
       "| 2 | Saribus_chocolatinus  | coryphoideae | induplicate | costapalmate | <!----> | 1 | 0 | palmate | 1 | 1 | ⋯ | 1 | 0 | 0 | 0 | 0 | 0 | 0 | 0 | 0 | 0 |\n",
       "| 3 | Saribus_jeanneneyi    | coryphoideae | induplicate | costapalmate | <!----> | 1 | 0 | palmate | 1 | 1 | ⋯ | 1 | 0 | 0 | 0 | 0 | 0 | 0 | 0 | 0 | 0 |\n",
       "| 4 | Saribus_merrillii     | coryphoideae | induplicate | costapalmate | <!----> | 1 | 0 | palmate | 1 | 1 | ⋯ | 1 | 0 | 0 | 0 | 0 | 0 | 0 | 0 | 0 | 0 |\n",
       "| 5 | Saribus_papuanus      | coryphoideae | induplicate | costapalmate | <!----> | 1 | 0 | palmate | 1 | 1 | ⋯ | 1 | 0 | 0 | 0 | 0 | 0 | 0 | 0 | 0 | 0 |\n",
       "| 6 | Saribus_rotundifolius | coryphoideae | induplicate | costapalmate | <!----> | 1 | 0 | palmate | 1 | 1 | ⋯ | 1 | 0 | 0 | 0 | 0 | 0 | 0 | 0 | 0 | 0 |\n",
       "\n"
      ],
      "text/plain": [
       "  species               subfamily    plication_all shape_all    polymorphism\n",
       "1 Saribus_brevifolius   coryphoideae induplicate   costapalmate             \n",
       "2 Saribus_chocolatinus  coryphoideae induplicate   costapalmate             \n",
       "3 Saribus_jeanneneyi    coryphoideae induplicate   costapalmate             \n",
       "4 Saribus_merrillii     coryphoideae induplicate   costapalmate             \n",
       "5 Saribus_papuanus      coryphoideae induplicate   costapalmate             \n",
       "6 Saribus_rotundifolius coryphoideae induplicate   costapalmate             \n",
       "  dissection pinnate shape_gp shape_gp_num induplicate ⋯ ind_cospalmate\n",
       "1 1          0       palmate  1            1           ⋯ 1             \n",
       "2 1          0       palmate  1            1           ⋯ 1             \n",
       "3 1          0       palmate  1            1           ⋯ 1             \n",
       "4 1          0       palmate  1            1           ⋯ 1             \n",
       "5 1          0       palmate  1            1           ⋯ 1             \n",
       "6 1          0       palmate  1            1           ⋯ 1             \n",
       "  ind_pinnate ind_entire ind_bipinnate reduplicate red_variable red_variance\n",
       "1 0           0          0             0           0            0           \n",
       "2 0           0          0             0           0            0           \n",
       "3 0           0          0             0           0            0           \n",
       "4 0           0          0             0           0            0           \n",
       "5 0           0          0             0           0            0           \n",
       "6 0           0          0             0           0            0           \n",
       "  red_cospalmate red_pinnate red_entire\n",
       "1 0              0           0         \n",
       "2 0              0           0         \n",
       "3 0              0           0         \n",
       "4 0              0           0         \n",
       "5 0              0           0         \n",
       "6 0              0           0         "
      ]
     },
     "metadata": {},
     "output_type": "display_data"
    }
   ],
   "source": [
    "head(database_leafShape)"
   ]
  },
  {
   "cell_type": "code",
   "execution_count": 8,
   "metadata": {
    "scrolled": true
   },
   "outputs": [
    {
     "data": {
      "text/html": [
       "<style>\n",
       ".list-inline {list-style: none; margin:0; padding: 0}\n",
       ".list-inline>li {display: inline-block}\n",
       ".list-inline>li:not(:last-child)::after {content: \"\\00b7\"; padding: 0 .5ex}\n",
       "</style>\n",
       "<ol class=list-inline><li>'palmate'</li><li>'palmate'</li><li>'palmate'</li><li>'palmate'</li><li>'palmate'</li><li>'palmate'</li><li>'palmate'</li><li>'palmate'</li><li>'palmate'</li><li>'palmate'</li><li>'palmate'</li><li>'palmate'</li><li>'palmate'</li><li>'palmate'</li><li>'palmate'</li><li>'palmate'</li><li>'palmate'</li><li>'palmate'</li><li>'palmate'</li><li>'palmate'</li><li>'palmate'</li><li>'palmate'</li><li>'palmate'</li><li>'palmate'</li><li>'palmate'</li><li>'palmate'</li><li>'palmate'</li><li>'palmate'</li><li>'palmate'</li><li>'palmate'</li><li>'palmate'</li><li>'palmate'</li><li>'palmate'</li><li>'palmate'</li><li>'palmate'</li><li>'palmate'</li><li>'palmate'</li><li>'palmate'</li><li>'palmate'</li><li>'palmate'</li><li>'palmate'</li><li>'palmate'</li><li>'palmate'</li><li>'palmate'</li><li>'palmate'</li><li>'palmate'</li><li>'palmate'</li><li>'palmate'</li><li>'palmate'</li><li>'palmate'</li><li>'palmate'</li><li>'palmate'</li><li>'palmate'</li><li>'palmate'</li><li>'palmate'</li><li>'palmate'</li><li>'palmate'</li><li>'palmate'</li><li>'palmate'</li><li>'palmate'</li><li>'palmate'</li><li>'palmate'</li><li>'palmate'</li><li>'palmate'</li><li>'palmate'</li><li>'palmate'</li><li>'palmate'</li><li>'palmate'</li><li>'palmate'</li><li>'palmate'</li><li>'palmate'</li><li>'palmate'</li><li>'palmate'</li><li>'palmate'</li><li>'palmate'</li><li>'palmate'</li><li>'palmate'</li><li>'palmate'</li><li>'palmate'</li><li>'palmate'</li><li>'palmate'</li><li>'palmate'</li><li>'palmate'</li><li>'palmate'</li><li>'palmate'</li><li>'palmate'</li><li>'palmate'</li><li>'palmate'</li><li>'palmate'</li><li>'palmate'</li><li>'palmate'</li><li>'palmate'</li><li>'palmate'</li><li>'palmate'</li><li>'palmate'</li><li>'palmate'</li><li>'palmate'</li><li>'palmate'</li><li>'palmate'</li><li>'palmate'</li><li>'palmate'</li><li>'palmate'</li><li>'palmate'</li><li>'palmate'</li><li>'palmate'</li><li>'palmate'</li><li>'palmate'</li><li>'palmate'</li><li>'palmate'</li><li>'palmate'</li><li>'palmate'</li><li>'palmate'</li><li>'palmate'</li><li>'palmate'</li><li>'palmate'</li><li>'palmate'</li><li>'palmate'</li><li>'palmate'</li><li>'palmate'</li><li>'palmate'</li><li>'palmate'</li><li>'palmate'</li><li>'palmate'</li><li>'palmate'</li><li>'palmate'</li><li>'palmate'</li><li>'palmate'</li><li>'palmate'</li><li>'palmate'</li><li>'palmate'</li><li>'palmate'</li><li>'palmate'</li><li>'palmate'</li><li>'palmate'</li><li>'palmate'</li><li>'palmate'</li><li>'palmate'</li><li>'palmate'</li><li>'palmate'</li><li>'palmate'</li><li>'palmate'</li><li>'palmate'</li><li>'palmate'</li><li>'palmate'</li><li>'palmate'</li><li>'palmate'</li><li>'palmate'</li><li>'palmate'</li><li>'palmate'</li><li>'palmate'</li><li>'palmate'</li><li>'palmate'</li><li>'palmate'</li><li>'palmate'</li><li>'palmate'</li><li>'palmate'</li><li>'palmate'</li><li>'palmate'</li><li>'palmate'</li><li>'palmate'</li><li>'palmate'</li><li>'palmate'</li><li>'palmate'</li><li>'palmate'</li><li>'palmate'</li><li>'palmate'</li><li>'palmate'</li><li>'palmate'</li><li>'palmate'</li><li>'palmate'</li><li>'palmate'</li><li>'palmate'</li><li>'palmate'</li><li>'palmate'</li><li>'palmate'</li><li>'palmate'</li><li>'palmate'</li><li>'palmate'</li><li>'palmate'</li><li>'palmate'</li><li>'palmate'</li><li>'palmate'</li><li>'palmate'</li><li>'palmate'</li><li>'palmate'</li><li>'palmate'</li><li>'palmate'</li><li>'palmate'</li><li>'palmate'</li><li>'palmate'</li><li>'palmate'</li><li>'palmate'</li><li>'palmate'</li><li>'palmate'</li><li>'palmate'</li><li>'palmate'</li><li>'palmate'</li><li>'palmate'</li><li>'palmate'</li><li>'palmate'</li><li>⋯</li><li>'pinnate'</li><li>'pinnate'</li><li>'pinnate'</li><li>'pinnate'</li><li>'pinnate'</li><li>'pinnate'</li><li>'pinnatepolymorphic'</li><li>'pinnate'</li><li>'pinnate'</li><li>'pinnate'</li><li>'pinnate'</li><li>'pinnate'</li><li>'pinnate'</li><li>'pinnate'</li><li>'pinnate'</li><li>'pinnate'</li><li>'pinnate'</li><li>'pinnate'</li><li>'pinnate'</li><li>'pinnate'</li><li>'pinnate'</li><li>'pinnate'</li><li>'pinnate'</li><li>'pinnate'</li><li>'pinnate'</li><li>'pinnate'</li><li>'pinnate'</li><li>'pinnate'</li><li>'pinnate'</li><li>'pinnate'</li><li>'pinnate'</li><li>'pinnate'</li><li>'pinnate'</li><li>'pinnate'</li><li>'pinnate'</li><li>'pinnate'</li><li>'pinnate'</li><li>'pinnate'</li><li>'pinnate'</li><li>'pinnate'</li><li>'pinnate'</li><li>'pinnate'</li><li>'pinnate'</li><li>'pinnate'</li><li>'pinnate'</li><li>'pinnate'</li><li>'pinnate'</li><li>'pinnate'</li><li>'pinnate'</li><li>'pinnate'</li><li>'pinnate'</li><li>'pinnate'</li><li>'pinnate'</li><li>'pinnate'</li><li>'pinnate'</li><li>'pinnate'</li><li>'pinnate'</li><li>'pinnate'</li><li>'pinnate'</li><li>'pinnate'</li><li>'pinnate'</li><li>'pinnate'</li><li>'pinnate'</li><li>'pinnate'</li><li>'pinnate'</li><li>'pinnate'</li><li>'pinnate'</li><li>'pinnate'</li><li>'pinnate'</li><li>'pinnate'</li><li>'pinnatepolymorphic'</li><li>'pinnate'</li><li>'pinnate'</li><li>'pinnate'</li><li>'pinnate'</li><li>'pinnate'</li><li>'pinnate'</li><li>'pinnate'</li><li>'pinnate'</li><li>'pinnate'</li><li>'pinnate'</li><li>'pinnate'</li><li>'pinnate'</li><li>'pinnate'</li><li>'pinnate'</li><li>'pinnate'</li><li>'pinnate'</li><li>'pinnate'</li><li>'pinnate'</li><li>'pinnate'</li><li>'pinnate'</li><li>'pinnate'</li><li>'pinnate'</li><li>'pinnateentire'</li><li>'pinnateentire'</li><li>'pinnateentire'</li><li>'pinnateentire'</li><li>'pinnateentire'</li><li>'pinnateentire'</li><li>'pinnateentire'</li><li>'pinnateentire'</li><li>'pinnateentire'</li><li>'pinnateentire'</li><li>'pinnateentire'</li><li>'pinnateentire'</li><li>'pinnateentire'</li><li>'pinnateentire'</li><li>'pinnateentire'</li><li>'pinnateentire'</li><li>'pinnateentire'</li><li>'pinnateentire'</li><li>'pinnateentire'</li><li>'pinnateentire'</li><li>'pinnateentire'</li><li>'pinnateentire'</li><li>'pinnateentire'</li><li>'pinnateentire'</li><li>'pinnateentire'</li><li>'pinnateentire'</li><li>'pinnateentire'</li><li>'pinnateentire'</li><li>'pinnateentire'</li><li>'pinnateentire'</li><li>'pinnateentire'</li><li>'pinnateentire'</li><li>'pinnateentire'</li><li>'pinnateentire'</li><li>'pinnateentire'</li><li>'pinnateentire'</li><li>'pinnateentire'</li><li>'pinnateentire'</li><li>'pinnateentire'</li><li>'pinnateentire'</li><li>'pinnateentire'</li><li>'pinnateentire'</li><li>'pinnateentire'</li><li>'pinnateentire'</li><li>'pinnateentire'</li><li>'pinnateentire'</li><li>'pinnateentire'</li><li>'pinnateentire'</li><li>'pinnateentire'</li><li>'pinnateentire'</li><li>'pinnateentire'</li><li>'pinnateentire'</li><li>'pinnateentire'</li><li>'pinnateentire'</li><li>'pinnateentire'</li><li>'pinnateentire'</li><li>'pinnateentire'</li><li>'pinnateentire'</li><li>'pinnateentire'</li><li>'pinnateentire'</li><li>'pinnateentire'</li><li>'pinnateentire'</li><li>'pinnateentire'</li><li>'pinnateentire'</li><li>'pinnateentire'</li><li>'pinnateentire'</li><li>'pinnateentire'</li><li>'pinnateentire'</li><li>'pinnateentire'</li><li>'pinnateentire'</li><li>'pinnateentire'</li><li>'pinnateentire'</li><li>'pinnateentire'</li><li>'pinnateentire'</li><li>'pinnateentire'</li><li>'pinnateentire'</li><li>'pinnateentire'</li><li>'pinnateentire'</li><li>'pinnateentire'</li><li>'pinnateentire'</li><li>'pinnateentire'</li><li>'pinnateentire'</li><li>'pinnateentire'</li><li>'pinnateentire'</li><li>'pinnateentire'</li><li>'pinnateentire'</li><li>'pinnateentire'</li><li>'pinnateentire'</li><li>'pinnateentire'</li><li>'pinnateentire'</li><li>'pinnateentire'</li><li>'pinnateentire'</li><li>'pinnateentire'</li><li>'pinnateentire'</li><li>'pinnateentire'</li><li>'pinnateentire'</li><li>'pinnateentire'</li><li>'pinnateentire'</li><li>'pinnateentire'</li><li>'pinnateentire'</li><li>'pinnateentire'</li><li>'pinnateentire'</li><li>'pinnateentire'</li><li>'pinnateentire'</li><li>'pinnateentire'</li><li>'pinnateentire'</li><li>'pinnateentire'</li></ol>\n"
      ],
      "text/latex": [
       "\\begin{enumerate*}\n",
       "\\item 'palmate'\n",
       "\\item 'palmate'\n",
       "\\item 'palmate'\n",
       "\\item 'palmate'\n",
       "\\item 'palmate'\n",
       "\\item 'palmate'\n",
       "\\item 'palmate'\n",
       "\\item 'palmate'\n",
       "\\item 'palmate'\n",
       "\\item 'palmate'\n",
       "\\item 'palmate'\n",
       "\\item 'palmate'\n",
       "\\item 'palmate'\n",
       "\\item 'palmate'\n",
       "\\item 'palmate'\n",
       "\\item 'palmate'\n",
       "\\item 'palmate'\n",
       "\\item 'palmate'\n",
       "\\item 'palmate'\n",
       "\\item 'palmate'\n",
       "\\item 'palmate'\n",
       "\\item 'palmate'\n",
       "\\item 'palmate'\n",
       "\\item 'palmate'\n",
       "\\item 'palmate'\n",
       "\\item 'palmate'\n",
       "\\item 'palmate'\n",
       "\\item 'palmate'\n",
       "\\item 'palmate'\n",
       "\\item 'palmate'\n",
       "\\item 'palmate'\n",
       "\\item 'palmate'\n",
       "\\item 'palmate'\n",
       "\\item 'palmate'\n",
       "\\item 'palmate'\n",
       "\\item 'palmate'\n",
       "\\item 'palmate'\n",
       "\\item 'palmate'\n",
       "\\item 'palmate'\n",
       "\\item 'palmate'\n",
       "\\item 'palmate'\n",
       "\\item 'palmate'\n",
       "\\item 'palmate'\n",
       "\\item 'palmate'\n",
       "\\item 'palmate'\n",
       "\\item 'palmate'\n",
       "\\item 'palmate'\n",
       "\\item 'palmate'\n",
       "\\item 'palmate'\n",
       "\\item 'palmate'\n",
       "\\item 'palmate'\n",
       "\\item 'palmate'\n",
       "\\item 'palmate'\n",
       "\\item 'palmate'\n",
       "\\item 'palmate'\n",
       "\\item 'palmate'\n",
       "\\item 'palmate'\n",
       "\\item 'palmate'\n",
       "\\item 'palmate'\n",
       "\\item 'palmate'\n",
       "\\item 'palmate'\n",
       "\\item 'palmate'\n",
       "\\item 'palmate'\n",
       "\\item 'palmate'\n",
       "\\item 'palmate'\n",
       "\\item 'palmate'\n",
       "\\item 'palmate'\n",
       "\\item 'palmate'\n",
       "\\item 'palmate'\n",
       "\\item 'palmate'\n",
       "\\item 'palmate'\n",
       "\\item 'palmate'\n",
       "\\item 'palmate'\n",
       "\\item 'palmate'\n",
       "\\item 'palmate'\n",
       "\\item 'palmate'\n",
       "\\item 'palmate'\n",
       "\\item 'palmate'\n",
       "\\item 'palmate'\n",
       "\\item 'palmate'\n",
       "\\item 'palmate'\n",
       "\\item 'palmate'\n",
       "\\item 'palmate'\n",
       "\\item 'palmate'\n",
       "\\item 'palmate'\n",
       "\\item 'palmate'\n",
       "\\item 'palmate'\n",
       "\\item 'palmate'\n",
       "\\item 'palmate'\n",
       "\\item 'palmate'\n",
       "\\item 'palmate'\n",
       "\\item 'palmate'\n",
       "\\item 'palmate'\n",
       "\\item 'palmate'\n",
       "\\item 'palmate'\n",
       "\\item 'palmate'\n",
       "\\item 'palmate'\n",
       "\\item 'palmate'\n",
       "\\item 'palmate'\n",
       "\\item 'palmate'\n",
       "\\item 'palmate'\n",
       "\\item 'palmate'\n",
       "\\item 'palmate'\n",
       "\\item 'palmate'\n",
       "\\item 'palmate'\n",
       "\\item 'palmate'\n",
       "\\item 'palmate'\n",
       "\\item 'palmate'\n",
       "\\item 'palmate'\n",
       "\\item 'palmate'\n",
       "\\item 'palmate'\n",
       "\\item 'palmate'\n",
       "\\item 'palmate'\n",
       "\\item 'palmate'\n",
       "\\item 'palmate'\n",
       "\\item 'palmate'\n",
       "\\item 'palmate'\n",
       "\\item 'palmate'\n",
       "\\item 'palmate'\n",
       "\\item 'palmate'\n",
       "\\item 'palmate'\n",
       "\\item 'palmate'\n",
       "\\item 'palmate'\n",
       "\\item 'palmate'\n",
       "\\item 'palmate'\n",
       "\\item 'palmate'\n",
       "\\item 'palmate'\n",
       "\\item 'palmate'\n",
       "\\item 'palmate'\n",
       "\\item 'palmate'\n",
       "\\item 'palmate'\n",
       "\\item 'palmate'\n",
       "\\item 'palmate'\n",
       "\\item 'palmate'\n",
       "\\item 'palmate'\n",
       "\\item 'palmate'\n",
       "\\item 'palmate'\n",
       "\\item 'palmate'\n",
       "\\item 'palmate'\n",
       "\\item 'palmate'\n",
       "\\item 'palmate'\n",
       "\\item 'palmate'\n",
       "\\item 'palmate'\n",
       "\\item 'palmate'\n",
       "\\item 'palmate'\n",
       "\\item 'palmate'\n",
       "\\item 'palmate'\n",
       "\\item 'palmate'\n",
       "\\item 'palmate'\n",
       "\\item 'palmate'\n",
       "\\item 'palmate'\n",
       "\\item 'palmate'\n",
       "\\item 'palmate'\n",
       "\\item 'palmate'\n",
       "\\item 'palmate'\n",
       "\\item 'palmate'\n",
       "\\item 'palmate'\n",
       "\\item 'palmate'\n",
       "\\item 'palmate'\n",
       "\\item 'palmate'\n",
       "\\item 'palmate'\n",
       "\\item 'palmate'\n",
       "\\item 'palmate'\n",
       "\\item 'palmate'\n",
       "\\item 'palmate'\n",
       "\\item 'palmate'\n",
       "\\item 'palmate'\n",
       "\\item 'palmate'\n",
       "\\item 'palmate'\n",
       "\\item 'palmate'\n",
       "\\item 'palmate'\n",
       "\\item 'palmate'\n",
       "\\item 'palmate'\n",
       "\\item 'palmate'\n",
       "\\item 'palmate'\n",
       "\\item 'palmate'\n",
       "\\item 'palmate'\n",
       "\\item 'palmate'\n",
       "\\item 'palmate'\n",
       "\\item 'palmate'\n",
       "\\item 'palmate'\n",
       "\\item 'palmate'\n",
       "\\item 'palmate'\n",
       "\\item 'palmate'\n",
       "\\item 'palmate'\n",
       "\\item 'palmate'\n",
       "\\item 'palmate'\n",
       "\\item 'palmate'\n",
       "\\item 'palmate'\n",
       "\\item 'palmate'\n",
       "\\item 'palmate'\n",
       "\\item 'palmate'\n",
       "\\item 'palmate'\n",
       "\\item 'palmate'\n",
       "\\item 'palmate'\n",
       "\\item 'palmate'\n",
       "\\item 'palmate'\n",
       "\\item 'palmate'\n",
       "\\item 'palmate'\n",
       "\\item 'palmate'\n",
       "\\item ⋯\n",
       "\\item 'pinnate'\n",
       "\\item 'pinnate'\n",
       "\\item 'pinnate'\n",
       "\\item 'pinnate'\n",
       "\\item 'pinnate'\n",
       "\\item 'pinnate'\n",
       "\\item 'pinnatepolymorphic'\n",
       "\\item 'pinnate'\n",
       "\\item 'pinnate'\n",
       "\\item 'pinnate'\n",
       "\\item 'pinnate'\n",
       "\\item 'pinnate'\n",
       "\\item 'pinnate'\n",
       "\\item 'pinnate'\n",
       "\\item 'pinnate'\n",
       "\\item 'pinnate'\n",
       "\\item 'pinnate'\n",
       "\\item 'pinnate'\n",
       "\\item 'pinnate'\n",
       "\\item 'pinnate'\n",
       "\\item 'pinnate'\n",
       "\\item 'pinnate'\n",
       "\\item 'pinnate'\n",
       "\\item 'pinnate'\n",
       "\\item 'pinnate'\n",
       "\\item 'pinnate'\n",
       "\\item 'pinnate'\n",
       "\\item 'pinnate'\n",
       "\\item 'pinnate'\n",
       "\\item 'pinnate'\n",
       "\\item 'pinnate'\n",
       "\\item 'pinnate'\n",
       "\\item 'pinnate'\n",
       "\\item 'pinnate'\n",
       "\\item 'pinnate'\n",
       "\\item 'pinnate'\n",
       "\\item 'pinnate'\n",
       "\\item 'pinnate'\n",
       "\\item 'pinnate'\n",
       "\\item 'pinnate'\n",
       "\\item 'pinnate'\n",
       "\\item 'pinnate'\n",
       "\\item 'pinnate'\n",
       "\\item 'pinnate'\n",
       "\\item 'pinnate'\n",
       "\\item 'pinnate'\n",
       "\\item 'pinnate'\n",
       "\\item 'pinnate'\n",
       "\\item 'pinnate'\n",
       "\\item 'pinnate'\n",
       "\\item 'pinnate'\n",
       "\\item 'pinnate'\n",
       "\\item 'pinnate'\n",
       "\\item 'pinnate'\n",
       "\\item 'pinnate'\n",
       "\\item 'pinnate'\n",
       "\\item 'pinnate'\n",
       "\\item 'pinnate'\n",
       "\\item 'pinnate'\n",
       "\\item 'pinnate'\n",
       "\\item 'pinnate'\n",
       "\\item 'pinnate'\n",
       "\\item 'pinnate'\n",
       "\\item 'pinnate'\n",
       "\\item 'pinnate'\n",
       "\\item 'pinnate'\n",
       "\\item 'pinnate'\n",
       "\\item 'pinnate'\n",
       "\\item 'pinnate'\n",
       "\\item 'pinnate'\n",
       "\\item 'pinnatepolymorphic'\n",
       "\\item 'pinnate'\n",
       "\\item 'pinnate'\n",
       "\\item 'pinnate'\n",
       "\\item 'pinnate'\n",
       "\\item 'pinnate'\n",
       "\\item 'pinnate'\n",
       "\\item 'pinnate'\n",
       "\\item 'pinnate'\n",
       "\\item 'pinnate'\n",
       "\\item 'pinnate'\n",
       "\\item 'pinnate'\n",
       "\\item 'pinnate'\n",
       "\\item 'pinnate'\n",
       "\\item 'pinnate'\n",
       "\\item 'pinnate'\n",
       "\\item 'pinnate'\n",
       "\\item 'pinnate'\n",
       "\\item 'pinnate'\n",
       "\\item 'pinnate'\n",
       "\\item 'pinnate'\n",
       "\\item 'pinnate'\n",
       "\\item 'pinnate'\n",
       "\\item 'pinnateentire'\n",
       "\\item 'pinnateentire'\n",
       "\\item 'pinnateentire'\n",
       "\\item 'pinnateentire'\n",
       "\\item 'pinnateentire'\n",
       "\\item 'pinnateentire'\n",
       "\\item 'pinnateentire'\n",
       "\\item 'pinnateentire'\n",
       "\\item 'pinnateentire'\n",
       "\\item 'pinnateentire'\n",
       "\\item 'pinnateentire'\n",
       "\\item 'pinnateentire'\n",
       "\\item 'pinnateentire'\n",
       "\\item 'pinnateentire'\n",
       "\\item 'pinnateentire'\n",
       "\\item 'pinnateentire'\n",
       "\\item 'pinnateentire'\n",
       "\\item 'pinnateentire'\n",
       "\\item 'pinnateentire'\n",
       "\\item 'pinnateentire'\n",
       "\\item 'pinnateentire'\n",
       "\\item 'pinnateentire'\n",
       "\\item 'pinnateentire'\n",
       "\\item 'pinnateentire'\n",
       "\\item 'pinnateentire'\n",
       "\\item 'pinnateentire'\n",
       "\\item 'pinnateentire'\n",
       "\\item 'pinnateentire'\n",
       "\\item 'pinnateentire'\n",
       "\\item 'pinnateentire'\n",
       "\\item 'pinnateentire'\n",
       "\\item 'pinnateentire'\n",
       "\\item 'pinnateentire'\n",
       "\\item 'pinnateentire'\n",
       "\\item 'pinnateentire'\n",
       "\\item 'pinnateentire'\n",
       "\\item 'pinnateentire'\n",
       "\\item 'pinnateentire'\n",
       "\\item 'pinnateentire'\n",
       "\\item 'pinnateentire'\n",
       "\\item 'pinnateentire'\n",
       "\\item 'pinnateentire'\n",
       "\\item 'pinnateentire'\n",
       "\\item 'pinnateentire'\n",
       "\\item 'pinnateentire'\n",
       "\\item 'pinnateentire'\n",
       "\\item 'pinnateentire'\n",
       "\\item 'pinnateentire'\n",
       "\\item 'pinnateentire'\n",
       "\\item 'pinnateentire'\n",
       "\\item 'pinnateentire'\n",
       "\\item 'pinnateentire'\n",
       "\\item 'pinnateentire'\n",
       "\\item 'pinnateentire'\n",
       "\\item 'pinnateentire'\n",
       "\\item 'pinnateentire'\n",
       "\\item 'pinnateentire'\n",
       "\\item 'pinnateentire'\n",
       "\\item 'pinnateentire'\n",
       "\\item 'pinnateentire'\n",
       "\\item 'pinnateentire'\n",
       "\\item 'pinnateentire'\n",
       "\\item 'pinnateentire'\n",
       "\\item 'pinnateentire'\n",
       "\\item 'pinnateentire'\n",
       "\\item 'pinnateentire'\n",
       "\\item 'pinnateentire'\n",
       "\\item 'pinnateentire'\n",
       "\\item 'pinnateentire'\n",
       "\\item 'pinnateentire'\n",
       "\\item 'pinnateentire'\n",
       "\\item 'pinnateentire'\n",
       "\\item 'pinnateentire'\n",
       "\\item 'pinnateentire'\n",
       "\\item 'pinnateentire'\n",
       "\\item 'pinnateentire'\n",
       "\\item 'pinnateentire'\n",
       "\\item 'pinnateentire'\n",
       "\\item 'pinnateentire'\n",
       "\\item 'pinnateentire'\n",
       "\\item 'pinnateentire'\n",
       "\\item 'pinnateentire'\n",
       "\\item 'pinnateentire'\n",
       "\\item 'pinnateentire'\n",
       "\\item 'pinnateentire'\n",
       "\\item 'pinnateentire'\n",
       "\\item 'pinnateentire'\n",
       "\\item 'pinnateentire'\n",
       "\\item 'pinnateentire'\n",
       "\\item 'pinnateentire'\n",
       "\\item 'pinnateentire'\n",
       "\\item 'pinnateentire'\n",
       "\\item 'pinnateentire'\n",
       "\\item 'pinnateentire'\n",
       "\\item 'pinnateentire'\n",
       "\\item 'pinnateentire'\n",
       "\\item 'pinnateentire'\n",
       "\\item 'pinnateentire'\n",
       "\\item 'pinnateentire'\n",
       "\\item 'pinnateentire'\n",
       "\\item 'pinnateentire'\n",
       "\\item 'pinnateentire'\n",
       "\\item 'pinnateentire'\n",
       "\\item 'pinnateentire'\n",
       "\\item 'pinnateentire'\n",
       "\\item 'pinnateentire'\n",
       "\\item 'pinnateentire'\n",
       "\\end{enumerate*}\n"
      ],
      "text/markdown": [
       "1. 'palmate'\n",
       "2. 'palmate'\n",
       "3. 'palmate'\n",
       "4. 'palmate'\n",
       "5. 'palmate'\n",
       "6. 'palmate'\n",
       "7. 'palmate'\n",
       "8. 'palmate'\n",
       "9. 'palmate'\n",
       "10. 'palmate'\n",
       "11. 'palmate'\n",
       "12. 'palmate'\n",
       "13. 'palmate'\n",
       "14. 'palmate'\n",
       "15. 'palmate'\n",
       "16. 'palmate'\n",
       "17. 'palmate'\n",
       "18. 'palmate'\n",
       "19. 'palmate'\n",
       "20. 'palmate'\n",
       "21. 'palmate'\n",
       "22. 'palmate'\n",
       "23. 'palmate'\n",
       "24. 'palmate'\n",
       "25. 'palmate'\n",
       "26. 'palmate'\n",
       "27. 'palmate'\n",
       "28. 'palmate'\n",
       "29. 'palmate'\n",
       "30. 'palmate'\n",
       "31. 'palmate'\n",
       "32. 'palmate'\n",
       "33. 'palmate'\n",
       "34. 'palmate'\n",
       "35. 'palmate'\n",
       "36. 'palmate'\n",
       "37. 'palmate'\n",
       "38. 'palmate'\n",
       "39. 'palmate'\n",
       "40. 'palmate'\n",
       "41. 'palmate'\n",
       "42. 'palmate'\n",
       "43. 'palmate'\n",
       "44. 'palmate'\n",
       "45. 'palmate'\n",
       "46. 'palmate'\n",
       "47. 'palmate'\n",
       "48. 'palmate'\n",
       "49. 'palmate'\n",
       "50. 'palmate'\n",
       "51. 'palmate'\n",
       "52. 'palmate'\n",
       "53. 'palmate'\n",
       "54. 'palmate'\n",
       "55. 'palmate'\n",
       "56. 'palmate'\n",
       "57. 'palmate'\n",
       "58. 'palmate'\n",
       "59. 'palmate'\n",
       "60. 'palmate'\n",
       "61. 'palmate'\n",
       "62. 'palmate'\n",
       "63. 'palmate'\n",
       "64. 'palmate'\n",
       "65. 'palmate'\n",
       "66. 'palmate'\n",
       "67. 'palmate'\n",
       "68. 'palmate'\n",
       "69. 'palmate'\n",
       "70. 'palmate'\n",
       "71. 'palmate'\n",
       "72. 'palmate'\n",
       "73. 'palmate'\n",
       "74. 'palmate'\n",
       "75. 'palmate'\n",
       "76. 'palmate'\n",
       "77. 'palmate'\n",
       "78. 'palmate'\n",
       "79. 'palmate'\n",
       "80. 'palmate'\n",
       "81. 'palmate'\n",
       "82. 'palmate'\n",
       "83. 'palmate'\n",
       "84. 'palmate'\n",
       "85. 'palmate'\n",
       "86. 'palmate'\n",
       "87. 'palmate'\n",
       "88. 'palmate'\n",
       "89. 'palmate'\n",
       "90. 'palmate'\n",
       "91. 'palmate'\n",
       "92. 'palmate'\n",
       "93. 'palmate'\n",
       "94. 'palmate'\n",
       "95. 'palmate'\n",
       "96. 'palmate'\n",
       "97. 'palmate'\n",
       "98. 'palmate'\n",
       "99. 'palmate'\n",
       "100. 'palmate'\n",
       "101. 'palmate'\n",
       "102. 'palmate'\n",
       "103. 'palmate'\n",
       "104. 'palmate'\n",
       "105. 'palmate'\n",
       "106. 'palmate'\n",
       "107. 'palmate'\n",
       "108. 'palmate'\n",
       "109. 'palmate'\n",
       "110. 'palmate'\n",
       "111. 'palmate'\n",
       "112. 'palmate'\n",
       "113. 'palmate'\n",
       "114. 'palmate'\n",
       "115. 'palmate'\n",
       "116. 'palmate'\n",
       "117. 'palmate'\n",
       "118. 'palmate'\n",
       "119. 'palmate'\n",
       "120. 'palmate'\n",
       "121. 'palmate'\n",
       "122. 'palmate'\n",
       "123. 'palmate'\n",
       "124. 'palmate'\n",
       "125. 'palmate'\n",
       "126. 'palmate'\n",
       "127. 'palmate'\n",
       "128. 'palmate'\n",
       "129. 'palmate'\n",
       "130. 'palmate'\n",
       "131. 'palmate'\n",
       "132. 'palmate'\n",
       "133. 'palmate'\n",
       "134. 'palmate'\n",
       "135. 'palmate'\n",
       "136. 'palmate'\n",
       "137. 'palmate'\n",
       "138. 'palmate'\n",
       "139. 'palmate'\n",
       "140. 'palmate'\n",
       "141. 'palmate'\n",
       "142. 'palmate'\n",
       "143. 'palmate'\n",
       "144. 'palmate'\n",
       "145. 'palmate'\n",
       "146. 'palmate'\n",
       "147. 'palmate'\n",
       "148. 'palmate'\n",
       "149. 'palmate'\n",
       "150. 'palmate'\n",
       "151. 'palmate'\n",
       "152. 'palmate'\n",
       "153. 'palmate'\n",
       "154. 'palmate'\n",
       "155. 'palmate'\n",
       "156. 'palmate'\n",
       "157. 'palmate'\n",
       "158. 'palmate'\n",
       "159. 'palmate'\n",
       "160. 'palmate'\n",
       "161. 'palmate'\n",
       "162. 'palmate'\n",
       "163. 'palmate'\n",
       "164. 'palmate'\n",
       "165. 'palmate'\n",
       "166. 'palmate'\n",
       "167. 'palmate'\n",
       "168. 'palmate'\n",
       "169. 'palmate'\n",
       "170. 'palmate'\n",
       "171. 'palmate'\n",
       "172. 'palmate'\n",
       "173. 'palmate'\n",
       "174. 'palmate'\n",
       "175. 'palmate'\n",
       "176. 'palmate'\n",
       "177. 'palmate'\n",
       "178. 'palmate'\n",
       "179. 'palmate'\n",
       "180. 'palmate'\n",
       "181. 'palmate'\n",
       "182. 'palmate'\n",
       "183. 'palmate'\n",
       "184. 'palmate'\n",
       "185. 'palmate'\n",
       "186. 'palmate'\n",
       "187. 'palmate'\n",
       "188. 'palmate'\n",
       "189. 'palmate'\n",
       "190. 'palmate'\n",
       "191. 'palmate'\n",
       "192. 'palmate'\n",
       "193. 'palmate'\n",
       "194. 'palmate'\n",
       "195. 'palmate'\n",
       "196. 'palmate'\n",
       "197. 'palmate'\n",
       "198. 'palmate'\n",
       "199. 'palmate'\n",
       "200. 'palmate'\n",
       "201. ⋯\n",
       "202. 'pinnate'\n",
       "203. 'pinnate'\n",
       "204. 'pinnate'\n",
       "205. 'pinnate'\n",
       "206. 'pinnate'\n",
       "207. 'pinnate'\n",
       "208. 'pinnatepolymorphic'\n",
       "209. 'pinnate'\n",
       "210. 'pinnate'\n",
       "211. 'pinnate'\n",
       "212. 'pinnate'\n",
       "213. 'pinnate'\n",
       "214. 'pinnate'\n",
       "215. 'pinnate'\n",
       "216. 'pinnate'\n",
       "217. 'pinnate'\n",
       "218. 'pinnate'\n",
       "219. 'pinnate'\n",
       "220. 'pinnate'\n",
       "221. 'pinnate'\n",
       "222. 'pinnate'\n",
       "223. 'pinnate'\n",
       "224. 'pinnate'\n",
       "225. 'pinnate'\n",
       "226. 'pinnate'\n",
       "227. 'pinnate'\n",
       "228. 'pinnate'\n",
       "229. 'pinnate'\n",
       "230. 'pinnate'\n",
       "231. 'pinnate'\n",
       "232. 'pinnate'\n",
       "233. 'pinnate'\n",
       "234. 'pinnate'\n",
       "235. 'pinnate'\n",
       "236. 'pinnate'\n",
       "237. 'pinnate'\n",
       "238. 'pinnate'\n",
       "239. 'pinnate'\n",
       "240. 'pinnate'\n",
       "241. 'pinnate'\n",
       "242. 'pinnate'\n",
       "243. 'pinnate'\n",
       "244. 'pinnate'\n",
       "245. 'pinnate'\n",
       "246. 'pinnate'\n",
       "247. 'pinnate'\n",
       "248. 'pinnate'\n",
       "249. 'pinnate'\n",
       "250. 'pinnate'\n",
       "251. 'pinnate'\n",
       "252. 'pinnate'\n",
       "253. 'pinnate'\n",
       "254. 'pinnate'\n",
       "255. 'pinnate'\n",
       "256. 'pinnate'\n",
       "257. 'pinnate'\n",
       "258. 'pinnate'\n",
       "259. 'pinnate'\n",
       "260. 'pinnate'\n",
       "261. 'pinnate'\n",
       "262. 'pinnate'\n",
       "263. 'pinnate'\n",
       "264. 'pinnate'\n",
       "265. 'pinnate'\n",
       "266. 'pinnate'\n",
       "267. 'pinnate'\n",
       "268. 'pinnate'\n",
       "269. 'pinnate'\n",
       "270. 'pinnate'\n",
       "271. 'pinnate'\n",
       "272. 'pinnatepolymorphic'\n",
       "273. 'pinnate'\n",
       "274. 'pinnate'\n",
       "275. 'pinnate'\n",
       "276. 'pinnate'\n",
       "277. 'pinnate'\n",
       "278. 'pinnate'\n",
       "279. 'pinnate'\n",
       "280. 'pinnate'\n",
       "281. 'pinnate'\n",
       "282. 'pinnate'\n",
       "283. 'pinnate'\n",
       "284. 'pinnate'\n",
       "285. 'pinnate'\n",
       "286. 'pinnate'\n",
       "287. 'pinnate'\n",
       "288. 'pinnate'\n",
       "289. 'pinnate'\n",
       "290. 'pinnate'\n",
       "291. 'pinnate'\n",
       "292. 'pinnate'\n",
       "293. 'pinnate'\n",
       "294. 'pinnate'\n",
       "295. 'pinnateentire'\n",
       "296. 'pinnateentire'\n",
       "297. 'pinnateentire'\n",
       "298. 'pinnateentire'\n",
       "299. 'pinnateentire'\n",
       "300. 'pinnateentire'\n",
       "301. 'pinnateentire'\n",
       "302. 'pinnateentire'\n",
       "303. 'pinnateentire'\n",
       "304. 'pinnateentire'\n",
       "305. 'pinnateentire'\n",
       "306. 'pinnateentire'\n",
       "307. 'pinnateentire'\n",
       "308. 'pinnateentire'\n",
       "309. 'pinnateentire'\n",
       "310. 'pinnateentire'\n",
       "311. 'pinnateentire'\n",
       "312. 'pinnateentire'\n",
       "313. 'pinnateentire'\n",
       "314. 'pinnateentire'\n",
       "315. 'pinnateentire'\n",
       "316. 'pinnateentire'\n",
       "317. 'pinnateentire'\n",
       "318. 'pinnateentire'\n",
       "319. 'pinnateentire'\n",
       "320. 'pinnateentire'\n",
       "321. 'pinnateentire'\n",
       "322. 'pinnateentire'\n",
       "323. 'pinnateentire'\n",
       "324. 'pinnateentire'\n",
       "325. 'pinnateentire'\n",
       "326. 'pinnateentire'\n",
       "327. 'pinnateentire'\n",
       "328. 'pinnateentire'\n",
       "329. 'pinnateentire'\n",
       "330. 'pinnateentire'\n",
       "331. 'pinnateentire'\n",
       "332. 'pinnateentire'\n",
       "333. 'pinnateentire'\n",
       "334. 'pinnateentire'\n",
       "335. 'pinnateentire'\n",
       "336. 'pinnateentire'\n",
       "337. 'pinnateentire'\n",
       "338. 'pinnateentire'\n",
       "339. 'pinnateentire'\n",
       "340. 'pinnateentire'\n",
       "341. 'pinnateentire'\n",
       "342. 'pinnateentire'\n",
       "343. 'pinnateentire'\n",
       "344. 'pinnateentire'\n",
       "345. 'pinnateentire'\n",
       "346. 'pinnateentire'\n",
       "347. 'pinnateentire'\n",
       "348. 'pinnateentire'\n",
       "349. 'pinnateentire'\n",
       "350. 'pinnateentire'\n",
       "351. 'pinnateentire'\n",
       "352. 'pinnateentire'\n",
       "353. 'pinnateentire'\n",
       "354. 'pinnateentire'\n",
       "355. 'pinnateentire'\n",
       "356. 'pinnateentire'\n",
       "357. 'pinnateentire'\n",
       "358. 'pinnateentire'\n",
       "359. 'pinnateentire'\n",
       "360. 'pinnateentire'\n",
       "361. 'pinnateentire'\n",
       "362. 'pinnateentire'\n",
       "363. 'pinnateentire'\n",
       "364. 'pinnateentire'\n",
       "365. 'pinnateentire'\n",
       "366. 'pinnateentire'\n",
       "367. 'pinnateentire'\n",
       "368. 'pinnateentire'\n",
       "369. 'pinnateentire'\n",
       "370. 'pinnateentire'\n",
       "371. 'pinnateentire'\n",
       "372. 'pinnateentire'\n",
       "373. 'pinnateentire'\n",
       "374. 'pinnateentire'\n",
       "375. 'pinnateentire'\n",
       "376. 'pinnateentire'\n",
       "377. 'pinnateentire'\n",
       "378. 'pinnateentire'\n",
       "379. 'pinnateentire'\n",
       "380. 'pinnateentire'\n",
       "381. 'pinnateentire'\n",
       "382. 'pinnateentire'\n",
       "383. 'pinnateentire'\n",
       "384. 'pinnateentire'\n",
       "385. 'pinnateentire'\n",
       "386. 'pinnateentire'\n",
       "387. 'pinnateentire'\n",
       "388. 'pinnateentire'\n",
       "389. 'pinnateentire'\n",
       "390. 'pinnateentire'\n",
       "391. 'pinnateentire'\n",
       "392. 'pinnateentire'\n",
       "393. 'pinnateentire'\n",
       "394. 'pinnateentire'\n",
       "395. 'pinnateentire'\n",
       "396. 'pinnateentire'\n",
       "397. 'pinnateentire'\n",
       "398. 'pinnateentire'\n",
       "399. 'pinnateentire'\n",
       "400. 'pinnateentire'\n",
       "401. 'pinnateentire'\n",
       "\n",
       "\n"
      ],
      "text/plain": [
       "   [1] \"palmate\"            \"palmate\"            \"palmate\"           \n",
       "   [4] \"palmate\"            \"palmate\"            \"palmate\"           \n",
       "   [7] \"palmate\"            \"palmate\"            \"palmate\"           \n",
       "  [10] \"palmate\"            \"palmate\"            \"palmate\"           \n",
       "  [13] \"palmate\"            \"palmate\"            \"palmate\"           \n",
       "  [16] \"palmate\"            \"palmate\"            \"palmate\"           \n",
       "  [19] \"palmate\"            \"palmate\"            \"palmate\"           \n",
       "  [22] \"palmate\"            \"palmate\"            \"palmate\"           \n",
       "  [25] \"palmate\"            \"palmate\"            \"palmate\"           \n",
       "  [28] \"palmate\"            \"palmate\"            \"palmate\"           \n",
       "  [31] \"palmate\"            \"palmate\"            \"palmate\"           \n",
       "  [34] \"palmate\"            \"palmate\"            \"palmate\"           \n",
       "  [37] \"palmate\"            \"palmate\"            \"palmate\"           \n",
       "  [40] \"palmate\"            \"palmate\"            \"palmate\"           \n",
       "  [43] \"palmate\"            \"palmate\"            \"palmate\"           \n",
       "  [46] \"palmate\"            \"palmate\"            \"palmate\"           \n",
       "  [49] \"palmate\"            \"palmate\"            \"palmate\"           \n",
       "  [52] \"palmate\"            \"palmate\"            \"palmate\"           \n",
       "  [55] \"palmate\"            \"palmate\"            \"palmate\"           \n",
       "  [58] \"palmate\"            \"palmate\"            \"palmate\"           \n",
       "  [61] \"palmate\"            \"palmate\"            \"palmate\"           \n",
       "  [64] \"palmate\"            \"palmate\"            \"palmate\"           \n",
       "  [67] \"palmate\"            \"palmate\"            \"palmate\"           \n",
       "  [70] \"palmate\"            \"palmate\"            \"palmate\"           \n",
       "  [73] \"palmate\"            \"palmate\"            \"palmate\"           \n",
       "  [76] \"palmate\"            \"palmate\"            \"palmate\"           \n",
       "  [79] \"palmate\"            \"palmate\"            \"palmate\"           \n",
       "  [82] \"palmate\"            \"palmate\"            \"palmate\"           \n",
       "  [85] \"palmate\"            \"palmate\"            \"palmate\"           \n",
       "  [88] \"palmate\"            \"palmate\"            \"palmate\"           \n",
       "  [91] \"palmate\"            \"palmate\"            \"palmate\"           \n",
       "  [94] \"palmate\"            \"palmate\"            \"palmate\"           \n",
       "  [97] \"palmate\"            \"palmate\"            \"palmate\"           \n",
       " [100] \"palmate\"            \"palmate\"            \"palmate\"           \n",
       " [103] \"palmate\"            \"palmate\"            \"palmate\"           \n",
       " [106] \"palmate\"            \"palmate\"            \"palmate\"           \n",
       " [109] \"palmate\"            \"palmate\"            \"palmate\"           \n",
       " [112] \"palmate\"            \"palmate\"            \"palmate\"           \n",
       " [115] \"palmate\"            \"palmate\"            \"palmate\"           \n",
       " [118] \"palmate\"            \"palmate\"            \"palmate\"           \n",
       " [121] \"palmate\"            \"palmate\"            \"palmate\"           \n",
       " [124] \"palmate\"            \"palmate\"            \"palmate\"           \n",
       " [127] \"palmate\"            \"palmate\"            \"palmate\"           \n",
       " [130] \"palmate\"            \"palmate\"            \"palmate\"           \n",
       " [133] \"palmate\"            \"palmate\"            \"palmate\"           \n",
       " [136] \"palmate\"            \"palmate\"            \"palmate\"           \n",
       " [139] \"palmate\"            \"palmate\"            \"palmate\"           \n",
       " [142] \"palmate\"            \"palmate\"            \"palmate\"           \n",
       " [145] \"palmate\"            \"palmate\"            \"palmate\"           \n",
       " [148] \"palmate\"            \"palmate\"            \"palmate\"           \n",
       " [151] \"palmate\"            \"palmate\"            \"palmate\"           \n",
       " [154] \"palmate\"            \"palmate\"            \"palmate\"           \n",
       " [157] \"palmate\"            \"palmate\"            \"palmate\"           \n",
       " [160] \"palmate\"            \"palmate\"            \"palmate\"           \n",
       " [163] \"palmate\"            \"palmate\"            \"palmate\"           \n",
       " [166] \"palmate\"            \"palmate\"            \"palmate\"           \n",
       " [169] \"palmate\"            \"palmate\"            \"palmate\"           \n",
       " [172] \"palmate\"            \"palmate\"            \"palmate\"           \n",
       " [175] \"palmate\"            \"palmate\"            \"palmate\"           \n",
       " [178] \"palmate\"            \"palmate\"            \"palmate\"           \n",
       " [181] \"palmate\"            \"palmate\"            \"palmate\"           \n",
       " [184] \"palmate\"            \"palmate\"            \"palmate\"           \n",
       " [187] \"palmate\"            \"palmate\"            \"palmate\"           \n",
       " [190] \"palmate\"            \"palmate\"            \"palmate\"           \n",
       " [193] \"palmate\"            \"palmate\"            \"palmate\"           \n",
       " [196] \"palmate\"            \"palmate\"            \"palmate\"           \n",
       " [199] \"palmate\"            \"palmate\"            \"palmate\"           \n",
       " [202] \"palmate\"            \"palmate\"            \"palmate\"           \n",
       " [205] \"palmate\"            \"palmate\"            \"palmate\"           \n",
       " [208] \"palmate\"            \"palmate\"            \"palmate\"           \n",
       " [211] \"palmate\"            \"palmate\"            \"palmate\"           \n",
       " [214] \"palmate\"            \"palmate\"            \"palmate\"           \n",
       " [217] \"palmate\"            \"palmate\"            \"palmate\"           \n",
       " [220] \"palmate\"            \"palmate\"            \"palmate\"           \n",
       " [223] \"palmate\"            \"palmate\"            \"palmate\"           \n",
       " [226] \"palmate\"            \"palmate\"            \"palmate\"           \n",
       " [229] \"palmate\"            \"palmate\"            \"palmate\"           \n",
       " [232] \"palmate\"            \"palmate\"            \"palmate\"           \n",
       " [235] \"palmate\"            \"palmate\"            \"palmate\"           \n",
       " [238] \"palmate\"            \"palmate\"            \"palmate\"           \n",
       " [241] \"palmate\"            \"palmate\"            \"palmate\"           \n",
       " [244] \"palmate\"            \"palmate\"            \"palmate\"           \n",
       " [247] \"palmate\"            \"palmate\"            \"palmate\"           \n",
       " [250] \"palmate\"            \"palmate\"            \"palmate\"           \n",
       " [253] \"palmate\"            \"palmate\"            \"palmate\"           \n",
       " [256] \"palmate\"            \"palmate\"            \"palmate\"           \n",
       " [259] \"palmate\"            \"palmate\"            \"palmate\"           \n",
       " [262] \"palmate\"            \"palmate\"            \"palmate\"           \n",
       " [265] \"palmate\"            \"palmate\"            \"palmate\"           \n",
       " [268] \"palmate\"            \"palmate\"            \"palmate\"           \n",
       " [271] \"palmate\"            \"palmate\"            \"palmate\"           \n",
       " [274] \"palmate\"            \"palmate\"            \"palmate\"           \n",
       " [277] \"palmate\"            \"palmate\"            \"palmate\"           \n",
       " [280] \"palmate\"            \"palmate\"            \"palmate\"           \n",
       " [283] \"palmate\"            \"palmate\"            \"palmate\"           \n",
       " [286] \"palmate\"            \"palmate\"            \"palmate\"           \n",
       " [289] \"palmate\"            \"palmate\"            \"palmate\"           \n",
       " [292] \"palmate\"            \"palmate\"            \"palmate\"           \n",
       " [295] \"palmate\"            \"palmate\"            \"palmate\"           \n",
       " [298] \"palmate\"            \"palmate\"            \"palmate\"           \n",
       " [301] \"palmate\"            \"palmate\"            \"palmate\"           \n",
       " [304] \"palmate\"            \"palmate\"            \"palmate\"           \n",
       " [307] \"palmate\"            \"palmate\"            \"palmate\"           \n",
       " [310] \"palmate\"            \"palmate\"            \"palmate\"           \n",
       " [313] \"palmate\"            \"palmate\"            \"palmate\"           \n",
       " [316] \"palmate\"            \"palmate\"            \"palmate\"           \n",
       " [319] \"palmate\"            \"palmate\"            \"palmate\"           \n",
       " [322] \"palmate\"            \"palmate\"            \"palmate\"           \n",
       " [325] \"palmate\"            \"palmate\"            \"palmate\"           \n",
       " [328] \"palmate\"            \"palmate\"            \"palmate\"           \n",
       " [331] \"palmate\"            \"palmate\"            \"palmate\"           \n",
       " [334] \"palmate\"            \"palmate\"            \"palmate\"           \n",
       " [337] \"palmate\"            \"palmate\"            \"palmate\"           \n",
       " [340] \"palmate\"            \"palmate\"            \"palmate\"           \n",
       " [343] \"palmate\"            \"palmate\"            \"palmate\"           \n",
       " [346] \"palmate\"            \"palmate\"            \"palmate\"           \n",
       " [349] \"palmate\"            \"palmate\"            \"palmate\"           \n",
       " [352] \"palmate\"            \"palmate\"            \"palmate\"           \n",
       " [355] \"palmate\"            \"palmate\"            \"palmate\"           \n",
       " [358] \"palmate\"            \"palmate\"            \"palmate\"           \n",
       " [361] \"palmate\"            \"palmate\"            \"palmate\"           \n",
       " [364] \"palmate\"            \"palmate\"            \"palmate\"           \n",
       " [367] \"palmate\"            \"palmate\"            \"palmate\"           \n",
       " [370] \"palmate\"            \"palmate\"            \"palmate\"           \n",
       " [373] \"palmate\"            \"palmate\"            \"palmate\"           \n",
       " [376] \"palmate\"            \"palmate\"            \"palmate\"           \n",
       " [379] \"palmate\"            \"palmate\"            \"palmate\"           \n",
       " [382] \"palmate\"            \"palmate\"            \"palmate\"           \n",
       " [385] \"palmate\"            \"palmate\"            \"palmate\"           \n",
       " [388] \"palmate\"            \"palmate\"            \"palmate\"           \n",
       " [391] \"palmate\"            \"palmate\"            \"palmate\"           \n",
       " [394] \"palmate\"            \"palmate\"            \"palmate\"           \n",
       " [397] \"palmate\"            \"palmate\"            \"palmate\"           \n",
       " [400] \"palmate\"            \"palmate\"            \"palmate\"           \n",
       " [403] \"palmate\"            \"palmate\"            \"palmate\"           \n",
       " [406] \"palmate\"            \"palmate\"            \"palmate\"           \n",
       " [409] \"palmate\"            \"palmate\"            \"palmate\"           \n",
       " [412] \"palmate\"            \"palmate\"            \"palmate\"           \n",
       " [415] \"palmate\"            \"palmate\"            \"palmate\"           \n",
       " [418] \"palmate\"            \"palmate\"            \"palmate\"           \n",
       " [421] \"palmate\"            \"palmate\"            \"palmate\"           \n",
       " [424] \"palmate\"            \"palmate\"            \"palmate\"           \n",
       " [427] \"palmate\"            \"palmate\"            \"palmate\"           \n",
       " [430] \"palmate\"            \"palmate\"            \"palmate\"           \n",
       " [433] \"palmate\"            \"palmate\"            \"palmate\"           \n",
       " [436] \"palmate\"            \"palmate\"            \"palmate\"           \n",
       " [439] \"palmate\"            \"palmate\"            \"palmate\"           \n",
       " [442] \"palmate\"            \"palmate\"            \"palmate\"           \n",
       " [445] \"palmate\"            \"palmate\"            \"palmate\"           \n",
       " [448] \"palmate\"            \"palmate\"            \"palmate\"           \n",
       " [451] \"palmate\"            \"palmate\"            \"palmate\"           \n",
       " [454] \"palmate\"            \"palmateentire\"      \"palmateentire\"     \n",
       " [457] \"palmateentire\"      \"palmateentire\"      \"palmateentire\"     \n",
       " [460] \"palmateentire\"      \"palmateentire\"      \"pinnate\"           \n",
       " [463] \"pinnate\"            \"pinnate\"            \"pinnate\"           \n",
       " [466] \"pinnate\"            \"pinnate\"            \"pinnate\"           \n",
       " [469] \"pinnate\"            \"pinnate\"            \"pinnate\"           \n",
       " [472] \"pinnate\"            \"pinnate\"            \"pinnate\"           \n",
       " [475] \"pinnate\"            \"pinnate\"            \"pinnate\"           \n",
       " [478] \"pinnate\"            \"pinnate\"            \"pinnate\"           \n",
       " [481] \"pinnate\"            \"pinnate\"            \"pinnate\"           \n",
       " [484] \"pinnate\"            \"pinnate\"            \"pinnate\"           \n",
       " [487] \"pinnate\"            \"pinnate\"            \"pinnate\"           \n",
       " [490] \"pinnate\"            \"pinnate\"            \"pinnate\"           \n",
       " [493] \"pinnate\"            \"pinnate\"            \"pinnate\"           \n",
       " [496] \"pinnate\"            \"pinnate\"            \"pinnate\"           \n",
       " [499] \"pinnate\"            \"pinnate\"            \"pinnate\"           \n",
       " [502] \"pinnate\"            \"pinnate\"            \"pinnate\"           \n",
       " [505] \"pinnate\"            \"pinnate\"            \"pinnate\"           \n",
       " [508] \"pinnate\"            \"pinnate\"            \"pinnate\"           \n",
       " [511] \"pinnate\"            \"pinnate\"            \"pinnate\"           \n",
       " [514] \"pinnate\"            \"pinnate\"            \"pinnate\"           \n",
       " [517] \"pinnate\"            \"pinnate\"            \"pinnate\"           \n",
       " [520] \"pinnate\"            \"pinnate\"            \"pinnate\"           \n",
       " [523] \"pinnate\"            \"pinnate\"            \"pinnate\"           \n",
       " [526] \"pinnate\"            \"pinnate\"            \"pinnate\"           \n",
       " [529] \"pinnate\"            \"pinnate\"            \"pinnate\"           \n",
       " [532] \"pinnate\"            \"pinnate\"            \"pinnate\"           \n",
       " [535] \"pinnate\"            \"pinnate\"            \"pinnate\"           \n",
       " [538] \"pinnate\"            \"pinnate\"            \"pinnate\"           \n",
       " [541] \"pinnate\"            \"pinnate\"            \"pinnate\"           \n",
       " [544] \"pinnate\"            \"pinnate\"            \"pinnate\"           \n",
       " [547] \"pinnate\"            \"pinnate\"            \"pinnate\"           \n",
       " [550] \"pinnate\"            \"pinnate\"            \"pinnate\"           \n",
       " [553] \"pinnate\"            \"pinnate\"            \"pinnate\"           \n",
       " [556] \"pinnate\"            \"pinnate\"            \"pinnate\"           \n",
       " [559] \"pinnate\"            \"pinnate\"            \"pinnate\"           \n",
       " [562] \"pinnate\"            \"pinnate\"            \"pinnate\"           \n",
       " [565] \"pinnate\"            \"pinnate\"            \"pinnate\"           \n",
       " [568] \"pinnate\"            \"pinnate\"            \"pinnate\"           \n",
       " [571] \"pinnate\"            \"pinnate\"            \"pinnate\"           \n",
       " [574] \"pinnate\"            \"pinnate\"            \"pinnate\"           \n",
       " [577] \"pinnate\"            \"pinnate\"            \"pinnate\"           \n",
       " [580] \"pinnate\"            \"pinnate\"            \"pinnate\"           \n",
       " [583] \"pinnate\"            \"pinnate\"            \"pinnate\"           \n",
       " [586] \"pinnate\"            \"pinnate\"            \"pinnate\"           \n",
       " [589] \"pinnate\"            \"pinnate\"            \"pinnate\"           \n",
       " [592] \"pinnate\"            \"pinnate\"            \"pinnate\"           \n",
       " [595] \"pinnate\"            \"pinnate\"            \"pinnate\"           \n",
       " [598] \"pinnate\"            \"pinnate\"            \"pinnate\"           \n",
       " [601] \"pinnate\"            \"pinnate\"            \"pinnate\"           \n",
       " [604] \"pinnate\"            \"pinnate\"            \"pinnate\"           \n",
       " [607] \"pinnate\"            \"pinnate\"            \"pinnate\"           \n",
       " [610] \"pinnate\"            \"pinnate\"            \"pinnate\"           \n",
       " [613] \"pinnate\"            \"pinnate\"            \"pinnate\"           \n",
       " [616] \"pinnate\"            \"pinnate\"            \"pinnate\"           \n",
       " [619] \"pinnate\"            \"pinnate\"            \"pinnate\"           \n",
       " [622] \"pinnate\"            \"pinnate\"            \"pinnate\"           \n",
       " [625] \"pinnate\"            \"pinnate\"            \"pinnate\"           \n",
       " [628] \"pinnate\"            \"pinnate\"            \"pinnate\"           \n",
       " [631] \"pinnate\"            \"pinnate\"            \"pinnate\"           \n",
       " [634] \"pinnate\"            \"pinnate\"            \"pinnate\"           \n",
       " [637] \"pinnate\"            \"pinnate\"            \"pinnate\"           \n",
       " [640] \"pinnate\"            \"pinnate\"            \"pinnate\"           \n",
       " [643] \"pinnate\"            \"pinnate\"            \"pinnate\"           \n",
       " [646] \"pinnate\"            \"pinnate\"            \"pinnate\"           \n",
       " [649] \"pinnate\"            \"pinnate\"            \"pinnate\"           \n",
       " [652] \"pinnate\"            \"pinnate\"            \"pinnate\"           \n",
       " [655] \"pinnate\"            \"pinnate\"            \"pinnate\"           \n",
       " [658] \"pinnate\"            \"pinnate\"            \"pinnate\"           \n",
       " [661] \"pinnate\"            \"pinnate\"            \"pinnate\"           \n",
       " [664] \"pinnate\"            \"pinnate\"            \"pinnate\"           \n",
       " [667] \"pinnate\"            \"pinnate\"            \"pinnate\"           \n",
       " [670] \"pinnate\"            \"pinnate\"            \"pinnate\"           \n",
       " [673] \"pinnate\"            \"pinnate\"            \"pinnate\"           \n",
       " [676] \"pinnate\"            \"pinnate\"            \"pinnate\"           \n",
       " [679] \"pinnate\"            \"pinnate\"            \"pinnate\"           \n",
       " [682] \"pinnate\"            \"pinnate\"            \"pinnate\"           \n",
       " [685] \"pinnate\"            \"pinnate\"            \"pinnate\"           \n",
       " [688] \"pinnate\"            \"pinnate\"            \"pinnate\"           \n",
       " [691] \"pinnate\"            \"pinnate\"            \"pinnate\"           \n",
       " [694] \"pinnate\"            \"pinnate\"            \"pinnate\"           \n",
       " [697] \"pinnate\"            \"pinnate\"            \"pinnate\"           \n",
       " [700] \"pinnate\"            \"pinnate\"            \"pinnate\"           \n",
       " [703] \"pinnate\"            \"pinnate\"            \"pinnate\"           \n",
       " [706] \"pinnate\"            \"pinnate\"            \"pinnate\"           \n",
       " [709] \"pinnate\"            \"pinnate\"            \"pinnate\"           \n",
       " [712] \"pinnate\"            \"pinnate\"            \"pinnate\"           \n",
       " [715] \"pinnatepolymorphic\" \"pinnate\"            \"pinnate\"           \n",
       " [718] \"pinnate\"            \"pinnate\"            \"pinnate\"           \n",
       " [721] \"pinnate\"            \"pinnate\"            \"pinnate\"           \n",
       " [724] \"pinnate\"            \"pinnate\"            \"pinnate\"           \n",
       " [727] \"pinnate\"            \"pinnatepolymorphic\" \"pinnate\"           \n",
       " [730] \"pinnate\"            \"pinnatepolymorphic\" \"pinnate\"           \n",
       " [733] \"pinnate\"            \"pinnate\"            \"pinnate\"           \n",
       " [736] \"pinnatepolymorphic\" \"pinnate\"            \"pinnate\"           \n",
       " [739] \"pinnate\"            \"pinnate\"            \"pinnatepolymorphic\"\n",
       " [742] \"pinnate\"            \"pinnate\"            \"pinnate\"           \n",
       " [745] \"pinnatepolymorphic\" \"pinnate\"            \"pinnate\"           \n",
       " [748] \"pinnate\"            \"pinnatepolymorphic\" \"pinnate\"           \n",
       " [751] \"pinnate\"            \"pinnatepolymorphic\" \"pinnatepolymorphic\"\n",
       " [754] \"pinnate\"            \"pinnate\"            \"pinnate\"           \n",
       " [757] \"pinnatepolymorphic\" \"pinnatepolymorphic\" \"pinnate\"           \n",
       " [760] \"pinnate\"            \"pinnatepolymorphic\" \"pinnatepolymorphic\"\n",
       " [763] \"pinnate\"            \"pinnate\"            \"pinnatepolymorphic\"\n",
       " [766] \"pinnate\"            \"pinnatepolymorphic\" \"pinnate\"           \n",
       " [769] \"pinnate\"            \"pinnate\"            \"pinnate\"           \n",
       " [772] \"pinnate\"            \"pinnate\"            \"pinnate\"           \n",
       " [775] \"pinnate\"            \"pinnatepolymorphic\" \"pinnate\"           \n",
       " [778] \"pinnatepolymorphic\" \"pinnate\"            \"pinnate\"           \n",
       " [781] \"pinnate\"            \"pinnatepolymorphic\" \"pinnate\"           \n",
       " [784] \"pinnate\"            \"pinnate\"            \"pinnate\"           \n",
       " [787] \"pinnate\"            \"pinnate\"            \"pinnate\"           \n",
       " [790] \"pinnate\"            \"pinnate\"            \"pinnate\"           \n",
       " [793] \"pinnate\"            \"pinnate\"            \"pinnate\"           \n",
       " [796] \"pinnate\"            \"pinnate\"            \"pinnate\"           \n",
       " [799] \"pinnate\"            \"pinnate\"            \"pinnate\"           \n",
       " [802] \"pinnate\"            \"pinnate\"            \"pinnate\"           \n",
       " [805] \"pinnate\"            \"pinnate\"            \"pinnate\"           \n",
       " [808] \"pinnate\"            \"pinnate\"            \"pinnate\"           \n",
       " [811] \"pinnate\"            \"pinnate\"            \"pinnate\"           \n",
       " [814] \"pinnate\"            \"pinnate\"            \"pinnate\"           \n",
       " [817] \"pinnate\"            \"pinnate\"            \"pinnate\"           \n",
       " [820] \"pinnate\"            \"pinnate\"            \"pinnate\"           \n",
       " [823] \"pinnate\"            \"pinnate\"            \"pinnate\"           \n",
       " [826] \"pinnate\"            \"pinnate\"            \"pinnate\"           \n",
       " [829] \"pinnate\"            \"pinnate\"            \"pinnate\"           \n",
       " [832] \"pinnate\"            \"pinnate\"            \"pinnate\"           \n",
       " [835] \"pinnate\"            \"pinnate\"            \"pinnate\"           \n",
       " [838] \"pinnate\"            \"pinnate\"            \"pinnate\"           \n",
       " [841] \"pinnate\"            \"pinnate\"            \"pinnate\"           \n",
       " [844] \"pinnate\"            \"pinnate\"            \"pinnate\"           \n",
       " [847] \"pinnate\"            \"pinnate\"            \"pinnate\"           \n",
       " [850] \"pinnate\"            \"pinnate\"            \"pinnate\"           \n",
       " [853] \"pinnate\"            \"pinnate\"            \"pinnate\"           \n",
       " [856] \"pinnate\"            \"pinnate\"            \"pinnate\"           \n",
       " [859] \"pinnate\"            \"pinnate\"            \"pinnate\"           \n",
       " [862] \"pinnate\"            \"pinnate\"            \"pinnate\"           \n",
       " [865] \"pinnate\"            \"pinnate\"            \"pinnate\"           \n",
       " [868] \"pinnate\"            \"pinnate\"            \"pinnate\"           \n",
       " [871] \"pinnate\"            \"pinnate\"            \"pinnate\"           \n",
       " [874] \"pinnate\"            \"pinnate\"            \"pinnate\"           \n",
       " [877] \"pinnate\"            \"pinnate\"            \"pinnate\"           \n",
       " [880] \"pinnate\"            \"pinnate\"            \"pinnate\"           \n",
       " [883] \"pinnate\"            \"pinnate\"            \"pinnate\"           \n",
       " [886] \"pinnate\"            \"pinnate\"            \"pinnate\"           \n",
       " [889] \"pinnate\"            \"pinnate\"            \"pinnate\"           \n",
       " [892] \"pinnate\"            \"pinnate\"            \"pinnate\"           \n",
       " [895] \"pinnate\"            \"pinnate\"            \"pinnate\"           \n",
       " [898] \"pinnate\"            \"pinnate\"            \"pinnate\"           \n",
       " [901] \"pinnate\"            \"pinnate\"            \"pinnate\"           \n",
       " [904] \"pinnate\"            \"pinnate\"            \"pinnate\"           \n",
       " [907] \"pinnate\"            \"pinnate\"            \"pinnate\"           \n",
       " [910] \"pinnate\"            \"pinnate\"            \"pinnate\"           \n",
       " [913] \"pinnate\"            \"pinnate\"            \"pinnate\"           \n",
       " [916] \"pinnate\"            \"pinnate\"            \"pinnate\"           \n",
       " [919] \"pinnate\"            \"pinnate\"            \"pinnate\"           \n",
       " [922] \"pinnate\"            \"pinnate\"            \"pinnate\"           \n",
       " [925] \"pinnate\"            \"pinnate\"            \"pinnate\"           \n",
       " [928] \"pinnate\"            \"pinnate\"            \"pinnate\"           \n",
       " [931] \"pinnate\"            \"pinnate\"            \"pinnate\"           \n",
       " [934] \"pinnate\"            \"pinnate\"            \"pinnate\"           \n",
       " [937] \"pinnate\"            \"pinnate\"            \"pinnate\"           \n",
       " [940] \"pinnate\"            \"pinnate\"            \"pinnate\"           \n",
       " [943] \"pinnate\"            \"pinnate\"            \"pinnate\"           \n",
       " [946] \"pinnate\"            \"pinnate\"            \"pinnate\"           \n",
       " [949] \"pinnate\"            \"pinnate\"            \"pinnate\"           \n",
       " [952] \"pinnate\"            \"pinnate\"            \"pinnate\"           \n",
       " [955] \"pinnate\"            \"pinnate\"            \"pinnate\"           \n",
       " [958] \"pinnate\"            \"pinnate\"            \"pinnate\"           \n",
       " [961] \"pinnate\"            \"pinnate\"            \"pinnate\"           \n",
       " [964] \"pinnate\"            \"pinnate\"            \"pinnate\"           \n",
       " [967] \"pinnate\"            \"pinnate\"            \"pinnate\"           \n",
       " [970] \"pinnate\"            \"pinnate\"            \"pinnate\"           \n",
       " [973] \"pinnate\"            \"pinnate\"            \"pinnate\"           \n",
       " [976] \"pinnate\"            \"pinnate\"            \"pinnate\"           \n",
       " [979] \"pinnate\"            \"pinnate\"            \"pinnate\"           \n",
       " [982] \"pinnate\"            \"pinnate\"            \"pinnate\"           \n",
       " [985] \"pinnate\"            \"pinnate\"            \"pinnate\"           \n",
       " [988] \"pinnate\"            \"pinnate\"            \"pinnate\"           \n",
       " [991] \"pinnate\"            \"pinnate\"            \"pinnate\"           \n",
       " [994] \"pinnate\"            \"pinnate\"            \"pinnate\"           \n",
       " [997] \"pinnate\"            \"pinnate\"            \"pinnate\"           \n",
       "[1000] \"pinnate\"            \"pinnate\"            \"pinnate\"           \n",
       "[1003] \"pinnate\"            \"pinnate\"            \"pinnate\"           \n",
       "[1006] \"pinnate\"            \"pinnate\"            \"pinnate\"           \n",
       "[1009] \"pinnate\"            \"pinnate\"            \"pinnate\"           \n",
       "[1012] \"pinnate\"            \"pinnate\"            \"pinnate\"           \n",
       "[1015] \"pinnate\"            \"pinnate\"            \"pinnate\"           \n",
       "[1018] \"pinnate\"            \"pinnate\"            \"pinnate\"           \n",
       "[1021] \"pinnate\"            \"pinnate\"            \"pinnate\"           \n",
       "[1024] \"pinnate\"            \"pinnate\"            \"pinnate\"           \n",
       "[1027] \"pinnate\"            \"pinnate\"            \"pinnate\"           \n",
       "[1030] \"pinnate\"            \"pinnate\"            \"pinnate\"           \n",
       "[1033] \"pinnate\"            \"pinnate\"            \"pinnate\"           \n",
       "[1036] \"pinnate\"            \"pinnate\"            \"pinnate\"           \n",
       "[1039] \"pinnate\"            \"pinnate\"            \"pinnate\"           \n",
       "[1042] \"pinnate\"            \"pinnate\"            \"pinnate\"           \n",
       "[1045] \"pinnate\"            \"pinnate\"            \"pinnate\"           \n",
       "[1048] \"pinnate\"            \"pinnate\"            \"pinnate\"           \n",
       "[1051] \"pinnate\"            \"pinnate\"            \"pinnate\"           \n",
       "[1054] \"pinnate\"            \"pinnate\"            \"pinnate\"           \n",
       "[1057] \"pinnate\"            \"pinnate\"            \"pinnate\"           \n",
       "[1060] \"pinnate\"            \"pinnate\"            \"pinnate\"           \n",
       "[1063] \"pinnate\"            \"pinnate\"            \"pinnate\"           \n",
       "[1066] \"pinnate\"            \"pinnate\"            \"pinnate\"           \n",
       "[1069] \"pinnate\"            \"pinnate\"            \"pinnate\"           \n",
       "[1072] \"pinnate\"            \"pinnate\"            \"pinnate\"           \n",
       "[1075] \"pinnate\"            \"pinnate\"            \"pinnate\"           \n",
       "[1078] \"pinnate\"            \"pinnate\"            \"pinnate\"           \n",
       "[1081] \"pinnate\"            \"pinnate\"            \"pinnate\"           \n",
       "[1084] \"pinnate\"            \"pinnate\"            \"pinnate\"           \n",
       "[1087] \"pinnate\"            \"pinnate\"            \"pinnate\"           \n",
       "[1090] \"pinnate\"            \"pinnate\"            \"pinnate\"           \n",
       "[1093] \"pinnate\"            \"pinnate\"            \"pinnate\"           \n",
       "[1096] \"pinnate\"            \"pinnate\"            \"pinnate\"           \n",
       "[1099] \"pinnate\"            \"pinnate\"            \"pinnate\"           \n",
       "[1102] \"pinnate\"            \"pinnate\"            \"pinnate\"           \n",
       "[1105] \"pinnate\"            \"pinnate\"            \"pinnate\"           \n",
       "[1108] \"pinnate\"            \"pinnate\"            \"pinnate\"           \n",
       "[1111] \"pinnate\"            \"pinnate\"            \"pinnate\"           \n",
       "[1114] \"pinnate\"            \"pinnate\"            \"pinnate\"           \n",
       "[1117] \"pinnate\"            \"pinnate\"            \"pinnate\"           \n",
       "[1120] \"pinnate\"            \"pinnate\"            \"pinnate\"           \n",
       "[1123] \"pinnate\"            \"pinnate\"            \"pinnate\"           \n",
       "[1126] \"pinnate\"            \"pinnate\"            \"pinnate\"           \n",
       "[1129] \"pinnate\"            \"pinnate\"            \"pinnate\"           \n",
       "[1132] \"pinnate\"            \"pinnate\"            \"pinnate\"           \n",
       "[1135] \"pinnate\"            \"pinnate\"            \"pinnate\"           \n",
       "[1138] \"pinnate\"            \"pinnate\"            \"pinnate\"           \n",
       "[1141] \"pinnate\"            \"pinnate\"            \"pinnate\"           \n",
       "[1144] \"pinnate\"            \"pinnate\"            \"pinnate\"           \n",
       "[1147] \"pinnate\"            \"pinnate\"            \"pinnate\"           \n",
       "[1150] \"pinnate\"            \"pinnate\"            \"pinnate\"           \n",
       "[1153] \"pinnate\"            \"pinnate\"            \"pinnate\"           \n",
       "[1156] \"pinnate\"            \"pinnate\"            \"pinnate\"           \n",
       "[1159] \"pinnate\"            \"pinnate\"            \"pinnate\"           \n",
       "[1162] \"pinnate\"            \"pinnate\"            \"pinnate\"           \n",
       "[1165] \"pinnate\"            \"pinnate\"            \"pinnate\"           \n",
       "[1168] \"pinnate\"            \"pinnate\"            \"pinnate\"           \n",
       "[1171] \"pinnate\"            \"pinnate\"            \"pinnate\"           \n",
       "[1174] \"pinnate\"            \"pinnate\"            \"pinnate\"           \n",
       "[1177] \"pinnate\"            \"pinnate\"            \"pinnate\"           \n",
       "[1180] \"pinnate\"            \"pinnate\"            \"pinnate\"           \n",
       "[1183] \"pinnate\"            \"pinnate\"            \"pinnate\"           \n",
       "[1186] \"pinnate\"            \"pinnate\"            \"pinnate\"           \n",
       "[1189] \"pinnate\"            \"pinnate\"            \"pinnate\"           \n",
       "[1192] \"pinnate\"            \"pinnate\"            \"pinnate\"           \n",
       "[1195] \"pinnate\"            \"pinnate\"            \"pinnate\"           \n",
       "[1198] \"pinnate\"            \"pinnate\"            \"pinnate\"           \n",
       "[1201] \"pinnate\"            \"pinnate\"            \"pinnate\"           \n",
       "[1204] \"pinnate\"            \"pinnate\"            \"pinnate\"           \n",
       "[1207] \"pinnate\"            \"pinnate\"            \"pinnate\"           \n",
       "[1210] \"pinnate\"            \"pinnate\"            \"pinnate\"           \n",
       "[1213] \"pinnate\"            \"pinnate\"            \"pinnate\"           \n",
       "[1216] \"pinnate\"            \"pinnate\"            \"pinnate\"           \n",
       "[1219] \"pinnate\"            \"pinnate\"            \"pinnate\"           \n",
       "[1222] \"pinnate\"            \"pinnate\"            \"pinnate\"           \n",
       "[1225] \"pinnate\"            \"pinnate\"            \"pinnate\"           \n",
       "[1228] \"pinnate\"            \"pinnate\"            \"pinnate\"           \n",
       "[1231] \"pinnate\"            \"pinnate\"            \"pinnate\"           \n",
       "[1234] \"pinnate\"            \"pinnate\"            \"pinnate\"           \n",
       "[1237] \"pinnate\"            \"pinnate\"            \"pinnate\"           \n",
       "[1240] \"pinnate\"            \"pinnate\"            \"pinnate\"           \n",
       "[1243] \"pinnate\"            \"pinnate\"            \"pinnate\"           \n",
       "[1246] \"pinnate\"            \"pinnate\"            \"pinnate\"           \n",
       "[1249] \"pinnate\"            \"pinnate\"            \"pinnate\"           \n",
       "[1252] \"pinnate\"            \"pinnate\"            \"pinnate\"           \n",
       "[1255] \"pinnate\"            \"pinnate\"            \"pinnate\"           \n",
       "[1258] \"pinnate\"            \"pinnate\"            \"pinnate\"           \n",
       "[1261] \"pinnate\"            \"pinnate\"            \"pinnate\"           \n",
       "[1264] \"pinnate\"            \"pinnate\"            \"pinnate\"           \n",
       "[1267] \"pinnate\"            \"pinnate\"            \"pinnate\"           \n",
       "[1270] \"pinnate\"            \"pinnate\"            \"pinnate\"           \n",
       "[1273] \"pinnate\"            \"pinnate\"            \"pinnate\"           \n",
       "[1276] \"pinnate\"            \"pinnate\"            \"pinnate\"           \n",
       "[1279] \"pinnate\"            \"pinnate\"            \"pinnate\"           \n",
       "[1282] \"pinnate\"            \"pinnate\"            \"pinnate\"           \n",
       "[1285] \"pinnate\"            \"pinnate\"            \"pinnate\"           \n",
       "[1288] \"pinnate\"            \"pinnate\"            \"pinnate\"           \n",
       "[1291] \"pinnate\"            \"pinnate\"            \"pinnate\"           \n",
       "[1294] \"pinnate\"            \"pinnate\"            \"pinnate\"           \n",
       "[1297] \"pinnate\"            \"pinnate\"            \"pinnate\"           \n",
       "[1300] \"pinnate\"            \"pinnate\"            \"pinnate\"           \n",
       "[1303] \"pinnate\"            \"pinnate\"            \"pinnate\"           \n",
       "[1306] \"pinnate\"            \"pinnate\"            \"pinnate\"           \n",
       "[1309] \"pinnate\"            \"pinnate\"            \"pinnate\"           \n",
       "[1312] \"pinnate\"            \"pinnate\"            \"pinnate\"           \n",
       "[1315] \"pinnate\"            \"pinnate\"            \"pinnate\"           \n",
       "[1318] \"pinnate\"            \"pinnate\"            \"pinnate\"           \n",
       "[1321] \"pinnate\"            \"pinnate\"            \"pinnate\"           \n",
       "[1324] \"pinnate\"            \"pinnate\"            \"pinnate\"           \n",
       "[1327] \"pinnate\"            \"pinnate\"            \"pinnate\"           \n",
       "[1330] \"pinnate\"            \"pinnate\"            \"pinnate\"           \n",
       "[1333] \"pinnate\"            \"pinnate\"            \"pinnate\"           \n",
       "[1336] \"pinnate\"            \"pinnate\"            \"pinnate\"           \n",
       "[1339] \"pinnate\"            \"pinnate\"            \"pinnate\"           \n",
       "[1342] \"pinnate\"            \"pinnate\"            \"pinnate\"           \n",
       "[1345] \"pinnate\"            \"pinnate\"            \"pinnate\"           \n",
       "[1348] \"pinnate\"            \"pinnate\"            \"pinnate\"           \n",
       "[1351] \"pinnate\"            \"pinnate\"            \"pinnate\"           \n",
       "[1354] \"pinnate\"            \"pinnate\"            \"pinnate\"           \n",
       "[1357] \"pinnate\"            \"pinnate\"            \"pinnate\"           \n",
       "[1360] \"pinnate\"            \"pinnate\"            \"pinnate\"           \n",
       "[1363] \"pinnate\"            \"pinnate\"            \"pinnate\"           \n",
       "[1366] \"pinnate\"            \"pinnate\"            \"pinnate\"           \n",
       "[1369] \"pinnate\"            \"pinnate\"            \"pinnate\"           \n",
       "[1372] \"pinnate\"            \"pinnate\"            \"pinnate\"           \n",
       "[1375] \"pinnate\"            \"pinnate\"            \"pinnate\"           \n",
       "[1378] \"pinnate\"            \"pinnate\"            \"pinnatepolymorphic\"\n",
       "[1381] \"pinnate\"            \"pinnate\"            \"pinnate\"           \n",
       "[1384] \"pinnatepolymorphic\" \"pinnate\"            \"pinnatepolymorphic\"\n",
       "[1387] \"pinnatepolymorphic\" \"pinnate\"            \"pinnate\"           \n",
       "[1390] \"pinnate\"            \"pinnate\"            \"pinnate\"           \n",
       "[1393] \"pinnate\"            \"pinnate\"            \"pinnate\"           \n",
       "[1396] \"pinnatepolymorphic\" \"pinnate\"            \"pinnate\"           \n",
       "[1399] \"pinnate\"            \"pinnatepolymorphic\" \"pinnate\"           \n",
       "[1402] \"pinnate\"            \"pinnate\"            \"pinnatepolymorphic\"\n",
       "[1405] \"pinnate\"            \"pinnatepolymorphic\" \"pinnate\"           \n",
       "[1408] \"pinnate\"            \"pinnate\"            \"pinnate\"           \n",
       "[1411] \"pinnate\"            \"pinnate\"            \"pinnate\"           \n",
       "[1414] \"pinnate\"            \"pinnate\"            \"pinnate\"           \n",
       "[1417] \"pinnate\"            \"pinnate\"            \"pinnate\"           \n",
       "[1420] \"pinnate\"            \"pinnate\"            \"pinnate\"           \n",
       "[1423] \"pinnate\"            \"pinnate\"            \"pinnate\"           \n",
       "[1426] \"pinnate\"            \"pinnate\"            \"pinnate\"           \n",
       "[1429] \"pinnate\"            \"pinnate\"            \"pinnate\"           \n",
       "[1432] \"pinnate\"            \"pinnate\"            \"pinnate\"           \n",
       "[1435] \"pinnate\"            \"pinnate\"            \"pinnate\"           \n",
       "[1438] \"pinnatepolymorphic\" \"pinnatepolymorphic\" \"pinnate\"           \n",
       "[1441] \"pinnate\"            \"pinnate\"            \"pinnate\"           \n",
       "[1444] \"pinnate\"            \"pinnate\"            \"pinnate\"           \n",
       "[1447] \"pinnate\"            \"pinnate\"            \"pinnatepolymorphic\"\n",
       "[1450] \"pinnate\"            \"pinnate\"            \"pinnatepolymorphic\"\n",
       "[1453] \"pinnate\"            \"pinnate\"            \"pinnatepolymorphic\"\n",
       "[1456] \"pinnatepolymorphic\" \"pinnatepolymorphic\" \"pinnate\"           \n",
       "[1459] \"pinnate\"            \"pinnate\"            \"pinnate\"           \n",
       "[1462] \"pinnate\"            \"pinnate\"            \"pinnatepolymorphic\"\n",
       "[1465] \"pinnate\"            \"pinnate\"            \"pinnate\"           \n",
       "[1468] \"pinnate\"            \"pinnate\"            \"pinnate\"           \n",
       "[1471] \"pinnate\"            \"pinnate\"            \"pinnate\"           \n",
       "[1474] \"pinnate\"            \"pinnate\"            \"pinnate\"           \n",
       "[1477] \"pinnate\"            \"pinnatepolymorphic\" \"pinnate\"           \n",
       "[1480] \"pinnate\"            \"pinnate\"            \"pinnate\"           \n",
       "[1483] \"pinnate\"            \"pinnate\"            \"pinnatepolymorphic\"\n",
       "[1486] \"pinnate\"            \"pinnate\"            \"pinnate\"           \n",
       "[1489] \"pinnate\"            \"pinnate\"            \"pinnatepolymorphic\"\n",
       "[1492] \"pinnate\"            \"pinnatepolymorphic\" \"pinnate\"           \n",
       "[1495] \"pinnate\"            \"pinnate\"            \"pinnatepolymorphic\"\n",
       "[1498] \"pinnatepolymorphic\" \"pinnatepolymorphic\" \"pinnate\"           \n",
       "[1501] \"pinnate\"            \"pinnate\"            \"pinnate\"           \n",
       "[1504] \"pinnatepolymorphic\" \"pinnate\"            \"pinnate\"           \n",
       "[1507] \"pinnate\"            \"pinnate\"            \"pinnate\"           \n",
       "[1510] \"pinnate\"            \"pinnate\"            \"pinnatepolymorphic\"\n",
       "[1513] \"pinnate\"            \"pinnate\"            \"pinnate\"           \n",
       "[1516] \"pinnate\"            \"pinnatepolymorphic\" \"pinnate\"           \n",
       "[1519] \"pinnate\"            \"pinnate\"            \"pinnatepolymorphic\"\n",
       "[1522] \"pinnate\"            \"pinnate\"            \"pinnate\"           \n",
       "[1525] \"pinnate\"            \"pinnatepolymorphic\" \"pinnate\"           \n",
       "[1528] \"pinnate\"            \"pinnate\"            \"pinnate\"           \n",
       "[1531] \"pinnate\"            \"pinnate\"            \"pinnate\"           \n",
       "[1534] \"pinnate\"            \"pinnate\"            \"pinnate\"           \n",
       "[1537] \"pinnate\"            \"pinnate\"            \"pinnate\"           \n",
       "[1540] \"pinnate\"            \"pinnate\"            \"pinnate\"           \n",
       "[1543] \"pinnate\"            \"pinnate\"            \"pinnate\"           \n",
       "[1546] \"pinnate\"            \"pinnate\"            \"pinnate\"           \n",
       "[1549] \"pinnate\"            \"pinnate\"            \"pinnate\"           \n",
       "[1552] \"pinnate\"            \"pinnate\"            \"pinnate\"           \n",
       "[1555] \"pinnate\"            \"pinnate\"            \"pinnate\"           \n",
       "[1558] \"pinnate\"            \"pinnate\"            \"pinnate\"           \n",
       "[1561] \"pinnate\"            \"pinnate\"            \"pinnate\"           \n",
       "[1564] \"pinnate\"            \"pinnate\"            \"pinnate\"           \n",
       "[1567] \"pinnate\"            \"pinnate\"            \"pinnate\"           \n",
       "[1570] \"pinnate\"            \"pinnate\"            \"pinnate\"           \n",
       "[1573] \"pinnate\"            \"pinnate\"            \"pinnate\"           \n",
       "[1576] \"pinnate\"            \"pinnate\"            \"pinnate\"           \n",
       "[1579] \"pinnate\"            \"pinnate\"            \"pinnate\"           \n",
       "[1582] \"pinnate\"            \"pinnate\"            \"pinnate\"           \n",
       "[1585] \"pinnate\"            \"pinnate\"            \"pinnate\"           \n",
       "[1588] \"pinnate\"            \"pinnate\"            \"pinnate\"           \n",
       "[1591] \"pinnate\"            \"pinnate\"            \"pinnate\"           \n",
       "[1594] \"pinnate\"            \"pinnate\"            \"pinnate\"           \n",
       "[1597] \"pinnate\"            \"pinnatepolymorphic\" \"pinnate\"           \n",
       "[1600] \"pinnate\"            \"pinnate\"            \"pinnate\"           \n",
       "[1603] \"pinnate\"            \"pinnate\"            \"pinnate\"           \n",
       "[1606] \"pinnate\"            \"pinnate\"            \"pinnate\"           \n",
       "[1609] \"pinnate\"            \"pinnate\"            \"pinnatepolymorphic\"\n",
       "[1612] \"pinnate\"            \"pinnate\"            \"pinnate\"           \n",
       "[1615] \"pinnate\"            \"pinnate\"            \"pinnate\"           \n",
       "[1618] \"pinnate\"            \"pinnate\"            \"pinnate\"           \n",
       "[1621] \"pinnatepolymorphic\" \"pinnate\"            \"pinnate\"           \n",
       "[1624] \"pinnate\"            \"pinnatepolymorphic\" \"pinnate\"           \n",
       "[1627] \"pinnate\"            \"pinnatepolymorphic\" \"pinnate\"           \n",
       "[1630] \"pinnate\"            \"pinnate\"            \"pinnate\"           \n",
       "[1633] \"pinnate\"            \"pinnate\"            \"pinnate\"           \n",
       "[1636] \"pinnatepolymorphic\" \"pinnatepolymorphic\" \"pinnate\"           \n",
       "[1639] \"pinnate\"            \"pinnate\"            \"pinnatepolymorphic\"\n",
       "[1642] \"pinnate\"            \"pinnate\"            \"pinnatepolymorphic\"\n",
       "[1645] \"pinnate\"            \"pinnatepolymorphic\" \"pinnate\"           \n",
       "[1648] \"pinnate\"            \"pinnate\"            \"pinnatepolymorphic\"\n",
       "[1651] \"pinnate\"            \"pinnatepolymorphic\" \"pinnate\"           \n",
       "[1654] \"pinnatepolymorphic\" \"pinnate\"            \"pinnate\"           \n",
       "[1657] \"pinnate\"            \"pinnate\"            \"pinnate\"           \n",
       "[1660] \"pinnate\"            \"pinnate\"            \"pinnate\"           \n",
       "[1663] \"pinnate\"            \"pinnatepolymorphic\" \"pinnatepolymorphic\"\n",
       "[1666] \"pinnate\"            \"pinnate\"            \"pinnate\"           \n",
       "[1669] \"pinnate\"            \"pinnate\"            \"pinnate\"           \n",
       "[1672] \"pinnatepolymorphic\" \"pinnatepolymorphic\" \"pinnate\"           \n",
       "[1675] \"pinnate\"            \"pinnatepolymorphic\" \"pinnate\"           \n",
       "[1678] \"pinnate\"            \"pinnate\"            \"pinnatepolymorphic\"\n",
       "[1681] \"pinnate\"            \"pinnate\"            \"pinnatepolymorphic\"\n",
       "[1684] \"pinnate\"            \"pinnatepolymorphic\" \"pinnate\"           \n",
       "[1687] \"pinnate\"            \"pinnate\"            \"pinnate\"           \n",
       "[1690] \"pinnate\"            \"pinnate\"            \"pinnate\"           \n",
       "[1693] \"pinnate\"            \"pinnate\"            \"pinnate\"           \n",
       "[1696] \"pinnate\"            \"pinnatepolymorphic\" \"pinnate\"           \n",
       "[1699] \"pinnate\"            \"pinnate\"            \"pinnate\"           \n",
       "[1702] \"pinnate\"            \"pinnate\"            \"pinnate\"           \n",
       "[1705] \"pinnate\"            \"pinnatepolymorphic\" \"pinnate\"           \n",
       "[1708] \"pinnate\"            \"pinnate\"            \"pinnate\"           \n",
       "[1711] \"pinnate\"            \"pinnate\"            \"pinnate\"           \n",
       "[1714] \"pinnate\"            \"pinnate\"            \"pinnate\"           \n",
       "[1717] \"pinnate\"            \"pinnate\"            \"pinnate\"           \n",
       "[1720] \"pinnate\"            \"pinnate\"            \"pinnatepolymorphic\"\n",
       "[1723] \"pinnate\"            \"pinnate\"            \"pinnate\"           \n",
       "[1726] \"pinnate\"            \"pinnatepolymorphic\" \"pinnate\"           \n",
       "[1729] \"pinnate\"            \"pinnatepolymorphic\" \"pinnate\"           \n",
       "[1732] \"pinnate\"            \"pinnate\"            \"pinnate\"           \n",
       "[1735] \"pinnate\"            \"pinnate\"            \"pinnate\"           \n",
       "[1738] \"pinnate\"            \"pinnate\"            \"pinnate\"           \n",
       "[1741] \"pinnate\"            \"pinnate\"            \"pinnate\"           \n",
       "[1744] \"pinnate\"            \"pinnate\"            \"pinnate\"           \n",
       "[1747] \"pinnate\"            \"pinnate\"            \"pinnate\"           \n",
       "[1750] \"pinnate\"            \"pinnate\"            \"pinnate\"           \n",
       "[1753] \"pinnate\"            \"pinnate\"            \"pinnate\"           \n",
       "[1756] \"pinnate\"            \"pinnate\"            \"pinnate\"           \n",
       "[1759] \"pinnate\"            \"pinnate\"            \"pinnate\"           \n",
       "[1762] \"pinnate\"            \"pinnate\"            \"pinnate\"           \n",
       "[1765] \"pinnate\"            \"pinnate\"            \"pinnate\"           \n",
       "[1768] \"pinnate\"            \"pinnate\"            \"pinnate\"           \n",
       "[1771] \"pinnate\"            \"pinnate\"            \"pinnate\"           \n",
       "[1774] \"pinnatepolymorphic\" \"pinnatepolymorphic\" \"pinnatepolymorphic\"\n",
       "[1777] \"pinnate\"            \"pinnatepolymorphic\" \"pinnatepolymorphic\"\n",
       "[1780] \"pinnate\"            \"pinnate\"            \"pinnatepolymorphic\"\n",
       "[1783] \"pinnatepolymorphic\" \"pinnatepolymorphic\" \"pinnatepolymorphic\"\n",
       "[1786] \"pinnatepolymorphic\" \"pinnate\"            \"pinnatepolymorphic\"\n",
       "[1789] \"pinnatepolymorphic\" \"pinnatepolymorphic\" \"pinnate\"           \n",
       "[1792] \"pinnate\"            \"pinnatepolymorphic\" \"pinnate\"           \n",
       "[1795] \"pinnate\"            \"pinnatepolymorphic\" \"pinnatepolymorphic\"\n",
       "[1798] \"pinnatepolymorphic\" \"pinnate\"            \"pinnate\"           \n",
       "[1801] \"pinnatepolymorphic\" \"pinnatepolymorphic\" \"pinnatepolymorphic\"\n",
       "[1804] \"pinnate\"            \"pinnate\"            \"pinnate\"           \n",
       "[1807] \"pinnate\"            \"pinnate\"            \"pinnatepolymorphic\"\n",
       "[1810] \"pinnatepolymorphic\" \"pinnatepolymorphic\" \"pinnate\"           \n",
       "[1813] \"pinnate\"            \"pinnatepolymorphic\" \"pinnate\"           \n",
       "[1816] \"pinnatepolymorphic\" \"pinnate\"            \"pinnate\"           \n",
       "[1819] \"pinnate\"            \"pinnate\"            \"pinnate\"           \n",
       "[1822] \"pinnatepolymorphic\" \"pinnatepolymorphic\" \"pinnatepolymorphic\"\n",
       "[1825] \"pinnatepolymorphic\" \"pinnatepolymorphic\" \"pinnatepolymorphic\"\n",
       "[1828] \"pinnatepolymorphic\" \"pinnatepolymorphic\" \"pinnate\"           \n",
       "[1831] \"pinnate\"            \"pinnate\"            \"pinnate\"           \n",
       "[1834] \"pinnate\"            \"pinnate\"            \"pinnate\"           \n",
       "[1837] \"pinnate\"            \"pinnate\"            \"pinnate\"           \n",
       "[1840] \"pinnate\"            \"pinnatepolymorphic\" \"pinnate\"           \n",
       "[1843] \"pinnate\"            \"pinnate\"            \"pinnate\"           \n",
       "[1846] \"pinnate\"            \"pinnate\"            \"pinnate\"           \n",
       "[1849] \"pinnate\"            \"pinnate\"            \"pinnate\"           \n",
       "[1852] \"pinnate\"            \"pinnate\"            \"pinnate\"           \n",
       "[1855] \"pinnate\"            \"pinnate\"            \"pinnate\"           \n",
       "[1858] \"pinnate\"            \"pinnate\"            \"pinnate\"           \n",
       "[1861] \"pinnate\"            \"pinnate\"            \"pinnate\"           \n",
       "[1864] \"pinnate\"            \"pinnate\"            \"pinnate\"           \n",
       "[1867] \"pinnate\"            \"pinnate\"            \"pinnate\"           \n",
       "[1870] \"pinnate\"            \"pinnate\"            \"pinnate\"           \n",
       "[1873] \"pinnate\"            \"pinnate\"            \"pinnate\"           \n",
       "[1876] \"pinnate\"            \"pinnate\"            \"pinnatepolymorphic\"\n",
       "[1879] \"pinnate\"            \"pinnate\"            \"pinnate\"           \n",
       "[1882] \"pinnate\"            \"pinnate\"            \"pinnate\"           \n",
       "[1885] \"pinnate\"            \"pinnatepolymorphic\" \"pinnate\"           \n",
       "[1888] \"pinnate\"            \"pinnate\"            \"pinnate\"           \n",
       "[1891] \"pinnate\"            \"pinnate\"            \"pinnate\"           \n",
       "[1894] \"pinnate\"            \"pinnate\"            \"pinnate\"           \n",
       "[1897] \"pinnate\"            \"pinnate\"            \"pinnate\"           \n",
       "[1900] \"pinnate\"            \"pinnate\"            \"pinnate\"           \n",
       "[1903] \"pinnate\"            \"pinnate\"            \"pinnate\"           \n",
       "[1906] \"pinnate\"            \"pinnate\"            \"pinnate\"           \n",
       "[1909] \"pinnate\"            \"pinnate\"            \"pinnate\"           \n",
       "[1912] \"pinnate\"            \"pinnate\"            \"pinnate\"           \n",
       "[1915] \"pinnate\"            \"pinnate\"            \"pinnate\"           \n",
       "[1918] \"pinnate\"            \"pinnate\"            \"pinnate\"           \n",
       "[1921] \"pinnate\"            \"pinnate\"            \"pinnate\"           \n",
       "[1924] \"pinnate\"            \"pinnate\"            \"pinnatepolymorphic\"\n",
       "[1927] \"pinnatepolymorphic\" \"pinnate\"            \"pinnate\"           \n",
       "[1930] \"pinnate\"            \"pinnatepolymorphic\" \"pinnate\"           \n",
       "[1933] \"pinnate\"            \"pinnate\"            \"pinnate\"           \n",
       "[1936] \"pinnate\"            \"pinnate\"            \"pinnate\"           \n",
       "[1939] \"pinnate\"            \"pinnatepolymorphic\" \"pinnatepolymorphic\"\n",
       "[1942] \"pinnatepolymorphic\" \"pinnate\"            \"pinnate\"           \n",
       "[1945] \"pinnate\"            \"pinnate\"            \"pinnatepolymorphic\"\n",
       "[1948] \"pinnate\"            \"pinnatepolymorphic\" \"pinnate\"           \n",
       "[1951] \"pinnatepolymorphic\" \"pinnatepolymorphic\" \"pinnatepolymorphic\"\n",
       "[1954] \"pinnate\"            \"pinnatepolymorphic\" \"pinnate\"           \n",
       "[1957] \"pinnate\"            \"pinnatepolymorphic\" \"pinnate\"           \n",
       "[1960] \"pinnate\"            \"pinnate\"            \"pinnate\"           \n",
       "[1963] \"pinnate\"            \"pinnate\"            \"pinnate\"           \n",
       "[1966] \"pinnate\"            \"pinnate\"            \"pinnate\"           \n",
       "[1969] \"pinnate\"            \"pinnate\"            \"pinnate\"           \n",
       "[1972] \"pinnate\"            \"pinnate\"            \"pinnate\"           \n",
       "[1975] \"pinnate\"            \"pinnate\"            \"pinnate\"           \n",
       "[1978] \"pinnate\"            \"pinnate\"            \"pinnate\"           \n",
       "[1981] \"pinnate\"            \"pinnate\"            \"pinnate\"           \n",
       "[1984] \"pinnate\"            \"pinnate\"            \"pinnate\"           \n",
       "[1987] \"pinnate\"            \"pinnate\"            \"pinnate\"           \n",
       "[1990] \"pinnate\"            \"pinnate\"            \"pinnate\"           \n",
       "[1993] \"pinnate\"            \"pinnate\"            \"pinnate\"           \n",
       "[1996] \"pinnate\"            \"pinnate\"            \"pinnate\"           \n",
       "[1999] \"pinnate\"            \"pinnate\"            \"pinnate\"           \n",
       "[2002] \"pinnate\"            \"pinnate\"            \"pinnate\"           \n",
       "[2005] \"pinnate\"            \"pinnate\"            \"pinnate\"           \n",
       "[2008] \"pinnate\"            \"pinnate\"            \"pinnate\"           \n",
       "[2011] \"pinnatepolymorphic\" \"pinnatepolymorphic\" \"pinnatepolymorphic\"\n",
       "[2014] \"pinnate\"            \"pinnate\"            \"pinnate\"           \n",
       "[2017] \"pinnate\"            \"pinnate\"            \"pinnate\"           \n",
       "[2020] \"pinnate\"            \"pinnate\"            \"pinnate\"           \n",
       "[2023] \"pinnate\"            \"pinnate\"            \"pinnate\"           \n",
       "[2026] \"pinnate\"            \"pinnate\"            \"pinnate\"           \n",
       "[2029] \"pinnate\"            \"pinnate\"            \"pinnate\"           \n",
       "[2032] \"pinnate\"            \"pinnate\"            \"pinnate\"           \n",
       "[2035] \"pinnate\"            \"pinnate\"            \"pinnate\"           \n",
       "[2038] \"pinnate\"            \"pinnate\"            \"pinnate\"           \n",
       "[2041] \"pinnate\"            \"pinnate\"            \"pinnate\"           \n",
       "[2044] \"pinnate\"            \"pinnate\"            \"pinnate\"           \n",
       "[2047] \"pinnate\"            \"pinnate\"            \"pinnate\"           \n",
       "[2050] \"pinnate\"            \"pinnate\"            \"pinnate\"           \n",
       "[2053] \"pinnate\"            \"pinnate\"            \"pinnate\"           \n",
       "[2056] \"pinnate\"            \"pinnate\"            \"pinnate\"           \n",
       "[2059] \"pinnate\"            \"pinnate\"            \"pinnate\"           \n",
       "[2062] \"pinnate\"            \"pinnate\"            \"pinnate\"           \n",
       "[2065] \"pinnate\"            \"pinnate\"            \"pinnate\"           \n",
       "[2068] \"pinnate\"            \"pinnate\"            \"pinnate\"           \n",
       "[2071] \"pinnate\"            \"pinnate\"            \"pinnate\"           \n",
       "[2074] \"pinnate\"            \"pinnate\"            \"pinnate\"           \n",
       "[2077] \"pinnate\"            \"pinnate\"            \"pinnate\"           \n",
       "[2080] \"pinnate\"            \"pinnate\"            \"pinnate\"           \n",
       "[2083] \"pinnate\"            \"pinnate\"            \"pinnate\"           \n",
       "[2086] \"pinnate\"            \"pinnate\"            \"pinnate\"           \n",
       "[2089] \"pinnate\"            \"pinnate\"            \"pinnate\"           \n",
       "[2092] \"pinnate\"            \"pinnate\"            \"pinnate\"           \n",
       "[2095] \"pinnate\"            \"pinnate\"            \"pinnate\"           \n",
       "[2098] \"pinnate\"            \"pinnate\"            \"pinnate\"           \n",
       "[2101] \"pinnate\"            \"pinnate\"            \"pinnate\"           \n",
       "[2104] \"pinnate\"            \"pinnate\"            \"pinnate\"           \n",
       "[2107] \"pinnate\"            \"pinnate\"            \"pinnate\"           \n",
       "[2110] \"pinnate\"            \"pinnate\"            \"pinnate\"           \n",
       "[2113] \"pinnate\"            \"pinnate\"            \"pinnate\"           \n",
       "[2116] \"pinnate\"            \"pinnate\"            \"pinnate\"           \n",
       "[2119] \"pinnate\"            \"pinnate\"            \"pinnate\"           \n",
       "[2122] \"pinnate\"            \"pinnate\"            \"pinnate\"           \n",
       "[2125] \"pinnate\"            \"pinnate\"            \"pinnate\"           \n",
       "[2128] \"pinnate\"            \"pinnate\"            \"pinnate\"           \n",
       "[2131] \"pinnate\"            \"pinnate\"            \"pinnate\"           \n",
       "[2134] \"pinnate\"            \"pinnate\"            \"pinnate\"           \n",
       "[2137] \"pinnate\"            \"pinnate\"            \"pinnate\"           \n",
       "[2140] \"pinnate\"            \"pinnate\"            \"pinnate\"           \n",
       "[2143] \"pinnate\"            \"pinnate\"            \"pinnate\"           \n",
       "[2146] \"pinnate\"            \"pinnate\"            \"pinnate\"           \n",
       "[2149] \"pinnate\"            \"pinnate\"            \"pinnate\"           \n",
       "[2152] \"pinnate\"            \"pinnate\"            \"pinnate\"           \n",
       "[2155] \"pinnatepolymorphic\" \"pinnate\"            \"pinnate\"           \n",
       "[2158] \"pinnate\"            \"pinnatepolymorphic\" \"pinnate\"           \n",
       "[2161] \"pinnate\"            \"pinnate\"            \"pinnate\"           \n",
       "[2164] \"pinnate\"            \"pinnatepolymorphic\" \"pinnate\"           \n",
       "[2167] \"pinnate\"            \"pinnate\"            \"pinnate\"           \n",
       "[2170] \"pinnate\"            \"pinnate\"            \"pinnate\"           \n",
       "[2173] \"pinnate\"            \"pinnate\"            \"pinnate\"           \n",
       "[2176] \"pinnate\"            \"pinnate\"            \"pinnate\"           \n",
       "[2179] \"pinnate\"            \"pinnate\"            \"pinnate\"           \n",
       "[2182] \"pinnate\"            \"pinnate\"            \"pinnate\"           \n",
       "[2185] \"pinnate\"            \"pinnate\"            \"pinnate\"           \n",
       "[2188] \"pinnate\"            \"pinnate\"            \"pinnate\"           \n",
       "[2191] \"pinnate\"            \"pinnate\"            \"pinnate\"           \n",
       "[2194] \"pinnate\"            \"pinnate\"            \"pinnate\"           \n",
       "[2197] \"pinnatepolymorphic\" \"pinnate\"            \"pinnate\"           \n",
       "[2200] \"pinnatepolymorphic\" \"pinnate\"            \"pinnate\"           \n",
       "[2203] \"pinnate\"            \"pinnate\"            \"pinnate\"           \n",
       "[2206] \"pinnate\"            \"pinnate\"            \"pinnate\"           \n",
       "[2209] \"pinnatepolymorphic\" \"pinnate\"            \"pinnate\"           \n",
       "[2212] \"pinnate\"            \"pinnate\"            \"pinnate\"           \n",
       "[2215] \"pinnate\"            \"pinnate\"            \"pinnate\"           \n",
       "[2218] \"pinnatepolymorphic\" \"pinnate\"            \"pinnate\"           \n",
       "[2221] \"pinnate\"            \"pinnate\"            \"pinnate\"           \n",
       "[2224] \"pinnate\"            \"pinnate\"            \"pinnate\"           \n",
       "[2227] \"pinnate\"            \"pinnate\"            \"pinnate\"           \n",
       "[2230] \"pinnate\"            \"pinnate\"            \"pinnate\"           \n",
       "[2233] \"pinnate\"            \"pinnate\"            \"pinnate\"           \n",
       "[2236] \"pinnate\"            \"pinnate\"            \"pinnate\"           \n",
       "[2239] \"pinnate\"            \"pinnate\"            \"pinnatepolymorphic\"\n",
       "[2242] \"pinnate\"            \"pinnate\"            \"pinnatepolymorphic\"\n",
       "[2245] \"pinnate\"            \"pinnate\"            \"pinnate\"           \n",
       "[2248] \"pinnate\"            \"pinnate\"            \"pinnatepolymorphic\"\n",
       "[2251] \"pinnate\"            \"pinnate\"            \"pinnate\"           \n",
       "[2254] \"pinnate\"            \"pinnate\"            \"pinnate\"           \n",
       "[2257] \"pinnate\"            \"pinnate\"            \"pinnate\"           \n",
       "[2260] \"pinnate\"            \"pinnate\"            \"pinnate\"           \n",
       "[2263] \"pinnate\"            \"pinnate\"            \"pinnate\"           \n",
       "[2266] \"pinnate\"            \"pinnate\"            \"pinnate\"           \n",
       "[2269] \"pinnate\"            \"pinnate\"            \"pinnate\"           \n",
       "[2272] \"pinnate\"            \"pinnate\"            \"pinnate\"           \n",
       "[2275] \"pinnate\"            \"pinnate\"            \"pinnate\"           \n",
       "[2278] \"pinnate\"            \"pinnate\"            \"pinnate\"           \n",
       "[2281] \"pinnate\"            \"pinnate\"            \"pinnate\"           \n",
       "[2284] \"pinnate\"            \"pinnate\"            \"pinnate\"           \n",
       "[2287] \"pinnate\"            \"pinnate\"            \"pinnate\"           \n",
       "[2290] \"pinnate\"            \"pinnate\"            \"pinnate\"           \n",
       "[2293] \"pinnatepolymorphic\" \"pinnate\"            \"pinnatepolymorphic\"\n",
       "[2296] \"pinnatepolymorphic\" \"pinnatepolymorphic\" \"pinnate\"           \n",
       "[2299] \"pinnate\"            \"pinnate\"            \"pinnate\"           \n",
       "[2302] \"pinnate\"            \"pinnate\"            \"pinnate\"           \n",
       "[2305] \"pinnate\"            \"pinnate\"            \"pinnate\"           \n",
       "[2308] \"pinnate\"            \"pinnate\"            \"pinnate\"           \n",
       "[2311] \"pinnate\"            \"pinnate\"            \"pinnate\"           \n",
       "[2314] \"pinnate\"            \"pinnate\"            \"pinnate\"           \n",
       "[2317] \"pinnate\"            \"pinnate\"            \"pinnate\"           \n",
       "[2320] \"pinnate\"            \"pinnate\"            \"pinnate\"           \n",
       "[2323] \"pinnate\"            \"pinnate\"            \"pinnate\"           \n",
       "[2326] \"pinnate\"            \"pinnate\"            \"pinnate\"           \n",
       "[2329] \"pinnate\"            \"pinnate\"            \"pinnate\"           \n",
       "[2332] \"pinnate\"            \"pinnate\"            \"pinnate\"           \n",
       "[2335] \"pinnate\"            \"pinnate\"            \"pinnate\"           \n",
       "[2338] \"pinnate\"            \"pinnate\"            \"pinnate\"           \n",
       "[2341] \"pinnate\"            \"pinnate\"            \"pinnate\"           \n",
       "[2344] \"pinnate\"            \"pinnate\"            \"pinnate\"           \n",
       "[2347] \"pinnate\"            \"pinnate\"            \"pinnate\"           \n",
       "[2350] \"pinnate\"            \"pinnate\"            \"pinnate\"           \n",
       "[2353] \"pinnate\"            \"pinnate\"            \"pinnate\"           \n",
       "[2356] \"pinnate\"            \"pinnate\"            \"pinnate\"           \n",
       "[2359] \"pinnate\"            \"pinnate\"            \"pinnate\"           \n",
       "[2362] \"pinnate\"            \"pinnate\"            \"pinnate\"           \n",
       "[2365] \"pinnate\"            \"pinnate\"            \"pinnate\"           \n",
       "[2368] \"pinnate\"            \"pinnate\"            \"pinnate\"           \n",
       "[2371] \"pinnate\"            \"pinnate\"            \"pinnate\"           \n",
       "[2374] \"pinnate\"            \"pinnate\"            \"pinnate\"           \n",
       "[2377] \"pinnate\"            \"pinnate\"            \"pinnate\"           \n",
       "[2380] \"pinnate\"            \"pinnate\"            \"pinnatepolymorphic\"\n",
       "[2383] \"pinnate\"            \"pinnate\"            \"pinnate\"           \n",
       "[2386] \"pinnate\"            \"pinnate\"            \"pinnate\"           \n",
       "[2389] \"pinnate\"            \"pinnate\"            \"pinnate\"           \n",
       "[2392] \"pinnate\"            \"pinnate\"            \"pinnate\"           \n",
       "[2395] \"pinnate\"            \"pinnate\"            \"pinnate\"           \n",
       "[2398] \"pinnate\"            \"pinnate\"            \"pinnate\"           \n",
       "[2401] \"pinnate\"            \"pinnate\"            \"pinnate\"           \n",
       "[2404] \"pinnate\"            \"pinnate\"            \"pinnate\"           \n",
       "[2407] \"pinnate\"            \"pinnate\"            \"pinnate\"           \n",
       "[2410] \"pinnate\"            \"pinnate\"            \"pinnate\"           \n",
       "[2413] \"pinnate\"            \"pinnate\"            \"pinnate\"           \n",
       "[2416] \"pinnate\"            \"pinnate\"            \"pinnate\"           \n",
       "[2419] \"pinnate\"            \"pinnate\"            \"pinnate\"           \n",
       "[2422] \"pinnate\"            \"pinnate\"            \"pinnate\"           \n",
       "[2425] \"pinnate\"            \"pinnate\"            \"pinnate\"           \n",
       "[2428] \"pinnatepolymorphic\" \"pinnate\"            \"pinnate\"           \n",
       "[2431] \"pinnate\"            \"pinnate\"            \"pinnate\"           \n",
       "[2434] \"pinnate\"            \"pinnate\"            \"pinnate\"           \n",
       "[2437] \"pinnate\"            \"pinnate\"            \"pinnate\"           \n",
       "[2440] \"pinnate\"            \"pinnate\"            \"pinnate\"           \n",
       "[2443] \"pinnate\"            \"pinnate\"            \"pinnate\"           \n",
       "[2446] \"pinnate\"            \"pinnate\"            \"pinnate\"           \n",
       "[2449] \"pinnate\"            \"pinnate\"            \"pinnate\"           \n",
       "[2452] \"pinnate\"            \"pinnate\"            \"pinnate\"           \n",
       "[2455] \"pinnatepolymorphic\" \"pinnate\"            \"pinnate\"           \n",
       "[2458] \"pinnate\"            \"pinnate\"            \"pinnate\"           \n",
       "[2461] \"pinnate\"            \"pinnate\"            \"pinnate\"           \n",
       "[2464] \"pinnate\"            \"pinnate\"            \"pinnate\"           \n",
       "[2467] \"pinnate\"            \"pinnate\"            \"pinnate\"           \n",
       "[2470] \"pinnate\"            \"pinnate\"            \"pinnate\"           \n",
       "[2473] \"pinnate\"            \"pinnate\"            \"pinnate\"           \n",
       "[2476] \"pinnate\"            \"pinnate\"            \"pinnate\"           \n",
       "[2479] \"pinnate\"            \"pinnate\"            \"pinnate\"           \n",
       "[2482] \"pinnate\"            \"pinnate\"            \"pinnate\"           \n",
       "[2485] \"pinnate\"            \"pinnate\"            \"pinnate\"           \n",
       "[2488] \"pinnate\"            \"pinnate\"            \"pinnate\"           \n",
       "[2491] \"pinnate\"            \"pinnate\"            \"pinnate\"           \n",
       "[2494] \"pinnate\"            \"pinnate\"            \"pinnate\"           \n",
       "[2497] \"pinnate\"            \"pinnate\"            \"pinnate\"           \n",
       "[2500] \"pinnate\"            \"pinnate\"            \"pinnate\"           \n",
       "[2503] \"pinnate\"            \"pinnate\"            \"pinnate\"           \n",
       "[2506] \"pinnate\"            \"pinnate\"            \"pinnate\"           \n",
       "[2509] \"pinnate\"            \"pinnate\"            \"pinnate\"           \n",
       "[2512] \"pinnate\"            \"pinnate\"            \"pinnate\"           \n",
       "[2515] \"pinnate\"            \"pinnate\"            \"pinnate\"           \n",
       "[2518] \"pinnate\"            \"pinnatepolymorphic\" \"pinnate\"           \n",
       "[2521] \"pinnate\"            \"pinnate\"            \"pinnate\"           \n",
       "[2524] \"pinnate\"            \"pinnate\"            \"pinnate\"           \n",
       "[2527] \"pinnate\"            \"pinnate\"            \"pinnate\"           \n",
       "[2530] \"pinnate\"            \"pinnate\"            \"pinnate\"           \n",
       "[2533] \"pinnate\"            \"pinnate\"            \"pinnate\"           \n",
       "[2536] \"pinnate\"            \"pinnate\"            \"pinnate\"           \n",
       "[2539] \"pinnate\"            \"pinnate\"            \"pinnate\"           \n",
       "[2542] \"pinnateentire\"      \"pinnateentire\"      \"pinnateentire\"     \n",
       "[2545] \"pinnateentire\"      \"pinnateentire\"      \"pinnateentire\"     \n",
       "[2548] \"pinnateentire\"      \"pinnateentire\"      \"pinnateentire\"     \n",
       "[2551] \"pinnateentire\"      \"pinnateentire\"      \"pinnateentire\"     \n",
       "[2554] \"pinnateentire\"      \"pinnateentire\"      \"pinnateentire\"     \n",
       "[2557] \"pinnateentire\"      \"pinnateentire\"      \"pinnateentire\"     \n",
       "[2560] \"pinnateentire\"      \"pinnateentire\"      \"pinnateentire\"     \n",
       "[2563] \"pinnateentire\"      \"pinnateentire\"      \"pinnateentire\"     \n",
       "[2566] \"pinnateentire\"      \"pinnateentire\"      \"pinnateentire\"     \n",
       "[2569] \"pinnateentire\"      \"pinnateentire\"      \"pinnateentire\"     \n",
       "[2572] \"pinnateentire\"      \"pinnateentire\"      \"pinnateentire\"     \n",
       "[2575] \"pinnateentire\"      \"pinnateentire\"      \"pinnateentire\"     \n",
       "[2578] \"pinnateentire\"      \"pinnateentire\"      \"pinnateentire\"     \n",
       "[2581] \"pinnateentire\"      \"pinnateentire\"      \"pinnateentire\"     \n",
       "[2584] \"pinnateentire\"      \"pinnateentire\"      \"pinnateentire\"     \n",
       "[2587] \"pinnateentire\"      \"pinnateentire\"      \"pinnateentire\"     \n",
       "[2590] \"pinnateentire\"      \"pinnateentire\"      \"pinnateentire\"     \n",
       "[2593] \"pinnateentire\"      \"pinnateentire\"      \"pinnateentire\"     \n",
       "[2596] \"pinnateentire\"      \"pinnateentire\"      \"pinnateentire\"     \n",
       "[2599] \"pinnateentire\"      \"pinnateentire\"      \"pinnateentire\"     \n",
       "[2602] \"pinnateentire\"      \"pinnateentire\"      \"pinnateentire\"     \n",
       "[2605] \"pinnateentire\"      \"pinnateentire\"      \"pinnateentire\"     \n",
       "[2608] \"pinnateentire\"      \"pinnateentire\"      \"pinnateentire\"     \n",
       "[2611] \"pinnateentire\"      \"pinnateentire\"      \"pinnateentire\"     \n",
       "[2614] \"pinnateentire\"      \"pinnateentire\"      \"pinnateentire\"     \n",
       "[2617] \"pinnateentire\"      \"pinnateentire\"      \"pinnateentire\"     \n",
       "[2620] \"pinnateentire\"      \"pinnateentire\"      \"pinnateentire\"     \n",
       "[2623] \"pinnateentire\"      \"pinnateentire\"      \"pinnateentire\"     \n",
       "[2626] \"pinnateentire\"      \"pinnateentire\"      \"pinnateentire\"     \n",
       "[2629] \"pinnateentire\"      \"pinnateentire\"      \"pinnateentire\"     \n",
       "[2632] \"pinnateentire\"      \"pinnateentire\"      \"pinnateentire\"     \n",
       "[2635] \"pinnateentire\"      \"pinnateentire\"      \"pinnateentire\"     \n",
       "[2638] \"pinnateentire\"      \"pinnateentire\"      \"pinnateentire\"     \n",
       "[2641] \"pinnateentire\"      \"pinnateentire\"      \"pinnateentire\"     \n",
       "[2644] \"pinnateentire\"      \"pinnateentire\"      \"pinnateentire\"     \n",
       "[2647] \"pinnateentire\"      \"pinnateentire\"     "
      ]
     },
     "metadata": {},
     "output_type": "display_data"
    }
   ],
   "source": [
    "database_leafShape$shape_gp"
   ]
  },
  {
   "cell_type": "code",
   "execution_count": 10,
   "metadata": {},
   "outputs": [
    {
     "data": {
      "text/html": [
       "<table class=\"dataframe\">\n",
       "<caption>A data.frame: 6 × 21</caption>\n",
       "<thead>\n",
       "\t<tr><th></th><th scope=col>species</th><th scope=col>subfamily</th><th scope=col>plication_all</th><th scope=col>shape_all</th><th scope=col>polymorphism</th><th scope=col>dissection</th><th scope=col>pinnate</th><th scope=col>shape_gp</th><th scope=col>shape_gp_num</th><th scope=col>induplicate</th><th scope=col>⋯</th><th scope=col>ind_cospalmate</th><th scope=col>ind_pinnate</th><th scope=col>ind_entire</th><th scope=col>ind_bipinnate</th><th scope=col>reduplicate</th><th scope=col>red_variable</th><th scope=col>red_variance</th><th scope=col>red_cospalmate</th><th scope=col>red_pinnate</th><th scope=col>red_entire</th></tr>\n",
       "\t<tr><th></th><th scope=col>&lt;chr&gt;</th><th scope=col>&lt;chr&gt;</th><th scope=col>&lt;chr&gt;</th><th scope=col>&lt;chr&gt;</th><th scope=col>&lt;chr&gt;</th><th scope=col>&lt;int&gt;</th><th scope=col>&lt;int&gt;</th><th scope=col>&lt;chr&gt;</th><th scope=col>&lt;int&gt;</th><th scope=col>&lt;int&gt;</th><th scope=col>⋯</th><th scope=col>&lt;int&gt;</th><th scope=col>&lt;int&gt;</th><th scope=col>&lt;int&gt;</th><th scope=col>&lt;int&gt;</th><th scope=col>&lt;int&gt;</th><th scope=col>&lt;int&gt;</th><th scope=col>&lt;chr&gt;</th><th scope=col>&lt;int&gt;</th><th scope=col>&lt;int&gt;</th><th scope=col>&lt;int&gt;</th></tr>\n",
       "</thead>\n",
       "<tbody>\n",
       "\t<tr><th scope=row>1</th><td>Saribus_brevifolius  </td><td>coryphoideae</td><td>induplicate</td><td>costapalmate</td><td></td><td>1</td><td>0</td><td>palmate</td><td>1</td><td>1</td><td>⋯</td><td>1</td><td>0</td><td>0</td><td>0</td><td>0</td><td>0</td><td>0</td><td>0</td><td>0</td><td>0</td></tr>\n",
       "\t<tr><th scope=row>2</th><td>Saribus_chocolatinus </td><td>coryphoideae</td><td>induplicate</td><td>costapalmate</td><td></td><td>1</td><td>0</td><td>palmate</td><td>1</td><td>1</td><td>⋯</td><td>1</td><td>0</td><td>0</td><td>0</td><td>0</td><td>0</td><td>0</td><td>0</td><td>0</td><td>0</td></tr>\n",
       "\t<tr><th scope=row>3</th><td>Saribus_jeanneneyi   </td><td>coryphoideae</td><td>induplicate</td><td>costapalmate</td><td></td><td>1</td><td>0</td><td>palmate</td><td>1</td><td>1</td><td>⋯</td><td>1</td><td>0</td><td>0</td><td>0</td><td>0</td><td>0</td><td>0</td><td>0</td><td>0</td><td>0</td></tr>\n",
       "\t<tr><th scope=row>4</th><td>Saribus_merrillii    </td><td>coryphoideae</td><td>induplicate</td><td>costapalmate</td><td></td><td>1</td><td>0</td><td>palmate</td><td>1</td><td>1</td><td>⋯</td><td>1</td><td>0</td><td>0</td><td>0</td><td>0</td><td>0</td><td>0</td><td>0</td><td>0</td><td>0</td></tr>\n",
       "\t<tr><th scope=row>5</th><td>Saribus_papuanus     </td><td>coryphoideae</td><td>induplicate</td><td>costapalmate</td><td></td><td>1</td><td>0</td><td>palmate</td><td>1</td><td>1</td><td>⋯</td><td>1</td><td>0</td><td>0</td><td>0</td><td>0</td><td>0</td><td>0</td><td>0</td><td>0</td><td>0</td></tr>\n",
       "\t<tr><th scope=row>6</th><td>Saribus_rotundifolius</td><td>coryphoideae</td><td>induplicate</td><td>costapalmate</td><td></td><td>1</td><td>0</td><td>palmate</td><td>1</td><td>1</td><td>⋯</td><td>1</td><td>0</td><td>0</td><td>0</td><td>0</td><td>0</td><td>0</td><td>0</td><td>0</td><td>0</td></tr>\n",
       "</tbody>\n",
       "</table>\n"
      ],
      "text/latex": [
       "A data.frame: 6 × 21\n",
       "\\begin{tabular}{r|lllllllllllllllllllll}\n",
       "  & species & subfamily & plication\\_all & shape\\_all & polymorphism & dissection & pinnate & shape\\_gp & shape\\_gp\\_num & induplicate & ⋯ & ind\\_cospalmate & ind\\_pinnate & ind\\_entire & ind\\_bipinnate & reduplicate & red\\_variable & red\\_variance & red\\_cospalmate & red\\_pinnate & red\\_entire\\\\\n",
       "  & <chr> & <chr> & <chr> & <chr> & <chr> & <int> & <int> & <chr> & <int> & <int> & ⋯ & <int> & <int> & <int> & <int> & <int> & <int> & <chr> & <int> & <int> & <int>\\\\\n",
       "\\hline\n",
       "\t1 & Saribus\\_brevifolius   & coryphoideae & induplicate & costapalmate &  & 1 & 0 & palmate & 1 & 1 & ⋯ & 1 & 0 & 0 & 0 & 0 & 0 & 0 & 0 & 0 & 0\\\\\n",
       "\t2 & Saribus\\_chocolatinus  & coryphoideae & induplicate & costapalmate &  & 1 & 0 & palmate & 1 & 1 & ⋯ & 1 & 0 & 0 & 0 & 0 & 0 & 0 & 0 & 0 & 0\\\\\n",
       "\t3 & Saribus\\_jeanneneyi    & coryphoideae & induplicate & costapalmate &  & 1 & 0 & palmate & 1 & 1 & ⋯ & 1 & 0 & 0 & 0 & 0 & 0 & 0 & 0 & 0 & 0\\\\\n",
       "\t4 & Saribus\\_merrillii     & coryphoideae & induplicate & costapalmate &  & 1 & 0 & palmate & 1 & 1 & ⋯ & 1 & 0 & 0 & 0 & 0 & 0 & 0 & 0 & 0 & 0\\\\\n",
       "\t5 & Saribus\\_papuanus      & coryphoideae & induplicate & costapalmate &  & 1 & 0 & palmate & 1 & 1 & ⋯ & 1 & 0 & 0 & 0 & 0 & 0 & 0 & 0 & 0 & 0\\\\\n",
       "\t6 & Saribus\\_rotundifolius & coryphoideae & induplicate & costapalmate &  & 1 & 0 & palmate & 1 & 1 & ⋯ & 1 & 0 & 0 & 0 & 0 & 0 & 0 & 0 & 0 & 0\\\\\n",
       "\\end{tabular}\n"
      ],
      "text/markdown": [
       "\n",
       "A data.frame: 6 × 21\n",
       "\n",
       "| <!--/--> | species &lt;chr&gt; | subfamily &lt;chr&gt; | plication_all &lt;chr&gt; | shape_all &lt;chr&gt; | polymorphism &lt;chr&gt; | dissection &lt;int&gt; | pinnate &lt;int&gt; | shape_gp &lt;chr&gt; | shape_gp_num &lt;int&gt; | induplicate &lt;int&gt; | ⋯ ⋯ | ind_cospalmate &lt;int&gt; | ind_pinnate &lt;int&gt; | ind_entire &lt;int&gt; | ind_bipinnate &lt;int&gt; | reduplicate &lt;int&gt; | red_variable &lt;int&gt; | red_variance &lt;chr&gt; | red_cospalmate &lt;int&gt; | red_pinnate &lt;int&gt; | red_entire &lt;int&gt; |\n",
       "|---|---|---|---|---|---|---|---|---|---|---|---|---|---|---|---|---|---|---|---|---|---|\n",
       "| 1 | Saribus_brevifolius   | coryphoideae | induplicate | costapalmate | <!----> | 1 | 0 | palmate | 1 | 1 | ⋯ | 1 | 0 | 0 | 0 | 0 | 0 | 0 | 0 | 0 | 0 |\n",
       "| 2 | Saribus_chocolatinus  | coryphoideae | induplicate | costapalmate | <!----> | 1 | 0 | palmate | 1 | 1 | ⋯ | 1 | 0 | 0 | 0 | 0 | 0 | 0 | 0 | 0 | 0 |\n",
       "| 3 | Saribus_jeanneneyi    | coryphoideae | induplicate | costapalmate | <!----> | 1 | 0 | palmate | 1 | 1 | ⋯ | 1 | 0 | 0 | 0 | 0 | 0 | 0 | 0 | 0 | 0 |\n",
       "| 4 | Saribus_merrillii     | coryphoideae | induplicate | costapalmate | <!----> | 1 | 0 | palmate | 1 | 1 | ⋯ | 1 | 0 | 0 | 0 | 0 | 0 | 0 | 0 | 0 | 0 |\n",
       "| 5 | Saribus_papuanus      | coryphoideae | induplicate | costapalmate | <!----> | 1 | 0 | palmate | 1 | 1 | ⋯ | 1 | 0 | 0 | 0 | 0 | 0 | 0 | 0 | 0 | 0 |\n",
       "| 6 | Saribus_rotundifolius | coryphoideae | induplicate | costapalmate | <!----> | 1 | 0 | palmate | 1 | 1 | ⋯ | 1 | 0 | 0 | 0 | 0 | 0 | 0 | 0 | 0 | 0 |\n",
       "\n"
      ],
      "text/plain": [
       "  species               subfamily    plication_all shape_all    polymorphism\n",
       "1 Saribus_brevifolius   coryphoideae induplicate   costapalmate             \n",
       "2 Saribus_chocolatinus  coryphoideae induplicate   costapalmate             \n",
       "3 Saribus_jeanneneyi    coryphoideae induplicate   costapalmate             \n",
       "4 Saribus_merrillii     coryphoideae induplicate   costapalmate             \n",
       "5 Saribus_papuanus      coryphoideae induplicate   costapalmate             \n",
       "6 Saribus_rotundifolius coryphoideae induplicate   costapalmate             \n",
       "  dissection pinnate shape_gp shape_gp_num induplicate ⋯ ind_cospalmate\n",
       "1 1          0       palmate  1            1           ⋯ 1             \n",
       "2 1          0       palmate  1            1           ⋯ 1             \n",
       "3 1          0       palmate  1            1           ⋯ 1             \n",
       "4 1          0       palmate  1            1           ⋯ 1             \n",
       "5 1          0       palmate  1            1           ⋯ 1             \n",
       "6 1          0       palmate  1            1           ⋯ 1             \n",
       "  ind_pinnate ind_entire ind_bipinnate reduplicate red_variable red_variance\n",
       "1 0           0          0             0           0            0           \n",
       "2 0           0          0             0           0            0           \n",
       "3 0           0          0             0           0            0           \n",
       "4 0           0          0             0           0            0           \n",
       "5 0           0          0             0           0            0           \n",
       "6 0           0          0             0           0            0           \n",
       "  red_cospalmate red_pinnate red_entire\n",
       "1 0              0           0         \n",
       "2 0              0           0         \n",
       "3 0              0           0         \n",
       "4 0              0           0         \n",
       "5 0              0           0         \n",
       "6 0              0           0         "
      ]
     },
     "metadata": {},
     "output_type": "display_data"
    }
   ],
   "source": [
    "database_leafShapeNoPol <- database_leafShape[database_leafShape$shape_gp != 'pinnatepolymorphic', ]\n",
    "head(database_leafShapeNoPol)"
   ]
  },
  {
   "cell_type": "code",
   "execution_count": 11,
   "metadata": {},
   "outputs": [
    {
     "data": {
      "text/html": [
       "<table class=\"dataframe\">\n",
       "<caption>A data.frame: 6 × 2</caption>\n",
       "<thead>\n",
       "\t<tr><th></th><th scope=col>species</th><th scope=col>dissection</th></tr>\n",
       "\t<tr><th></th><th scope=col>&lt;chr&gt;</th><th scope=col>&lt;int&gt;</th></tr>\n",
       "</thead>\n",
       "<tbody>\n",
       "\t<tr><th scope=row>1</th><td>Saribus_brevifolius  </td><td>1</td></tr>\n",
       "\t<tr><th scope=row>2</th><td>Saribus_chocolatinus </td><td>1</td></tr>\n",
       "\t<tr><th scope=row>3</th><td>Saribus_jeanneneyi   </td><td>1</td></tr>\n",
       "\t<tr><th scope=row>4</th><td>Saribus_merrillii    </td><td>1</td></tr>\n",
       "\t<tr><th scope=row>5</th><td>Saribus_papuanus     </td><td>1</td></tr>\n",
       "\t<tr><th scope=row>6</th><td>Saribus_rotundifolius</td><td>1</td></tr>\n",
       "</tbody>\n",
       "</table>\n"
      ],
      "text/latex": [
       "A data.frame: 6 × 2\n",
       "\\begin{tabular}{r|ll}\n",
       "  & species & dissection\\\\\n",
       "  & <chr> & <int>\\\\\n",
       "\\hline\n",
       "\t1 & Saribus\\_brevifolius   & 1\\\\\n",
       "\t2 & Saribus\\_chocolatinus  & 1\\\\\n",
       "\t3 & Saribus\\_jeanneneyi    & 1\\\\\n",
       "\t4 & Saribus\\_merrillii     & 1\\\\\n",
       "\t5 & Saribus\\_papuanus      & 1\\\\\n",
       "\t6 & Saribus\\_rotundifolius & 1\\\\\n",
       "\\end{tabular}\n"
      ],
      "text/markdown": [
       "\n",
       "A data.frame: 6 × 2\n",
       "\n",
       "| <!--/--> | species &lt;chr&gt; | dissection &lt;int&gt; |\n",
       "|---|---|---|\n",
       "| 1 | Saribus_brevifolius   | 1 |\n",
       "| 2 | Saribus_chocolatinus  | 1 |\n",
       "| 3 | Saribus_jeanneneyi    | 1 |\n",
       "| 4 | Saribus_merrillii     | 1 |\n",
       "| 5 | Saribus_papuanus      | 1 |\n",
       "| 6 | Saribus_rotundifolius | 1 |\n",
       "\n"
      ],
      "text/plain": [
       "  species               dissection\n",
       "1 Saribus_brevifolius   1         \n",
       "2 Saribus_chocolatinus  1         \n",
       "3 Saribus_jeanneneyi    1         \n",
       "4 Saribus_merrillii     1         \n",
       "5 Saribus_papuanus      1         \n",
       "6 Saribus_rotundifolius 1         "
      ]
     },
     "metadata": {},
     "output_type": "display_data"
    },
    {
     "data": {
      "text/html": [
       "<style>\n",
       ".list-inline {list-style: none; margin:0; padding: 0}\n",
       ".list-inline>li {display: inline-block}\n",
       ".list-inline>li:not(:last-child)::after {content: \"\\00b7\"; padding: 0 .5ex}\n",
       "</style>\n",
       "<ol class=list-inline><li>2506</li><li>2</li></ol>\n"
      ],
      "text/latex": [
       "\\begin{enumerate*}\n",
       "\\item 2506\n",
       "\\item 2\n",
       "\\end{enumerate*}\n"
      ],
      "text/markdown": [
       "1. 2506\n",
       "2. 2\n",
       "\n",
       "\n"
      ],
      "text/plain": [
       "[1] 2506    2"
      ]
     },
     "metadata": {},
     "output_type": "display_data"
    }
   ],
   "source": [
    "dt<-database_leafShapeNoPol[,c('species','dissection')]\n",
    "head(dt)\n",
    "dim(dt) # dimentions"
   ]
  },
  {
   "cell_type": "code",
   "execution_count": 12,
   "metadata": {},
   "outputs": [
    {
     "data": {
      "text/html": [],
      "text/latex": [],
      "text/markdown": [],
      "text/plain": [
       "integer(0)"
      ]
     },
     "metadata": {},
     "output_type": "display_data"
    }
   ],
   "source": [
    "which(is.na(dt[,2])) # all data coded"
   ]
  },
  {
   "cell_type": "code",
   "execution_count": 13,
   "metadata": {},
   "outputs": [],
   "source": [
    "rownames(dt)<-dt[,1] # R is 1 indexed!"
   ]
  },
  {
   "cell_type": "code",
   "execution_count": 14,
   "metadata": {},
   "outputs": [
    {
     "data": {
      "text/html": [
       "<table class=\"dataframe\">\n",
       "<caption>A data.frame: 6 × 2</caption>\n",
       "<thead>\n",
       "\t<tr><th></th><th scope=col>species</th><th scope=col>dissection</th></tr>\n",
       "\t<tr><th></th><th scope=col>&lt;chr&gt;</th><th scope=col>&lt;int&gt;</th></tr>\n",
       "</thead>\n",
       "<tbody>\n",
       "\t<tr><th scope=row>Saribus_brevifolius</th><td>Saribus_brevifolius  </td><td>1</td></tr>\n",
       "\t<tr><th scope=row>Saribus_chocolatinus</th><td>Saribus_chocolatinus </td><td>1</td></tr>\n",
       "\t<tr><th scope=row>Saribus_jeanneneyi</th><td>Saribus_jeanneneyi   </td><td>1</td></tr>\n",
       "\t<tr><th scope=row>Saribus_merrillii</th><td>Saribus_merrillii    </td><td>1</td></tr>\n",
       "\t<tr><th scope=row>Saribus_papuanus</th><td>Saribus_papuanus     </td><td>1</td></tr>\n",
       "\t<tr><th scope=row>Saribus_rotundifolius</th><td>Saribus_rotundifolius</td><td>1</td></tr>\n",
       "</tbody>\n",
       "</table>\n"
      ],
      "text/latex": [
       "A data.frame: 6 × 2\n",
       "\\begin{tabular}{r|ll}\n",
       "  & species & dissection\\\\\n",
       "  & <chr> & <int>\\\\\n",
       "\\hline\n",
       "\tSaribus\\_brevifolius & Saribus\\_brevifolius   & 1\\\\\n",
       "\tSaribus\\_chocolatinus & Saribus\\_chocolatinus  & 1\\\\\n",
       "\tSaribus\\_jeanneneyi & Saribus\\_jeanneneyi    & 1\\\\\n",
       "\tSaribus\\_merrillii & Saribus\\_merrillii     & 1\\\\\n",
       "\tSaribus\\_papuanus & Saribus\\_papuanus      & 1\\\\\n",
       "\tSaribus\\_rotundifolius & Saribus\\_rotundifolius & 1\\\\\n",
       "\\end{tabular}\n"
      ],
      "text/markdown": [
       "\n",
       "A data.frame: 6 × 2\n",
       "\n",
       "| <!--/--> | species &lt;chr&gt; | dissection &lt;int&gt; |\n",
       "|---|---|---|\n",
       "| Saribus_brevifolius | Saribus_brevifolius   | 1 |\n",
       "| Saribus_chocolatinus | Saribus_chocolatinus  | 1 |\n",
       "| Saribus_jeanneneyi | Saribus_jeanneneyi    | 1 |\n",
       "| Saribus_merrillii | Saribus_merrillii     | 1 |\n",
       "| Saribus_papuanus | Saribus_papuanus      | 1 |\n",
       "| Saribus_rotundifolius | Saribus_rotundifolius | 1 |\n",
       "\n"
      ],
      "text/plain": [
       "                      species               dissection\n",
       "Saribus_brevifolius   Saribus_brevifolius   1         \n",
       "Saribus_chocolatinus  Saribus_chocolatinus  1         \n",
       "Saribus_jeanneneyi    Saribus_jeanneneyi    1         \n",
       "Saribus_merrillii     Saribus_merrillii     1         \n",
       "Saribus_papuanus      Saribus_papuanus      1         \n",
       "Saribus_rotundifolius Saribus_rotundifolius 1         "
      ]
     },
     "metadata": {},
     "output_type": "display_data"
    }
   ],
   "source": [
    "head(dt)"
   ]
  },
  {
   "cell_type": "markdown",
   "metadata": {},
   "source": [
    "#### Species with no leaf shape information or polymorphic (pinnate-entire and pinnate-dissected). \n",
    "- Removed from the analysis"
   ]
  },
  {
   "cell_type": "code",
   "execution_count": 15,
   "metadata": {},
   "outputs": [],
   "source": [
    "# remove species that are not in the tree\n",
    "list_taxa<-Reduce(intersect, list(tree_pos$tip.label,dt[,1]))"
   ]
  },
  {
   "cell_type": "code",
   "execution_count": 16,
   "metadata": {},
   "outputs": [
    {
     "data": {
      "text/html": [
       "2405"
      ],
      "text/latex": [
       "2405"
      ],
      "text/markdown": [
       "2405"
      ],
      "text/plain": [
       "[1] 2405"
      ]
     },
     "metadata": {},
     "output_type": "display_data"
    }
   ],
   "source": [
    "length(list_taxa)"
   ]
  },
  {
   "cell_type": "code",
   "execution_count": 16,
   "metadata": {
    "scrolled": true
   },
   "outputs": [],
   "source": [
    "#missing_sp<-dt[which(apply(dt[,2:7],1,sum) == 0),1]\n",
    "#missing_sp"
   ]
  },
  {
   "cell_type": "code",
   "execution_count": 17,
   "metadata": {},
   "outputs": [
    {
     "data": {
      "text/html": [
       "<style>\n",
       ".list-inline {list-style: none; margin:0; padding: 0}\n",
       ".list-inline>li {display: inline-block}\n",
       ".list-inline>li:not(:last-child)::after {content: \"\\00b7\"; padding: 0 .5ex}\n",
       "</style>\n",
       "<ol class=list-inline><li>2405</li><li>2</li></ol>\n"
      ],
      "text/latex": [
       "\\begin{enumerate*}\n",
       "\\item 2405\n",
       "\\item 2\n",
       "\\end{enumerate*}\n"
      ],
      "text/markdown": [
       "1. 2405\n",
       "2. 2\n",
       "\n",
       "\n"
      ],
      "text/plain": [
       "[1] 2405    2"
      ]
     },
     "metadata": {},
     "output_type": "display_data"
    }
   ],
   "source": [
    "#sorting trait data according to tree tip names order\n",
    "dt<-dt[list_taxa,]\n",
    "dim(dt)"
   ]
  },
  {
   "cell_type": "code",
   "execution_count": 18,
   "metadata": {},
   "outputs": [
    {
     "data": {
      "text/plain": [
       "\n",
       "Phylogenetic tree with 2405 tips and 2404 internal nodes.\n",
       "\n",
       "Tip labels:\n",
       "  Socratea_karstenii, Socratea_exorrhiza, Socratea_rostrata, Socratea_salazarii, Socratea_hecatonandra, Iriartella_setigera, ...\n",
       "\n",
       "Rooted; includes branch lengths."
      ]
     },
     "metadata": {},
     "output_type": "display_data"
    }
   ],
   "source": [
    "#reducing the tree in case there is missing data\n",
    "tree<-drop.tip(tree_pos,setdiff(tree_pos$tip.label,list_taxa))\n",
    "tree"
   ]
  },
  {
   "cell_type": "code",
   "execution_count": 19,
   "metadata": {},
   "outputs": [
    {
     "data": {
      "text/html": [
       "<table class=\"dataframe\">\n",
       "<caption>A data.frame: 6 × 2</caption>\n",
       "<thead>\n",
       "\t<tr><th></th><th scope=col>species</th><th scope=col>dissection</th></tr>\n",
       "\t<tr><th></th><th scope=col>&lt;chr&gt;</th><th scope=col>&lt;int&gt;</th></tr>\n",
       "</thead>\n",
       "<tbody>\n",
       "\t<tr><th scope=row>Socratea_karstenii</th><td>Socratea_karstenii   </td><td>1</td></tr>\n",
       "\t<tr><th scope=row>Socratea_exorrhiza</th><td>Socratea_exorrhiza   </td><td>1</td></tr>\n",
       "\t<tr><th scope=row>Socratea_rostrata</th><td>Socratea_rostrata    </td><td>1</td></tr>\n",
       "\t<tr><th scope=row>Socratea_salazarii</th><td>Socratea_salazarii   </td><td>1</td></tr>\n",
       "\t<tr><th scope=row>Socratea_hecatonandra</th><td>Socratea_hecatonandra</td><td>1</td></tr>\n",
       "\t<tr><th scope=row>Iriartella_setigera</th><td>Iriartella_setigera  </td><td>1</td></tr>\n",
       "</tbody>\n",
       "</table>\n"
      ],
      "text/latex": [
       "A data.frame: 6 × 2\n",
       "\\begin{tabular}{r|ll}\n",
       "  & species & dissection\\\\\n",
       "  & <chr> & <int>\\\\\n",
       "\\hline\n",
       "\tSocratea\\_karstenii & Socratea\\_karstenii    & 1\\\\\n",
       "\tSocratea\\_exorrhiza & Socratea\\_exorrhiza    & 1\\\\\n",
       "\tSocratea\\_rostrata & Socratea\\_rostrata     & 1\\\\\n",
       "\tSocratea\\_salazarii & Socratea\\_salazarii    & 1\\\\\n",
       "\tSocratea\\_hecatonandra & Socratea\\_hecatonandra & 1\\\\\n",
       "\tIriartella\\_setigera & Iriartella\\_setigera   & 1\\\\\n",
       "\\end{tabular}\n"
      ],
      "text/markdown": [
       "\n",
       "A data.frame: 6 × 2\n",
       "\n",
       "| <!--/--> | species &lt;chr&gt; | dissection &lt;int&gt; |\n",
       "|---|---|---|\n",
       "| Socratea_karstenii | Socratea_karstenii    | 1 |\n",
       "| Socratea_exorrhiza | Socratea_exorrhiza    | 1 |\n",
       "| Socratea_rostrata | Socratea_rostrata     | 1 |\n",
       "| Socratea_salazarii | Socratea_salazarii    | 1 |\n",
       "| Socratea_hecatonandra | Socratea_hecatonandra | 1 |\n",
       "| Iriartella_setigera | Iriartella_setigera   | 1 |\n",
       "\n"
      ],
      "text/plain": [
       "                      species               dissection\n",
       "Socratea_karstenii    Socratea_karstenii    1         \n",
       "Socratea_exorrhiza    Socratea_exorrhiza    1         \n",
       "Socratea_rostrata     Socratea_rostrata     1         \n",
       "Socratea_salazarii    Socratea_salazarii    1         \n",
       "Socratea_hecatonandra Socratea_hecatonandra 1         \n",
       "Iriartella_setigera   Iriartella_setigera   1         "
      ]
     },
     "metadata": {},
     "output_type": "display_data"
    }
   ],
   "source": [
    "head(dt)"
   ]
  },
  {
   "cell_type": "code",
   "execution_count": 20,
   "metadata": {
    "scrolled": false
   },
   "outputs": [
    {
     "data": {
      "text/plain": [
       "\n",
       "   0    1 \n",
       " 112 2293 "
      ]
     },
     "metadata": {},
     "output_type": "display_data"
    }
   ],
   "source": [
    "table(dt[,2])\n",
    "# 0 = entire and 1 = dissected"
   ]
  },
  {
   "cell_type": "markdown",
   "metadata": {},
   "source": [
    "## Transform data into: 1 = entire , 2= dissected"
   ]
  },
  {
   "cell_type": "code",
   "execution_count": 21,
   "metadata": {
    "scrolled": true
   },
   "outputs": [
    {
     "data": {
      "text/html": [
       "<table class=\"dataframe\">\n",
       "<caption>A data.frame: 6 × 2</caption>\n",
       "<thead>\n",
       "\t<tr><th></th><th scope=col>species</th><th scope=col>dissection</th></tr>\n",
       "\t<tr><th></th><th scope=col>&lt;chr&gt;</th><th scope=col>&lt;int&gt;</th></tr>\n",
       "</thead>\n",
       "<tbody>\n",
       "\t<tr><th scope=row>Socratea_karstenii</th><td>Socratea_karstenii   </td><td>1</td></tr>\n",
       "\t<tr><th scope=row>Socratea_exorrhiza</th><td>Socratea_exorrhiza   </td><td>1</td></tr>\n",
       "\t<tr><th scope=row>Socratea_rostrata</th><td>Socratea_rostrata    </td><td>1</td></tr>\n",
       "\t<tr><th scope=row>Socratea_salazarii</th><td>Socratea_salazarii   </td><td>1</td></tr>\n",
       "\t<tr><th scope=row>Socratea_hecatonandra</th><td>Socratea_hecatonandra</td><td>1</td></tr>\n",
       "\t<tr><th scope=row>Iriartella_setigera</th><td>Iriartella_setigera  </td><td>1</td></tr>\n",
       "</tbody>\n",
       "</table>\n"
      ],
      "text/latex": [
       "A data.frame: 6 × 2\n",
       "\\begin{tabular}{r|ll}\n",
       "  & species & dissection\\\\\n",
       "  & <chr> & <int>\\\\\n",
       "\\hline\n",
       "\tSocratea\\_karstenii & Socratea\\_karstenii    & 1\\\\\n",
       "\tSocratea\\_exorrhiza & Socratea\\_exorrhiza    & 1\\\\\n",
       "\tSocratea\\_rostrata & Socratea\\_rostrata     & 1\\\\\n",
       "\tSocratea\\_salazarii & Socratea\\_salazarii    & 1\\\\\n",
       "\tSocratea\\_hecatonandra & Socratea\\_hecatonandra & 1\\\\\n",
       "\tIriartella\\_setigera & Iriartella\\_setigera   & 1\\\\\n",
       "\\end{tabular}\n"
      ],
      "text/markdown": [
       "\n",
       "A data.frame: 6 × 2\n",
       "\n",
       "| <!--/--> | species &lt;chr&gt; | dissection &lt;int&gt; |\n",
       "|---|---|---|\n",
       "| Socratea_karstenii | Socratea_karstenii    | 1 |\n",
       "| Socratea_exorrhiza | Socratea_exorrhiza    | 1 |\n",
       "| Socratea_rostrata | Socratea_rostrata     | 1 |\n",
       "| Socratea_salazarii | Socratea_salazarii    | 1 |\n",
       "| Socratea_hecatonandra | Socratea_hecatonandra | 1 |\n",
       "| Iriartella_setigera | Iriartella_setigera   | 1 |\n",
       "\n"
      ],
      "text/plain": [
       "                      species               dissection\n",
       "Socratea_karstenii    Socratea_karstenii    1         \n",
       "Socratea_exorrhiza    Socratea_exorrhiza    1         \n",
       "Socratea_rostrata     Socratea_rostrata     1         \n",
       "Socratea_salazarii    Socratea_salazarii    1         \n",
       "Socratea_hecatonandra Socratea_hecatonandra 1         \n",
       "Iriartella_setigera   Iriartella_setigera   1         "
      ]
     },
     "metadata": {},
     "output_type": "display_data"
    }
   ],
   "source": [
    "head(dt)"
   ]
  },
  {
   "cell_type": "code",
   "execution_count": 22,
   "metadata": {
    "scrolled": true
   },
   "outputs": [
    {
     "data": {
      "text/html": [
       "<style>\n",
       ".dl-inline {width: auto; margin:0; padding: 0}\n",
       ".dl-inline>dt, .dl-inline>dd {float: none; width: auto; display: inline-block}\n",
       ".dl-inline>dt::after {content: \":\\0020\"; padding-right: .5ex}\n",
       ".dl-inline>dt:not(:first-of-type) {padding-left: .5ex}\n",
       "</style><dl class=dl-inline><dt>Socratea_karstenii</dt><dd>2</dd><dt>Socratea_exorrhiza</dt><dd>2</dd><dt>Socratea_rostrata</dt><dd>2</dd><dt>Socratea_salazarii</dt><dd>2</dd><dt>Socratea_hecatonandra</dt><dd>2</dd><dt>Iriartella_setigera</dt><dd>2</dd></dl>\n"
      ],
      "text/latex": [
       "\\begin{description*}\n",
       "\\item[Socratea\\textbackslash{}\\_karstenii] 2\n",
       "\\item[Socratea\\textbackslash{}\\_exorrhiza] 2\n",
       "\\item[Socratea\\textbackslash{}\\_rostrata] 2\n",
       "\\item[Socratea\\textbackslash{}\\_salazarii] 2\n",
       "\\item[Socratea\\textbackslash{}\\_hecatonandra] 2\n",
       "\\item[Iriartella\\textbackslash{}\\_setigera] 2\n",
       "\\end{description*}\n"
      ],
      "text/markdown": [
       "Socratea_karstenii\n",
       ":   2Socratea_exorrhiza\n",
       ":   2Socratea_rostrata\n",
       ":   2Socratea_salazarii\n",
       ":   2Socratea_hecatonandra\n",
       ":   2Iriartella_setigera\n",
       ":   2\n",
       "\n"
      ],
      "text/plain": [
       "   Socratea_karstenii    Socratea_exorrhiza     Socratea_rostrata \n",
       "                    2                     2                     2 \n",
       "   Socratea_salazarii Socratea_hecatonandra   Iriartella_setigera \n",
       "                    2                     2                     2 "
      ]
     },
     "metadata": {},
     "output_type": "display_data"
    }
   ],
   "source": [
    "#musse model needs characters coded as 1, 2, 3, etc and not 0, 1 so:\n",
    "dt2<-dt[,2]+1\n",
    "names(dt2)<-dt[,1]\n",
    "head(dt2)"
   ]
  },
  {
   "cell_type": "markdown",
   "metadata": {},
   "source": [
    "## Run MuSSE on a single tree - ALL MODELS (START)"
   ]
  },
  {
   "cell_type": "code",
   "execution_count": 23,
   "metadata": {},
   "outputs": [],
   "source": [
    "#code for the trait classification -> used for generating file names in the end\n",
    "trait_mod<-'dissVSent'"
   ]
  },
  {
   "cell_type": "code",
   "execution_count": 24,
   "metadata": {},
   "outputs": [],
   "source": [
    "library(diversitree)"
   ]
  },
  {
   "cell_type": "code",
   "execution_count": 25,
   "metadata": {
    "scrolled": true
   },
   "outputs": [
    {
     "data": {
      "text/html": [
       "2405"
      ],
      "text/latex": [
       "2405"
      ],
      "text/markdown": [
       "2405"
      ],
      "text/plain": [
       "[1] 2405"
      ]
     },
     "metadata": {},
     "output_type": "display_data"
    }
   ],
   "source": [
    "trait<-dt2[tree$tip.label]\n",
    "names(trait)<-tree$tip.label\n",
    "length(trait)"
   ]
  },
  {
   "cell_type": "code",
   "execution_count": 26,
   "metadata": {
    "scrolled": false
   },
   "outputs": [
    {
     "data": {
      "text/plain": [
       "trait\n",
       "   1    2 \n",
       " 112 2293 "
      ]
     },
     "metadata": {},
     "output_type": "display_data"
    }
   ],
   "source": [
    "table(trait)"
   ]
  },
  {
   "cell_type": "code",
   "execution_count": 27,
   "metadata": {},
   "outputs": [
    {
     "data": {
      "text/html": [
       "<style>\n",
       ".dl-inline {width: auto; margin:0; padding: 0}\n",
       ".dl-inline>dt, .dl-inline>dd {float: none; width: auto; display: inline-block}\n",
       ".dl-inline>dt::after {content: \":\\0020\"; padding-right: .5ex}\n",
       ".dl-inline>dt:not(:first-of-type) {padding-left: .5ex}\n",
       "</style><dl class=dl-inline><dt>lambda1</dt><dd>0.207241983311725</dd><dt>lambda2</dt><dd>0.207241983311725</dd><dt>mu1</dt><dd>0.128080935003418</dd><dt>mu2</dt><dd>0.128080935003418</dd><dt>q12</dt><dd>0.0158322096616613</dd><dt>q21</dt><dd>0.0158322096616613</dd></dl>\n"
      ],
      "text/latex": [
       "\\begin{description*}\n",
       "\\item[lambda1] 0.207241983311725\n",
       "\\item[lambda2] 0.207241983311725\n",
       "\\item[mu1] 0.128080935003418\n",
       "\\item[mu2] 0.128080935003418\n",
       "\\item[q12] 0.0158322096616613\n",
       "\\item[q21] 0.0158322096616613\n",
       "\\end{description*}\n"
      ],
      "text/markdown": [
       "lambda1\n",
       ":   0.207241983311725lambda2\n",
       ":   0.207241983311725mu1\n",
       ":   0.128080935003418mu2\n",
       ":   0.128080935003418q12\n",
       ":   0.0158322096616613q21\n",
       ":   0.0158322096616613\n",
       "\n"
      ],
      "text/plain": [
       "   lambda1    lambda2        mu1        mu2        q12        q21 \n",
       "0.20724198 0.20724198 0.12808094 0.12808094 0.01583221 0.01583221 "
      ]
     },
     "metadata": {},
     "output_type": "display_data"
    }
   ],
   "source": [
    "#find sensible starting points for the ML search\n",
    "p<-starting.point.musse(tree,k=length(unique(trait)))\n",
    "p"
   ]
  },
  {
   "cell_type": "code",
   "execution_count": 28,
   "metadata": {},
   "outputs": [
    {
     "data": {
      "text/html": [
       "<style>\n",
       ".list-inline {list-style: none; margin:0; padding: 0}\n",
       ".list-inline>li {display: inline-block}\n",
       ".list-inline>li:not(:last-child)::after {content: \"\\00b7\"; padding: 0 .5ex}\n",
       "</style>\n",
       "<ol class=list-inline><li>'lambda1'</li><li>'lambda2'</li><li>'mu1'</li><li>'mu2'</li><li>'q12'</li><li>'q21'</li></ol>\n"
      ],
      "text/latex": [
       "\\begin{enumerate*}\n",
       "\\item 'lambda1'\n",
       "\\item 'lambda2'\n",
       "\\item 'mu1'\n",
       "\\item 'mu2'\n",
       "\\item 'q12'\n",
       "\\item 'q21'\n",
       "\\end{enumerate*}\n"
      ],
      "text/markdown": [
       "1. 'lambda1'\n",
       "2. 'lambda2'\n",
       "3. 'mu1'\n",
       "4. 'mu2'\n",
       "5. 'q12'\n",
       "6. 'q21'\n",
       "\n",
       "\n"
      ],
      "text/plain": [
       "[1] \"lambda1\" \"lambda2\" \"mu1\"     \"mu2\"     \"q12\"     \"q21\"    "
      ]
     },
     "metadata": {},
     "output_type": "display_data"
    }
   ],
   "source": [
    "#create the likelihood function\n",
    "lik<-make.musse(tree,trait,k=length(unique(trait)),sampling.f=rep(1,length(unique(trait))))\n",
    "argnames(lik)"
   ]
  },
  {
   "cell_type": "code",
   "execution_count": 29,
   "metadata": {},
   "outputs": [
    {
     "data": {
      "text/html": [
       "<style>\n",
       ".dl-inline {width: auto; margin:0; padding: 0}\n",
       ".dl-inline>dt, .dl-inline>dd {float: none; width: auto; display: inline-block}\n",
       ".dl-inline>dt::after {content: \":\\0020\"; padding-right: .5ex}\n",
       ".dl-inline>dt:not(:first-of-type) {padding-left: .5ex}\n",
       "</style><dl class=dl-inline><dt>lambda1</dt><dd>0.468792037415534</dd><dt>lambda2</dt><dd>0.181379993355533</dd><dt>mu1</dt><dd>1.50794898831096e-07</dd><dt>mu2</dt><dd>0.14753496924222</dd><dt>q12</dt><dd>0.535525227676553</dd><dt>q21</dt><dd>0.0094663380072294</dd></dl>\n"
      ],
      "text/latex": [
       "\\begin{description*}\n",
       "\\item[lambda1] 0.468792037415534\n",
       "\\item[lambda2] 0.181379993355533\n",
       "\\item[mu1] 1.50794898831096e-07\n",
       "\\item[mu2] 0.14753496924222\n",
       "\\item[q12] 0.535525227676553\n",
       "\\item[q21] 0.0094663380072294\n",
       "\\end{description*}\n"
      ],
      "text/markdown": [
       "lambda1\n",
       ":   0.468792037415534lambda2\n",
       ":   0.181379993355533mu1\n",
       ":   1.50794898831096e-07mu2\n",
       ":   0.14753496924222q12\n",
       ":   0.535525227676553q21\n",
       ":   0.0094663380072294\n",
       "\n"
      ],
      "text/plain": [
       "     lambda1      lambda2          mu1          mu2          q12          q21 \n",
       "4.687920e-01 1.813800e-01 1.507949e-07 1.475350e-01 5.355252e-01 9.466338e-03 "
      ]
     },
     "metadata": {},
     "output_type": "display_data"
    }
   ],
   "source": [
    "#constrained model based on all.free estimation\n",
    "fit.free<-find.mle(lik, p[argnames(lik)])\n",
    "fit.free$par"
   ]
  },
  {
   "cell_type": "code",
   "execution_count": 30,
   "metadata": {},
   "outputs": [],
   "source": [
    "save(fit.free,file=paste(trait_mod, 'dissVSent_fit.free.Rdata', sep='_'))"
   ]
  },
  {
   "cell_type": "code",
   "execution_count": 31,
   "metadata": {
    "scrolled": true
   },
   "outputs": [
    {
     "data": {
      "text/html": [
       "<style>\n",
       ".dl-inline {width: auto; margin:0; padding: 0}\n",
       ".dl-inline>dt, .dl-inline>dd {float: none; width: auto; display: inline-block}\n",
       ".dl-inline>dt::after {content: \":\\0020\"; padding-right: .5ex}\n",
       ".dl-inline>dt:not(:first-of-type) {padding-left: .5ex}\n",
       "</style><dl class=dl-inline><dt>lambda1</dt><dd>0.220567372534908</dd><dt>mu1</dt><dd>8.47415167859444e-07</dd><dt>mu2</dt><dd>0.15799941685071</dd><dt>q12</dt><dd>0.254610309913872</dd><dt>q21</dt><dd>0.00335555899963044</dd></dl>\n"
      ],
      "text/latex": [
       "\\begin{description*}\n",
       "\\item[lambda1] 0.220567372534908\n",
       "\\item[mu1] 8.47415167859444e-07\n",
       "\\item[mu2] 0.15799941685071\n",
       "\\item[q12] 0.254610309913872\n",
       "\\item[q21] 0.00335555899963044\n",
       "\\end{description*}\n"
      ],
      "text/markdown": [
       "lambda1\n",
       ":   0.220567372534908mu1\n",
       ":   8.47415167859444e-07mu2\n",
       ":   0.15799941685071q12\n",
       ":   0.254610309913872q21\n",
       ":   0.00335555899963044\n",
       "\n"
      ],
      "text/plain": [
       "     lambda1          mu1          mu2          q12          q21 \n",
       "2.205674e-01 8.474152e-07 1.579994e-01 2.546103e-01 3.355559e-03 "
      ]
     },
     "metadata": {},
     "output_type": "display_data"
    }
   ],
   "source": [
    "#lamb constrained\n",
    "lik.1<-constrain(lik,lambda2~lambda1)\n",
    "fit.1<-find.mle(lik.1, p[argnames(lik.1)])\n",
    "save(fit.1,file=paste(trait_mod, 'dissVSent_fit.1.Rdata'))\n",
    "fit.1$par"
   ]
  },
  {
   "cell_type": "code",
   "execution_count": 32,
   "metadata": {
    "scrolled": true
   },
   "outputs": [
    {
     "data": {
      "text/html": [
       "<style>\n",
       ".dl-inline {width: auto; margin:0; padding: 0}\n",
       ".dl-inline>dt, .dl-inline>dd {float: none; width: auto; display: inline-block}\n",
       ".dl-inline>dt::after {content: \":\\0020\"; padding-right: .5ex}\n",
       ".dl-inline>dt:not(:first-of-type) {padding-left: .5ex}\n",
       "</style><dl class=dl-inline><dt>lambda1</dt><dd>0.546780324854418</dd><dt>lambda2</dt><dd>0.178444565590459</dd><dt>mu1</dt><dd>0.139784283701694</dd><dt>q12</dt><dd>0.488906394187477</dd><dt>q21</dt><dd>0.0111902891338595</dd></dl>\n"
      ],
      "text/latex": [
       "\\begin{description*}\n",
       "\\item[lambda1] 0.546780324854418\n",
       "\\item[lambda2] 0.178444565590459\n",
       "\\item[mu1] 0.139784283701694\n",
       "\\item[q12] 0.488906394187477\n",
       "\\item[q21] 0.0111902891338595\n",
       "\\end{description*}\n"
      ],
      "text/markdown": [
       "lambda1\n",
       ":   0.546780324854418lambda2\n",
       ":   0.178444565590459mu1\n",
       ":   0.139784283701694q12\n",
       ":   0.488906394187477q21\n",
       ":   0.0111902891338595\n",
       "\n"
      ],
      "text/plain": [
       "   lambda1    lambda2        mu1        q12        q21 \n",
       "0.54678032 0.17844457 0.13978428 0.48890639 0.01119029 "
      ]
     },
     "metadata": {},
     "output_type": "display_data"
    }
   ],
   "source": [
    "#mu constrained\n",
    "lik.2<-constrain(lik,mu2~mu1)\n",
    "fit.2<-find.mle(lik.2, p[argnames(lik.2)])\n",
    "save(fit.2,file=paste(trait_mod, 'fit.2.Rdata'))\n",
    "fit.2$par"
   ]
  },
  {
   "cell_type": "code",
   "execution_count": 33,
   "metadata": {},
   "outputs": [
    {
     "data": {
      "text/html": [
       "<style>\n",
       ".dl-inline {width: auto; margin:0; padding: 0}\n",
       ".dl-inline>dt, .dl-inline>dd {float: none; width: auto; display: inline-block}\n",
       ".dl-inline>dt::after {content: \":\\0020\"; padding-right: .5ex}\n",
       ".dl-inline>dt:not(:first-of-type) {padding-left: .5ex}\n",
       "</style><dl class=dl-inline><dt>lambda1</dt><dd>0.209447709546989</dd><dt>lambda2</dt><dd>0.204042888425854</dd><dt>mu1</dt><dd>0.647322755689925</dd><dt>mu2</dt><dd>0.0998189478699375</dd><dt>q12</dt><dd>0.0280380305411013</dd></dl>\n"
      ],
      "text/latex": [
       "\\begin{description*}\n",
       "\\item[lambda1] 0.209447709546989\n",
       "\\item[lambda2] 0.204042888425854\n",
       "\\item[mu1] 0.647322755689925\n",
       "\\item[mu2] 0.0998189478699375\n",
       "\\item[q12] 0.0280380305411013\n",
       "\\end{description*}\n"
      ],
      "text/markdown": [
       "lambda1\n",
       ":   0.209447709546989lambda2\n",
       ":   0.204042888425854mu1\n",
       ":   0.647322755689925mu2\n",
       ":   0.0998189478699375q12\n",
       ":   0.0280380305411013\n",
       "\n"
      ],
      "text/plain": [
       "   lambda1    lambda2        mu1        mu2        q12 \n",
       "0.20944771 0.20404289 0.64732276 0.09981895 0.02803803 "
      ]
     },
     "metadata": {},
     "output_type": "display_data"
    }
   ],
   "source": [
    "#q constrained\n",
    "lik.3<-constrain(lik, q21~q12)\n",
    "fit.3<-find.mle(lik.3, p[argnames(lik.3)])\n",
    "save(fit.3,file=paste(trait_mod, 'fit.3.Rdata'))\n",
    "fit.3$par"
   ]
  },
  {
   "cell_type": "code",
   "execution_count": 34,
   "metadata": {
    "scrolled": true
   },
   "outputs": [
    {
     "data": {
      "text/html": [
       "<style>\n",
       ".dl-inline {width: auto; margin:0; padding: 0}\n",
       ".dl-inline>dt, .dl-inline>dd {float: none; width: auto; display: inline-block}\n",
       ".dl-inline>dt::after {content: \":\\0020\"; padding-right: .5ex}\n",
       ".dl-inline>dt:not(:first-of-type) {padding-left: .5ex}\n",
       "</style><dl class=dl-inline><dt>lambda1</dt><dd>0.207247896430602</dd><dt>mu1</dt><dd>0.128087951098268</dd><dt>q12</dt><dd>0.228566446684135</dd><dt>q21</dt><dd>0.0091188897659625</dd></dl>\n"
      ],
      "text/latex": [
       "\\begin{description*}\n",
       "\\item[lambda1] 0.207247896430602\n",
       "\\item[mu1] 0.128087951098268\n",
       "\\item[q12] 0.228566446684135\n",
       "\\item[q21] 0.0091188897659625\n",
       "\\end{description*}\n"
      ],
      "text/markdown": [
       "lambda1\n",
       ":   0.207247896430602mu1\n",
       ":   0.128087951098268q12\n",
       ":   0.228566446684135q21\n",
       ":   0.0091188897659625\n",
       "\n"
      ],
      "text/plain": [
       "   lambda1        mu1        q12        q21 \n",
       "0.20724790 0.12808795 0.22856645 0.00911889 "
      ]
     },
     "metadata": {},
     "output_type": "display_data"
    }
   ],
   "source": [
    "#lamb and mu constrained\n",
    "lik.4<-constrain(lik,lambda2~lambda1,mu2~mu1)\n",
    "fit.4<-find.mle(lik.4, p[argnames(lik.4)])\n",
    "save(fit.4,file=paste(trait_mod, 'fit.4.Rdata'))\n",
    "fit.4$par"
   ]
  },
  {
   "cell_type": "code",
   "execution_count": 35,
   "metadata": {
    "scrolled": true
   },
   "outputs": [
    {
     "data": {
      "text/html": [
       "<style>\n",
       ".dl-inline {width: auto; margin:0; padding: 0}\n",
       ".dl-inline>dt, .dl-inline>dd {float: none; width: auto; display: inline-block}\n",
       ".dl-inline>dt::after {content: \":\\0020\"; padding-right: .5ex}\n",
       ".dl-inline>dt:not(:first-of-type) {padding-left: .5ex}\n",
       "</style><dl class=dl-inline><dt>lambda1</dt><dd>0.204178605042656</dd><dt>mu1</dt><dd>0.641599521358069</dd><dt>mu2</dt><dd>0.100124126248584</dd><dt>q12</dt><dd>0.0279056986809341</dd></dl>\n"
      ],
      "text/latex": [
       "\\begin{description*}\n",
       "\\item[lambda1] 0.204178605042656\n",
       "\\item[mu1] 0.641599521358069\n",
       "\\item[mu2] 0.100124126248584\n",
       "\\item[q12] 0.0279056986809341\n",
       "\\end{description*}\n"
      ],
      "text/markdown": [
       "lambda1\n",
       ":   0.204178605042656mu1\n",
       ":   0.641599521358069mu2\n",
       ":   0.100124126248584q12\n",
       ":   0.0279056986809341\n",
       "\n"
      ],
      "text/plain": [
       "  lambda1       mu1       mu2       q12 \n",
       "0.2041786 0.6415995 0.1001241 0.0279057 "
      ]
     },
     "metadata": {},
     "output_type": "display_data"
    }
   ],
   "source": [
    "#lamb and q constrained\n",
    "lik.5<-constrain(lik,lambda2~lambda1,q21~q12)\n",
    "fit.5<-find.mle(lik.5, p[argnames(lik.5)])\n",
    "save(fit.5,file=paste(trait_mod, 'fit.5.Rdata'))\n",
    "fit.5$par"
   ]
  },
  {
   "cell_type": "code",
   "execution_count": 36,
   "metadata": {
    "scrolled": true
   },
   "outputs": [
    {
     "data": {
      "text/html": [
       "<style>\n",
       ".dl-inline {width: auto; margin:0; padding: 0}\n",
       ".dl-inline>dt, .dl-inline>dd {float: none; width: auto; display: inline-block}\n",
       ".dl-inline>dt::after {content: \":\\0020\"; padding-right: .5ex}\n",
       ".dl-inline>dt:not(:first-of-type) {padding-left: .5ex}\n",
       "</style><dl class=dl-inline><dt>lambda1</dt><dd>0.0703708802905667</dd><dt>lambda2</dt><dd>0.218843575349382</dd><dt>mu1</dt><dd>0.13829930160183</dd><dt>q12</dt><dd>0.00854037568624076</dd></dl>\n"
      ],
      "text/latex": [
       "\\begin{description*}\n",
       "\\item[lambda1] 0.0703708802905667\n",
       "\\item[lambda2] 0.218843575349382\n",
       "\\item[mu1] 0.13829930160183\n",
       "\\item[q12] 0.00854037568624076\n",
       "\\end{description*}\n"
      ],
      "text/markdown": [
       "lambda1\n",
       ":   0.0703708802905667lambda2\n",
       ":   0.218843575349382mu1\n",
       ":   0.13829930160183q12\n",
       ":   0.00854037568624076\n",
       "\n"
      ],
      "text/plain": [
       "    lambda1     lambda2         mu1         q12 \n",
       "0.070370880 0.218843575 0.138299302 0.008540376 "
      ]
     },
     "metadata": {},
     "output_type": "display_data"
    }
   ],
   "source": [
    "#mu and q constrained\n",
    "lik.6<-constrain(lik,mu2~mu1,q21~q12)\n",
    "fit.6<-find.mle(lik.6, p[argnames(lik.6)])\n",
    "save(fit.6,file=paste(trait_mod, 'fit.6.Rdata'))\n",
    "fit.6$par"
   ]
  },
  {
   "cell_type": "code",
   "execution_count": 37,
   "metadata": {},
   "outputs": [],
   "source": [
    "lik_list<-list(lik, lik.1,lik.2,lik.3,lik.4,lik.5,lik.6)\n",
    "model_list<-list(fit.free, fit.1,fit.2,fit.3,fit.4,fit.5,fit.6)\n",
    "model_names<-list('fit.free','fit.1','fit.2','fit.3','fit.4','fit.5','fit.6')"
   ]
  },
  {
   "cell_type": "code",
   "execution_count": 38,
   "metadata": {},
   "outputs": [
    {
     "data": {
      "text/html": [
       "-7563.10148255084"
      ],
      "text/latex": [
       "-7563.10148255084"
      ],
      "text/markdown": [
       "-7563.10148255084"
      ],
      "text/plain": [
       "[1] -7563.101"
      ]
     },
     "metadata": {},
     "output_type": "display_data"
    }
   ],
   "source": [
    "fit.6$lnLik"
   ]
  },
  {
   "cell_type": "code",
   "execution_count": 39,
   "metadata": {},
   "outputs": [],
   "source": [
    "logLik_step1<-c()\n",
    "AIC_step1<-c()\n",
    "k<-c()\n",
    "for(i in 1:length(model_list))\n",
    "{\n",
    "    logLik_step1<-rbind(logLik_step1,model_list[[i]]$lnLik)\n",
    "    AIC_step1<-rbind(AIC_step1,AIC(model_list[[i]],k=length(model_list[[i]]$par)))\n",
    "    k<-rbind(k,length(model_list[[i]]$par))\n",
    "}"
   ]
  },
  {
   "cell_type": "code",
   "execution_count": 40,
   "metadata": {},
   "outputs": [
    {
     "data": {
      "text/html": [
       "<table class=\"dataframe\">\n",
       "<caption>A matrix: 7 × 1 of type dbl</caption>\n",
       "<tbody>\n",
       "\t<tr><td>-7422.491</td></tr>\n",
       "\t<tr><td>-7481.581</td></tr>\n",
       "\t<tr><td>-7429.632</td></tr>\n",
       "\t<tr><td>-7531.776</td></tr>\n",
       "\t<tr><td>-7511.194</td></tr>\n",
       "\t<tr><td>-7531.780</td></tr>\n",
       "\t<tr><td>-7563.101</td></tr>\n",
       "</tbody>\n",
       "</table>\n"
      ],
      "text/latex": [
       "A matrix: 7 × 1 of type dbl\n",
       "\\begin{tabular}{l}\n",
       "\t -7422.491\\\\\n",
       "\t -7481.581\\\\\n",
       "\t -7429.632\\\\\n",
       "\t -7531.776\\\\\n",
       "\t -7511.194\\\\\n",
       "\t -7531.780\\\\\n",
       "\t -7563.101\\\\\n",
       "\\end{tabular}\n"
      ],
      "text/markdown": [
       "\n",
       "A matrix: 7 × 1 of type dbl\n",
       "\n",
       "| -7422.491 |\n",
       "| -7481.581 |\n",
       "| -7429.632 |\n",
       "| -7531.776 |\n",
       "| -7511.194 |\n",
       "| -7531.780 |\n",
       "| -7563.101 |\n",
       "\n"
      ],
      "text/plain": [
       "     [,1]     \n",
       "[1,] -7422.491\n",
       "[2,] -7481.581\n",
       "[3,] -7429.632\n",
       "[4,] -7531.776\n",
       "[5,] -7511.194\n",
       "[6,] -7531.780\n",
       "[7,] -7563.101"
      ]
     },
     "metadata": {},
     "output_type": "display_data"
    }
   ],
   "source": [
    "logLik_step1"
   ]
  },
  {
   "cell_type": "code",
   "execution_count": 41,
   "metadata": {},
   "outputs": [],
   "source": [
    "rownames(logLik_step1)<-model_names\n",
    "rownames(AIC_step1)<-model_names\n",
    "rownames(k)<-model_names"
   ]
  },
  {
   "cell_type": "code",
   "execution_count": 42,
   "metadata": {},
   "outputs": [],
   "source": [
    "AIC_step1<-sort(AIC_step1[,1],decreasing=FALSE)"
   ]
  },
  {
   "cell_type": "code",
   "execution_count": 43,
   "metadata": {},
   "outputs": [
    {
     "data": {
      "text/html": [
       "<style>\n",
       ".dl-inline {width: auto; margin:0; padding: 0}\n",
       ".dl-inline>dt, .dl-inline>dd {float: none; width: auto; display: inline-block}\n",
       ".dl-inline>dt::after {content: \":\\0020\"; padding-right: .5ex}\n",
       ".dl-inline>dt:not(:first-of-type) {padding-left: .5ex}\n",
       "</style><dl class=dl-inline><dt>fit.free</dt><dd>14880.9821220645</dd><dt>fit.2</dt><dd>14884.264051468</dd><dt>fit.1</dt><dd>14988.1612589392</dd><dt>fit.4</dt><dd>15038.3877335894</dd><dt>fit.5</dt><dd>15079.5601278162</dd><dt>fit.3</dt><dd>15088.5526986201</dd><dt>fit.6</dt><dd>15142.2029651017</dd></dl>\n"
      ],
      "text/latex": [
       "\\begin{description*}\n",
       "\\item[fit.free] 14880.9821220645\n",
       "\\item[fit.2] 14884.264051468\n",
       "\\item[fit.1] 14988.1612589392\n",
       "\\item[fit.4] 15038.3877335894\n",
       "\\item[fit.5] 15079.5601278162\n",
       "\\item[fit.3] 15088.5526986201\n",
       "\\item[fit.6] 15142.2029651017\n",
       "\\end{description*}\n"
      ],
      "text/markdown": [
       "fit.free\n",
       ":   14880.9821220645fit.2\n",
       ":   14884.264051468fit.1\n",
       ":   14988.1612589392fit.4\n",
       ":   15038.3877335894fit.5\n",
       ":   15079.5601278162fit.3\n",
       ":   15088.5526986201fit.6\n",
       ":   15142.2029651017\n",
       "\n"
      ],
      "text/plain": [
       "fit.free    fit.2    fit.1    fit.4    fit.5    fit.3    fit.6 \n",
       "14880.98 14884.26 14988.16 15038.39 15079.56 15088.55 15142.20 "
      ]
     },
     "metadata": {},
     "output_type": "display_data"
    }
   ],
   "source": [
    "AIC_step1"
   ]
  },
  {
   "cell_type": "markdown",
   "metadata": {},
   "source": [
    "------\n",
    "## Best fitting model"
   ]
  },
  {
   "cell_type": "code",
   "execution_count": 44,
   "metadata": {},
   "outputs": [],
   "source": [
    "best_fit<-model_list[[which(model_names==names(AIC_step1[1]))]]\n",
    "best_lik<-lik_list[[which(model_names==names(AIC_step1[1]))]]"
   ]
  },
  {
   "cell_type": "code",
   "execution_count": 45,
   "metadata": {},
   "outputs": [
    {
     "data": {
      "text/html": [
       "<style>\n",
       ".dl-inline {width: auto; margin:0; padding: 0}\n",
       ".dl-inline>dt, .dl-inline>dd {float: none; width: auto; display: inline-block}\n",
       ".dl-inline>dt::after {content: \":\\0020\"; padding-right: .5ex}\n",
       ".dl-inline>dt:not(:first-of-type) {padding-left: .5ex}\n",
       "</style><dl class=dl-inline><dt>lambda1</dt><dd>0.468792037415534</dd><dt>lambda2</dt><dd>0.181379993355533</dd><dt>mu1</dt><dd>1.50794898831096e-07</dd><dt>mu2</dt><dd>0.14753496924222</dd><dt>q12</dt><dd>0.535525227676553</dd><dt>q21</dt><dd>0.0094663380072294</dd></dl>\n"
      ],
      "text/latex": [
       "\\begin{description*}\n",
       "\\item[lambda1] 0.468792037415534\n",
       "\\item[lambda2] 0.181379993355533\n",
       "\\item[mu1] 1.50794898831096e-07\n",
       "\\item[mu2] 0.14753496924222\n",
       "\\item[q12] 0.535525227676553\n",
       "\\item[q21] 0.0094663380072294\n",
       "\\end{description*}\n"
      ],
      "text/markdown": [
       "lambda1\n",
       ":   0.468792037415534lambda2\n",
       ":   0.181379993355533mu1\n",
       ":   1.50794898831096e-07mu2\n",
       ":   0.14753496924222q12\n",
       ":   0.535525227676553q21\n",
       ":   0.0094663380072294\n",
       "\n"
      ],
      "text/plain": [
       "     lambda1      lambda2          mu1          mu2          q12          q21 \n",
       "4.687920e-01 1.813800e-01 1.507949e-07 1.475350e-01 5.355252e-01 9.466338e-03 "
      ]
     },
     "metadata": {},
     "output_type": "display_data"
    }
   ],
   "source": [
    "best_fit$par"
   ]
  },
  {
   "cell_type": "code",
   "execution_count": 46,
   "metadata": {},
   "outputs": [
    {
     "data": {
      "text/plain": [
       "$par\n",
       "     lambda1      lambda2          mu1          mu2          q12          q21 \n",
       "4.687920e-01 1.813800e-01 1.507949e-07 1.475350e-01 5.355252e-01 9.466338e-03 \n",
       "\n",
       "$lnLik\n",
       "[1] -7422.491\n",
       "\n",
       "$counts\n",
       "[1] 895\n",
       "\n",
       "$convergence\n",
       "[1] 0\n",
       "\n",
       "$message\n",
       "[1] \"success! tolerance satisfied\"\n",
       "\n",
       "$hessian\n",
       "NULL\n",
       "\n",
       "$method\n",
       "[1] \"subplex\"\n",
       "\n",
       "$func.class\n",
       "[1] \"musse\"    \"dtlik\"    \"function\"\n",
       "\n",
       "attr(,\"func\")\n",
       "MuSSE likelihood function:\n",
       "  * Parameter vector takes 6 elements:\n",
       "     - lambda1, lambda2, mu1, mu2, q12, q21\n",
       "  * Function takes arguments (with defaults)\n",
       "     - pars: Parameter vector\n",
       "     - condition.surv [TRUE]: Condition likelihood on survial?\n",
       "     - root [ROOT.OBS]: Type of root treatment\n",
       "     - root.p [NULL]: Vector of root state probabilities\n",
       "     - intermediates [FALSE]: Also return intermediate values?\n",
       "  * Phylogeny with 2405 tips and 2404 nodes\n",
       "     - Taxa: Socratea_karstenii, Socratea_exorrhiza, ...\n",
       "  * Reference:\n",
       "     - FitzJohn (submitted)\n",
       "R definition:\n",
       "function (pars, condition.surv = TRUE, root = ROOT.OBS, root.p = NULL, \n",
       "    intermediates = FALSE)  \n",
       "attr(,\"class\")\n",
       "[1] \"fit.mle.musse\" \"fit.mle\"      "
      ]
     },
     "metadata": {},
     "output_type": "display_data"
    }
   ],
   "source": [
    "best_fit"
   ]
  },
  {
   "cell_type": "markdown",
   "metadata": {},
   "source": [
    "-------\n",
    "\n",
    "\n",
    "## Ancestral state estimation based on MuSSE"
   ]
  },
  {
   "cell_type": "code",
   "execution_count": 47,
   "metadata": {},
   "outputs": [],
   "source": [
    "st <- asr.marginal(best_lik, coef(best_fit))"
   ]
  },
  {
   "cell_type": "code",
   "execution_count": 48,
   "metadata": {},
   "outputs": [
    {
     "data": {
      "text/html": [
       "<table class=\"dataframe\">\n",
       "<caption>A matrix: 2 × 2404 of type dbl</caption>\n",
       "<tbody>\n",
       "\t<tr><td>0.7942491</td><td>0.09257528</td><td>0.09154445</td><td>0.1006015</td><td>0.2961605</td><td>0.1078515</td><td>0.1655279</td><td>0.1322035</td><td>0.05589809</td><td>0.03508153</td><td>⋯</td><td>0.07184019</td><td>0.02462368</td><td>0.03002758</td><td>0.01829548</td><td>0.08976452</td><td>0.07805656</td><td>0.07456724</td><td>0.008328993</td><td>0.04700373</td><td>0.03346802</td></tr>\n",
       "\t<tr><td>0.2057509</td><td>0.90742472</td><td>0.90845555</td><td>0.8993985</td><td>0.7038395</td><td>0.8921485</td><td>0.8344721</td><td>0.8677965</td><td>0.94410191</td><td>0.96491847</td><td>⋯</td><td>0.92815981</td><td>0.97537632</td><td>0.96997242</td><td>0.98170452</td><td>0.91023548</td><td>0.92194344</td><td>0.92543276</td><td>0.991671007</td><td>0.95299627</td><td>0.96653198</td></tr>\n",
       "</tbody>\n",
       "</table>\n"
      ],
      "text/latex": [
       "A matrix: 2 × 2404 of type dbl\n",
       "\\begin{tabular}{lllllllllllllllllllll}\n",
       "\t 0.7942491 & 0.09257528 & 0.09154445 & 0.1006015 & 0.2961605 & 0.1078515 & 0.1655279 & 0.1322035 & 0.05589809 & 0.03508153 & ⋯ & 0.07184019 & 0.02462368 & 0.03002758 & 0.01829548 & 0.08976452 & 0.07805656 & 0.07456724 & 0.008328993 & 0.04700373 & 0.03346802\\\\\n",
       "\t 0.2057509 & 0.90742472 & 0.90845555 & 0.8993985 & 0.7038395 & 0.8921485 & 0.8344721 & 0.8677965 & 0.94410191 & 0.96491847 & ⋯ & 0.92815981 & 0.97537632 & 0.96997242 & 0.98170452 & 0.91023548 & 0.92194344 & 0.92543276 & 0.991671007 & 0.95299627 & 0.96653198\\\\\n",
       "\\end{tabular}\n"
      ],
      "text/markdown": [
       "\n",
       "A matrix: 2 × 2404 of type dbl\n",
       "\n",
       "| 0.7942491 | 0.09257528 | 0.09154445 | 0.1006015 | 0.2961605 | 0.1078515 | 0.1655279 | 0.1322035 | 0.05589809 | 0.03508153 | ⋯ | 0.07184019 | 0.02462368 | 0.03002758 | 0.01829548 | 0.08976452 | 0.07805656 | 0.07456724 | 0.008328993 | 0.04700373 | 0.03346802 |\n",
       "| 0.2057509 | 0.90742472 | 0.90845555 | 0.8993985 | 0.7038395 | 0.8921485 | 0.8344721 | 0.8677965 | 0.94410191 | 0.96491847 | ⋯ | 0.92815981 | 0.97537632 | 0.96997242 | 0.98170452 | 0.91023548 | 0.92194344 | 0.92543276 | 0.991671007 | 0.95299627 | 0.96653198 |\n",
       "\n"
      ],
      "text/plain": [
       "     [,1]      [,2]       [,3]       [,4]      [,5]      [,6]      [,7]     \n",
       "[1,] 0.7942491 0.09257528 0.09154445 0.1006015 0.2961605 0.1078515 0.1655279\n",
       "[2,] 0.2057509 0.90742472 0.90845555 0.8993985 0.7038395 0.8921485 0.8344721\n",
       "     [,8]      [,9]       [,10]      [,11] [,12]      [,13]      [,14]     \n",
       "[1,] 0.1322035 0.05589809 0.03508153 ⋯     0.07184019 0.02462368 0.03002758\n",
       "[2,] 0.8677965 0.94410191 0.96491847 ⋯     0.92815981 0.97537632 0.96997242\n",
       "     [,15]      [,16]      [,17]      [,18]      [,19]       [,20]     \n",
       "[1,] 0.01829548 0.08976452 0.07805656 0.07456724 0.008328993 0.04700373\n",
       "[2,] 0.98170452 0.91023548 0.92194344 0.92543276 0.991671007 0.95299627\n",
       "     [,21]     \n",
       "[1,] 0.03346802\n",
       "[2,] 0.96653198"
      ]
     },
     "metadata": {},
     "output_type": "display_data"
    }
   ],
   "source": [
    "head(st)"
   ]
  },
  {
   "cell_type": "code",
   "execution_count": 49,
   "metadata": {
    "scrolled": true
   },
   "outputs": [
    {
     "data": {
      "text/html": [
       "<strong>png:</strong> 2"
      ],
      "text/latex": [
       "\\textbf{png:} 2"
      ],
      "text/markdown": [
       "**png:** 2"
      ],
      "text/plain": [
       "png \n",
       "  2 "
      ]
     },
     "metadata": {},
     "output_type": "display_data"
    }
   ],
   "source": [
    "pdf(paste(trait_mod,'dissVSent_ase_musse_best_backwardSelect.pdf',sep='_'),width=75,height=75)\n",
    "\n",
    "par(mar=c(0,0,0,0))\n",
    "\n",
    "#col<-c(\n",
    "#rgb(alpha =0.6,0.211,0.211,0.211), \n",
    "#rgb(alpha =0.6,red=1,green=0.00,blue=0.0), \n",
    "#rgb(alpha =0.6,red=0,green=0,blue=1), \n",
    "#rgb(alpha =0.6,red=0,green=1,blue=0.0),\n",
    "#rgb(alpha =0.6,red=230/255,green=0,blue=1),\n",
    "#rgb(alpha =0.6,red=3/255,green=1,blue=248/255)\n",
    "#rgb(alpha =0.6,red=3/255,green=1,blue=248/255)\n",
    "#)\n",
    "\n",
    "#1 = cos.palmate, 2 = pinnate, 3 = entire, 4 = polymorphic\n",
    "#col=c(\"#15B0DE\",\"#DD3D3D\",\"#02C39A\",\"#FBE279\")\n",
    "\n",
    "#1 = entire, 2 = dissected\n",
    "col=c(\"#15B0DE\",\"#DD3D3D\")\n",
    "\n",
    "\n",
    "plot.phylo(tree,edge.width=1,label.offset=1,cex=0.1,show.tip.label=T, type=\"fan\")\n",
    "\n",
    "nodelabels(pie=t(st), piecol=col, cex=0.2)\n",
    "tiplabels(col=col[trait],pch=19,adj=1,cex=0.3) # trait datset must be sorted according to the tip.label order to be plotted correctly\n",
    "\n",
    "\n",
    "#legend(\"topleft\",legend=c(\"cos.palmate\",\"pinnate\", \"bipinnate\", \"entire\", \"polymorphic\"),\n",
    "legend(\"topleft\",legend=c(\"entire\",\"dissected\"),\n",
    "cex=10,\n",
    "col= col,\n",
    "text.col=col,\n",
    ",pt.cex=10,pch=15,box.lwd=0)\n",
    "\n",
    "\n",
    "dev.off()"
   ]
  },
  {
   "cell_type": "markdown",
   "metadata": {},
   "source": [
    "------\n",
    "\n",
    "## MCMC MuSSE\n",
    "\n",
    "#### on the MCC tree only\n",
    "#### best model only\n",
    "#### starting parameters are the ML estimates"
   ]
  },
  {
   "cell_type": "code",
   "execution_count": 50,
   "metadata": {},
   "outputs": [
    {
     "data": {
      "text/html": [
       "<style>\n",
       ".dl-inline {width: auto; margin:0; padding: 0}\n",
       ".dl-inline>dt, .dl-inline>dd {float: none; width: auto; display: inline-block}\n",
       ".dl-inline>dt::after {content: \":\\0020\"; padding-right: .5ex}\n",
       ".dl-inline>dt:not(:first-of-type) {padding-left: .5ex}\n",
       "</style><dl class=dl-inline><dt>lambda1</dt><dd>0.207241983311725</dd><dt>lambda2</dt><dd>0.207241983311725</dd><dt>mu1</dt><dd>0.128080935003418</dd><dt>mu2</dt><dd>0.128080935003418</dd><dt>q12</dt><dd>0.0158322096616613</dd><dt>q21</dt><dd>0.0158322096616613</dd></dl>\n"
      ],
      "text/latex": [
       "\\begin{description*}\n",
       "\\item[lambda1] 0.207241983311725\n",
       "\\item[lambda2] 0.207241983311725\n",
       "\\item[mu1] 0.128080935003418\n",
       "\\item[mu2] 0.128080935003418\n",
       "\\item[q12] 0.0158322096616613\n",
       "\\item[q21] 0.0158322096616613\n",
       "\\end{description*}\n"
      ],
      "text/markdown": [
       "lambda1\n",
       ":   0.207241983311725lambda2\n",
       ":   0.207241983311725mu1\n",
       ":   0.128080935003418mu2\n",
       ":   0.128080935003418q12\n",
       ":   0.0158322096616613q21\n",
       ":   0.0158322096616613\n",
       "\n"
      ],
      "text/plain": [
       "   lambda1    lambda2        mu1        mu2        q12        q21 \n",
       "0.20724198 0.20724198 0.12808094 0.12808094 0.01583221 0.01583221 "
      ]
     },
     "metadata": {},
     "output_type": "display_data"
    }
   ],
   "source": [
    "#find sensible starting points for the ML search\n",
    "p"
   ]
  },
  {
   "cell_type": "code",
   "execution_count": 51,
   "metadata": {
    "scrolled": true
   },
   "outputs": [],
   "source": [
    "prior <- make.prior.exponential(1 / (2 * (p[1] - p[3])))"
   ]
  },
  {
   "cell_type": "markdown",
   "metadata": {},
   "source": [
    "the tuning parameter w affects how many function evaluations are required between sample updates, but in almost all cases it does not affect how fast the MCMC “mixes” (Neal 2003). In particular, w is not analagous to the step sizes used in conventional Metropolis-Hastings updaters that use some fixed kernel for updates (see below). Ideally, w would be set to approximately the width of the high probability region. I find that chosing the distance between the 5% and 95% quantiles of the marginal distributions of each parameter works well, computed from this preliminary set of samples (see Examples). If a single value is given, this is shared across all parameters.\n",
    "\n",
    "If a vector is given, then it must be the same length as w, and parameter i will use w[i]"
   ]
  },
  {
   "cell_type": "code",
   "execution_count": 52,
   "metadata": {},
   "outputs": [],
   "source": [
    "#The “stepsize” (argument w) for the mcmc needs to be carefully tuned. To do so we run a short chain and use the range of observed samples as a measure of this.\n",
    "# https://rdrr.io/cran/diversitree/man/mcmc.html\n",
    "# best_lik = likelihood function\n",
    "# best_fit$par = initial state. parameters of the best fit model\n",
    "# w = Tuning parameter for the sampler\n",
    "\n",
    "tmp <- mcmc(best_lik, best_fit$par, nsteps=150, prior=prior,lower=0, w=rep(1, length(best_fit$par)), print.every=0)\n"
   ]
  },
  {
   "cell_type": "code",
   "execution_count": 53,
   "metadata": {},
   "outputs": [
    {
     "data": {
      "text/html": [
       "<table class=\"dataframe\">\n",
       "<caption>A mcmcsamples.musse: 6 × 8</caption>\n",
       "<thead>\n",
       "\t<tr><th></th><th scope=col>i</th><th scope=col>lambda1</th><th scope=col>lambda2</th><th scope=col>mu1</th><th scope=col>mu2</th><th scope=col>q12</th><th scope=col>q21</th><th scope=col>p</th></tr>\n",
       "\t<tr><th></th><th scope=col>&lt;int&gt;</th><th scope=col>&lt;dbl&gt;</th><th scope=col>&lt;dbl&gt;</th><th scope=col>&lt;dbl&gt;</th><th scope=col>&lt;dbl&gt;</th><th scope=col>&lt;dbl&gt;</th><th scope=col>&lt;dbl&gt;</th><th scope=col>&lt;dbl&gt;</th></tr>\n",
       "</thead>\n",
       "<tbody>\n",
       "\t<tr><th scope=row>1</th><td>1</td><td>0.4465388</td><td>0.1837078</td><td>0.005959417</td><td>0.1532611</td><td>0.5594126</td><td>0.010807249</td><td>-7423.171</td></tr>\n",
       "\t<tr><th scope=row>2</th><td>2</td><td>0.5049021</td><td>0.1817874</td><td>0.019186845</td><td>0.1577428</td><td>0.5598874</td><td>0.011491627</td><td>-7422.789</td></tr>\n",
       "\t<tr><th scope=row>3</th><td>3</td><td>0.4729915</td><td>0.1814517</td><td>0.023816414</td><td>0.1548772</td><td>0.5432655</td><td>0.008338037</td><td>-7424.643</td></tr>\n",
       "\t<tr><th scope=row>4</th><td>4</td><td>0.5292711</td><td>0.1863995</td><td>0.027872133</td><td>0.1525100</td><td>0.5393386</td><td>0.008050439</td><td>-7424.903</td></tr>\n",
       "\t<tr><th scope=row>5</th><td>5</td><td>0.4971729</td><td>0.1853190</td><td>0.026265794</td><td>0.1529585</td><td>0.5392989</td><td>0.012214646</td><td>-7423.292</td></tr>\n",
       "\t<tr><th scope=row>6</th><td>6</td><td>0.4700614</td><td>0.1840438</td><td>0.011242000</td><td>0.1518639</td><td>0.5559693</td><td>0.014624743</td><td>-7424.425</td></tr>\n",
       "</tbody>\n",
       "</table>\n"
      ],
      "text/latex": [
       "A mcmcsamples.musse: 6 × 8\n",
       "\\begin{tabular}{r|llllllll}\n",
       "  & i & lambda1 & lambda2 & mu1 & mu2 & q12 & q21 & p\\\\\n",
       "  & <int> & <dbl> & <dbl> & <dbl> & <dbl> & <dbl> & <dbl> & <dbl>\\\\\n",
       "\\hline\n",
       "\t1 & 1 & 0.4465388 & 0.1837078 & 0.005959417 & 0.1532611 & 0.5594126 & 0.010807249 & -7423.171\\\\\n",
       "\t2 & 2 & 0.5049021 & 0.1817874 & 0.019186845 & 0.1577428 & 0.5598874 & 0.011491627 & -7422.789\\\\\n",
       "\t3 & 3 & 0.4729915 & 0.1814517 & 0.023816414 & 0.1548772 & 0.5432655 & 0.008338037 & -7424.643\\\\\n",
       "\t4 & 4 & 0.5292711 & 0.1863995 & 0.027872133 & 0.1525100 & 0.5393386 & 0.008050439 & -7424.903\\\\\n",
       "\t5 & 5 & 0.4971729 & 0.1853190 & 0.026265794 & 0.1529585 & 0.5392989 & 0.012214646 & -7423.292\\\\\n",
       "\t6 & 6 & 0.4700614 & 0.1840438 & 0.011242000 & 0.1518639 & 0.5559693 & 0.014624743 & -7424.425\\\\\n",
       "\\end{tabular}\n"
      ],
      "text/markdown": [
       "\n",
       "A mcmcsamples.musse: 6 × 8\n",
       "\n",
       "| <!--/--> | i &lt;int&gt; | lambda1 &lt;dbl&gt; | lambda2 &lt;dbl&gt; | mu1 &lt;dbl&gt; | mu2 &lt;dbl&gt; | q12 &lt;dbl&gt; | q21 &lt;dbl&gt; | p &lt;dbl&gt; |\n",
       "|---|---|---|---|---|---|---|---|---|\n",
       "| 1 | 1 | 0.4465388 | 0.1837078 | 0.005959417 | 0.1532611 | 0.5594126 | 0.010807249 | -7423.171 |\n",
       "| 2 | 2 | 0.5049021 | 0.1817874 | 0.019186845 | 0.1577428 | 0.5598874 | 0.011491627 | -7422.789 |\n",
       "| 3 | 3 | 0.4729915 | 0.1814517 | 0.023816414 | 0.1548772 | 0.5432655 | 0.008338037 | -7424.643 |\n",
       "| 4 | 4 | 0.5292711 | 0.1863995 | 0.027872133 | 0.1525100 | 0.5393386 | 0.008050439 | -7424.903 |\n",
       "| 5 | 5 | 0.4971729 | 0.1853190 | 0.026265794 | 0.1529585 | 0.5392989 | 0.012214646 | -7423.292 |\n",
       "| 6 | 6 | 0.4700614 | 0.1840438 | 0.011242000 | 0.1518639 | 0.5559693 | 0.014624743 | -7424.425 |\n",
       "\n"
      ],
      "text/plain": [
       "  i lambda1   lambda2   mu1         mu2       q12       q21         p        \n",
       "1 1 0.4465388 0.1837078 0.005959417 0.1532611 0.5594126 0.010807249 -7423.171\n",
       "2 2 0.5049021 0.1817874 0.019186845 0.1577428 0.5598874 0.011491627 -7422.789\n",
       "3 3 0.4729915 0.1814517 0.023816414 0.1548772 0.5432655 0.008338037 -7424.643\n",
       "4 4 0.5292711 0.1863995 0.027872133 0.1525100 0.5393386 0.008050439 -7424.903\n",
       "5 5 0.4971729 0.1853190 0.026265794 0.1529585 0.5392989 0.012214646 -7423.292\n",
       "6 6 0.4700614 0.1840438 0.011242000 0.1518639 0.5559693 0.014624743 -7424.425"
      ]
     },
     "metadata": {},
     "output_type": "display_data"
    }
   ],
   "source": [
    "head(tmp)"
   ]
  },
  {
   "cell_type": "code",
   "execution_count": 54,
   "metadata": {
    "scrolled": true
   },
   "outputs": [
    {
     "data": {
      "text/html": [
       "<table class=\"dataframe\">\n",
       "<caption>A mcmcsamples.musse: 150 × 7</caption>\n",
       "<thead>\n",
       "\t<tr><th scope=col>lambda1</th><th scope=col>lambda2</th><th scope=col>mu1</th><th scope=col>mu2</th><th scope=col>q12</th><th scope=col>q21</th><th scope=col>p</th></tr>\n",
       "\t<tr><th scope=col>&lt;dbl&gt;</th><th scope=col>&lt;dbl&gt;</th><th scope=col>&lt;dbl&gt;</th><th scope=col>&lt;dbl&gt;</th><th scope=col>&lt;dbl&gt;</th><th scope=col>&lt;dbl&gt;</th><th scope=col>&lt;dbl&gt;</th></tr>\n",
       "</thead>\n",
       "<tbody>\n",
       "\t<tr><td>0.4465388</td><td>0.1837078</td><td>0.0059594172</td><td>0.1532611</td><td>0.5594126</td><td>0.010807249</td><td>-7423.171</td></tr>\n",
       "\t<tr><td>0.5049021</td><td>0.1817874</td><td>0.0191868451</td><td>0.1577428</td><td>0.5598874</td><td>0.011491627</td><td>-7422.789</td></tr>\n",
       "\t<tr><td>0.4729915</td><td>0.1814517</td><td>0.0238164143</td><td>0.1548772</td><td>0.5432655</td><td>0.008338037</td><td>-7424.643</td></tr>\n",
       "\t<tr><td>0.5292711</td><td>0.1863995</td><td>0.0278721325</td><td>0.1525100</td><td>0.5393386</td><td>0.008050439</td><td>-7424.903</td></tr>\n",
       "\t<tr><td>0.4971729</td><td>0.1853190</td><td>0.0262657942</td><td>0.1529585</td><td>0.5392989</td><td>0.012214646</td><td>-7423.292</td></tr>\n",
       "\t<tr><td>0.4700614</td><td>0.1840438</td><td>0.0112419999</td><td>0.1518639</td><td>0.5559693</td><td>0.014624743</td><td>-7424.425</td></tr>\n",
       "\t<tr><td>0.4631248</td><td>0.1803605</td><td>0.0092250604</td><td>0.1486503</td><td>0.6032375</td><td>0.014792309</td><td>-7425.166</td></tr>\n",
       "\t<tr><td>0.4705887</td><td>0.1775926</td><td>0.0029797997</td><td>0.1464626</td><td>0.5972872</td><td>0.014670513</td><td>-7423.470</td></tr>\n",
       "\t<tr><td>0.4644399</td><td>0.1820006</td><td>0.0034859417</td><td>0.1536955</td><td>0.6009777</td><td>0.012528624</td><td>-7424.154</td></tr>\n",
       "\t<tr><td>0.5015034</td><td>0.1819035</td><td>0.0058703764</td><td>0.1519665</td><td>0.5752194</td><td>0.012157838</td><td>-7421.936</td></tr>\n",
       "\t<tr><td>0.4760880</td><td>0.1822101</td><td>0.0051590513</td><td>0.1492669</td><td>0.5623410</td><td>0.009971293</td><td>-7420.989</td></tr>\n",
       "\t<tr><td>0.4942118</td><td>0.1801087</td><td>0.0172309407</td><td>0.1398827</td><td>0.5258191</td><td>0.009237680</td><td>-7421.993</td></tr>\n",
       "\t<tr><td>0.4998385</td><td>0.1722493</td><td>0.0106267323</td><td>0.1440137</td><td>0.5551345</td><td>0.008820152</td><td>-7423.487</td></tr>\n",
       "\t<tr><td>0.4844228</td><td>0.1871033</td><td>0.0037282036</td><td>0.1648802</td><td>0.5380540</td><td>0.008649423</td><td>-7422.164</td></tr>\n",
       "\t<tr><td>0.4966417</td><td>0.1966937</td><td>0.0118885920</td><td>0.1725333</td><td>0.5414051</td><td>0.009573517</td><td>-7423.548</td></tr>\n",
       "\t<tr><td>0.5023881</td><td>0.1995636</td><td>0.0124050392</td><td>0.1730126</td><td>0.5615277</td><td>0.010311503</td><td>-7424.311</td></tr>\n",
       "\t<tr><td>0.4784535</td><td>0.1908570</td><td>0.0053740181</td><td>0.1627012</td><td>0.5204841</td><td>0.007834260</td><td>-7421.721</td></tr>\n",
       "\t<tr><td>0.4700781</td><td>0.1899481</td><td>0.0015698004</td><td>0.1534278</td><td>0.5186473</td><td>0.008584504</td><td>-7420.965</td></tr>\n",
       "\t<tr><td>0.4514737</td><td>0.1812631</td><td>0.0067350622</td><td>0.1520599</td><td>0.4954257</td><td>0.007558084</td><td>-7421.568</td></tr>\n",
       "\t<tr><td>0.4625558</td><td>0.1818906</td><td>0.0016978090</td><td>0.1562540</td><td>0.5510586</td><td>0.011165043</td><td>-7421.402</td></tr>\n",
       "\t<tr><td>0.4896433</td><td>0.1799328</td><td>0.0047919477</td><td>0.1389175</td><td>0.5692479</td><td>0.011557770</td><td>-7422.253</td></tr>\n",
       "\t<tr><td>0.4690228</td><td>0.1775222</td><td>0.0063734106</td><td>0.1476390</td><td>0.5577521</td><td>0.011799886</td><td>-7421.358</td></tr>\n",
       "\t<tr><td>0.4778490</td><td>0.1751053</td><td>0.0000544414</td><td>0.1465210</td><td>0.5750286</td><td>0.013416420</td><td>-7422.100</td></tr>\n",
       "\t<tr><td>0.4822890</td><td>0.1825191</td><td>0.0027243116</td><td>0.1594729</td><td>0.5833788</td><td>0.010766028</td><td>-7422.614</td></tr>\n",
       "\t<tr><td>0.4831039</td><td>0.1917135</td><td>0.0154930865</td><td>0.1595284</td><td>0.5217791</td><td>0.007771335</td><td>-7422.273</td></tr>\n",
       "\t<tr><td>0.4717559</td><td>0.1911795</td><td>0.0097563672</td><td>0.1562444</td><td>0.5101895</td><td>0.008337334</td><td>-7421.502</td></tr>\n",
       "\t<tr><td>0.4662010</td><td>0.1854883</td><td>0.0071977559</td><td>0.1555843</td><td>0.5260318</td><td>0.009741959</td><td>-7420.730</td></tr>\n",
       "\t<tr><td>0.4764383</td><td>0.1852728</td><td>0.0038002261</td><td>0.1560796</td><td>0.5510580</td><td>0.009815436</td><td>-7420.724</td></tr>\n",
       "\t<tr><td>0.4902778</td><td>0.1820797</td><td>0.0100864698</td><td>0.1543231</td><td>0.5475110</td><td>0.010213135</td><td>-7421.248</td></tr>\n",
       "\t<tr><td>0.4868877</td><td>0.1825537</td><td>0.0120421711</td><td>0.1484383</td><td>0.5127159</td><td>0.009167954</td><td>-7421.504</td></tr>\n",
       "\t<tr><td>⋮</td><td>⋮</td><td>⋮</td><td>⋮</td><td>⋮</td><td>⋮</td><td>⋮</td></tr>\n",
       "\t<tr><td>0.4718634</td><td>0.1745099</td><td>0.0277525572</td><td>0.1468479</td><td>0.5024078</td><td>0.009920295</td><td>-7423.224</td></tr>\n",
       "\t<tr><td>0.4813871</td><td>0.1798490</td><td>0.0283881507</td><td>0.1397070</td><td>0.5437961</td><td>0.010057350</td><td>-7422.471</td></tr>\n",
       "\t<tr><td>0.4880441</td><td>0.1780704</td><td>0.0184730809</td><td>0.1418907</td><td>0.5133031</td><td>0.007094557</td><td>-7422.677</td></tr>\n",
       "\t<tr><td>0.4981962</td><td>0.1776123</td><td>0.0098069401</td><td>0.1319564</td><td>0.4905459</td><td>0.006171156</td><td>-7425.924</td></tr>\n",
       "\t<tr><td>0.4702015</td><td>0.1785864</td><td>0.0235163215</td><td>0.1347655</td><td>0.4776443</td><td>0.008610636</td><td>-7422.891</td></tr>\n",
       "\t<tr><td>0.4450462</td><td>0.1796629</td><td>0.0063647767</td><td>0.1362640</td><td>0.5212731</td><td>0.009931389</td><td>-7421.601</td></tr>\n",
       "\t<tr><td>0.4762471</td><td>0.1753448</td><td>0.0135099223</td><td>0.1426572</td><td>0.5057253</td><td>0.008568132</td><td>-7421.499</td></tr>\n",
       "\t<tr><td>0.4580951</td><td>0.1851775</td><td>0.0080908420</td><td>0.1546938</td><td>0.4978325</td><td>0.007329328</td><td>-7421.391</td></tr>\n",
       "\t<tr><td>0.4404774</td><td>0.1882023</td><td>0.0072847106</td><td>0.1519661</td><td>0.4654970</td><td>0.007433498</td><td>-7422.117</td></tr>\n",
       "\t<tr><td>0.4402956</td><td>0.1878027</td><td>0.0106164429</td><td>0.1508223</td><td>0.4660131</td><td>0.005874646</td><td>-7423.014</td></tr>\n",
       "\t<tr><td>0.4433191</td><td>0.1881303</td><td>0.0107264418</td><td>0.1511859</td><td>0.4728142</td><td>0.005241868</td><td>-7424.250</td></tr>\n",
       "\t<tr><td>0.4415157</td><td>0.1828265</td><td>0.0213679831</td><td>0.1484669</td><td>0.4127543</td><td>0.006194498</td><td>-7427.904</td></tr>\n",
       "\t<tr><td>0.4364515</td><td>0.1805370</td><td>0.0343389940</td><td>0.1548025</td><td>0.4907692</td><td>0.014171790</td><td>-7430.285</td></tr>\n",
       "\t<tr><td>0.4853555</td><td>0.1862286</td><td>0.0848834585</td><td>0.1529311</td><td>0.5459775</td><td>0.019846719</td><td>-7435.135</td></tr>\n",
       "\t<tr><td>0.5111284</td><td>0.1898746</td><td>0.0821752741</td><td>0.1555906</td><td>0.6229992</td><td>0.019817128</td><td>-7435.066</td></tr>\n",
       "\t<tr><td>0.5162407</td><td>0.1848845</td><td>0.0648487789</td><td>0.1534840</td><td>0.5849125</td><td>0.017096709</td><td>-7428.560</td></tr>\n",
       "\t<tr><td>0.4870903</td><td>0.1790491</td><td>0.0519666328</td><td>0.1405877</td><td>0.5498791</td><td>0.013967835</td><td>-7425.248</td></tr>\n",
       "\t<tr><td>0.4940527</td><td>0.1776230</td><td>0.0599601276</td><td>0.1485825</td><td>0.5457052</td><td>0.012788709</td><td>-7425.131</td></tr>\n",
       "\t<tr><td>0.5084228</td><td>0.1787050</td><td>0.0575026154</td><td>0.1449291</td><td>0.5267053</td><td>0.010493903</td><td>-7423.477</td></tr>\n",
       "\t<tr><td>0.5071450</td><td>0.1839613</td><td>0.0265989666</td><td>0.1616142</td><td>0.5762536</td><td>0.011864341</td><td>-7423.687</td></tr>\n",
       "\t<tr><td>0.5081860</td><td>0.1913376</td><td>0.0339184195</td><td>0.1599329</td><td>0.5645837</td><td>0.010684127</td><td>-7423.779</td></tr>\n",
       "\t<tr><td>0.4894660</td><td>0.1924261</td><td>0.0275460198</td><td>0.1587642</td><td>0.5482539</td><td>0.010468944</td><td>-7423.132</td></tr>\n",
       "\t<tr><td>0.4866680</td><td>0.1861778</td><td>0.0054025059</td><td>0.1495290</td><td>0.5340044</td><td>0.010312087</td><td>-7421.695</td></tr>\n",
       "\t<tr><td>0.4823291</td><td>0.1863164</td><td>0.0009637692</td><td>0.1566596</td><td>0.5574354</td><td>0.012459417</td><td>-7422.074</td></tr>\n",
       "\t<tr><td>0.4670768</td><td>0.1851655</td><td>0.0016692362</td><td>0.1512749</td><td>0.5735498</td><td>0.009385361</td><td>-7422.466</td></tr>\n",
       "\t<tr><td>0.4873391</td><td>0.1778833</td><td>0.0226538874</td><td>0.1382899</td><td>0.5289630</td><td>0.010592535</td><td>-7421.948</td></tr>\n",
       "\t<tr><td>0.4744955</td><td>0.1741523</td><td>0.0144656306</td><td>0.1441425</td><td>0.5156240</td><td>0.009276958</td><td>-7421.740</td></tr>\n",
       "\t<tr><td>0.4625899</td><td>0.1744754</td><td>0.0106897917</td><td>0.1426904</td><td>0.5117621</td><td>0.009172067</td><td>-7421.211</td></tr>\n",
       "\t<tr><td>0.4521020</td><td>0.1878069</td><td>0.0055242046</td><td>0.1461569</td><td>0.4915692</td><td>0.009204947</td><td>-7422.200</td></tr>\n",
       "\t<tr><td>0.4656566</td><td>0.1838571</td><td>0.0304331755</td><td>0.1549501</td><td>0.4918594</td><td>0.009299830</td><td>-7422.701</td></tr>\n",
       "</tbody>\n",
       "</table>\n"
      ],
      "text/latex": [
       "A mcmcsamples.musse: 150 × 7\n",
       "\\begin{tabular}{lllllll}\n",
       " lambda1 & lambda2 & mu1 & mu2 & q12 & q21 & p\\\\\n",
       " <dbl> & <dbl> & <dbl> & <dbl> & <dbl> & <dbl> & <dbl>\\\\\n",
       "\\hline\n",
       "\t 0.4465388 & 0.1837078 & 0.0059594172 & 0.1532611 & 0.5594126 & 0.010807249 & -7423.171\\\\\n",
       "\t 0.5049021 & 0.1817874 & 0.0191868451 & 0.1577428 & 0.5598874 & 0.011491627 & -7422.789\\\\\n",
       "\t 0.4729915 & 0.1814517 & 0.0238164143 & 0.1548772 & 0.5432655 & 0.008338037 & -7424.643\\\\\n",
       "\t 0.5292711 & 0.1863995 & 0.0278721325 & 0.1525100 & 0.5393386 & 0.008050439 & -7424.903\\\\\n",
       "\t 0.4971729 & 0.1853190 & 0.0262657942 & 0.1529585 & 0.5392989 & 0.012214646 & -7423.292\\\\\n",
       "\t 0.4700614 & 0.1840438 & 0.0112419999 & 0.1518639 & 0.5559693 & 0.014624743 & -7424.425\\\\\n",
       "\t 0.4631248 & 0.1803605 & 0.0092250604 & 0.1486503 & 0.6032375 & 0.014792309 & -7425.166\\\\\n",
       "\t 0.4705887 & 0.1775926 & 0.0029797997 & 0.1464626 & 0.5972872 & 0.014670513 & -7423.470\\\\\n",
       "\t 0.4644399 & 0.1820006 & 0.0034859417 & 0.1536955 & 0.6009777 & 0.012528624 & -7424.154\\\\\n",
       "\t 0.5015034 & 0.1819035 & 0.0058703764 & 0.1519665 & 0.5752194 & 0.012157838 & -7421.936\\\\\n",
       "\t 0.4760880 & 0.1822101 & 0.0051590513 & 0.1492669 & 0.5623410 & 0.009971293 & -7420.989\\\\\n",
       "\t 0.4942118 & 0.1801087 & 0.0172309407 & 0.1398827 & 0.5258191 & 0.009237680 & -7421.993\\\\\n",
       "\t 0.4998385 & 0.1722493 & 0.0106267323 & 0.1440137 & 0.5551345 & 0.008820152 & -7423.487\\\\\n",
       "\t 0.4844228 & 0.1871033 & 0.0037282036 & 0.1648802 & 0.5380540 & 0.008649423 & -7422.164\\\\\n",
       "\t 0.4966417 & 0.1966937 & 0.0118885920 & 0.1725333 & 0.5414051 & 0.009573517 & -7423.548\\\\\n",
       "\t 0.5023881 & 0.1995636 & 0.0124050392 & 0.1730126 & 0.5615277 & 0.010311503 & -7424.311\\\\\n",
       "\t 0.4784535 & 0.1908570 & 0.0053740181 & 0.1627012 & 0.5204841 & 0.007834260 & -7421.721\\\\\n",
       "\t 0.4700781 & 0.1899481 & 0.0015698004 & 0.1534278 & 0.5186473 & 0.008584504 & -7420.965\\\\\n",
       "\t 0.4514737 & 0.1812631 & 0.0067350622 & 0.1520599 & 0.4954257 & 0.007558084 & -7421.568\\\\\n",
       "\t 0.4625558 & 0.1818906 & 0.0016978090 & 0.1562540 & 0.5510586 & 0.011165043 & -7421.402\\\\\n",
       "\t 0.4896433 & 0.1799328 & 0.0047919477 & 0.1389175 & 0.5692479 & 0.011557770 & -7422.253\\\\\n",
       "\t 0.4690228 & 0.1775222 & 0.0063734106 & 0.1476390 & 0.5577521 & 0.011799886 & -7421.358\\\\\n",
       "\t 0.4778490 & 0.1751053 & 0.0000544414 & 0.1465210 & 0.5750286 & 0.013416420 & -7422.100\\\\\n",
       "\t 0.4822890 & 0.1825191 & 0.0027243116 & 0.1594729 & 0.5833788 & 0.010766028 & -7422.614\\\\\n",
       "\t 0.4831039 & 0.1917135 & 0.0154930865 & 0.1595284 & 0.5217791 & 0.007771335 & -7422.273\\\\\n",
       "\t 0.4717559 & 0.1911795 & 0.0097563672 & 0.1562444 & 0.5101895 & 0.008337334 & -7421.502\\\\\n",
       "\t 0.4662010 & 0.1854883 & 0.0071977559 & 0.1555843 & 0.5260318 & 0.009741959 & -7420.730\\\\\n",
       "\t 0.4764383 & 0.1852728 & 0.0038002261 & 0.1560796 & 0.5510580 & 0.009815436 & -7420.724\\\\\n",
       "\t 0.4902778 & 0.1820797 & 0.0100864698 & 0.1543231 & 0.5475110 & 0.010213135 & -7421.248\\\\\n",
       "\t 0.4868877 & 0.1825537 & 0.0120421711 & 0.1484383 & 0.5127159 & 0.009167954 & -7421.504\\\\\n",
       "\t ⋮ & ⋮ & ⋮ & ⋮ & ⋮ & ⋮ & ⋮\\\\\n",
       "\t 0.4718634 & 0.1745099 & 0.0277525572 & 0.1468479 & 0.5024078 & 0.009920295 & -7423.224\\\\\n",
       "\t 0.4813871 & 0.1798490 & 0.0283881507 & 0.1397070 & 0.5437961 & 0.010057350 & -7422.471\\\\\n",
       "\t 0.4880441 & 0.1780704 & 0.0184730809 & 0.1418907 & 0.5133031 & 0.007094557 & -7422.677\\\\\n",
       "\t 0.4981962 & 0.1776123 & 0.0098069401 & 0.1319564 & 0.4905459 & 0.006171156 & -7425.924\\\\\n",
       "\t 0.4702015 & 0.1785864 & 0.0235163215 & 0.1347655 & 0.4776443 & 0.008610636 & -7422.891\\\\\n",
       "\t 0.4450462 & 0.1796629 & 0.0063647767 & 0.1362640 & 0.5212731 & 0.009931389 & -7421.601\\\\\n",
       "\t 0.4762471 & 0.1753448 & 0.0135099223 & 0.1426572 & 0.5057253 & 0.008568132 & -7421.499\\\\\n",
       "\t 0.4580951 & 0.1851775 & 0.0080908420 & 0.1546938 & 0.4978325 & 0.007329328 & -7421.391\\\\\n",
       "\t 0.4404774 & 0.1882023 & 0.0072847106 & 0.1519661 & 0.4654970 & 0.007433498 & -7422.117\\\\\n",
       "\t 0.4402956 & 0.1878027 & 0.0106164429 & 0.1508223 & 0.4660131 & 0.005874646 & -7423.014\\\\\n",
       "\t 0.4433191 & 0.1881303 & 0.0107264418 & 0.1511859 & 0.4728142 & 0.005241868 & -7424.250\\\\\n",
       "\t 0.4415157 & 0.1828265 & 0.0213679831 & 0.1484669 & 0.4127543 & 0.006194498 & -7427.904\\\\\n",
       "\t 0.4364515 & 0.1805370 & 0.0343389940 & 0.1548025 & 0.4907692 & 0.014171790 & -7430.285\\\\\n",
       "\t 0.4853555 & 0.1862286 & 0.0848834585 & 0.1529311 & 0.5459775 & 0.019846719 & -7435.135\\\\\n",
       "\t 0.5111284 & 0.1898746 & 0.0821752741 & 0.1555906 & 0.6229992 & 0.019817128 & -7435.066\\\\\n",
       "\t 0.5162407 & 0.1848845 & 0.0648487789 & 0.1534840 & 0.5849125 & 0.017096709 & -7428.560\\\\\n",
       "\t 0.4870903 & 0.1790491 & 0.0519666328 & 0.1405877 & 0.5498791 & 0.013967835 & -7425.248\\\\\n",
       "\t 0.4940527 & 0.1776230 & 0.0599601276 & 0.1485825 & 0.5457052 & 0.012788709 & -7425.131\\\\\n",
       "\t 0.5084228 & 0.1787050 & 0.0575026154 & 0.1449291 & 0.5267053 & 0.010493903 & -7423.477\\\\\n",
       "\t 0.5071450 & 0.1839613 & 0.0265989666 & 0.1616142 & 0.5762536 & 0.011864341 & -7423.687\\\\\n",
       "\t 0.5081860 & 0.1913376 & 0.0339184195 & 0.1599329 & 0.5645837 & 0.010684127 & -7423.779\\\\\n",
       "\t 0.4894660 & 0.1924261 & 0.0275460198 & 0.1587642 & 0.5482539 & 0.010468944 & -7423.132\\\\\n",
       "\t 0.4866680 & 0.1861778 & 0.0054025059 & 0.1495290 & 0.5340044 & 0.010312087 & -7421.695\\\\\n",
       "\t 0.4823291 & 0.1863164 & 0.0009637692 & 0.1566596 & 0.5574354 & 0.012459417 & -7422.074\\\\\n",
       "\t 0.4670768 & 0.1851655 & 0.0016692362 & 0.1512749 & 0.5735498 & 0.009385361 & -7422.466\\\\\n",
       "\t 0.4873391 & 0.1778833 & 0.0226538874 & 0.1382899 & 0.5289630 & 0.010592535 & -7421.948\\\\\n",
       "\t 0.4744955 & 0.1741523 & 0.0144656306 & 0.1441425 & 0.5156240 & 0.009276958 & -7421.740\\\\\n",
       "\t 0.4625899 & 0.1744754 & 0.0106897917 & 0.1426904 & 0.5117621 & 0.009172067 & -7421.211\\\\\n",
       "\t 0.4521020 & 0.1878069 & 0.0055242046 & 0.1461569 & 0.4915692 & 0.009204947 & -7422.200\\\\\n",
       "\t 0.4656566 & 0.1838571 & 0.0304331755 & 0.1549501 & 0.4918594 & 0.009299830 & -7422.701\\\\\n",
       "\\end{tabular}\n"
      ],
      "text/markdown": [
       "\n",
       "A mcmcsamples.musse: 150 × 7\n",
       "\n",
       "| lambda1 &lt;dbl&gt; | lambda2 &lt;dbl&gt; | mu1 &lt;dbl&gt; | mu2 &lt;dbl&gt; | q12 &lt;dbl&gt; | q21 &lt;dbl&gt; | p &lt;dbl&gt; |\n",
       "|---|---|---|---|---|---|---|\n",
       "| 0.4465388 | 0.1837078 | 0.0059594172 | 0.1532611 | 0.5594126 | 0.010807249 | -7423.171 |\n",
       "| 0.5049021 | 0.1817874 | 0.0191868451 | 0.1577428 | 0.5598874 | 0.011491627 | -7422.789 |\n",
       "| 0.4729915 | 0.1814517 | 0.0238164143 | 0.1548772 | 0.5432655 | 0.008338037 | -7424.643 |\n",
       "| 0.5292711 | 0.1863995 | 0.0278721325 | 0.1525100 | 0.5393386 | 0.008050439 | -7424.903 |\n",
       "| 0.4971729 | 0.1853190 | 0.0262657942 | 0.1529585 | 0.5392989 | 0.012214646 | -7423.292 |\n",
       "| 0.4700614 | 0.1840438 | 0.0112419999 | 0.1518639 | 0.5559693 | 0.014624743 | -7424.425 |\n",
       "| 0.4631248 | 0.1803605 | 0.0092250604 | 0.1486503 | 0.6032375 | 0.014792309 | -7425.166 |\n",
       "| 0.4705887 | 0.1775926 | 0.0029797997 | 0.1464626 | 0.5972872 | 0.014670513 | -7423.470 |\n",
       "| 0.4644399 | 0.1820006 | 0.0034859417 | 0.1536955 | 0.6009777 | 0.012528624 | -7424.154 |\n",
       "| 0.5015034 | 0.1819035 | 0.0058703764 | 0.1519665 | 0.5752194 | 0.012157838 | -7421.936 |\n",
       "| 0.4760880 | 0.1822101 | 0.0051590513 | 0.1492669 | 0.5623410 | 0.009971293 | -7420.989 |\n",
       "| 0.4942118 | 0.1801087 | 0.0172309407 | 0.1398827 | 0.5258191 | 0.009237680 | -7421.993 |\n",
       "| 0.4998385 | 0.1722493 | 0.0106267323 | 0.1440137 | 0.5551345 | 0.008820152 | -7423.487 |\n",
       "| 0.4844228 | 0.1871033 | 0.0037282036 | 0.1648802 | 0.5380540 | 0.008649423 | -7422.164 |\n",
       "| 0.4966417 | 0.1966937 | 0.0118885920 | 0.1725333 | 0.5414051 | 0.009573517 | -7423.548 |\n",
       "| 0.5023881 | 0.1995636 | 0.0124050392 | 0.1730126 | 0.5615277 | 0.010311503 | -7424.311 |\n",
       "| 0.4784535 | 0.1908570 | 0.0053740181 | 0.1627012 | 0.5204841 | 0.007834260 | -7421.721 |\n",
       "| 0.4700781 | 0.1899481 | 0.0015698004 | 0.1534278 | 0.5186473 | 0.008584504 | -7420.965 |\n",
       "| 0.4514737 | 0.1812631 | 0.0067350622 | 0.1520599 | 0.4954257 | 0.007558084 | -7421.568 |\n",
       "| 0.4625558 | 0.1818906 | 0.0016978090 | 0.1562540 | 0.5510586 | 0.011165043 | -7421.402 |\n",
       "| 0.4896433 | 0.1799328 | 0.0047919477 | 0.1389175 | 0.5692479 | 0.011557770 | -7422.253 |\n",
       "| 0.4690228 | 0.1775222 | 0.0063734106 | 0.1476390 | 0.5577521 | 0.011799886 | -7421.358 |\n",
       "| 0.4778490 | 0.1751053 | 0.0000544414 | 0.1465210 | 0.5750286 | 0.013416420 | -7422.100 |\n",
       "| 0.4822890 | 0.1825191 | 0.0027243116 | 0.1594729 | 0.5833788 | 0.010766028 | -7422.614 |\n",
       "| 0.4831039 | 0.1917135 | 0.0154930865 | 0.1595284 | 0.5217791 | 0.007771335 | -7422.273 |\n",
       "| 0.4717559 | 0.1911795 | 0.0097563672 | 0.1562444 | 0.5101895 | 0.008337334 | -7421.502 |\n",
       "| 0.4662010 | 0.1854883 | 0.0071977559 | 0.1555843 | 0.5260318 | 0.009741959 | -7420.730 |\n",
       "| 0.4764383 | 0.1852728 | 0.0038002261 | 0.1560796 | 0.5510580 | 0.009815436 | -7420.724 |\n",
       "| 0.4902778 | 0.1820797 | 0.0100864698 | 0.1543231 | 0.5475110 | 0.010213135 | -7421.248 |\n",
       "| 0.4868877 | 0.1825537 | 0.0120421711 | 0.1484383 | 0.5127159 | 0.009167954 | -7421.504 |\n",
       "| ⋮ | ⋮ | ⋮ | ⋮ | ⋮ | ⋮ | ⋮ |\n",
       "| 0.4718634 | 0.1745099 | 0.0277525572 | 0.1468479 | 0.5024078 | 0.009920295 | -7423.224 |\n",
       "| 0.4813871 | 0.1798490 | 0.0283881507 | 0.1397070 | 0.5437961 | 0.010057350 | -7422.471 |\n",
       "| 0.4880441 | 0.1780704 | 0.0184730809 | 0.1418907 | 0.5133031 | 0.007094557 | -7422.677 |\n",
       "| 0.4981962 | 0.1776123 | 0.0098069401 | 0.1319564 | 0.4905459 | 0.006171156 | -7425.924 |\n",
       "| 0.4702015 | 0.1785864 | 0.0235163215 | 0.1347655 | 0.4776443 | 0.008610636 | -7422.891 |\n",
       "| 0.4450462 | 0.1796629 | 0.0063647767 | 0.1362640 | 0.5212731 | 0.009931389 | -7421.601 |\n",
       "| 0.4762471 | 0.1753448 | 0.0135099223 | 0.1426572 | 0.5057253 | 0.008568132 | -7421.499 |\n",
       "| 0.4580951 | 0.1851775 | 0.0080908420 | 0.1546938 | 0.4978325 | 0.007329328 | -7421.391 |\n",
       "| 0.4404774 | 0.1882023 | 0.0072847106 | 0.1519661 | 0.4654970 | 0.007433498 | -7422.117 |\n",
       "| 0.4402956 | 0.1878027 | 0.0106164429 | 0.1508223 | 0.4660131 | 0.005874646 | -7423.014 |\n",
       "| 0.4433191 | 0.1881303 | 0.0107264418 | 0.1511859 | 0.4728142 | 0.005241868 | -7424.250 |\n",
       "| 0.4415157 | 0.1828265 | 0.0213679831 | 0.1484669 | 0.4127543 | 0.006194498 | -7427.904 |\n",
       "| 0.4364515 | 0.1805370 | 0.0343389940 | 0.1548025 | 0.4907692 | 0.014171790 | -7430.285 |\n",
       "| 0.4853555 | 0.1862286 | 0.0848834585 | 0.1529311 | 0.5459775 | 0.019846719 | -7435.135 |\n",
       "| 0.5111284 | 0.1898746 | 0.0821752741 | 0.1555906 | 0.6229992 | 0.019817128 | -7435.066 |\n",
       "| 0.5162407 | 0.1848845 | 0.0648487789 | 0.1534840 | 0.5849125 | 0.017096709 | -7428.560 |\n",
       "| 0.4870903 | 0.1790491 | 0.0519666328 | 0.1405877 | 0.5498791 | 0.013967835 | -7425.248 |\n",
       "| 0.4940527 | 0.1776230 | 0.0599601276 | 0.1485825 | 0.5457052 | 0.012788709 | -7425.131 |\n",
       "| 0.5084228 | 0.1787050 | 0.0575026154 | 0.1449291 | 0.5267053 | 0.010493903 | -7423.477 |\n",
       "| 0.5071450 | 0.1839613 | 0.0265989666 | 0.1616142 | 0.5762536 | 0.011864341 | -7423.687 |\n",
       "| 0.5081860 | 0.1913376 | 0.0339184195 | 0.1599329 | 0.5645837 | 0.010684127 | -7423.779 |\n",
       "| 0.4894660 | 0.1924261 | 0.0275460198 | 0.1587642 | 0.5482539 | 0.010468944 | -7423.132 |\n",
       "| 0.4866680 | 0.1861778 | 0.0054025059 | 0.1495290 | 0.5340044 | 0.010312087 | -7421.695 |\n",
       "| 0.4823291 | 0.1863164 | 0.0009637692 | 0.1566596 | 0.5574354 | 0.012459417 | -7422.074 |\n",
       "| 0.4670768 | 0.1851655 | 0.0016692362 | 0.1512749 | 0.5735498 | 0.009385361 | -7422.466 |\n",
       "| 0.4873391 | 0.1778833 | 0.0226538874 | 0.1382899 | 0.5289630 | 0.010592535 | -7421.948 |\n",
       "| 0.4744955 | 0.1741523 | 0.0144656306 | 0.1441425 | 0.5156240 | 0.009276958 | -7421.740 |\n",
       "| 0.4625899 | 0.1744754 | 0.0106897917 | 0.1426904 | 0.5117621 | 0.009172067 | -7421.211 |\n",
       "| 0.4521020 | 0.1878069 | 0.0055242046 | 0.1461569 | 0.4915692 | 0.009204947 | -7422.200 |\n",
       "| 0.4656566 | 0.1838571 | 0.0304331755 | 0.1549501 | 0.4918594 | 0.009299830 | -7422.701 |\n",
       "\n"
      ],
      "text/plain": [
       "    lambda1   lambda2   mu1          mu2       q12       q21         p        \n",
       "1   0.4465388 0.1837078 0.0059594172 0.1532611 0.5594126 0.010807249 -7423.171\n",
       "2   0.5049021 0.1817874 0.0191868451 0.1577428 0.5598874 0.011491627 -7422.789\n",
       "3   0.4729915 0.1814517 0.0238164143 0.1548772 0.5432655 0.008338037 -7424.643\n",
       "4   0.5292711 0.1863995 0.0278721325 0.1525100 0.5393386 0.008050439 -7424.903\n",
       "5   0.4971729 0.1853190 0.0262657942 0.1529585 0.5392989 0.012214646 -7423.292\n",
       "6   0.4700614 0.1840438 0.0112419999 0.1518639 0.5559693 0.014624743 -7424.425\n",
       "7   0.4631248 0.1803605 0.0092250604 0.1486503 0.6032375 0.014792309 -7425.166\n",
       "8   0.4705887 0.1775926 0.0029797997 0.1464626 0.5972872 0.014670513 -7423.470\n",
       "9   0.4644399 0.1820006 0.0034859417 0.1536955 0.6009777 0.012528624 -7424.154\n",
       "10  0.5015034 0.1819035 0.0058703764 0.1519665 0.5752194 0.012157838 -7421.936\n",
       "11  0.4760880 0.1822101 0.0051590513 0.1492669 0.5623410 0.009971293 -7420.989\n",
       "12  0.4942118 0.1801087 0.0172309407 0.1398827 0.5258191 0.009237680 -7421.993\n",
       "13  0.4998385 0.1722493 0.0106267323 0.1440137 0.5551345 0.008820152 -7423.487\n",
       "14  0.4844228 0.1871033 0.0037282036 0.1648802 0.5380540 0.008649423 -7422.164\n",
       "15  0.4966417 0.1966937 0.0118885920 0.1725333 0.5414051 0.009573517 -7423.548\n",
       "16  0.5023881 0.1995636 0.0124050392 0.1730126 0.5615277 0.010311503 -7424.311\n",
       "17  0.4784535 0.1908570 0.0053740181 0.1627012 0.5204841 0.007834260 -7421.721\n",
       "18  0.4700781 0.1899481 0.0015698004 0.1534278 0.5186473 0.008584504 -7420.965\n",
       "19  0.4514737 0.1812631 0.0067350622 0.1520599 0.4954257 0.007558084 -7421.568\n",
       "20  0.4625558 0.1818906 0.0016978090 0.1562540 0.5510586 0.011165043 -7421.402\n",
       "21  0.4896433 0.1799328 0.0047919477 0.1389175 0.5692479 0.011557770 -7422.253\n",
       "22  0.4690228 0.1775222 0.0063734106 0.1476390 0.5577521 0.011799886 -7421.358\n",
       "23  0.4778490 0.1751053 0.0000544414 0.1465210 0.5750286 0.013416420 -7422.100\n",
       "24  0.4822890 0.1825191 0.0027243116 0.1594729 0.5833788 0.010766028 -7422.614\n",
       "25  0.4831039 0.1917135 0.0154930865 0.1595284 0.5217791 0.007771335 -7422.273\n",
       "26  0.4717559 0.1911795 0.0097563672 0.1562444 0.5101895 0.008337334 -7421.502\n",
       "27  0.4662010 0.1854883 0.0071977559 0.1555843 0.5260318 0.009741959 -7420.730\n",
       "28  0.4764383 0.1852728 0.0038002261 0.1560796 0.5510580 0.009815436 -7420.724\n",
       "29  0.4902778 0.1820797 0.0100864698 0.1543231 0.5475110 0.010213135 -7421.248\n",
       "30  0.4868877 0.1825537 0.0120421711 0.1484383 0.5127159 0.009167954 -7421.504\n",
       "⋮   ⋮         ⋮         ⋮            ⋮         ⋮         ⋮           ⋮        \n",
       "121 0.4718634 0.1745099 0.0277525572 0.1468479 0.5024078 0.009920295 -7423.224\n",
       "122 0.4813871 0.1798490 0.0283881507 0.1397070 0.5437961 0.010057350 -7422.471\n",
       "123 0.4880441 0.1780704 0.0184730809 0.1418907 0.5133031 0.007094557 -7422.677\n",
       "124 0.4981962 0.1776123 0.0098069401 0.1319564 0.4905459 0.006171156 -7425.924\n",
       "125 0.4702015 0.1785864 0.0235163215 0.1347655 0.4776443 0.008610636 -7422.891\n",
       "126 0.4450462 0.1796629 0.0063647767 0.1362640 0.5212731 0.009931389 -7421.601\n",
       "127 0.4762471 0.1753448 0.0135099223 0.1426572 0.5057253 0.008568132 -7421.499\n",
       "128 0.4580951 0.1851775 0.0080908420 0.1546938 0.4978325 0.007329328 -7421.391\n",
       "129 0.4404774 0.1882023 0.0072847106 0.1519661 0.4654970 0.007433498 -7422.117\n",
       "130 0.4402956 0.1878027 0.0106164429 0.1508223 0.4660131 0.005874646 -7423.014\n",
       "131 0.4433191 0.1881303 0.0107264418 0.1511859 0.4728142 0.005241868 -7424.250\n",
       "132 0.4415157 0.1828265 0.0213679831 0.1484669 0.4127543 0.006194498 -7427.904\n",
       "133 0.4364515 0.1805370 0.0343389940 0.1548025 0.4907692 0.014171790 -7430.285\n",
       "134 0.4853555 0.1862286 0.0848834585 0.1529311 0.5459775 0.019846719 -7435.135\n",
       "135 0.5111284 0.1898746 0.0821752741 0.1555906 0.6229992 0.019817128 -7435.066\n",
       "136 0.5162407 0.1848845 0.0648487789 0.1534840 0.5849125 0.017096709 -7428.560\n",
       "137 0.4870903 0.1790491 0.0519666328 0.1405877 0.5498791 0.013967835 -7425.248\n",
       "138 0.4940527 0.1776230 0.0599601276 0.1485825 0.5457052 0.012788709 -7425.131\n",
       "139 0.5084228 0.1787050 0.0575026154 0.1449291 0.5267053 0.010493903 -7423.477\n",
       "140 0.5071450 0.1839613 0.0265989666 0.1616142 0.5762536 0.011864341 -7423.687\n",
       "141 0.5081860 0.1913376 0.0339184195 0.1599329 0.5645837 0.010684127 -7423.779\n",
       "142 0.4894660 0.1924261 0.0275460198 0.1587642 0.5482539 0.010468944 -7423.132\n",
       "143 0.4866680 0.1861778 0.0054025059 0.1495290 0.5340044 0.010312087 -7421.695\n",
       "144 0.4823291 0.1863164 0.0009637692 0.1566596 0.5574354 0.012459417 -7422.074\n",
       "145 0.4670768 0.1851655 0.0016692362 0.1512749 0.5735498 0.009385361 -7422.466\n",
       "146 0.4873391 0.1778833 0.0226538874 0.1382899 0.5289630 0.010592535 -7421.948\n",
       "147 0.4744955 0.1741523 0.0144656306 0.1441425 0.5156240 0.009276958 -7421.740\n",
       "148 0.4625899 0.1744754 0.0106897917 0.1426904 0.5117621 0.009172067 -7421.211\n",
       "149 0.4521020 0.1878069 0.0055242046 0.1461569 0.4915692 0.009204947 -7422.200\n",
       "150 0.4656566 0.1838571 0.0304331755 0.1549501 0.4918594 0.009299830 -7422.701"
      ]
     },
     "metadata": {},
     "output_type": "display_data"
    }
   ],
   "source": [
    "tmp[2:ncol(tmp)] # assuming that the length of w has to be the same as the number of parameters"
   ]
  },
  {
   "cell_type": "code",
   "execution_count": 55,
   "metadata": {
    "scrolled": true
   },
   "outputs": [
    {
     "data": {
      "text/html": [
       "<table class=\"dataframe\">\n",
       "<caption>A mcmcsamples.musse: 150 × 6</caption>\n",
       "<thead>\n",
       "\t<tr><th scope=col>lambda1</th><th scope=col>lambda2</th><th scope=col>mu1</th><th scope=col>mu2</th><th scope=col>q12</th><th scope=col>q21</th></tr>\n",
       "\t<tr><th scope=col>&lt;dbl&gt;</th><th scope=col>&lt;dbl&gt;</th><th scope=col>&lt;dbl&gt;</th><th scope=col>&lt;dbl&gt;</th><th scope=col>&lt;dbl&gt;</th><th scope=col>&lt;dbl&gt;</th></tr>\n",
       "</thead>\n",
       "<tbody>\n",
       "\t<tr><td>0.4465388</td><td>0.1837078</td><td>0.0059594172</td><td>0.1532611</td><td>0.5594126</td><td>0.010807249</td></tr>\n",
       "\t<tr><td>0.5049021</td><td>0.1817874</td><td>0.0191868451</td><td>0.1577428</td><td>0.5598874</td><td>0.011491627</td></tr>\n",
       "\t<tr><td>0.4729915</td><td>0.1814517</td><td>0.0238164143</td><td>0.1548772</td><td>0.5432655</td><td>0.008338037</td></tr>\n",
       "\t<tr><td>0.5292711</td><td>0.1863995</td><td>0.0278721325</td><td>0.1525100</td><td>0.5393386</td><td>0.008050439</td></tr>\n",
       "\t<tr><td>0.4971729</td><td>0.1853190</td><td>0.0262657942</td><td>0.1529585</td><td>0.5392989</td><td>0.012214646</td></tr>\n",
       "\t<tr><td>0.4700614</td><td>0.1840438</td><td>0.0112419999</td><td>0.1518639</td><td>0.5559693</td><td>0.014624743</td></tr>\n",
       "\t<tr><td>0.4631248</td><td>0.1803605</td><td>0.0092250604</td><td>0.1486503</td><td>0.6032375</td><td>0.014792309</td></tr>\n",
       "\t<tr><td>0.4705887</td><td>0.1775926</td><td>0.0029797997</td><td>0.1464626</td><td>0.5972872</td><td>0.014670513</td></tr>\n",
       "\t<tr><td>0.4644399</td><td>0.1820006</td><td>0.0034859417</td><td>0.1536955</td><td>0.6009777</td><td>0.012528624</td></tr>\n",
       "\t<tr><td>0.5015034</td><td>0.1819035</td><td>0.0058703764</td><td>0.1519665</td><td>0.5752194</td><td>0.012157838</td></tr>\n",
       "\t<tr><td>0.4760880</td><td>0.1822101</td><td>0.0051590513</td><td>0.1492669</td><td>0.5623410</td><td>0.009971293</td></tr>\n",
       "\t<tr><td>0.4942118</td><td>0.1801087</td><td>0.0172309407</td><td>0.1398827</td><td>0.5258191</td><td>0.009237680</td></tr>\n",
       "\t<tr><td>0.4998385</td><td>0.1722493</td><td>0.0106267323</td><td>0.1440137</td><td>0.5551345</td><td>0.008820152</td></tr>\n",
       "\t<tr><td>0.4844228</td><td>0.1871033</td><td>0.0037282036</td><td>0.1648802</td><td>0.5380540</td><td>0.008649423</td></tr>\n",
       "\t<tr><td>0.4966417</td><td>0.1966937</td><td>0.0118885920</td><td>0.1725333</td><td>0.5414051</td><td>0.009573517</td></tr>\n",
       "\t<tr><td>0.5023881</td><td>0.1995636</td><td>0.0124050392</td><td>0.1730126</td><td>0.5615277</td><td>0.010311503</td></tr>\n",
       "\t<tr><td>0.4784535</td><td>0.1908570</td><td>0.0053740181</td><td>0.1627012</td><td>0.5204841</td><td>0.007834260</td></tr>\n",
       "\t<tr><td>0.4700781</td><td>0.1899481</td><td>0.0015698004</td><td>0.1534278</td><td>0.5186473</td><td>0.008584504</td></tr>\n",
       "\t<tr><td>0.4514737</td><td>0.1812631</td><td>0.0067350622</td><td>0.1520599</td><td>0.4954257</td><td>0.007558084</td></tr>\n",
       "\t<tr><td>0.4625558</td><td>0.1818906</td><td>0.0016978090</td><td>0.1562540</td><td>0.5510586</td><td>0.011165043</td></tr>\n",
       "\t<tr><td>0.4896433</td><td>0.1799328</td><td>0.0047919477</td><td>0.1389175</td><td>0.5692479</td><td>0.011557770</td></tr>\n",
       "\t<tr><td>0.4690228</td><td>0.1775222</td><td>0.0063734106</td><td>0.1476390</td><td>0.5577521</td><td>0.011799886</td></tr>\n",
       "\t<tr><td>0.4778490</td><td>0.1751053</td><td>0.0000544414</td><td>0.1465210</td><td>0.5750286</td><td>0.013416420</td></tr>\n",
       "\t<tr><td>0.4822890</td><td>0.1825191</td><td>0.0027243116</td><td>0.1594729</td><td>0.5833788</td><td>0.010766028</td></tr>\n",
       "\t<tr><td>0.4831039</td><td>0.1917135</td><td>0.0154930865</td><td>0.1595284</td><td>0.5217791</td><td>0.007771335</td></tr>\n",
       "\t<tr><td>0.4717559</td><td>0.1911795</td><td>0.0097563672</td><td>0.1562444</td><td>0.5101895</td><td>0.008337334</td></tr>\n",
       "\t<tr><td>0.4662010</td><td>0.1854883</td><td>0.0071977559</td><td>0.1555843</td><td>0.5260318</td><td>0.009741959</td></tr>\n",
       "\t<tr><td>0.4764383</td><td>0.1852728</td><td>0.0038002261</td><td>0.1560796</td><td>0.5510580</td><td>0.009815436</td></tr>\n",
       "\t<tr><td>0.4902778</td><td>0.1820797</td><td>0.0100864698</td><td>0.1543231</td><td>0.5475110</td><td>0.010213135</td></tr>\n",
       "\t<tr><td>0.4868877</td><td>0.1825537</td><td>0.0120421711</td><td>0.1484383</td><td>0.5127159</td><td>0.009167954</td></tr>\n",
       "\t<tr><td>⋮</td><td>⋮</td><td>⋮</td><td>⋮</td><td>⋮</td><td>⋮</td></tr>\n",
       "\t<tr><td>0.4718634</td><td>0.1745099</td><td>0.0277525572</td><td>0.1468479</td><td>0.5024078</td><td>0.009920295</td></tr>\n",
       "\t<tr><td>0.4813871</td><td>0.1798490</td><td>0.0283881507</td><td>0.1397070</td><td>0.5437961</td><td>0.010057350</td></tr>\n",
       "\t<tr><td>0.4880441</td><td>0.1780704</td><td>0.0184730809</td><td>0.1418907</td><td>0.5133031</td><td>0.007094557</td></tr>\n",
       "\t<tr><td>0.4981962</td><td>0.1776123</td><td>0.0098069401</td><td>0.1319564</td><td>0.4905459</td><td>0.006171156</td></tr>\n",
       "\t<tr><td>0.4702015</td><td>0.1785864</td><td>0.0235163215</td><td>0.1347655</td><td>0.4776443</td><td>0.008610636</td></tr>\n",
       "\t<tr><td>0.4450462</td><td>0.1796629</td><td>0.0063647767</td><td>0.1362640</td><td>0.5212731</td><td>0.009931389</td></tr>\n",
       "\t<tr><td>0.4762471</td><td>0.1753448</td><td>0.0135099223</td><td>0.1426572</td><td>0.5057253</td><td>0.008568132</td></tr>\n",
       "\t<tr><td>0.4580951</td><td>0.1851775</td><td>0.0080908420</td><td>0.1546938</td><td>0.4978325</td><td>0.007329328</td></tr>\n",
       "\t<tr><td>0.4404774</td><td>0.1882023</td><td>0.0072847106</td><td>0.1519661</td><td>0.4654970</td><td>0.007433498</td></tr>\n",
       "\t<tr><td>0.4402956</td><td>0.1878027</td><td>0.0106164429</td><td>0.1508223</td><td>0.4660131</td><td>0.005874646</td></tr>\n",
       "\t<tr><td>0.4433191</td><td>0.1881303</td><td>0.0107264418</td><td>0.1511859</td><td>0.4728142</td><td>0.005241868</td></tr>\n",
       "\t<tr><td>0.4415157</td><td>0.1828265</td><td>0.0213679831</td><td>0.1484669</td><td>0.4127543</td><td>0.006194498</td></tr>\n",
       "\t<tr><td>0.4364515</td><td>0.1805370</td><td>0.0343389940</td><td>0.1548025</td><td>0.4907692</td><td>0.014171790</td></tr>\n",
       "\t<tr><td>0.4853555</td><td>0.1862286</td><td>0.0848834585</td><td>0.1529311</td><td>0.5459775</td><td>0.019846719</td></tr>\n",
       "\t<tr><td>0.5111284</td><td>0.1898746</td><td>0.0821752741</td><td>0.1555906</td><td>0.6229992</td><td>0.019817128</td></tr>\n",
       "\t<tr><td>0.5162407</td><td>0.1848845</td><td>0.0648487789</td><td>0.1534840</td><td>0.5849125</td><td>0.017096709</td></tr>\n",
       "\t<tr><td>0.4870903</td><td>0.1790491</td><td>0.0519666328</td><td>0.1405877</td><td>0.5498791</td><td>0.013967835</td></tr>\n",
       "\t<tr><td>0.4940527</td><td>0.1776230</td><td>0.0599601276</td><td>0.1485825</td><td>0.5457052</td><td>0.012788709</td></tr>\n",
       "\t<tr><td>0.5084228</td><td>0.1787050</td><td>0.0575026154</td><td>0.1449291</td><td>0.5267053</td><td>0.010493903</td></tr>\n",
       "\t<tr><td>0.5071450</td><td>0.1839613</td><td>0.0265989666</td><td>0.1616142</td><td>0.5762536</td><td>0.011864341</td></tr>\n",
       "\t<tr><td>0.5081860</td><td>0.1913376</td><td>0.0339184195</td><td>0.1599329</td><td>0.5645837</td><td>0.010684127</td></tr>\n",
       "\t<tr><td>0.4894660</td><td>0.1924261</td><td>0.0275460198</td><td>0.1587642</td><td>0.5482539</td><td>0.010468944</td></tr>\n",
       "\t<tr><td>0.4866680</td><td>0.1861778</td><td>0.0054025059</td><td>0.1495290</td><td>0.5340044</td><td>0.010312087</td></tr>\n",
       "\t<tr><td>0.4823291</td><td>0.1863164</td><td>0.0009637692</td><td>0.1566596</td><td>0.5574354</td><td>0.012459417</td></tr>\n",
       "\t<tr><td>0.4670768</td><td>0.1851655</td><td>0.0016692362</td><td>0.1512749</td><td>0.5735498</td><td>0.009385361</td></tr>\n",
       "\t<tr><td>0.4873391</td><td>0.1778833</td><td>0.0226538874</td><td>0.1382899</td><td>0.5289630</td><td>0.010592535</td></tr>\n",
       "\t<tr><td>0.4744955</td><td>0.1741523</td><td>0.0144656306</td><td>0.1441425</td><td>0.5156240</td><td>0.009276958</td></tr>\n",
       "\t<tr><td>0.4625899</td><td>0.1744754</td><td>0.0106897917</td><td>0.1426904</td><td>0.5117621</td><td>0.009172067</td></tr>\n",
       "\t<tr><td>0.4521020</td><td>0.1878069</td><td>0.0055242046</td><td>0.1461569</td><td>0.4915692</td><td>0.009204947</td></tr>\n",
       "\t<tr><td>0.4656566</td><td>0.1838571</td><td>0.0304331755</td><td>0.1549501</td><td>0.4918594</td><td>0.009299830</td></tr>\n",
       "</tbody>\n",
       "</table>\n"
      ],
      "text/latex": [
       "A mcmcsamples.musse: 150 × 6\n",
       "\\begin{tabular}{llllll}\n",
       " lambda1 & lambda2 & mu1 & mu2 & q12 & q21\\\\\n",
       " <dbl> & <dbl> & <dbl> & <dbl> & <dbl> & <dbl>\\\\\n",
       "\\hline\n",
       "\t 0.4465388 & 0.1837078 & 0.0059594172 & 0.1532611 & 0.5594126 & 0.010807249\\\\\n",
       "\t 0.5049021 & 0.1817874 & 0.0191868451 & 0.1577428 & 0.5598874 & 0.011491627\\\\\n",
       "\t 0.4729915 & 0.1814517 & 0.0238164143 & 0.1548772 & 0.5432655 & 0.008338037\\\\\n",
       "\t 0.5292711 & 0.1863995 & 0.0278721325 & 0.1525100 & 0.5393386 & 0.008050439\\\\\n",
       "\t 0.4971729 & 0.1853190 & 0.0262657942 & 0.1529585 & 0.5392989 & 0.012214646\\\\\n",
       "\t 0.4700614 & 0.1840438 & 0.0112419999 & 0.1518639 & 0.5559693 & 0.014624743\\\\\n",
       "\t 0.4631248 & 0.1803605 & 0.0092250604 & 0.1486503 & 0.6032375 & 0.014792309\\\\\n",
       "\t 0.4705887 & 0.1775926 & 0.0029797997 & 0.1464626 & 0.5972872 & 0.014670513\\\\\n",
       "\t 0.4644399 & 0.1820006 & 0.0034859417 & 0.1536955 & 0.6009777 & 0.012528624\\\\\n",
       "\t 0.5015034 & 0.1819035 & 0.0058703764 & 0.1519665 & 0.5752194 & 0.012157838\\\\\n",
       "\t 0.4760880 & 0.1822101 & 0.0051590513 & 0.1492669 & 0.5623410 & 0.009971293\\\\\n",
       "\t 0.4942118 & 0.1801087 & 0.0172309407 & 0.1398827 & 0.5258191 & 0.009237680\\\\\n",
       "\t 0.4998385 & 0.1722493 & 0.0106267323 & 0.1440137 & 0.5551345 & 0.008820152\\\\\n",
       "\t 0.4844228 & 0.1871033 & 0.0037282036 & 0.1648802 & 0.5380540 & 0.008649423\\\\\n",
       "\t 0.4966417 & 0.1966937 & 0.0118885920 & 0.1725333 & 0.5414051 & 0.009573517\\\\\n",
       "\t 0.5023881 & 0.1995636 & 0.0124050392 & 0.1730126 & 0.5615277 & 0.010311503\\\\\n",
       "\t 0.4784535 & 0.1908570 & 0.0053740181 & 0.1627012 & 0.5204841 & 0.007834260\\\\\n",
       "\t 0.4700781 & 0.1899481 & 0.0015698004 & 0.1534278 & 0.5186473 & 0.008584504\\\\\n",
       "\t 0.4514737 & 0.1812631 & 0.0067350622 & 0.1520599 & 0.4954257 & 0.007558084\\\\\n",
       "\t 0.4625558 & 0.1818906 & 0.0016978090 & 0.1562540 & 0.5510586 & 0.011165043\\\\\n",
       "\t 0.4896433 & 0.1799328 & 0.0047919477 & 0.1389175 & 0.5692479 & 0.011557770\\\\\n",
       "\t 0.4690228 & 0.1775222 & 0.0063734106 & 0.1476390 & 0.5577521 & 0.011799886\\\\\n",
       "\t 0.4778490 & 0.1751053 & 0.0000544414 & 0.1465210 & 0.5750286 & 0.013416420\\\\\n",
       "\t 0.4822890 & 0.1825191 & 0.0027243116 & 0.1594729 & 0.5833788 & 0.010766028\\\\\n",
       "\t 0.4831039 & 0.1917135 & 0.0154930865 & 0.1595284 & 0.5217791 & 0.007771335\\\\\n",
       "\t 0.4717559 & 0.1911795 & 0.0097563672 & 0.1562444 & 0.5101895 & 0.008337334\\\\\n",
       "\t 0.4662010 & 0.1854883 & 0.0071977559 & 0.1555843 & 0.5260318 & 0.009741959\\\\\n",
       "\t 0.4764383 & 0.1852728 & 0.0038002261 & 0.1560796 & 0.5510580 & 0.009815436\\\\\n",
       "\t 0.4902778 & 0.1820797 & 0.0100864698 & 0.1543231 & 0.5475110 & 0.010213135\\\\\n",
       "\t 0.4868877 & 0.1825537 & 0.0120421711 & 0.1484383 & 0.5127159 & 0.009167954\\\\\n",
       "\t ⋮ & ⋮ & ⋮ & ⋮ & ⋮ & ⋮\\\\\n",
       "\t 0.4718634 & 0.1745099 & 0.0277525572 & 0.1468479 & 0.5024078 & 0.009920295\\\\\n",
       "\t 0.4813871 & 0.1798490 & 0.0283881507 & 0.1397070 & 0.5437961 & 0.010057350\\\\\n",
       "\t 0.4880441 & 0.1780704 & 0.0184730809 & 0.1418907 & 0.5133031 & 0.007094557\\\\\n",
       "\t 0.4981962 & 0.1776123 & 0.0098069401 & 0.1319564 & 0.4905459 & 0.006171156\\\\\n",
       "\t 0.4702015 & 0.1785864 & 0.0235163215 & 0.1347655 & 0.4776443 & 0.008610636\\\\\n",
       "\t 0.4450462 & 0.1796629 & 0.0063647767 & 0.1362640 & 0.5212731 & 0.009931389\\\\\n",
       "\t 0.4762471 & 0.1753448 & 0.0135099223 & 0.1426572 & 0.5057253 & 0.008568132\\\\\n",
       "\t 0.4580951 & 0.1851775 & 0.0080908420 & 0.1546938 & 0.4978325 & 0.007329328\\\\\n",
       "\t 0.4404774 & 0.1882023 & 0.0072847106 & 0.1519661 & 0.4654970 & 0.007433498\\\\\n",
       "\t 0.4402956 & 0.1878027 & 0.0106164429 & 0.1508223 & 0.4660131 & 0.005874646\\\\\n",
       "\t 0.4433191 & 0.1881303 & 0.0107264418 & 0.1511859 & 0.4728142 & 0.005241868\\\\\n",
       "\t 0.4415157 & 0.1828265 & 0.0213679831 & 0.1484669 & 0.4127543 & 0.006194498\\\\\n",
       "\t 0.4364515 & 0.1805370 & 0.0343389940 & 0.1548025 & 0.4907692 & 0.014171790\\\\\n",
       "\t 0.4853555 & 0.1862286 & 0.0848834585 & 0.1529311 & 0.5459775 & 0.019846719\\\\\n",
       "\t 0.5111284 & 0.1898746 & 0.0821752741 & 0.1555906 & 0.6229992 & 0.019817128\\\\\n",
       "\t 0.5162407 & 0.1848845 & 0.0648487789 & 0.1534840 & 0.5849125 & 0.017096709\\\\\n",
       "\t 0.4870903 & 0.1790491 & 0.0519666328 & 0.1405877 & 0.5498791 & 0.013967835\\\\\n",
       "\t 0.4940527 & 0.1776230 & 0.0599601276 & 0.1485825 & 0.5457052 & 0.012788709\\\\\n",
       "\t 0.5084228 & 0.1787050 & 0.0575026154 & 0.1449291 & 0.5267053 & 0.010493903\\\\\n",
       "\t 0.5071450 & 0.1839613 & 0.0265989666 & 0.1616142 & 0.5762536 & 0.011864341\\\\\n",
       "\t 0.5081860 & 0.1913376 & 0.0339184195 & 0.1599329 & 0.5645837 & 0.010684127\\\\\n",
       "\t 0.4894660 & 0.1924261 & 0.0275460198 & 0.1587642 & 0.5482539 & 0.010468944\\\\\n",
       "\t 0.4866680 & 0.1861778 & 0.0054025059 & 0.1495290 & 0.5340044 & 0.010312087\\\\\n",
       "\t 0.4823291 & 0.1863164 & 0.0009637692 & 0.1566596 & 0.5574354 & 0.012459417\\\\\n",
       "\t 0.4670768 & 0.1851655 & 0.0016692362 & 0.1512749 & 0.5735498 & 0.009385361\\\\\n",
       "\t 0.4873391 & 0.1778833 & 0.0226538874 & 0.1382899 & 0.5289630 & 0.010592535\\\\\n",
       "\t 0.4744955 & 0.1741523 & 0.0144656306 & 0.1441425 & 0.5156240 & 0.009276958\\\\\n",
       "\t 0.4625899 & 0.1744754 & 0.0106897917 & 0.1426904 & 0.5117621 & 0.009172067\\\\\n",
       "\t 0.4521020 & 0.1878069 & 0.0055242046 & 0.1461569 & 0.4915692 & 0.009204947\\\\\n",
       "\t 0.4656566 & 0.1838571 & 0.0304331755 & 0.1549501 & 0.4918594 & 0.009299830\\\\\n",
       "\\end{tabular}\n"
      ],
      "text/markdown": [
       "\n",
       "A mcmcsamples.musse: 150 × 6\n",
       "\n",
       "| lambda1 &lt;dbl&gt; | lambda2 &lt;dbl&gt; | mu1 &lt;dbl&gt; | mu2 &lt;dbl&gt; | q12 &lt;dbl&gt; | q21 &lt;dbl&gt; |\n",
       "|---|---|---|---|---|---|\n",
       "| 0.4465388 | 0.1837078 | 0.0059594172 | 0.1532611 | 0.5594126 | 0.010807249 |\n",
       "| 0.5049021 | 0.1817874 | 0.0191868451 | 0.1577428 | 0.5598874 | 0.011491627 |\n",
       "| 0.4729915 | 0.1814517 | 0.0238164143 | 0.1548772 | 0.5432655 | 0.008338037 |\n",
       "| 0.5292711 | 0.1863995 | 0.0278721325 | 0.1525100 | 0.5393386 | 0.008050439 |\n",
       "| 0.4971729 | 0.1853190 | 0.0262657942 | 0.1529585 | 0.5392989 | 0.012214646 |\n",
       "| 0.4700614 | 0.1840438 | 0.0112419999 | 0.1518639 | 0.5559693 | 0.014624743 |\n",
       "| 0.4631248 | 0.1803605 | 0.0092250604 | 0.1486503 | 0.6032375 | 0.014792309 |\n",
       "| 0.4705887 | 0.1775926 | 0.0029797997 | 0.1464626 | 0.5972872 | 0.014670513 |\n",
       "| 0.4644399 | 0.1820006 | 0.0034859417 | 0.1536955 | 0.6009777 | 0.012528624 |\n",
       "| 0.5015034 | 0.1819035 | 0.0058703764 | 0.1519665 | 0.5752194 | 0.012157838 |\n",
       "| 0.4760880 | 0.1822101 | 0.0051590513 | 0.1492669 | 0.5623410 | 0.009971293 |\n",
       "| 0.4942118 | 0.1801087 | 0.0172309407 | 0.1398827 | 0.5258191 | 0.009237680 |\n",
       "| 0.4998385 | 0.1722493 | 0.0106267323 | 0.1440137 | 0.5551345 | 0.008820152 |\n",
       "| 0.4844228 | 0.1871033 | 0.0037282036 | 0.1648802 | 0.5380540 | 0.008649423 |\n",
       "| 0.4966417 | 0.1966937 | 0.0118885920 | 0.1725333 | 0.5414051 | 0.009573517 |\n",
       "| 0.5023881 | 0.1995636 | 0.0124050392 | 0.1730126 | 0.5615277 | 0.010311503 |\n",
       "| 0.4784535 | 0.1908570 | 0.0053740181 | 0.1627012 | 0.5204841 | 0.007834260 |\n",
       "| 0.4700781 | 0.1899481 | 0.0015698004 | 0.1534278 | 0.5186473 | 0.008584504 |\n",
       "| 0.4514737 | 0.1812631 | 0.0067350622 | 0.1520599 | 0.4954257 | 0.007558084 |\n",
       "| 0.4625558 | 0.1818906 | 0.0016978090 | 0.1562540 | 0.5510586 | 0.011165043 |\n",
       "| 0.4896433 | 0.1799328 | 0.0047919477 | 0.1389175 | 0.5692479 | 0.011557770 |\n",
       "| 0.4690228 | 0.1775222 | 0.0063734106 | 0.1476390 | 0.5577521 | 0.011799886 |\n",
       "| 0.4778490 | 0.1751053 | 0.0000544414 | 0.1465210 | 0.5750286 | 0.013416420 |\n",
       "| 0.4822890 | 0.1825191 | 0.0027243116 | 0.1594729 | 0.5833788 | 0.010766028 |\n",
       "| 0.4831039 | 0.1917135 | 0.0154930865 | 0.1595284 | 0.5217791 | 0.007771335 |\n",
       "| 0.4717559 | 0.1911795 | 0.0097563672 | 0.1562444 | 0.5101895 | 0.008337334 |\n",
       "| 0.4662010 | 0.1854883 | 0.0071977559 | 0.1555843 | 0.5260318 | 0.009741959 |\n",
       "| 0.4764383 | 0.1852728 | 0.0038002261 | 0.1560796 | 0.5510580 | 0.009815436 |\n",
       "| 0.4902778 | 0.1820797 | 0.0100864698 | 0.1543231 | 0.5475110 | 0.010213135 |\n",
       "| 0.4868877 | 0.1825537 | 0.0120421711 | 0.1484383 | 0.5127159 | 0.009167954 |\n",
       "| ⋮ | ⋮ | ⋮ | ⋮ | ⋮ | ⋮ |\n",
       "| 0.4718634 | 0.1745099 | 0.0277525572 | 0.1468479 | 0.5024078 | 0.009920295 |\n",
       "| 0.4813871 | 0.1798490 | 0.0283881507 | 0.1397070 | 0.5437961 | 0.010057350 |\n",
       "| 0.4880441 | 0.1780704 | 0.0184730809 | 0.1418907 | 0.5133031 | 0.007094557 |\n",
       "| 0.4981962 | 0.1776123 | 0.0098069401 | 0.1319564 | 0.4905459 | 0.006171156 |\n",
       "| 0.4702015 | 0.1785864 | 0.0235163215 | 0.1347655 | 0.4776443 | 0.008610636 |\n",
       "| 0.4450462 | 0.1796629 | 0.0063647767 | 0.1362640 | 0.5212731 | 0.009931389 |\n",
       "| 0.4762471 | 0.1753448 | 0.0135099223 | 0.1426572 | 0.5057253 | 0.008568132 |\n",
       "| 0.4580951 | 0.1851775 | 0.0080908420 | 0.1546938 | 0.4978325 | 0.007329328 |\n",
       "| 0.4404774 | 0.1882023 | 0.0072847106 | 0.1519661 | 0.4654970 | 0.007433498 |\n",
       "| 0.4402956 | 0.1878027 | 0.0106164429 | 0.1508223 | 0.4660131 | 0.005874646 |\n",
       "| 0.4433191 | 0.1881303 | 0.0107264418 | 0.1511859 | 0.4728142 | 0.005241868 |\n",
       "| 0.4415157 | 0.1828265 | 0.0213679831 | 0.1484669 | 0.4127543 | 0.006194498 |\n",
       "| 0.4364515 | 0.1805370 | 0.0343389940 | 0.1548025 | 0.4907692 | 0.014171790 |\n",
       "| 0.4853555 | 0.1862286 | 0.0848834585 | 0.1529311 | 0.5459775 | 0.019846719 |\n",
       "| 0.5111284 | 0.1898746 | 0.0821752741 | 0.1555906 | 0.6229992 | 0.019817128 |\n",
       "| 0.5162407 | 0.1848845 | 0.0648487789 | 0.1534840 | 0.5849125 | 0.017096709 |\n",
       "| 0.4870903 | 0.1790491 | 0.0519666328 | 0.1405877 | 0.5498791 | 0.013967835 |\n",
       "| 0.4940527 | 0.1776230 | 0.0599601276 | 0.1485825 | 0.5457052 | 0.012788709 |\n",
       "| 0.5084228 | 0.1787050 | 0.0575026154 | 0.1449291 | 0.5267053 | 0.010493903 |\n",
       "| 0.5071450 | 0.1839613 | 0.0265989666 | 0.1616142 | 0.5762536 | 0.011864341 |\n",
       "| 0.5081860 | 0.1913376 | 0.0339184195 | 0.1599329 | 0.5645837 | 0.010684127 |\n",
       "| 0.4894660 | 0.1924261 | 0.0275460198 | 0.1587642 | 0.5482539 | 0.010468944 |\n",
       "| 0.4866680 | 0.1861778 | 0.0054025059 | 0.1495290 | 0.5340044 | 0.010312087 |\n",
       "| 0.4823291 | 0.1863164 | 0.0009637692 | 0.1566596 | 0.5574354 | 0.012459417 |\n",
       "| 0.4670768 | 0.1851655 | 0.0016692362 | 0.1512749 | 0.5735498 | 0.009385361 |\n",
       "| 0.4873391 | 0.1778833 | 0.0226538874 | 0.1382899 | 0.5289630 | 0.010592535 |\n",
       "| 0.4744955 | 0.1741523 | 0.0144656306 | 0.1441425 | 0.5156240 | 0.009276958 |\n",
       "| 0.4625899 | 0.1744754 | 0.0106897917 | 0.1426904 | 0.5117621 | 0.009172067 |\n",
       "| 0.4521020 | 0.1878069 | 0.0055242046 | 0.1461569 | 0.4915692 | 0.009204947 |\n",
       "| 0.4656566 | 0.1838571 | 0.0304331755 | 0.1549501 | 0.4918594 | 0.009299830 |\n",
       "\n"
      ],
      "text/plain": [
       "    lambda1   lambda2   mu1          mu2       q12       q21        \n",
       "1   0.4465388 0.1837078 0.0059594172 0.1532611 0.5594126 0.010807249\n",
       "2   0.5049021 0.1817874 0.0191868451 0.1577428 0.5598874 0.011491627\n",
       "3   0.4729915 0.1814517 0.0238164143 0.1548772 0.5432655 0.008338037\n",
       "4   0.5292711 0.1863995 0.0278721325 0.1525100 0.5393386 0.008050439\n",
       "5   0.4971729 0.1853190 0.0262657942 0.1529585 0.5392989 0.012214646\n",
       "6   0.4700614 0.1840438 0.0112419999 0.1518639 0.5559693 0.014624743\n",
       "7   0.4631248 0.1803605 0.0092250604 0.1486503 0.6032375 0.014792309\n",
       "8   0.4705887 0.1775926 0.0029797997 0.1464626 0.5972872 0.014670513\n",
       "9   0.4644399 0.1820006 0.0034859417 0.1536955 0.6009777 0.012528624\n",
       "10  0.5015034 0.1819035 0.0058703764 0.1519665 0.5752194 0.012157838\n",
       "11  0.4760880 0.1822101 0.0051590513 0.1492669 0.5623410 0.009971293\n",
       "12  0.4942118 0.1801087 0.0172309407 0.1398827 0.5258191 0.009237680\n",
       "13  0.4998385 0.1722493 0.0106267323 0.1440137 0.5551345 0.008820152\n",
       "14  0.4844228 0.1871033 0.0037282036 0.1648802 0.5380540 0.008649423\n",
       "15  0.4966417 0.1966937 0.0118885920 0.1725333 0.5414051 0.009573517\n",
       "16  0.5023881 0.1995636 0.0124050392 0.1730126 0.5615277 0.010311503\n",
       "17  0.4784535 0.1908570 0.0053740181 0.1627012 0.5204841 0.007834260\n",
       "18  0.4700781 0.1899481 0.0015698004 0.1534278 0.5186473 0.008584504\n",
       "19  0.4514737 0.1812631 0.0067350622 0.1520599 0.4954257 0.007558084\n",
       "20  0.4625558 0.1818906 0.0016978090 0.1562540 0.5510586 0.011165043\n",
       "21  0.4896433 0.1799328 0.0047919477 0.1389175 0.5692479 0.011557770\n",
       "22  0.4690228 0.1775222 0.0063734106 0.1476390 0.5577521 0.011799886\n",
       "23  0.4778490 0.1751053 0.0000544414 0.1465210 0.5750286 0.013416420\n",
       "24  0.4822890 0.1825191 0.0027243116 0.1594729 0.5833788 0.010766028\n",
       "25  0.4831039 0.1917135 0.0154930865 0.1595284 0.5217791 0.007771335\n",
       "26  0.4717559 0.1911795 0.0097563672 0.1562444 0.5101895 0.008337334\n",
       "27  0.4662010 0.1854883 0.0071977559 0.1555843 0.5260318 0.009741959\n",
       "28  0.4764383 0.1852728 0.0038002261 0.1560796 0.5510580 0.009815436\n",
       "29  0.4902778 0.1820797 0.0100864698 0.1543231 0.5475110 0.010213135\n",
       "30  0.4868877 0.1825537 0.0120421711 0.1484383 0.5127159 0.009167954\n",
       "⋮   ⋮         ⋮         ⋮            ⋮         ⋮         ⋮          \n",
       "121 0.4718634 0.1745099 0.0277525572 0.1468479 0.5024078 0.009920295\n",
       "122 0.4813871 0.1798490 0.0283881507 0.1397070 0.5437961 0.010057350\n",
       "123 0.4880441 0.1780704 0.0184730809 0.1418907 0.5133031 0.007094557\n",
       "124 0.4981962 0.1776123 0.0098069401 0.1319564 0.4905459 0.006171156\n",
       "125 0.4702015 0.1785864 0.0235163215 0.1347655 0.4776443 0.008610636\n",
       "126 0.4450462 0.1796629 0.0063647767 0.1362640 0.5212731 0.009931389\n",
       "127 0.4762471 0.1753448 0.0135099223 0.1426572 0.5057253 0.008568132\n",
       "128 0.4580951 0.1851775 0.0080908420 0.1546938 0.4978325 0.007329328\n",
       "129 0.4404774 0.1882023 0.0072847106 0.1519661 0.4654970 0.007433498\n",
       "130 0.4402956 0.1878027 0.0106164429 0.1508223 0.4660131 0.005874646\n",
       "131 0.4433191 0.1881303 0.0107264418 0.1511859 0.4728142 0.005241868\n",
       "132 0.4415157 0.1828265 0.0213679831 0.1484669 0.4127543 0.006194498\n",
       "133 0.4364515 0.1805370 0.0343389940 0.1548025 0.4907692 0.014171790\n",
       "134 0.4853555 0.1862286 0.0848834585 0.1529311 0.5459775 0.019846719\n",
       "135 0.5111284 0.1898746 0.0821752741 0.1555906 0.6229992 0.019817128\n",
       "136 0.5162407 0.1848845 0.0648487789 0.1534840 0.5849125 0.017096709\n",
       "137 0.4870903 0.1790491 0.0519666328 0.1405877 0.5498791 0.013967835\n",
       "138 0.4940527 0.1776230 0.0599601276 0.1485825 0.5457052 0.012788709\n",
       "139 0.5084228 0.1787050 0.0575026154 0.1449291 0.5267053 0.010493903\n",
       "140 0.5071450 0.1839613 0.0265989666 0.1616142 0.5762536 0.011864341\n",
       "141 0.5081860 0.1913376 0.0339184195 0.1599329 0.5645837 0.010684127\n",
       "142 0.4894660 0.1924261 0.0275460198 0.1587642 0.5482539 0.010468944\n",
       "143 0.4866680 0.1861778 0.0054025059 0.1495290 0.5340044 0.010312087\n",
       "144 0.4823291 0.1863164 0.0009637692 0.1566596 0.5574354 0.012459417\n",
       "145 0.4670768 0.1851655 0.0016692362 0.1512749 0.5735498 0.009385361\n",
       "146 0.4873391 0.1778833 0.0226538874 0.1382899 0.5289630 0.010592535\n",
       "147 0.4744955 0.1741523 0.0144656306 0.1441425 0.5156240 0.009276958\n",
       "148 0.4625899 0.1744754 0.0106897917 0.1426904 0.5117621 0.009172067\n",
       "149 0.4521020 0.1878069 0.0055242046 0.1461569 0.4915692 0.009204947\n",
       "150 0.4656566 0.1838571 0.0304331755 0.1549501 0.4918594 0.009299830"
      ]
     },
     "metadata": {},
     "output_type": "display_data"
    }
   ],
   "source": [
    " # we need to remove the p column because is the likelihood probability and not a parameter. To get w, we need only the parameters\n",
    "tmp[2:(ncol(tmp)-1)]"
   ]
  },
  {
   "cell_type": "markdown",
   "metadata": {},
   "source": [
    "sapply() function takes list, vector or data frame as input and gives output in vector or matrix. It is useful for operations on list objects and returns a list object of same length of original set. \n",
    "\n",
    "Range in R returns a vector that contains the minimum and maximum values of the given argument"
   ]
  },
  {
   "cell_type": "code",
   "execution_count": 56,
   "metadata": {},
   "outputs": [
    {
     "data": {
      "text/html": [
       "<table class=\"dataframe\">\n",
       "<caption>A matrix: 2 × 6 of type dbl</caption>\n",
       "<thead>\n",
       "\t<tr><th scope=col>lambda1</th><th scope=col>lambda2</th><th scope=col>mu1</th><th scope=col>mu2</th><th scope=col>q12</th><th scope=col>q21</th></tr>\n",
       "</thead>\n",
       "<tbody>\n",
       "\t<tr><td>0.4180559</td><td>0.1663404</td><td>0.0000544414</td><td>0.1243369</td><td>0.4127543</td><td>0.005241868</td></tr>\n",
       "\t<tr><td>0.5442143</td><td>0.1995636</td><td>0.0848834585</td><td>0.1730859</td><td>0.6229992</td><td>0.019846719</td></tr>\n",
       "</tbody>\n",
       "</table>\n"
      ],
      "text/latex": [
       "A matrix: 2 × 6 of type dbl\n",
       "\\begin{tabular}{llllll}\n",
       " lambda1 & lambda2 & mu1 & mu2 & q12 & q21\\\\\n",
       "\\hline\n",
       "\t 0.4180559 & 0.1663404 & 0.0000544414 & 0.1243369 & 0.4127543 & 0.005241868\\\\\n",
       "\t 0.5442143 & 0.1995636 & 0.0848834585 & 0.1730859 & 0.6229992 & 0.019846719\\\\\n",
       "\\end{tabular}\n"
      ],
      "text/markdown": [
       "\n",
       "A matrix: 2 × 6 of type dbl\n",
       "\n",
       "| lambda1 | lambda2 | mu1 | mu2 | q12 | q21 |\n",
       "|---|---|---|---|---|---|\n",
       "| 0.4180559 | 0.1663404 | 0.0000544414 | 0.1243369 | 0.4127543 | 0.005241868 |\n",
       "| 0.5442143 | 0.1995636 | 0.0848834585 | 0.1730859 | 0.6229992 | 0.019846719 |\n",
       "\n"
      ],
      "text/plain": [
       "     lambda1   lambda2   mu1          mu2       q12       q21        \n",
       "[1,] 0.4180559 0.1663404 0.0000544414 0.1243369 0.4127543 0.005241868\n",
       "[2,] 0.5442143 0.1995636 0.0848834585 0.1730859 0.6229992 0.019846719"
      ]
     },
     "metadata": {},
     "output_type": "display_data"
    }
   ],
   "source": [
    "sapply(tmp[2:(ncol(tmp)-1)], range)"
   ]
  },
  {
   "cell_type": "code",
   "execution_count": 57,
   "metadata": {},
   "outputs": [
    {
     "data": {
      "text/html": [
       "<table class=\"dataframe\">\n",
       "<caption>A matrix: 1 × 6 of type dbl</caption>\n",
       "<thead>\n",
       "\t<tr><th scope=col>lambda1</th><th scope=col>lambda2</th><th scope=col>mu1</th><th scope=col>mu2</th><th scope=col>q12</th><th scope=col>q21</th></tr>\n",
       "</thead>\n",
       "<tbody>\n",
       "\t<tr><td>0.1261584</td><td>0.03322319</td><td>0.08482902</td><td>0.048749</td><td>0.2102449</td><td>0.01460485</td></tr>\n",
       "</tbody>\n",
       "</table>\n"
      ],
      "text/latex": [
       "A matrix: 1 × 6 of type dbl\n",
       "\\begin{tabular}{llllll}\n",
       " lambda1 & lambda2 & mu1 & mu2 & q12 & q21\\\\\n",
       "\\hline\n",
       "\t 0.1261584 & 0.03322319 & 0.08482902 & 0.048749 & 0.2102449 & 0.01460485\\\\\n",
       "\\end{tabular}\n"
      ],
      "text/markdown": [
       "\n",
       "A matrix: 1 × 6 of type dbl\n",
       "\n",
       "| lambda1 | lambda2 | mu1 | mu2 | q12 | q21 |\n",
       "|---|---|---|---|---|---|\n",
       "| 0.1261584 | 0.03322319 | 0.08482902 | 0.048749 | 0.2102449 | 0.01460485 |\n",
       "\n"
      ],
      "text/plain": [
       "     lambda1   lambda2    mu1        mu2      q12       q21       \n",
       "[1,] 0.1261584 0.03322319 0.08482902 0.048749 0.2102449 0.01460485"
      ]
     },
     "metadata": {},
     "output_type": "display_data"
    }
   ],
   "source": [
    "diff(sapply(tmp[2:(ncol(tmp)-1)], range)) # returns a vector with the differences"
   ]
  },
  {
   "cell_type": "code",
   "execution_count": 58,
   "metadata": {},
   "outputs": [
    {
     "data": {
      "text/html": [
       "<table class=\"dataframe\">\n",
       "<caption>A matrix: 1 × 6 of type dbl</caption>\n",
       "<thead>\n",
       "\t<tr><th scope=col>lambda1</th><th scope=col>lambda2</th><th scope=col>mu1</th><th scope=col>mu2</th><th scope=col>q12</th><th scope=col>q21</th></tr>\n",
       "</thead>\n",
       "<tbody>\n",
       "\t<tr><td>0.1261584</td><td>0.03322319</td><td>0.08482902</td><td>0.048749</td><td>0.2102449</td><td>0.01460485</td></tr>\n",
       "</tbody>\n",
       "</table>\n"
      ],
      "text/latex": [
       "A matrix: 1 × 6 of type dbl\n",
       "\\begin{tabular}{llllll}\n",
       " lambda1 & lambda2 & mu1 & mu2 & q12 & q21\\\\\n",
       "\\hline\n",
       "\t 0.1261584 & 0.03322319 & 0.08482902 & 0.048749 & 0.2102449 & 0.01460485\\\\\n",
       "\\end{tabular}\n"
      ],
      "text/markdown": [
       "\n",
       "A matrix: 1 × 6 of type dbl\n",
       "\n",
       "| lambda1 | lambda2 | mu1 | mu2 | q12 | q21 |\n",
       "|---|---|---|---|---|---|\n",
       "| 0.1261584 | 0.03322319 | 0.08482902 | 0.048749 | 0.2102449 | 0.01460485 |\n",
       "\n"
      ],
      "text/plain": [
       "     lambda1   lambda2    mu1        mu2      q12       q21       \n",
       "[1,] 0.1261584 0.03322319 0.08482902 0.048749 0.2102449 0.01460485"
      ]
     },
     "metadata": {},
     "output_type": "display_data"
    }
   ],
   "source": [
    "w <- diff(sapply(tmp[2:(ncol(tmp)-1)], range))\n",
    "w"
   ]
  },
  {
   "cell_type": "code",
   "execution_count": 59,
   "metadata": {},
   "outputs": [
    {
     "name": "stdout",
     "output_type": "stream",
     "text": [
      "200: {0.4480, 0.1869, 0.0053, 0.1545, 0.5005, 0.0091} -> -7421.00577\n",
      "400: {0.4832, 0.1956, 0.0310, 0.1624, 0.5554, 0.0105} -> -7424.59831\n",
      "600: {0.4680, 0.1884, 0.0266, 0.1477, 0.5173, 0.0111} -> -7423.54687\n",
      "800: {0.4927, 0.1781, 0.0396, 0.1540, 0.5509, 0.0127} -> -7424.34975\n",
      "1000: {0.4822, 0.1666, 0.0058, 0.1331, 0.5982, 0.0146} -> -7424.44190\n",
      "1200: {0.4585, 0.1805, 0.0184, 0.1400, 0.5125, 0.0100} -> -7421.53155\n",
      "1400: {0.4864, 0.1833, 0.1048, 0.1448, 0.4745, 0.0102} -> -7427.26971\n",
      "1600: {0.4743, 0.1834, 0.0162, 0.1461, 0.5036, 0.0076} -> -7421.43102\n",
      "1800: {0.4247, 0.1866, 0.0005, 0.1510, 0.4897, 0.0077} -> -7421.63248\n",
      "2000: {0.4855, 0.1962, 0.0130, 0.1612, 0.4874, 0.0069} -> -7424.47548\n",
      "2200: {0.4420, 0.1939, 0.0245, 0.1592, 0.4768, 0.0090} -> -7424.09382\n",
      "2400: {0.4903, 0.1729, 0.0161, 0.1506, 0.5409, 0.0091} -> -7424.42058\n",
      "2600: {0.4690, 0.1818, 0.0167, 0.1412, 0.4896, 0.0084} -> -7421.65392\n",
      "2800: {0.5083, 0.1784, 0.0329, 0.1342, 0.5023, 0.0086} -> -7424.61104\n",
      "3000: {0.5175, 0.1772, 0.0566, 0.1422, 0.5063, 0.0085} -> -7424.42963\n"
     ]
    }
   ],
   "source": [
    "#run the mcmc\n",
    "samples <- mcmc(best_lik, best_fit$par, nsteps=3000, w=w, lower=0, prior=prior,print.every=200)"
   ]
  },
  {
   "cell_type": "code",
   "execution_count": 60,
   "metadata": {},
   "outputs": [],
   "source": [
    "write.table(samples,paste(trait_mod, 'mcmc_2000gen_MCC_bestfit_dissected_vs_entire.txt', sep='_'),sep=';')"
   ]
  },
  {
   "cell_type": "code",
   "execution_count": 61,
   "metadata": {},
   "outputs": [
    {
     "data": {
      "text/html": [
       "<table class=\"dataframe\">\n",
       "<caption>A mcmcsamples.musse: 6 × 8</caption>\n",
       "<thead>\n",
       "\t<tr><th></th><th scope=col>i</th><th scope=col>lambda1</th><th scope=col>lambda2</th><th scope=col>mu1</th><th scope=col>mu2</th><th scope=col>q12</th><th scope=col>q21</th><th scope=col>p</th></tr>\n",
       "\t<tr><th></th><th scope=col>&lt;int&gt;</th><th scope=col>&lt;dbl&gt;</th><th scope=col>&lt;dbl&gt;</th><th scope=col>&lt;dbl&gt;</th><th scope=col>&lt;dbl&gt;</th><th scope=col>&lt;dbl&gt;</th><th scope=col>&lt;dbl&gt;</th><th scope=col>&lt;dbl&gt;</th></tr>\n",
       "</thead>\n",
       "<tbody>\n",
       "\t<tr><th scope=row>1</th><td>1</td><td>0.4623310</td><td>0.1805986</td><td>0.003749002</td><td>0.1488843</td><td>0.5351912</td><td>0.011437985</td><td>-7420.968</td></tr>\n",
       "\t<tr><th scope=row>2</th><td>2</td><td>0.4653747</td><td>0.1822729</td><td>0.041715994</td><td>0.1459540</td><td>0.5054173</td><td>0.009467600</td><td>-7422.809</td></tr>\n",
       "\t<tr><th scope=row>3</th><td>3</td><td>0.4648095</td><td>0.1774271</td><td>0.028742583</td><td>0.1311694</td><td>0.5106112</td><td>0.009034418</td><td>-7423.114</td></tr>\n",
       "\t<tr><th scope=row>4</th><td>4</td><td>0.4572626</td><td>0.1741171</td><td>0.015200004</td><td>0.1388030</td><td>0.5088296</td><td>0.009453794</td><td>-7421.295</td></tr>\n",
       "\t<tr><th scope=row>5</th><td>5</td><td>0.4579987</td><td>0.1760929</td><td>0.025181879</td><td>0.1371634</td><td>0.4905447</td><td>0.009202019</td><td>-7421.832</td></tr>\n",
       "\t<tr><th scope=row>6</th><td>6</td><td>0.4741648</td><td>0.1748744</td><td>0.025975016</td><td>0.1387944</td><td>0.5040570</td><td>0.010400756</td><td>-7422.168</td></tr>\n",
       "</tbody>\n",
       "</table>\n"
      ],
      "text/latex": [
       "A mcmcsamples.musse: 6 × 8\n",
       "\\begin{tabular}{r|llllllll}\n",
       "  & i & lambda1 & lambda2 & mu1 & mu2 & q12 & q21 & p\\\\\n",
       "  & <int> & <dbl> & <dbl> & <dbl> & <dbl> & <dbl> & <dbl> & <dbl>\\\\\n",
       "\\hline\n",
       "\t1 & 1 & 0.4623310 & 0.1805986 & 0.003749002 & 0.1488843 & 0.5351912 & 0.011437985 & -7420.968\\\\\n",
       "\t2 & 2 & 0.4653747 & 0.1822729 & 0.041715994 & 0.1459540 & 0.5054173 & 0.009467600 & -7422.809\\\\\n",
       "\t3 & 3 & 0.4648095 & 0.1774271 & 0.028742583 & 0.1311694 & 0.5106112 & 0.009034418 & -7423.114\\\\\n",
       "\t4 & 4 & 0.4572626 & 0.1741171 & 0.015200004 & 0.1388030 & 0.5088296 & 0.009453794 & -7421.295\\\\\n",
       "\t5 & 5 & 0.4579987 & 0.1760929 & 0.025181879 & 0.1371634 & 0.4905447 & 0.009202019 & -7421.832\\\\\n",
       "\t6 & 6 & 0.4741648 & 0.1748744 & 0.025975016 & 0.1387944 & 0.5040570 & 0.010400756 & -7422.168\\\\\n",
       "\\end{tabular}\n"
      ],
      "text/markdown": [
       "\n",
       "A mcmcsamples.musse: 6 × 8\n",
       "\n",
       "| <!--/--> | i &lt;int&gt; | lambda1 &lt;dbl&gt; | lambda2 &lt;dbl&gt; | mu1 &lt;dbl&gt; | mu2 &lt;dbl&gt; | q12 &lt;dbl&gt; | q21 &lt;dbl&gt; | p &lt;dbl&gt; |\n",
       "|---|---|---|---|---|---|---|---|---|\n",
       "| 1 | 1 | 0.4623310 | 0.1805986 | 0.003749002 | 0.1488843 | 0.5351912 | 0.011437985 | -7420.968 |\n",
       "| 2 | 2 | 0.4653747 | 0.1822729 | 0.041715994 | 0.1459540 | 0.5054173 | 0.009467600 | -7422.809 |\n",
       "| 3 | 3 | 0.4648095 | 0.1774271 | 0.028742583 | 0.1311694 | 0.5106112 | 0.009034418 | -7423.114 |\n",
       "| 4 | 4 | 0.4572626 | 0.1741171 | 0.015200004 | 0.1388030 | 0.5088296 | 0.009453794 | -7421.295 |\n",
       "| 5 | 5 | 0.4579987 | 0.1760929 | 0.025181879 | 0.1371634 | 0.4905447 | 0.009202019 | -7421.832 |\n",
       "| 6 | 6 | 0.4741648 | 0.1748744 | 0.025975016 | 0.1387944 | 0.5040570 | 0.010400756 | -7422.168 |\n",
       "\n"
      ],
      "text/plain": [
       "  i lambda1   lambda2   mu1         mu2       q12       q21         p        \n",
       "1 1 0.4623310 0.1805986 0.003749002 0.1488843 0.5351912 0.011437985 -7420.968\n",
       "2 2 0.4653747 0.1822729 0.041715994 0.1459540 0.5054173 0.009467600 -7422.809\n",
       "3 3 0.4648095 0.1774271 0.028742583 0.1311694 0.5106112 0.009034418 -7423.114\n",
       "4 4 0.4572626 0.1741171 0.015200004 0.1388030 0.5088296 0.009453794 -7421.295\n",
       "5 5 0.4579987 0.1760929 0.025181879 0.1371634 0.4905447 0.009202019 -7421.832\n",
       "6 6 0.4741648 0.1748744 0.025975016 0.1387944 0.5040570 0.010400756 -7422.168"
      ]
     },
     "metadata": {},
     "output_type": "display_data"
    }
   ],
   "source": [
    "head(samples)"
   ]
  },
  {
   "cell_type": "code",
   "execution_count": 62,
   "metadata": {},
   "outputs": [
    {
     "data": {
      "text/html": [
       "<style>\n",
       ".dl-inline {width: auto; margin:0; padding: 0}\n",
       ".dl-inline>dt, .dl-inline>dd {float: none; width: auto; display: inline-block}\n",
       ".dl-inline>dt::after {content: \":\\0020\"; padding-right: .5ex}\n",
       ".dl-inline>dt:not(:first-of-type) {padding-left: .5ex}\n",
       "</style><dl class=dl-inline><dt>lambda1</dt><dd>-1500.02508935436</dd><dt>lambda2</dt><dd>-0.293633090952091</dd><dt>mu1</dt><dd>-0.168421884585235</dd><dt>mu2</dt><dd>0.133995953490142</dd><dt>q12</dt><dd>0.379354003503509</dd><dt>q21</dt><dd>-0.516503207209429</dd><dt>p</dt><dd>-7423.12290614839</dd></dl>\n"
      ],
      "text/latex": [
       "\\begin{description*}\n",
       "\\item[lambda1] -1500.02508935436\n",
       "\\item[lambda2] -0.293633090952091\n",
       "\\item[mu1] -0.168421884585235\n",
       "\\item[mu2] 0.133995953490142\n",
       "\\item[q12] 0.379354003503509\n",
       "\\item[q21] -0.516503207209429\n",
       "\\item[p] -7423.12290614839\n",
       "\\end{description*}\n"
      ],
      "text/markdown": [
       "lambda1\n",
       ":   -1500.02508935436lambda2\n",
       ":   -0.293633090952091mu1\n",
       ":   -0.168421884585235mu2\n",
       ":   0.133995953490142q12\n",
       ":   0.379354003503509q21\n",
       ":   -0.516503207209429p\n",
       ":   -7423.12290614839\n",
       "\n"
      ],
      "text/plain": [
       "      lambda1       lambda2           mu1           mu2           q12 \n",
       "-1500.0250894    -0.2936331    -0.1684219     0.1339960     0.3793540 \n",
       "          q21             p \n",
       "   -0.5165032 -7423.1229061 "
      ]
     },
     "metadata": {},
     "output_type": "display_data"
    }
   ],
   "source": [
    "diff(sapply(samples[1:(ncol(samples))], median))"
   ]
  },
  {
   "cell_type": "code",
   "execution_count": 63,
   "metadata": {},
   "outputs": [
    {
     "data": {
      "image/png": "[encoded data removed]",
      "text/plain": [
       "plot without title"
      ]
     },
     "metadata": {
      "image/png": {
       "height": 420,
       "width": 420
      }
     },
     "output_type": "display_data"
    },
    {
     "data": {
      "image/png": "[encoded data removed]",
      "text/plain": [
       "Plot with title “Histogram of samples[, 8]”"
      ]
     },
     "metadata": {
      "image/png": {
       "height": 420,
       "width": 420
      }
     },
     "output_type": "display_data"
    }
   ],
   "source": [
    "#check mcmc trace for parameters\n",
    "#remove suitable burnin fraction\n",
    "\n",
    "plot(1:nrow(samples),samples[,8],type=\"l\")\n",
    "hist(samples[,8])"
   ]
  },
  {
   "cell_type": "markdown",
   "metadata": {},
   "source": [
    "#### For plotting parameter posterior distribution. This needs to be changed manually according to parameters contained in the best models. I can do later with output files."
   ]
  },
  {
   "cell_type": "code",
   "execution_count": null,
   "metadata": {},
   "outputs": [],
   "source": [
    "# pdf(\"lambda_mcmc_postdis_best_MCC_dissected_entire.pdf\",width=6,height=6)\n",
    "# #plot posterior distributions of parameters\n",
    "# profiles.plot(samples[c(\"lambda2\", \"lambda4\")], col.line=c(\"grey\",col[4]), las=1)\n",
    "# legend(\"topright\",legend=c(\"cos.palmate\",\"pinnate\", \"entire\", \"polymorphic\"),\n",
    "# col= c(\"grey\",\"grey\",\"grey\",col[4]),\n",
    "# text.col=c(\"grey\",\"grey\",\"grey\",col[4]),\n",
    "# ,pt.cex=2,pch=15,box.lwd=0)\n",
    "# dev.off()"
   ]
  },
  {
   "cell_type": "code",
   "execution_count": 64,
   "metadata": {},
   "outputs": [
    {
     "data": {
      "text/html": [
       "<strong>png:</strong> 2"
      ],
      "text/latex": [
       "\\textbf{png:} 2"
      ],
      "text/markdown": [
       "**png:** 2"
      ],
      "text/plain": [
       "png \n",
       "  2 "
      ]
     },
     "metadata": {},
     "output_type": "display_data"
    }
   ],
   "source": [
    "pdf('dissVSent_lambda_mcmc_postdis_best_MCC.pdf',width=6,height=6)\n",
    "#plot posterior distributions of parameters\n",
    "profiles.plot(samples[c(\"lambda1\", \"lambda2\")], col.line=c(col[1],col[2]), las=1)\n",
    "legend(\"topright\",legend=c(\"entire\",\"dissected\"),\n",
    "col = c(col[1],col[2]),\n",
    "text.col = c(col[1],col[2]),\n",
    ",pt.cex=2,pch=15,box.lwd=0)\n",
    "dev.off()"
   ]
  },
  {
   "cell_type": "code",
   "execution_count": 65,
   "metadata": {},
   "outputs": [
    {
     "data": {
      "text/html": [
       "<strong>png:</strong> 2"
      ],
      "text/latex": [
       "\\textbf{png:} 2"
      ],
      "text/markdown": [
       "**png:** 2"
      ],
      "text/plain": [
       "png \n",
       "  2 "
      ]
     },
     "metadata": {},
     "output_type": "display_data"
    }
   ],
   "source": [
    "pdf('dissVSent_mu_mcmc_postdis_best_MCC.pdf',width=6,height=6)\n",
    "#plot posterior distributions of parameters\n",
    "profiles.plot(samples[c('mu1', 'mu2')], col.line=c(col[1],col[2]), las=1)\n",
    "legend('topright',legend=c(\"entire\",\"dissected\"),\n",
    "col = c(col[1],col[2]),\n",
    "text.col = c(col[1],col[2]),\n",
    ",pt.cex=2,pch=15,box.lwd=0)\n",
    "dev.off()"
   ]
  },
  {
   "cell_type": "code",
   "execution_count": 66,
   "metadata": {},
   "outputs": [
    {
     "data": {
      "text/html": [
       "<table class=\"dataframe\">\n",
       "<caption>A mcmcsamples.musse: 6 × 8</caption>\n",
       "<thead>\n",
       "\t<tr><th></th><th scope=col>i</th><th scope=col>lambda1</th><th scope=col>lambda2</th><th scope=col>mu1</th><th scope=col>mu2</th><th scope=col>q12</th><th scope=col>q21</th><th scope=col>p</th></tr>\n",
       "\t<tr><th></th><th scope=col>&lt;int&gt;</th><th scope=col>&lt;dbl&gt;</th><th scope=col>&lt;dbl&gt;</th><th scope=col>&lt;dbl&gt;</th><th scope=col>&lt;dbl&gt;</th><th scope=col>&lt;dbl&gt;</th><th scope=col>&lt;dbl&gt;</th><th scope=col>&lt;dbl&gt;</th></tr>\n",
       "</thead>\n",
       "<tbody>\n",
       "\t<tr><th scope=row>1</th><td>1</td><td>0.4623310</td><td>0.1805986</td><td>0.003749002</td><td>0.1488843</td><td>0.5351912</td><td>0.011437985</td><td>-7420.968</td></tr>\n",
       "\t<tr><th scope=row>2</th><td>2</td><td>0.4653747</td><td>0.1822729</td><td>0.041715994</td><td>0.1459540</td><td>0.5054173</td><td>0.009467600</td><td>-7422.809</td></tr>\n",
       "\t<tr><th scope=row>3</th><td>3</td><td>0.4648095</td><td>0.1774271</td><td>0.028742583</td><td>0.1311694</td><td>0.5106112</td><td>0.009034418</td><td>-7423.114</td></tr>\n",
       "\t<tr><th scope=row>4</th><td>4</td><td>0.4572626</td><td>0.1741171</td><td>0.015200004</td><td>0.1388030</td><td>0.5088296</td><td>0.009453794</td><td>-7421.295</td></tr>\n",
       "\t<tr><th scope=row>5</th><td>5</td><td>0.4579987</td><td>0.1760929</td><td>0.025181879</td><td>0.1371634</td><td>0.4905447</td><td>0.009202019</td><td>-7421.832</td></tr>\n",
       "\t<tr><th scope=row>6</th><td>6</td><td>0.4741648</td><td>0.1748744</td><td>0.025975016</td><td>0.1387944</td><td>0.5040570</td><td>0.010400756</td><td>-7422.168</td></tr>\n",
       "</tbody>\n",
       "</table>\n"
      ],
      "text/latex": [
       "A mcmcsamples.musse: 6 × 8\n",
       "\\begin{tabular}{r|llllllll}\n",
       "  & i & lambda1 & lambda2 & mu1 & mu2 & q12 & q21 & p\\\\\n",
       "  & <int> & <dbl> & <dbl> & <dbl> & <dbl> & <dbl> & <dbl> & <dbl>\\\\\n",
       "\\hline\n",
       "\t1 & 1 & 0.4623310 & 0.1805986 & 0.003749002 & 0.1488843 & 0.5351912 & 0.011437985 & -7420.968\\\\\n",
       "\t2 & 2 & 0.4653747 & 0.1822729 & 0.041715994 & 0.1459540 & 0.5054173 & 0.009467600 & -7422.809\\\\\n",
       "\t3 & 3 & 0.4648095 & 0.1774271 & 0.028742583 & 0.1311694 & 0.5106112 & 0.009034418 & -7423.114\\\\\n",
       "\t4 & 4 & 0.4572626 & 0.1741171 & 0.015200004 & 0.1388030 & 0.5088296 & 0.009453794 & -7421.295\\\\\n",
       "\t5 & 5 & 0.4579987 & 0.1760929 & 0.025181879 & 0.1371634 & 0.4905447 & 0.009202019 & -7421.832\\\\\n",
       "\t6 & 6 & 0.4741648 & 0.1748744 & 0.025975016 & 0.1387944 & 0.5040570 & 0.010400756 & -7422.168\\\\\n",
       "\\end{tabular}\n"
      ],
      "text/markdown": [
       "\n",
       "A mcmcsamples.musse: 6 × 8\n",
       "\n",
       "| <!--/--> | i &lt;int&gt; | lambda1 &lt;dbl&gt; | lambda2 &lt;dbl&gt; | mu1 &lt;dbl&gt; | mu2 &lt;dbl&gt; | q12 &lt;dbl&gt; | q21 &lt;dbl&gt; | p &lt;dbl&gt; |\n",
       "|---|---|---|---|---|---|---|---|---|\n",
       "| 1 | 1 | 0.4623310 | 0.1805986 | 0.003749002 | 0.1488843 | 0.5351912 | 0.011437985 | -7420.968 |\n",
       "| 2 | 2 | 0.4653747 | 0.1822729 | 0.041715994 | 0.1459540 | 0.5054173 | 0.009467600 | -7422.809 |\n",
       "| 3 | 3 | 0.4648095 | 0.1774271 | 0.028742583 | 0.1311694 | 0.5106112 | 0.009034418 | -7423.114 |\n",
       "| 4 | 4 | 0.4572626 | 0.1741171 | 0.015200004 | 0.1388030 | 0.5088296 | 0.009453794 | -7421.295 |\n",
       "| 5 | 5 | 0.4579987 | 0.1760929 | 0.025181879 | 0.1371634 | 0.4905447 | 0.009202019 | -7421.832 |\n",
       "| 6 | 6 | 0.4741648 | 0.1748744 | 0.025975016 | 0.1387944 | 0.5040570 | 0.010400756 | -7422.168 |\n",
       "\n"
      ],
      "text/plain": [
       "  i lambda1   lambda2   mu1         mu2       q12       q21         p        \n",
       "1 1 0.4623310 0.1805986 0.003749002 0.1488843 0.5351912 0.011437985 -7420.968\n",
       "2 2 0.4653747 0.1822729 0.041715994 0.1459540 0.5054173 0.009467600 -7422.809\n",
       "3 3 0.4648095 0.1774271 0.028742583 0.1311694 0.5106112 0.009034418 -7423.114\n",
       "4 4 0.4572626 0.1741171 0.015200004 0.1388030 0.5088296 0.009453794 -7421.295\n",
       "5 5 0.4579987 0.1760929 0.025181879 0.1371634 0.4905447 0.009202019 -7421.832\n",
       "6 6 0.4741648 0.1748744 0.025975016 0.1387944 0.5040570 0.010400756 -7422.168"
      ]
     },
     "metadata": {},
     "output_type": "display_data"
    }
   ],
   "source": [
    "head(samples)"
   ]
  },
  {
   "cell_type": "code",
   "execution_count": 67,
   "metadata": {},
   "outputs": [
    {
     "data": {
      "text/html": [
       "<table class=\"dataframe\">\n",
       "<caption>A matrix: 6 × 2 of type dbl</caption>\n",
       "<tbody>\n",
       "\t<tr><td>0.4585820</td><td>0.03171432</td></tr>\n",
       "\t<tr><td>0.4236587</td><td>0.03631897</td></tr>\n",
       "\t<tr><td>0.4360669</td><td>0.04625770</td></tr>\n",
       "\t<tr><td>0.4420626</td><td>0.03531404</td></tr>\n",
       "\t<tr><td>0.4328169</td><td>0.03892955</td></tr>\n",
       "\t<tr><td>0.4481898</td><td>0.03608001</td></tr>\n",
       "</tbody>\n",
       "</table>\n"
      ],
      "text/latex": [
       "A matrix: 6 × 2 of type dbl\n",
       "\\begin{tabular}{ll}\n",
       "\t 0.4585820 & 0.03171432\\\\\n",
       "\t 0.4236587 & 0.03631897\\\\\n",
       "\t 0.4360669 & 0.04625770\\\\\n",
       "\t 0.4420626 & 0.03531404\\\\\n",
       "\t 0.4328169 & 0.03892955\\\\\n",
       "\t 0.4481898 & 0.03608001\\\\\n",
       "\\end{tabular}\n"
      ],
      "text/markdown": [
       "\n",
       "A matrix: 6 × 2 of type dbl\n",
       "\n",
       "| 0.4585820 | 0.03171432 |\n",
       "| 0.4236587 | 0.03631897 |\n",
       "| 0.4360669 | 0.04625770 |\n",
       "| 0.4420626 | 0.03531404 |\n",
       "| 0.4328169 | 0.03892955 |\n",
       "| 0.4481898 | 0.03608001 |\n",
       "\n"
      ],
      "text/plain": [
       "     [,1]      [,2]      \n",
       "[1,] 0.4585820 0.03171432\n",
       "[2,] 0.4236587 0.03631897\n",
       "[3,] 0.4360669 0.04625770\n",
       "[4,] 0.4420626 0.03531404\n",
       "[5,] 0.4328169 0.03892955\n",
       "[6,] 0.4481898 0.03608001"
      ]
     },
     "metadata": {},
     "output_type": "display_data"
    }
   ],
   "source": [
    "# samples[,2]\n",
    "net_div_t<-cbind(samples[,2]-samples[,4], # lambda1-mu1\n",
    "                 samples[,3]-samples[,5]) # lambda2-mu2\n",
    "head(net_div_t)"
   ]
  },
  {
   "cell_type": "code",
   "execution_count": 68,
   "metadata": {},
   "outputs": [
    {
     "data": {
      "text/html": [
       "<strong>png:</strong> 2"
      ],
      "text/latex": [
       "\\textbf{png:} 2"
      ],
      "text/markdown": [
       "**png:** 2"
      ],
      "text/plain": [
       "png \n",
       "  2 "
      ]
     },
     "metadata": {},
     "output_type": "display_data"
    }
   ],
   "source": [
    "pdf(\"dissVSent_netdiv_mcmc_postdis_best_MCC.pdf\",width=6,height=6)\n",
    "#plot posterior distributions of parameters\n",
    "profiles.plot(net_div_t, col.line=col, las=1)\n",
    "legend(\"topright\",legend=c(\"entire\",\"dissected\"),\n",
    "col= col,\n",
    "text.col=col,\n",
    ",pt.cex=2,pch=15,box.lwd=0)\n",
    "dev.off()"
   ]
  },
  {
   "cell_type": "code",
   "execution_count": 69,
   "metadata": {},
   "outputs": [
    {
     "data": {
      "text/html": [
       "<strong>png:</strong> 2"
      ],
      "text/latex": [
       "\\textbf{png:} 2"
      ],
      "text/markdown": [
       "**png:** 2"
      ],
      "text/plain": [
       "png \n",
       "  2 "
      ]
     },
     "metadata": {},
     "output_type": "display_data"
    }
   ],
   "source": [
    "pdf(\"dissVSent_q_mcmc_postdis_best_MCC.pdf\",width=6,height=6)\n",
    "# col=c(\"#15B0DE\",\"#DD3D3D\",\"#02C39A\",\"#FBE279\")\n",
    "#q21 ~ q12, q24 ~ q12, q31 ~ q12, q23 ~ q13, q43 ~ q13\n",
    "\n",
    "#plot posterior distributions of parameters\n",
    "profiles.plot(log(samples[c(\"q12\", \"q21\")]), col.line=c(\"darkorange\",\"red\"), las=1)\n",
    "legend(\"topleft\",legend=c(\"ent->dis\", \"dis->ent\"),\n",
    "       \n",
    "col= c(\"darkorange\",\"red\"),\n",
    "text.col=c(\"darkorange\",\"red\"),\n",
    ",pt.cex=2,pch=15,box.lwd=0)\n",
    "dev.off()"
   ]
  },
  {
   "cell_type": "markdown",
   "metadata": {},
   "source": [
    "-----\n",
    "# Repeat the best model on a posterior distribution of trees"
   ]
  },
  {
   "cell_type": "code",
   "execution_count": 70,
   "metadata": {},
   "outputs": [],
   "source": [
    "tree_samp<-read.tree('sampled_trees_100.nex')"
   ]
  },
  {
   "cell_type": "code",
   "execution_count": 71,
   "metadata": {},
   "outputs": [],
   "source": [
    "T<-100"
   ]
  },
  {
   "cell_type": "code",
   "execution_count": 72,
   "metadata": {},
   "outputs": [
    {
     "data": {
      "text/html": [
       "<style>\n",
       ".dl-inline {width: auto; margin:0; padding: 0}\n",
       ".dl-inline>dt, .dl-inline>dd {float: none; width: auto; display: inline-block}\n",
       ".dl-inline>dt::after {content: \":\\0020\"; padding-right: .5ex}\n",
       ".dl-inline>dt:not(:first-of-type) {padding-left: .5ex}\n",
       "</style><dl class=dl-inline><dt>lambda1</dt><dd>0.468792037415534</dd><dt>lambda2</dt><dd>0.181379993355533</dd><dt>mu1</dt><dd>1.50794898831096e-07</dd><dt>mu2</dt><dd>0.14753496924222</dd><dt>q12</dt><dd>0.535525227676553</dd><dt>q21</dt><dd>0.0094663380072294</dd></dl>\n"
      ],
      "text/latex": [
       "\\begin{description*}\n",
       "\\item[lambda1] 0.468792037415534\n",
       "\\item[lambda2] 0.181379993355533\n",
       "\\item[mu1] 1.50794898831096e-07\n",
       "\\item[mu2] 0.14753496924222\n",
       "\\item[q12] 0.535525227676553\n",
       "\\item[q21] 0.0094663380072294\n",
       "\\end{description*}\n"
      ],
      "text/markdown": [
       "lambda1\n",
       ":   0.468792037415534lambda2\n",
       ":   0.181379993355533mu1\n",
       ":   1.50794898831096e-07mu2\n",
       ":   0.14753496924222q12\n",
       ":   0.535525227676553q21\n",
       ":   0.0094663380072294\n",
       "\n"
      ],
      "text/plain": [
       "     lambda1      lambda2          mu1          mu2          q12          q21 \n",
       "4.687920e-01 1.813800e-01 1.507949e-07 1.475350e-01 5.355252e-01 9.466338e-03 "
      ]
     },
     "metadata": {},
     "output_type": "display_data"
    },
    {
     "data": {
      "text/html": [
       "<pre class=language-r><code>structure(function (pars, condition.surv = TRUE, root = ROOT.OBS, \n",
       "<span style=white-space:pre-wrap>    root.p = NULL, intermediates = FALSE) </span>\n",
       "{\n",
       "<span style=white-space:pre-wrap>    pars2 &lt;- f.pars(pars)</span>\n",
       "<span style=white-space:pre-wrap>    ans &lt;- all.branches(pars2, intermediates)</span>\n",
       "<span style=white-space:pre-wrap>    rootfunc(ans, pars2, condition.surv, root, root.p, intermediates)</span>\n",
       "}, class = c(\"musse\", \"dtlik\", \"function\"))</code></pre>"
      ],
      "text/latex": [
       "\\begin{minted}{r}\n",
       "structure(function (pars, condition.surv = TRUE, root = ROOT.OBS, \n",
       "    root.p = NULL, intermediates = FALSE) \n",
       "\\{\n",
       "    pars2 <- f.pars(pars)\n",
       "    ans <- all.branches(pars2, intermediates)\n",
       "    rootfunc(ans, pars2, condition.surv, root, root.p, intermediates)\n",
       "\\}, class = c(\"musse\", \"dtlik\", \"function\"))\n",
       "\\end{minted}"
      ],
      "text/markdown": [
       "```r\n",
       "structure(function (pars, condition.surv = TRUE, root = ROOT.OBS, \n",
       "    root.p = NULL, intermediates = FALSE) \n",
       "{\n",
       "    pars2 <- f.pars(pars)\n",
       "    ans <- all.branches(pars2, intermediates)\n",
       "    rootfunc(ans, pars2, condition.surv, root, root.p, intermediates)\n",
       "}, class = c(\"musse\", \"dtlik\", \"function\"))\n",
       "```"
      ],
      "text/plain": [
       "MuSSE likelihood function:\n",
       "  * Parameter vector takes 6 elements:\n",
       "     - lambda1, lambda2, mu1, mu2, q12, q21\n",
       "  * Function takes arguments (with defaults)\n",
       "     - pars: Parameter vector\n",
       "     - condition.surv [TRUE]: Condition likelihood on survial?\n",
       "     - root [ROOT.OBS]: Type of root treatment\n",
       "     - root.p [NULL]: Vector of root state probabilities\n",
       "     - intermediates [FALSE]: Also return intermediate values?\n",
       "  * Phylogeny with 2405 tips and 2404 nodes\n",
       "     - Taxa: Socratea_karstenii, Socratea_exorrhiza, ...\n",
       "  * Reference:\n",
       "     - FitzJohn (submitted)\n",
       "R definition:\n",
       "function (pars, condition.surv = TRUE, root = ROOT.OBS, root.p = NULL, \n",
       "    intermediates = FALSE)  "
      ]
     },
     "metadata": {},
     "output_type": "display_data"
    }
   ],
   "source": [
    "best_fit$par\n",
    "best_lik"
   ]
  },
  {
   "cell_type": "code",
   "execution_count": 73,
   "metadata": {},
   "outputs": [],
   "source": [
    "for(t in 1:T)\n",
    "{\n",
    "    tree_t<-tree_samp[[t]]\n",
    "    tree_t<-drop.tip(tree_t,setdiff(tree_t$tip.label,names(trait)))\n",
    "    \n",
    "    trait<-dt2[tree_t$tip.label]\n",
    "    names(trait)<-tree_t$tip.label\n",
    "    \n",
    "    p<-starting.point.musse(tree_t,k=length(unique(trait)))\n",
    "        \n",
    "    fit.best_t<-find.mle(best_lik, p[argnames(best_lik)])\n",
    "    \n",
    "    save(fit.best_t,file=paste(trait_mod,'dissVSent_fit.best_t_tree',t,'.Rdata',sep=\"\"))\n",
    "}\n"
   ]
  },
  {
   "cell_type": "code",
   "execution_count": 74,
   "metadata": {},
   "outputs": [],
   "source": [
    "#pdf(\"asr_best_model_postdis.pdf\",width=75,height=75)\n",
    "\n",
    "par_post_dis<-c()\n",
    "root_state_prob<-c()\n",
    "\n",
    "for(t in 1:T)\n",
    "{   \n",
    "    tree_t<-tree_samp[[t]]\n",
    "    tree_t<-drop.tip(tree_t,setdiff(tree_t$tip.label,list_taxa))\n",
    "\n",
    "    trait<-dt2[tree_t$tip.label]\n",
    "    names(trait)<-tree_t$tip.label\n",
    "\n",
    "    tip_data<-cbind(1:Ntip(tree_t), trait, 1)\n",
    "\n",
    "    p<-starting.point.musse(tree_t,k=length(unique(trait)))\n",
    "    \n",
    "    load(file=paste(trait_mod,'dissVSent_fit.best_t_tree',t,'.Rdata',sep=\"\"))\n",
    "    \n",
    "    st <- asr.marginal(best_lik, coef(fit.best_t))\n",
    "    st.mtx<-t(st)\n",
    "        \n",
    "    par_post_dis<-rbind(par_post_dis,fit.best_t$par)\n",
    "    root_state_prob<-rbind(root_state_prob,t(st)[1,])\n",
    "\n",
    "    par(mar=c(0,0,0,0))\n",
    "\n",
    "    \n",
    "#1 = palmate, 2 = pinnate\n",
    "#col=c(\"#15B0DE\",\"#DD3D3D\")\n",
    "\n",
    "#plot.phylo(tree_t,edge.width=1,label.offset=1,cex=0.1,show.tip.label=T, type=\"fan\")\n",
    "\n",
    "#nodelabels(pie=t(st), piecol=col, cex=0.2)\n",
    "#tiplabels(col=col[trait],pch=19,adj=1,cex=0.3) # trait datset must be sorted according to the tip.label order to be plotted correctly\n",
    "\n",
    "\n",
    "#legend(\"topleft\",legend=c(\"cos.palmate\",\"pinnate\", \"bipinnate\", \"entire\", \"polymorphic\"),\n",
    "#legend(\"topleft\",legend=c(\"palmate\",\"pinnate\"),\n",
    "#cex=10,\n",
    "#col= col,\n",
    "#text.col=col,\n",
    "#,pt.cex=10,pch=15,box.lwd=0)\n",
    "\n",
    "}\n",
    "\n",
    "#dev.off()\n",
    "\n"
   ]
  },
  {
   "cell_type": "code",
   "execution_count": 75,
   "metadata": {},
   "outputs": [
    {
     "data": {
      "text/html": [
       "<table class=\"dataframe\">\n",
       "<caption>A matrix: 6 × 2 of type dbl</caption>\n",
       "<tbody>\n",
       "\t<tr><td>0.7939524</td><td>0.2060476</td></tr>\n",
       "\t<tr><td>0.7947138</td><td>0.2052862</td></tr>\n",
       "\t<tr><td>0.7941374</td><td>0.2058626</td></tr>\n",
       "\t<tr><td>0.7943350</td><td>0.2056650</td></tr>\n",
       "\t<tr><td>0.7941893</td><td>0.2058107</td></tr>\n",
       "\t<tr><td>0.7949586</td><td>0.2050414</td></tr>\n",
       "</tbody>\n",
       "</table>\n"
      ],
      "text/latex": [
       "A matrix: 6 × 2 of type dbl\n",
       "\\begin{tabular}{ll}\n",
       "\t 0.7939524 & 0.2060476\\\\\n",
       "\t 0.7947138 & 0.2052862\\\\\n",
       "\t 0.7941374 & 0.2058626\\\\\n",
       "\t 0.7943350 & 0.2056650\\\\\n",
       "\t 0.7941893 & 0.2058107\\\\\n",
       "\t 0.7949586 & 0.2050414\\\\\n",
       "\\end{tabular}\n"
      ],
      "text/markdown": [
       "\n",
       "A matrix: 6 × 2 of type dbl\n",
       "\n",
       "| 0.7939524 | 0.2060476 |\n",
       "| 0.7947138 | 0.2052862 |\n",
       "| 0.7941374 | 0.2058626 |\n",
       "| 0.7943350 | 0.2056650 |\n",
       "| 0.7941893 | 0.2058107 |\n",
       "| 0.7949586 | 0.2050414 |\n",
       "\n"
      ],
      "text/plain": [
       "     [,1]      [,2]     \n",
       "[1,] 0.7939524 0.2060476\n",
       "[2,] 0.7947138 0.2052862\n",
       "[3,] 0.7941374 0.2058626\n",
       "[4,] 0.7943350 0.2056650\n",
       "[5,] 0.7941893 0.2058107\n",
       "[6,] 0.7949586 0.2050414"
      ]
     },
     "metadata": {},
     "output_type": "display_data"
    }
   ],
   "source": [
    "#relative probability of character states at the root across 100 trees\n",
    "head(root_state_prob)"
   ]
  },
  {
   "cell_type": "code",
   "execution_count": 76,
   "metadata": {},
   "outputs": [
    {
     "data": {
      "text/html": [
       "200"
      ],
      "text/latex": [
       "200"
      ],
      "text/markdown": [
       "200"
      ],
      "text/plain": [
       "[1] 200"
      ]
     },
     "metadata": {},
     "output_type": "display_data"
    }
   ],
   "source": [
    "length(root_state_prob)"
   ]
  },
  {
   "cell_type": "code",
   "execution_count": 79,
   "metadata": {},
   "outputs": [
    {
     "data": {
      "text/html": [
       "<table class=\"dataframe\">\n",
       "<caption>A matrix: 6 × 6 of type dbl</caption>\n",
       "<thead>\n",
       "\t<tr><th scope=col>lambda1</th><th scope=col>lambda2</th><th scope=col>mu1</th><th scope=col>mu2</th><th scope=col>q12</th><th scope=col>q21</th></tr>\n",
       "</thead>\n",
       "<tbody>\n",
       "\t<tr><td>0.4683552</td><td>0.1813823</td><td>1.481872e-06</td><td>0.1474879</td><td>0.5342288</td><td>0.009413297</td></tr>\n",
       "\t<tr><td>0.4692994</td><td>0.1813350</td><td>4.146941e-06</td><td>0.1475976</td><td>0.5370096</td><td>0.009539570</td></tr>\n",
       "\t<tr><td>0.4686453</td><td>0.1814171</td><td>4.746101e-06</td><td>0.1475412</td><td>0.5350512</td><td>0.009431290</td></tr>\n",
       "\t<tr><td>0.4688705</td><td>0.1813817</td><td>3.101953e-07</td><td>0.1475618</td><td>0.5357877</td><td>0.009485633</td></tr>\n",
       "\t<tr><td>0.4689558</td><td>0.1812845</td><td>5.882936e-07</td><td>0.1474051</td><td>0.5359381</td><td>0.009485285</td></tr>\n",
       "\t<tr><td>0.4695325</td><td>0.1812960</td><td>9.902589e-06</td><td>0.1476136</td><td>0.5380017</td><td>0.009593185</td></tr>\n",
       "</tbody>\n",
       "</table>\n"
      ],
      "text/latex": [
       "A matrix: 6 × 6 of type dbl\n",
       "\\begin{tabular}{llllll}\n",
       " lambda1 & lambda2 & mu1 & mu2 & q12 & q21\\\\\n",
       "\\hline\n",
       "\t 0.4683552 & 0.1813823 & 1.481872e-06 & 0.1474879 & 0.5342288 & 0.009413297\\\\\n",
       "\t 0.4692994 & 0.1813350 & 4.146941e-06 & 0.1475976 & 0.5370096 & 0.009539570\\\\\n",
       "\t 0.4686453 & 0.1814171 & 4.746101e-06 & 0.1475412 & 0.5350512 & 0.009431290\\\\\n",
       "\t 0.4688705 & 0.1813817 & 3.101953e-07 & 0.1475618 & 0.5357877 & 0.009485633\\\\\n",
       "\t 0.4689558 & 0.1812845 & 5.882936e-07 & 0.1474051 & 0.5359381 & 0.009485285\\\\\n",
       "\t 0.4695325 & 0.1812960 & 9.902589e-06 & 0.1476136 & 0.5380017 & 0.009593185\\\\\n",
       "\\end{tabular}\n"
      ],
      "text/markdown": [
       "\n",
       "A matrix: 6 × 6 of type dbl\n",
       "\n",
       "| lambda1 | lambda2 | mu1 | mu2 | q12 | q21 |\n",
       "|---|---|---|---|---|---|\n",
       "| 0.4683552 | 0.1813823 | 1.481872e-06 | 0.1474879 | 0.5342288 | 0.009413297 |\n",
       "| 0.4692994 | 0.1813350 | 4.146941e-06 | 0.1475976 | 0.5370096 | 0.009539570 |\n",
       "| 0.4686453 | 0.1814171 | 4.746101e-06 | 0.1475412 | 0.5350512 | 0.009431290 |\n",
       "| 0.4688705 | 0.1813817 | 3.101953e-07 | 0.1475618 | 0.5357877 | 0.009485633 |\n",
       "| 0.4689558 | 0.1812845 | 5.882936e-07 | 0.1474051 | 0.5359381 | 0.009485285 |\n",
       "| 0.4695325 | 0.1812960 | 9.902589e-06 | 0.1476136 | 0.5380017 | 0.009593185 |\n",
       "\n"
      ],
      "text/plain": [
       "     lambda1   lambda2   mu1          mu2       q12       q21        \n",
       "[1,] 0.4683552 0.1813823 1.481872e-06 0.1474879 0.5342288 0.009413297\n",
       "[2,] 0.4692994 0.1813350 4.146941e-06 0.1475976 0.5370096 0.009539570\n",
       "[3,] 0.4686453 0.1814171 4.746101e-06 0.1475412 0.5350512 0.009431290\n",
       "[4,] 0.4688705 0.1813817 3.101953e-07 0.1475618 0.5357877 0.009485633\n",
       "[5,] 0.4689558 0.1812845 5.882936e-07 0.1474051 0.5359381 0.009485285\n",
       "[6,] 0.4695325 0.1812960 9.902589e-06 0.1476136 0.5380017 0.009593185"
      ]
     },
     "metadata": {},
     "output_type": "display_data"
    }
   ],
   "source": [
    "#ML estimates of model parameters across 100 trees\n",
    "head(par_post_dis)"
   ]
  },
  {
   "cell_type": "code",
   "execution_count": 80,
   "metadata": {},
   "outputs": [],
   "source": [
    "write.table(par_post_dis, paste(trait_mod,\"dissVSent_par_post_dis.txt\",sep=\"_\"),row.names = FALSE)\n",
    "write.table(root_state_prob, paste(trait_mod,\"dissVSent_root_state_prob.txt\",sep=\"_\"),row.names = FALSE)"
   ]
  },
  {
   "cell_type": "code",
   "execution_count": 81,
   "metadata": {},
   "outputs": [
    {
     "data": {
      "text/html": [
       "<strong>png:</strong> 2"
      ],
      "text/latex": [
       "\\textbf{png:} 2"
      ],
      "text/markdown": [
       "**png:** 2"
      ],
      "text/plain": [
       "png \n",
       "  2 "
      ]
     },
     "metadata": {},
     "output_type": "display_data"
    }
   ],
   "source": [
    "pdf(paste(trait_mod,\"dissVSent_root_state_prob_postdis.pdf\",sep=\"_\"),width=6,height=6)\n",
    "\n",
    "#1 = palmate, 2 = pinnate\n",
    "# col=c(\"#15B0DE\",\"#DD3D3D\")\n",
    "\n",
    "#1 = entire, 2 = dissected\n",
    "col=c(\"#15B0DE\",\"#DD3D3D\")\n",
    "\n",
    "#plot posterior distributions of parameters\n",
    "profiles.plot(root_state_prob[,c(1,2)], col.line=col, las=1)\n",
    "legend(\"topright\",legend=c(\"entire\",\"dissected\"),\n",
    "col= col,\n",
    "text.col=col,\n",
    ",pt.cex=2,pch=15,box.lwd=0)\n",
    "\n",
    "abline(v=apply(root_state_prob, MARGIN=2, FUN=median), col=col, lwd=2)\n",
    "\n",
    "dev.off()"
   ]
  },
  {
   "cell_type": "markdown",
   "metadata": {},
   "source": [
    "#### For plotting parameter posterior distribution. This needs to be changed manually according to parameters contained in the best models. I can do later with output files."
   ]
  },
  {
   "cell_type": "code",
   "execution_count": 83,
   "metadata": {
    "scrolled": true
   },
   "outputs": [
    {
     "data": {
      "text/html": [
       "<table class=\"dataframe\">\n",
       "<caption>A matrix: 6 × 6 of type dbl</caption>\n",
       "<thead>\n",
       "\t<tr><th scope=col>lambda1</th><th scope=col>lambda2</th><th scope=col>mu1</th><th scope=col>mu2</th><th scope=col>q12</th><th scope=col>q21</th></tr>\n",
       "</thead>\n",
       "<tbody>\n",
       "\t<tr><td>0.4683552</td><td>0.1813823</td><td>1.481872e-06</td><td>0.1474879</td><td>0.5342288</td><td>0.009413297</td></tr>\n",
       "\t<tr><td>0.4692994</td><td>0.1813350</td><td>4.146941e-06</td><td>0.1475976</td><td>0.5370096</td><td>0.009539570</td></tr>\n",
       "\t<tr><td>0.4686453</td><td>0.1814171</td><td>4.746101e-06</td><td>0.1475412</td><td>0.5350512</td><td>0.009431290</td></tr>\n",
       "\t<tr><td>0.4688705</td><td>0.1813817</td><td>3.101953e-07</td><td>0.1475618</td><td>0.5357877</td><td>0.009485633</td></tr>\n",
       "\t<tr><td>0.4689558</td><td>0.1812845</td><td>5.882936e-07</td><td>0.1474051</td><td>0.5359381</td><td>0.009485285</td></tr>\n",
       "\t<tr><td>0.4695325</td><td>0.1812960</td><td>9.902589e-06</td><td>0.1476136</td><td>0.5380017</td><td>0.009593185</td></tr>\n",
       "</tbody>\n",
       "</table>\n"
      ],
      "text/latex": [
       "A matrix: 6 × 6 of type dbl\n",
       "\\begin{tabular}{llllll}\n",
       " lambda1 & lambda2 & mu1 & mu2 & q12 & q21\\\\\n",
       "\\hline\n",
       "\t 0.4683552 & 0.1813823 & 1.481872e-06 & 0.1474879 & 0.5342288 & 0.009413297\\\\\n",
       "\t 0.4692994 & 0.1813350 & 4.146941e-06 & 0.1475976 & 0.5370096 & 0.009539570\\\\\n",
       "\t 0.4686453 & 0.1814171 & 4.746101e-06 & 0.1475412 & 0.5350512 & 0.009431290\\\\\n",
       "\t 0.4688705 & 0.1813817 & 3.101953e-07 & 0.1475618 & 0.5357877 & 0.009485633\\\\\n",
       "\t 0.4689558 & 0.1812845 & 5.882936e-07 & 0.1474051 & 0.5359381 & 0.009485285\\\\\n",
       "\t 0.4695325 & 0.1812960 & 9.902589e-06 & 0.1476136 & 0.5380017 & 0.009593185\\\\\n",
       "\\end{tabular}\n"
      ],
      "text/markdown": [
       "\n",
       "A matrix: 6 × 6 of type dbl\n",
       "\n",
       "| lambda1 | lambda2 | mu1 | mu2 | q12 | q21 |\n",
       "|---|---|---|---|---|---|\n",
       "| 0.4683552 | 0.1813823 | 1.481872e-06 | 0.1474879 | 0.5342288 | 0.009413297 |\n",
       "| 0.4692994 | 0.1813350 | 4.146941e-06 | 0.1475976 | 0.5370096 | 0.009539570 |\n",
       "| 0.4686453 | 0.1814171 | 4.746101e-06 | 0.1475412 | 0.5350512 | 0.009431290 |\n",
       "| 0.4688705 | 0.1813817 | 3.101953e-07 | 0.1475618 | 0.5357877 | 0.009485633 |\n",
       "| 0.4689558 | 0.1812845 | 5.882936e-07 | 0.1474051 | 0.5359381 | 0.009485285 |\n",
       "| 0.4695325 | 0.1812960 | 9.902589e-06 | 0.1476136 | 0.5380017 | 0.009593185 |\n",
       "\n"
      ],
      "text/plain": [
       "     lambda1   lambda2   mu1          mu2       q12       q21        \n",
       "[1,] 0.4683552 0.1813823 1.481872e-06 0.1474879 0.5342288 0.009413297\n",
       "[2,] 0.4692994 0.1813350 4.146941e-06 0.1475976 0.5370096 0.009539570\n",
       "[3,] 0.4686453 0.1814171 4.746101e-06 0.1475412 0.5350512 0.009431290\n",
       "[4,] 0.4688705 0.1813817 3.101953e-07 0.1475618 0.5357877 0.009485633\n",
       "[5,] 0.4689558 0.1812845 5.882936e-07 0.1474051 0.5359381 0.009485285\n",
       "[6,] 0.4695325 0.1812960 9.902589e-06 0.1476136 0.5380017 0.009593185"
      ]
     },
     "metadata": {},
     "output_type": "display_data"
    }
   ],
   "source": [
    "head(par_post_dis)"
   ]
  },
  {
   "cell_type": "code",
   "execution_count": 84,
   "metadata": {},
   "outputs": [
    {
     "data": {
      "text/html": [
       "<strong>png:</strong> 2"
      ],
      "text/latex": [
       "\\textbf{png:} 2"
      ],
      "text/markdown": [
       "**png:** 2"
      ],
      "text/plain": [
       "png \n",
       "  2 "
      ]
     },
     "metadata": {},
     "output_type": "display_data"
    },
    {
     "name": "stderr",
     "output_type": "stream",
     "text": [
      "Warning message in arrows(ci[[i]][1], z[i], ci[[i]][2], z[i], code = 3, angle = 90, :\n",
      "“zero-length arrow is of indeterminate angle and so skipped”\n"
     ]
    },
    {
     "data": {
      "text/html": [
       "<strong>png:</strong> 2"
      ],
      "text/latex": [
       "\\textbf{png:} 2"
      ],
      "text/markdown": [
       "**png:** 2"
      ],
      "text/plain": [
       "png \n",
       "  2 "
      ]
     },
     "metadata": {},
     "output_type": "display_data"
    },
    {
     "data": {
      "text/html": [
       "<table class=\"dataframe\">\n",
       "<caption>A matrix: 6 × 2 of type dbl</caption>\n",
       "<tbody>\n",
       "\t<tr><td>0.4683537</td><td>0.03389445</td></tr>\n",
       "\t<tr><td>0.4692952</td><td>0.03373737</td></tr>\n",
       "\t<tr><td>0.4686405</td><td>0.03387582</td></tr>\n",
       "\t<tr><td>0.4688702</td><td>0.03381990</td></tr>\n",
       "\t<tr><td>0.4689552</td><td>0.03387938</td></tr>\n",
       "\t<tr><td>0.4695226</td><td>0.03368244</td></tr>\n",
       "</tbody>\n",
       "</table>\n"
      ],
      "text/latex": [
       "A matrix: 6 × 2 of type dbl\n",
       "\\begin{tabular}{ll}\n",
       "\t 0.4683537 & 0.03389445\\\\\n",
       "\t 0.4692952 & 0.03373737\\\\\n",
       "\t 0.4686405 & 0.03387582\\\\\n",
       "\t 0.4688702 & 0.03381990\\\\\n",
       "\t 0.4689552 & 0.03387938\\\\\n",
       "\t 0.4695226 & 0.03368244\\\\\n",
       "\\end{tabular}\n"
      ],
      "text/markdown": [
       "\n",
       "A matrix: 6 × 2 of type dbl\n",
       "\n",
       "| 0.4683537 | 0.03389445 |\n",
       "| 0.4692952 | 0.03373737 |\n",
       "| 0.4686405 | 0.03387582 |\n",
       "| 0.4688702 | 0.03381990 |\n",
       "| 0.4689552 | 0.03387938 |\n",
       "| 0.4695226 | 0.03368244 |\n",
       "\n"
      ],
      "text/plain": [
       "     [,1]      [,2]      \n",
       "[1,] 0.4683537 0.03389445\n",
       "[2,] 0.4692952 0.03373737\n",
       "[3,] 0.4686405 0.03387582\n",
       "[4,] 0.4688702 0.03381990\n",
       "[5,] 0.4689552 0.03387938\n",
       "[6,] 0.4695226 0.03368244"
      ]
     },
     "metadata": {},
     "output_type": "display_data"
    },
    {
     "data": {
      "text/html": [
       "<strong>png:</strong> 2"
      ],
      "text/latex": [
       "\\textbf{png:} 2"
      ],
      "text/markdown": [
       "**png:** 2"
      ],
      "text/plain": [
       "png \n",
       "  2 "
      ]
     },
     "metadata": {},
     "output_type": "display_data"
    },
    {
     "data": {
      "text/html": [
       "<strong>png:</strong> 2"
      ],
      "text/latex": [
       "\\textbf{png:} 2"
      ],
      "text/markdown": [
       "**png:** 2"
      ],
      "text/plain": [
       "png \n",
       "  2 "
      ]
     },
     "metadata": {},
     "output_type": "display_data"
    }
   ],
   "source": [
    "pdf(\"dissVSent_lambda_tree_postdis_best.pdf\",width=6,height=6)\n",
    "\n",
    "#1 = cos.palmate, 2 = pinnate, 3 = entire, 4 = polymorphic\n",
    "# col=c(\"#15B0DE\",\"#DD3D3D\",\"#02C39A\",\"#FBE279\")\n",
    "\n",
    "#1 = entire, 2 = dissected\n",
    "col=c(\"#15B0DE\",\"#DD3D3D\")\n",
    "\n",
    "#plot posterior distributions of parameters\n",
    "profiles.plot(par_post_dis[,c(1,2)], col.line=c(col[1],col[2]), las=1)\n",
    "legend(\"topright\",legend=c(\"entire\",\"dissected\"),\n",
    "col= c(col[1],col[2]),\n",
    "text.col=c(col[1],col[2]),\n",
    ",pt.cex=2,pch=15,box.lwd=0)\n",
    "\n",
    "dev.off()\n",
    "\n",
    "\n",
    "\n",
    "pdf(\"dissVSent_mu_tree_postdis_best.pdf\",width=6,height=6)\n",
    "\n",
    "#plot posterior distributions of parameters\n",
    "profiles.plot(par_post_dis[,c(3, 4)], col.line=c(col[1],col[2]), las=1)\n",
    "legend(\"topright\",legend=c(\"entire\",\"dissected\"),\n",
    "col= c(col[1],col[2]),\n",
    "text.col=c(col[1],col[2]),\n",
    ",pt.cex=2,pch=15,box.lwd=0)\n",
    "#1 = entire, 2 = dissected\n",
    "col=c(\"#15B0DE\",\"#DD3D3D\")\n",
    "\n",
    "dev.off()\n",
    "\n",
    "net_div_posdis<-cbind(par_post_dis[,1]-par_post_dis[,3],\n",
    "                      par_post_dis[,2]-par_post_dis[,4])\n",
    "head(net_div_posdis)\n",
    "\n",
    "\n",
    "\n",
    "pdf(\"dissVSent_netdiv_tree_postdis_best.pdf\",width=6,height=6)\n",
    "\n",
    "#plot posterior distributions of parameters\n",
    "profiles.plot(net_div_posdis, col.line=col, las=1)\n",
    "legend(\"topright\",legend=c(\"entire\",\"dissected\"),\n",
    "col= col,\n",
    "text.col=col,\n",
    ",pt.cex=2,pch=15,box.lwd=0)\n",
    "\n",
    "dev.off()\n",
    "\n",
    "pdf(\"dissVSent_q_tree_postdis_best.pdf\",width=6,height=6)\n",
    "\n",
    "#plot posterior distributions of parameters\n",
    "profiles.plot(log(par_post_dis[,c(5, 6)]), col.line=c(\"darkorange\",\"red\"), las=1)\n",
    "legend(\"topleft\",legend=c(\"ent->dis\", \"dis->ent\"),\n",
    "col= c(\"darkorange\",\"red\"),\n",
    "text.col=c(\"darkorange\",\"red\"),\n",
    ",pt.cex=2,pch=15,box.lwd=0)\n",
    "\n",
    "dev.off()"
   ]
  },
  {
   "cell_type": "markdown",
   "metadata": {},
   "source": [
    "--------------------------\n",
    "# ML fitting on different starting parameters"
   ]
  },
  {
   "cell_type": "code",
   "execution_count": 85,
   "metadata": {},
   "outputs": [],
   "source": [
    "lambda_p_range<-c(0.01,0.05,0.1,0.15,0.2,0.25,0.3,0.35,0.4)\n",
    "mu_p_range<-c(0.01,0.05,0.1,0.15,0.2,0.25,0.3,0.35,0.4)\n",
    "q_p_range<-c(0.01,0.05,0.1,0.15,0.2,0.25,0.3,0.35,0.4)"
   ]
  },
  {
   "cell_type": "code",
   "execution_count": 86,
   "metadata": {},
   "outputs": [
    {
     "data": {
      "text/html": [
       "<style>\n",
       ".dl-inline {width: auto; margin:0; padding: 0}\n",
       ".dl-inline>dt, .dl-inline>dd {float: none; width: auto; display: inline-block}\n",
       ".dl-inline>dt::after {content: \":\\0020\"; padding-right: .5ex}\n",
       ".dl-inline>dt:not(:first-of-type) {padding-left: .5ex}\n",
       "</style><dl class=dl-inline><dt>lambda1</dt><dd>0.199135448176597</dd><dt>lambda2</dt><dd>0.199135448176597</dd><dt>mu1</dt><dd>0.113500073989751</dd><dt>mu2</dt><dd>0.113500073989751</dd><dt>q12</dt><dd>0.0171270748373692</dd><dt>q21</dt><dd>0.0171270748373692</dd></dl>\n"
      ],
      "text/latex": [
       "\\begin{description*}\n",
       "\\item[lambda1] 0.199135448176597\n",
       "\\item[lambda2] 0.199135448176597\n",
       "\\item[mu1] 0.113500073989751\n",
       "\\item[mu2] 0.113500073989751\n",
       "\\item[q12] 0.0171270748373692\n",
       "\\item[q21] 0.0171270748373692\n",
       "\\end{description*}\n"
      ],
      "text/markdown": [
       "lambda1\n",
       ":   0.199135448176597lambda2\n",
       ":   0.199135448176597mu1\n",
       ":   0.113500073989751mu2\n",
       ":   0.113500073989751q12\n",
       ":   0.0171270748373692q21\n",
       ":   0.0171270748373692\n",
       "\n"
      ],
      "text/plain": [
       "   lambda1    lambda2        mu1        mu2        q12        q21 \n",
       "0.19913545 0.19913545 0.11350007 0.11350007 0.01712707 0.01712707 "
      ]
     },
     "metadata": {},
     "output_type": "display_data"
    }
   ],
   "source": [
    "p"
   ]
  },
  {
   "cell_type": "code",
   "execution_count": 87,
   "metadata": {},
   "outputs": [
    {
     "data": {
      "text/html": [
       "<style>\n",
       ".dl-inline {width: auto; margin:0; padding: 0}\n",
       ".dl-inline>dt, .dl-inline>dd {float: none; width: auto; display: inline-block}\n",
       ".dl-inline>dt::after {content: \":\\0020\"; padding-right: .5ex}\n",
       ".dl-inline>dt:not(:first-of-type) {padding-left: .5ex}\n",
       "</style><dl class=dl-inline><dt>lambda1</dt><dd>0.468792037415534</dd><dt>lambda2</dt><dd>0.181379993355533</dd><dt>mu1</dt><dd>1.50794898831096e-07</dd><dt>mu2</dt><dd>0.14753496924222</dd><dt>q12</dt><dd>0.535525227676553</dd><dt>q21</dt><dd>0.0094663380072294</dd></dl>\n"
      ],
      "text/latex": [
       "\\begin{description*}\n",
       "\\item[lambda1] 0.468792037415534\n",
       "\\item[lambda2] 0.181379993355533\n",
       "\\item[mu1] 1.50794898831096e-07\n",
       "\\item[mu2] 0.14753496924222\n",
       "\\item[q12] 0.535525227676553\n",
       "\\item[q21] 0.0094663380072294\n",
       "\\end{description*}\n"
      ],
      "text/markdown": [
       "lambda1\n",
       ":   0.468792037415534lambda2\n",
       ":   0.181379993355533mu1\n",
       ":   1.50794898831096e-07mu2\n",
       ":   0.14753496924222q12\n",
       ":   0.535525227676553q21\n",
       ":   0.0094663380072294\n",
       "\n"
      ],
      "text/plain": [
       "     lambda1      lambda2          mu1          mu2          q12          q21 \n",
       "4.687920e-01 1.813800e-01 1.507949e-07 1.475350e-01 5.355252e-01 9.466338e-03 "
      ]
     },
     "metadata": {},
     "output_type": "display_data"
    }
   ],
   "source": [
    "best_fit$par"
   ]
  },
  {
   "cell_type": "code",
   "execution_count": 99,
   "metadata": {},
   "outputs": [
    {
     "data": {
      "text/html": [
       "<style>\n",
       ".dl-inline {width: auto; margin:0; padding: 0}\n",
       ".dl-inline>dt, .dl-inline>dd {float: none; width: auto; display: inline-block}\n",
       ".dl-inline>dt::after {content: \":\\0020\"; padding-right: .5ex}\n",
       ".dl-inline>dt:not(:first-of-type) {padding-left: .5ex}\n",
       "</style><dl class=dl-inline><dt>lambda1</dt><dd>0.199135448176597</dd><dt>lambda2</dt><dd>0.199135448176597</dd><dt>mu1</dt><dd>0.113500073989751</dd><dt>mu2</dt><dd>0.113500073989751</dd><dt>q12</dt><dd>0.0171270748373692</dd><dt>q21</dt><dd>0.0171270748373692</dd></dl>\n"
      ],
      "text/latex": [
       "\\begin{description*}\n",
       "\\item[lambda1] 0.199135448176597\n",
       "\\item[lambda2] 0.199135448176597\n",
       "\\item[mu1] 0.113500073989751\n",
       "\\item[mu2] 0.113500073989751\n",
       "\\item[q12] 0.0171270748373692\n",
       "\\item[q21] 0.0171270748373692\n",
       "\\end{description*}\n"
      ],
      "text/markdown": [
       "lambda1\n",
       ":   0.199135448176597lambda2\n",
       ":   0.199135448176597mu1\n",
       ":   0.113500073989751mu2\n",
       ":   0.113500073989751q12\n",
       ":   0.0171270748373692q21\n",
       ":   0.0171270748373692\n",
       "\n"
      ],
      "text/plain": [
       "   lambda1    lambda2        mu1        mu2        q12        q21 \n",
       "0.19913545 0.19913545 0.11350007 0.11350007 0.01712707 0.01712707 "
      ]
     },
     "metadata": {},
     "output_type": "display_data"
    }
   ],
   "source": [
    "p[c(1,2,3,4,5,6)]"
   ]
  },
  {
   "cell_type": "code",
   "execution_count": 104,
   "metadata": {},
   "outputs": [],
   "source": [
    "par_lambda_range<-c()\n",
    "par_mu_range<-c()\n",
    "par_q_range<-c()\n",
    "for(i in 1:1)\n",
    "#for(i in 1:length(lambda_p_range))\n",
    "{\n",
    "    # the second parameter calling columns in p doesnt need the lambda paramenter because it is drawn from the ranges above\n",
    "    # the rest of the paramenters called from the dataframe depend on the number of free parameters in the best model\n",
    "    # e.g. if the best model merges mu1 and mu2, then only the column showing mu1 is needed\n",
    "    # however, we are passing ONE lambda parameter, kinda assuming the model is merging lambda1 and lambda2\n",
    "    # is this loop combining different lambdas given in lambda_p_range such that we have two lambdas (as in the best model?)\n",
    "    # I added the extra lambda. IT DOES HAVE TO GET THE SAME NUM. OF PARAMETERS AS THE BEST MODEL HAS!\n",
    "    # that means the loop should be combinatorial... :/\n",
    "    fit.i<-find.mle(best_lik, c(lambda_p_range[i],lambda_p_range[i],p[c(3,4,5,6)]))\n",
    "    par_lambda_range<-rbind(par_lambda_range,fit.i$par)\n",
    "\n",
    "#     similar here, I added the second column (lambda2) in the model - it wasnt there. Should I remove it?\n",
    "#     prob. doesnt matter much since lambda1=lambda2, mu1=mu2, and q12=q21\n",
    "    fit.i<-find.mle(best_lik, c(p[c(1,2)],mu_p_range[i],mu_p_range[i],p[c(5,6)]))\n",
    "    par_mu_range<-rbind(par_mu_range,fit.i$par)\n",
    "\n",
    "    fit.j<-find.mle(best_lik, c(p[c(1,2,3,4)], q_p_range[i],q_p_range[i]))\n",
    "    par_q_range<-rbind(par_q_range,fit.j$par)\n",
    "}"
   ]
  },
  {
   "cell_type": "code",
   "execution_count": 105,
   "metadata": {},
   "outputs": [],
   "source": [
    "colnames(par_lambda_range)<-colnames(par_mu_range)<-colnames(par_q_range)<-c(\"lambda1\",\"lambda2\",\"mu1\",\"mu2\",\"q12\",\"q21\")"
   ]
  },
  {
   "cell_type": "code",
   "execution_count": 106,
   "metadata": {},
   "outputs": [
    {
     "data": {
      "text/html": [
       "<table class=\"dataframe\">\n",
       "<caption>A matrix: 1 × 6 of type dbl</caption>\n",
       "<thead>\n",
       "\t<tr><th scope=col>lambda1</th><th scope=col>lambda2</th><th scope=col>mu1</th><th scope=col>mu2</th><th scope=col>q12</th><th scope=col>q21</th></tr>\n",
       "</thead>\n",
       "<tbody>\n",
       "\t<tr><td>0.4690606</td><td>0.1813667</td><td>2.239851e-06</td><td>0.1475871</td><td>0.5363675</td><td>0.009499335</td></tr>\n",
       "</tbody>\n",
       "</table>\n"
      ],
      "text/latex": [
       "A matrix: 1 × 6 of type dbl\n",
       "\\begin{tabular}{llllll}\n",
       " lambda1 & lambda2 & mu1 & mu2 & q12 & q21\\\\\n",
       "\\hline\n",
       "\t 0.4690606 & 0.1813667 & 2.239851e-06 & 0.1475871 & 0.5363675 & 0.009499335\\\\\n",
       "\\end{tabular}\n"
      ],
      "text/markdown": [
       "\n",
       "A matrix: 1 × 6 of type dbl\n",
       "\n",
       "| lambda1 | lambda2 | mu1 | mu2 | q12 | q21 |\n",
       "|---|---|---|---|---|---|\n",
       "| 0.4690606 | 0.1813667 | 2.239851e-06 | 0.1475871 | 0.5363675 | 0.009499335 |\n",
       "\n"
      ],
      "text/plain": [
       "     lambda1   lambda2   mu1          mu2       q12       q21        \n",
       "[1,] 0.4690606 0.1813667 2.239851e-06 0.1475871 0.5363675 0.009499335"
      ]
     },
     "metadata": {},
     "output_type": "display_data"
    }
   ],
   "source": [
    "par_lambda_range"
   ]
  },
  {
   "cell_type": "code",
   "execution_count": 107,
   "metadata": {},
   "outputs": [],
   "source": [
    "write.table(par_lambda_range,paste(trait_mod,\"dissVSent_par_lambda_range.txt\",sep=\"_\"),row.names = FALSE)\n",
    "write.table(par_mu_range,paste(trait_mod,\"dissVSent_par_mu_range.txt\",sep=\"_\"),row.names = FALSE)\n",
    "write.table(par_q_range,paste(trait_mod,\"dissVSent_par_q_range.txt\",sep=\"_\"),row.names = FALSE)"
   ]
  },
  {
   "cell_type": "markdown",
   "metadata": {},
   "source": [
    "#### I will deal with the plotting later  if you want"
   ]
  },
  {
   "cell_type": "markdown",
   "metadata": {},
   "source": [
    "----------------\n",
    "# 2- Diversification rate using HiSSE"
   ]
  },
  {
   "cell_type": "code",
   "execution_count": 35,
   "metadata": {},
   "outputs": [
    {
     "name": "stderr",
     "output_type": "stream",
     "text": [
      "Loading required package: deSolve\n",
      "Loading required package: GenSA\n",
      "Loading required package: subplex\n",
      "Loading required package: nloptr\n"
     ]
    }
   ],
   "source": [
    "library(hisse)\n"
   ]
  },
  {
   "cell_type": "code",
   "execution_count": null,
   "metadata": {},
   "outputs": [],
   "source": [
    "0 1\n",
    "\n",
    "A B\n",
    "\n",
    "0A 0B 1A 1B\n",
    "\n"
   ]
  },
  {
   "cell_type": "code",
   "execution_count": 36,
   "metadata": {},
   "outputs": [
    {
     "data": {
      "text/html": [
       "5094"
      ],
      "text/latex": [
       "5094"
      ],
      "text/markdown": [
       "5094"
      ],
      "text/plain": [
       "[1] 5094"
      ]
     },
     "metadata": {},
     "output_type": "display_data"
    }
   ],
   "source": [
    "trait<-dt2[tree$tip.label]-1\n",
    "trait<-cbind(tree$tip.label,trait)\n",
    "rownames(trait)<-tree$tip.label\n",
    "length(trait)"
   ]
  },
  {
   "cell_type": "code",
   "execution_count": 37,
   "metadata": {},
   "outputs": [],
   "source": [
    "#0A != 1A != 0B != 1B\n",
    "turnover.allfree = c(1,2,3,4)\n",
    "eps.allfree = c(1,2,3,4)\n",
    "\n",
    "#0A = 1A != 0B = 1B => div rate difference between hidden states\n",
    "turnover.hidfree = c(1,1,2,2)\n",
    "eps.hidfree = c(1,1,2,2)\n",
    "\n",
    "#0A = 0B != 1A = 1B => div rate difference between observed states\n",
    "turnover.obsfree = c(1,2,1,2)\n",
    "eps.obsfree = c(1,2,1,2)\n",
    "\n",
    "\n",
    "#0A = 0B = 1A = 1B => NO div rate difference at all\n",
    "turnover.allequal = c(1,1,1,1)\n",
    "eps.allequal = c(1,1,1,1)\n"
   ]
  },
  {
   "cell_type": "code",
   "execution_count": 38,
   "metadata": {},
   "outputs": [
    {
     "data": {
      "text/html": [
       "<table>\n",
       "<caption>A matrix: 4 × 4 of type dbl</caption>\n",
       "<thead>\n",
       "\t<tr><th></th><th scope=col>(0A)</th><th scope=col>(1A)</th><th scope=col>(0B)</th><th scope=col>(1B)</th></tr>\n",
       "</thead>\n",
       "<tbody>\n",
       "\t<tr><th scope=row>(0A)</th><td>NA</td><td> 4</td><td> 7</td><td>10</td></tr>\n",
       "\t<tr><th scope=row>(1A)</th><td> 1</td><td>NA</td><td> 8</td><td>11</td></tr>\n",
       "\t<tr><th scope=row>(0B)</th><td> 2</td><td> 5</td><td>NA</td><td>12</td></tr>\n",
       "\t<tr><th scope=row>(1B)</th><td> 3</td><td> 6</td><td> 9</td><td>NA</td></tr>\n",
       "</tbody>\n",
       "</table>\n"
      ],
      "text/latex": [
       "A matrix: 4 × 4 of type dbl\n",
       "\\begin{tabular}{r|llll}\n",
       "  & (0A) & (1A) & (0B) & (1B)\\\\\n",
       "\\hline\n",
       "\t(0A) & NA &  4 &  7 & 10\\\\\n",
       "\t(1A) &  1 & NA &  8 & 11\\\\\n",
       "\t(0B) &  2 &  5 & NA & 12\\\\\n",
       "\t(1B) &  3 &  6 &  9 & NA\\\\\n",
       "\\end{tabular}\n"
      ],
      "text/markdown": [
       "\n",
       "A matrix: 4 × 4 of type dbl\n",
       "\n",
       "| <!--/--> | (0A) | (1A) | (0B) | (1B) |\n",
       "|---|---|---|---|---|\n",
       "| (0A) | NA |  4 |  7 | 10 |\n",
       "| (1A) |  1 | NA |  8 | 11 |\n",
       "| (0B) |  2 |  5 | NA | 12 |\n",
       "| (1B) |  3 |  6 |  9 | NA |\n",
       "\n"
      ],
      "text/plain": [
       "     (0A) (1A) (0B) (1B)\n",
       "(0A) NA    4    7   10  \n",
       "(1A)  1   NA    8   11  \n",
       "(0B)  2    5   NA   12  \n",
       "(1B)  3    6    9   NA  "
      ]
     },
     "metadata": {},
     "output_type": "display_data"
    }
   ],
   "source": [
    "trans.rates = TransMatMaker(hidden.states=TRUE)\n",
    "trans.rates"
   ]
  },
  {
   "cell_type": "code",
   "execution_count": 39,
   "metadata": {},
   "outputs": [
    {
     "data": {
      "text/html": [
       "<table>\n",
       "<caption>A matrix: 4 × 4 of type dbl</caption>\n",
       "<thead>\n",
       "\t<tr><th></th><th scope=col>(0A)</th><th scope=col>(1A)</th><th scope=col>(0B)</th><th scope=col>(1B)</th></tr>\n",
       "</thead>\n",
       "<tbody>\n",
       "\t<tr><th scope=row>(0A)</th><td>NA</td><td> 3</td><td> 5</td><td> 0</td></tr>\n",
       "\t<tr><th scope=row>(1A)</th><td> 1</td><td>NA</td><td> 0</td><td> 7</td></tr>\n",
       "\t<tr><th scope=row>(0B)</th><td> 2</td><td> 0</td><td>NA</td><td> 8</td></tr>\n",
       "\t<tr><th scope=row>(1B)</th><td> 0</td><td> 4</td><td> 6</td><td>NA</td></tr>\n",
       "</tbody>\n",
       "</table>\n"
      ],
      "text/latex": [
       "A matrix: 4 × 4 of type dbl\n",
       "\\begin{tabular}{r|llll}\n",
       "  & (0A) & (1A) & (0B) & (1B)\\\\\n",
       "\\hline\n",
       "\t(0A) & NA &  3 &  5 &  0\\\\\n",
       "\t(1A) &  1 & NA &  0 &  7\\\\\n",
       "\t(0B) &  2 &  0 & NA &  8\\\\\n",
       "\t(1B) &  0 &  4 &  6 & NA\\\\\n",
       "\\end{tabular}\n"
      ],
      "text/markdown": [
       "\n",
       "A matrix: 4 × 4 of type dbl\n",
       "\n",
       "| <!--/--> | (0A) | (1A) | (0B) | (1B) |\n",
       "|---|---|---|---|---|\n",
       "| (0A) | NA |  3 |  5 |  0 |\n",
       "| (1A) |  1 | NA |  0 |  7 |\n",
       "| (0B) |  2 |  0 | NA |  8 |\n",
       "| (1B) |  0 |  4 |  6 | NA |\n",
       "\n"
      ],
      "text/plain": [
       "     (0A) (1A) (0B) (1B)\n",
       "(0A) NA    3    5    0  \n",
       "(1A)  1   NA    0    7  \n",
       "(0B)  2    0   NA    8  \n",
       "(1B)  0    4    6   NA  "
      ]
     },
     "metadata": {},
     "output_type": "display_data"
    }
   ],
   "source": [
    "#remove simultaneous transition of both observed and hidden states\n",
    "trans.rates.nodual = ParDrop(trans.rates, c(3,5,8,10))\n",
    "trans.rates.nodual"
   ]
  },
  {
   "cell_type": "code",
   "execution_count": 40,
   "metadata": {},
   "outputs": [
    {
     "data": {
      "text/html": [
       "<table>\n",
       "<caption>A matrix: 4 × 4 of type dbl</caption>\n",
       "<thead>\n",
       "\t<tr><th></th><th scope=col>(0A)</th><th scope=col>(1A)</th><th scope=col>(0B)</th><th scope=col>(1B)</th></tr>\n",
       "</thead>\n",
       "<tbody>\n",
       "\t<tr><th scope=row>(0A)</th><td>NA</td><td> 1</td><td> 1</td><td> 0</td></tr>\n",
       "\t<tr><th scope=row>(1A)</th><td> 1</td><td>NA</td><td> 0</td><td> 1</td></tr>\n",
       "\t<tr><th scope=row>(0B)</th><td> 1</td><td> 0</td><td>NA</td><td> 1</td></tr>\n",
       "\t<tr><th scope=row>(1B)</th><td> 0</td><td> 1</td><td> 1</td><td>NA</td></tr>\n",
       "</tbody>\n",
       "</table>\n"
      ],
      "text/latex": [
       "A matrix: 4 × 4 of type dbl\n",
       "\\begin{tabular}{r|llll}\n",
       "  & (0A) & (1A) & (0B) & (1B)\\\\\n",
       "\\hline\n",
       "\t(0A) & NA &  1 &  1 &  0\\\\\n",
       "\t(1A) &  1 & NA &  0 &  1\\\\\n",
       "\t(0B) &  1 &  0 & NA &  1\\\\\n",
       "\t(1B) &  0 &  1 &  1 & NA\\\\\n",
       "\\end{tabular}\n"
      ],
      "text/markdown": [
       "\n",
       "A matrix: 4 × 4 of type dbl\n",
       "\n",
       "| <!--/--> | (0A) | (1A) | (0B) | (1B) |\n",
       "|---|---|---|---|---|\n",
       "| (0A) | NA |  1 |  1 |  0 |\n",
       "| (1A) |  1 | NA |  0 |  1 |\n",
       "| (0B) |  1 |  0 | NA |  1 |\n",
       "| (1B) |  0 |  1 |  1 | NA |\n",
       "\n"
      ],
      "text/plain": [
       "     (0A) (1A) (0B) (1B)\n",
       "(0A) NA    1    1    0  \n",
       "(1A)  1   NA    0    1  \n",
       "(0B)  1    0   NA    1  \n",
       "(1B)  0    1    1   NA  "
      ]
     },
     "metadata": {},
     "output_type": "display_data"
    },
    {
     "data": {
      "text/html": [
       "<table>\n",
       "<caption>A matrix: 4 × 4 of type dbl</caption>\n",
       "<thead>\n",
       "\t<tr><th></th><th scope=col>(0A)</th><th scope=col>(1A)</th><th scope=col>(0B)</th><th scope=col>(1B)</th></tr>\n",
       "</thead>\n",
       "<tbody>\n",
       "\t<tr><th scope=row>(0A)</th><td>NA</td><td> 1</td><td> 2</td><td> 0</td></tr>\n",
       "\t<tr><th scope=row>(1A)</th><td> 1</td><td>NA</td><td> 0</td><td> 2</td></tr>\n",
       "\t<tr><th scope=row>(0B)</th><td> 2</td><td> 0</td><td>NA</td><td> 4</td></tr>\n",
       "\t<tr><th scope=row>(1B)</th><td> 0</td><td> 2</td><td> 3</td><td>NA</td></tr>\n",
       "</tbody>\n",
       "</table>\n"
      ],
      "text/latex": [
       "A matrix: 4 × 4 of type dbl\n",
       "\\begin{tabular}{r|llll}\n",
       "  & (0A) & (1A) & (0B) & (1B)\\\\\n",
       "\\hline\n",
       "\t(0A) & NA &  1 &  2 &  0\\\\\n",
       "\t(1A) &  1 & NA &  0 &  2\\\\\n",
       "\t(0B) &  2 &  0 & NA &  4\\\\\n",
       "\t(1B) &  0 &  2 &  3 & NA\\\\\n",
       "\\end{tabular}\n"
      ],
      "text/markdown": [
       "\n",
       "A matrix: 4 × 4 of type dbl\n",
       "\n",
       "| <!--/--> | (0A) | (1A) | (0B) | (1B) |\n",
       "|---|---|---|---|---|\n",
       "| (0A) | NA |  1 |  2 |  0 |\n",
       "| (1A) |  1 | NA |  0 |  2 |\n",
       "| (0B) |  2 |  0 | NA |  4 |\n",
       "| (1B) |  0 |  2 |  3 | NA |\n",
       "\n"
      ],
      "text/plain": [
       "     (0A) (1A) (0B) (1B)\n",
       "(0A) NA    1    2    0  \n",
       "(1A)  1   NA    0    2  \n",
       "(0B)  2    0   NA    4  \n",
       "(1B)  0    2    3   NA  "
      ]
     },
     "metadata": {},
     "output_type": "display_data"
    },
    {
     "data": {
      "text/html": [
       "<table>\n",
       "<caption>A matrix: 4 × 4 of type dbl</caption>\n",
       "<thead>\n",
       "\t<tr><th></th><th scope=col>(0A)</th><th scope=col>(1A)</th><th scope=col>(0B)</th><th scope=col>(1B)</th></tr>\n",
       "</thead>\n",
       "<tbody>\n",
       "\t<tr><th scope=row>(0A)</th><td>NA</td><td> 1</td><td> 2</td><td> 0</td></tr>\n",
       "\t<tr><th scope=row>(1A)</th><td> 1</td><td>NA</td><td> 0</td><td> 2</td></tr>\n",
       "\t<tr><th scope=row>(0B)</th><td> 2</td><td> 0</td><td>NA</td><td> 3</td></tr>\n",
       "\t<tr><th scope=row>(1B)</th><td> 0</td><td> 2</td><td> 3</td><td>NA</td></tr>\n",
       "</tbody>\n",
       "</table>\n"
      ],
      "text/latex": [
       "A matrix: 4 × 4 of type dbl\n",
       "\\begin{tabular}{r|llll}\n",
       "  & (0A) & (1A) & (0B) & (1B)\\\\\n",
       "\\hline\n",
       "\t(0A) & NA &  1 &  2 &  0\\\\\n",
       "\t(1A) &  1 & NA &  0 &  2\\\\\n",
       "\t(0B) &  2 &  0 & NA &  3\\\\\n",
       "\t(1B) &  0 &  2 &  3 & NA\\\\\n",
       "\\end{tabular}\n"
      ],
      "text/markdown": [
       "\n",
       "A matrix: 4 × 4 of type dbl\n",
       "\n",
       "| <!--/--> | (0A) | (1A) | (0B) | (1B) |\n",
       "|---|---|---|---|---|\n",
       "| (0A) | NA |  1 |  2 |  0 |\n",
       "| (1A) |  1 | NA |  0 |  2 |\n",
       "| (0B) |  2 |  0 | NA |  3 |\n",
       "| (1B) |  0 |  2 |  3 | NA |\n",
       "\n"
      ],
      "text/plain": [
       "     (0A) (1A) (0B) (1B)\n",
       "(0A) NA    1    2    0  \n",
       "(1A)  1   NA    0    2  \n",
       "(0B)  2    0   NA    3  \n",
       "(1B)  0    2    3   NA  "
      ]
     },
     "metadata": {},
     "output_type": "display_data"
    },
    {
     "data": {
      "text/html": [
       "<table>\n",
       "<caption>A matrix: 4 × 4 of type dbl</caption>\n",
       "<thead>\n",
       "\t<tr><th></th><th scope=col>(0A)</th><th scope=col>(1A)</th><th scope=col>(0B)</th><th scope=col>(1B)</th></tr>\n",
       "</thead>\n",
       "<tbody>\n",
       "\t<tr><th scope=row>(0A)</th><td>NA</td><td> 3</td><td> 2</td><td> 0</td></tr>\n",
       "\t<tr><th scope=row>(1A)</th><td> 1</td><td>NA</td><td> 0</td><td> 2</td></tr>\n",
       "\t<tr><th scope=row>(0B)</th><td> 2</td><td> 0</td><td>NA</td><td> 4</td></tr>\n",
       "\t<tr><th scope=row>(1B)</th><td> 0</td><td> 2</td><td> 4</td><td>NA</td></tr>\n",
       "</tbody>\n",
       "</table>\n"
      ],
      "text/latex": [
       "A matrix: 4 × 4 of type dbl\n",
       "\\begin{tabular}{r|llll}\n",
       "  & (0A) & (1A) & (0B) & (1B)\\\\\n",
       "\\hline\n",
       "\t(0A) & NA &  3 &  2 &  0\\\\\n",
       "\t(1A) &  1 & NA &  0 &  2\\\\\n",
       "\t(0B) &  2 &  0 & NA &  4\\\\\n",
       "\t(1B) &  0 &  2 &  4 & NA\\\\\n",
       "\\end{tabular}\n"
      ],
      "text/markdown": [
       "\n",
       "A matrix: 4 × 4 of type dbl\n",
       "\n",
       "| <!--/--> | (0A) | (1A) | (0B) | (1B) |\n",
       "|---|---|---|---|---|\n",
       "| (0A) | NA |  3 |  2 |  0 |\n",
       "| (1A) |  1 | NA |  0 |  2 |\n",
       "| (0B) |  2 |  0 | NA |  4 |\n",
       "| (1B) |  0 |  2 |  4 | NA |\n",
       "\n"
      ],
      "text/plain": [
       "     (0A) (1A) (0B) (1B)\n",
       "(0A) NA    3    2    0  \n",
       "(1A)  1   NA    0    2  \n",
       "(0B)  2    0   NA    4  \n",
       "(1B)  0    2    4   NA  "
      ]
     },
     "metadata": {},
     "output_type": "display_data"
    }
   ],
   "source": [
    "trans.rates.nodual.allequal = ParEqual(trans.rates.nodual, c(1,2,1,3,1,4,1,5,1,6,1,7,1,8))\n",
    "trans.rates.nodual.allequal\n",
    "\n",
    "#0A->1A=1A->0A != 0B->1B=1B->0B\n",
    "trans.rates.nodual.1 = ParEqual(trans.rates.nodual, c(1,3))\n",
    "trans.rates.nodual.1.1 = ParEqual(trans.rates.nodual.1, c(2,3,2,4,2,6))\n",
    "trans.rates.nodual.1.1\n",
    "\n",
    "trans.rates.nodual.1.2 = ParEqual(trans.rates.nodual.1.1, c(3,4))\n",
    "trans.rates.nodual.1.2\n",
    "\n",
    "trans.rates.nodual.1.3 = ParEqual(trans.rates.nodual, c(2,4,2,5,2,7))\n",
    "trans.rates.nodual.1.4 = ParEqual(trans.rates.nodual.1.3, c(4,5))\n",
    "trans.rates.nodual.1.4\n"
   ]
  },
  {
   "cell_type": "code",
   "execution_count": 41,
   "metadata": {},
   "outputs": [],
   "source": [
    "#0A->0B=0B->0A != 1A->1B=1B->1A\n",
    "#trans.rates.nodual.2 = ParEqual(trans.rates.nodual, c(2,5))\n",
    "#trans.rates.nodual.2 = ParEqual(trans.rates.nodual.2, c(1,3,1,5,1,7))\n",
    "#trans.rates.nodual.2 = ParEqual(trans.rates.nodual.2, c(3,4))\n",
    "#trans.rates.nodual.2"
   ]
  },
  {
   "cell_type": "code",
   "execution_count": 42,
   "metadata": {},
   "outputs": [
    {
     "data": {
      "text/html": [
       "<table>\n",
       "<caption>A matrix: 4 × 4 of type dbl</caption>\n",
       "<thead>\n",
       "\t<tr><th></th><th scope=col>(0A)</th><th scope=col>(1A)</th><th scope=col>(0B)</th><th scope=col>(1B)</th></tr>\n",
       "</thead>\n",
       "<tbody>\n",
       "\t<tr><th scope=row>(0A)</th><td>NA</td><td> 1</td><td> 1</td><td> 0</td></tr>\n",
       "\t<tr><th scope=row>(1A)</th><td> 1</td><td>NA</td><td> 0</td><td> 1</td></tr>\n",
       "\t<tr><th scope=row>(0B)</th><td> 1</td><td> 0</td><td>NA</td><td> 2</td></tr>\n",
       "\t<tr><th scope=row>(1B)</th><td> 0</td><td> 1</td><td> 1</td><td>NA</td></tr>\n",
       "</tbody>\n",
       "</table>\n"
      ],
      "text/latex": [
       "A matrix: 4 × 4 of type dbl\n",
       "\\begin{tabular}{r|llll}\n",
       "  & (0A) & (1A) & (0B) & (1B)\\\\\n",
       "\\hline\n",
       "\t(0A) & NA &  1 &  1 &  0\\\\\n",
       "\t(1A) &  1 & NA &  0 &  1\\\\\n",
       "\t(0B) &  1 &  0 & NA &  2\\\\\n",
       "\t(1B) &  0 &  1 &  1 & NA\\\\\n",
       "\\end{tabular}\n"
      ],
      "text/markdown": [
       "\n",
       "A matrix: 4 × 4 of type dbl\n",
       "\n",
       "| <!--/--> | (0A) | (1A) | (0B) | (1B) |\n",
       "|---|---|---|---|---|\n",
       "| (0A) | NA |  1 |  1 |  0 |\n",
       "| (1A) |  1 | NA |  0 |  1 |\n",
       "| (0B) |  1 |  0 | NA |  2 |\n",
       "| (1B) |  0 |  1 |  1 | NA |\n",
       "\n"
      ],
      "text/plain": [
       "     (0A) (1A) (0B) (1B)\n",
       "(0A) NA    1    1    0  \n",
       "(1A)  1   NA    0    1  \n",
       "(0B)  1    0   NA    2  \n",
       "(1B)  0    1    1   NA  "
      ]
     },
     "metadata": {},
     "output_type": "display_data"
    },
    {
     "data": {
      "text/html": [
       "<table>\n",
       "<caption>A matrix: 4 × 4 of type dbl</caption>\n",
       "<thead>\n",
       "\t<tr><th></th><th scope=col>(0A)</th><th scope=col>(1A)</th><th scope=col>(0B)</th><th scope=col>(1B)</th></tr>\n",
       "</thead>\n",
       "<tbody>\n",
       "\t<tr><th scope=row>(0A)</th><td>NA</td><td> 1</td><td> 1</td><td> 0</td></tr>\n",
       "\t<tr><th scope=row>(1A)</th><td> 1</td><td>NA</td><td> 0</td><td> 1</td></tr>\n",
       "\t<tr><th scope=row>(0B)</th><td> 1</td><td> 0</td><td>NA</td><td> 1</td></tr>\n",
       "\t<tr><th scope=row>(1B)</th><td> 0</td><td> 1</td><td> 2</td><td>NA</td></tr>\n",
       "</tbody>\n",
       "</table>\n"
      ],
      "text/latex": [
       "A matrix: 4 × 4 of type dbl\n",
       "\\begin{tabular}{r|llll}\n",
       "  & (0A) & (1A) & (0B) & (1B)\\\\\n",
       "\\hline\n",
       "\t(0A) & NA &  1 &  1 &  0\\\\\n",
       "\t(1A) &  1 & NA &  0 &  1\\\\\n",
       "\t(0B) &  1 &  0 & NA &  1\\\\\n",
       "\t(1B) &  0 &  1 &  2 & NA\\\\\n",
       "\\end{tabular}\n"
      ],
      "text/markdown": [
       "\n",
       "A matrix: 4 × 4 of type dbl\n",
       "\n",
       "| <!--/--> | (0A) | (1A) | (0B) | (1B) |\n",
       "|---|---|---|---|---|\n",
       "| (0A) | NA |  1 |  1 |  0 |\n",
       "| (1A) |  1 | NA |  0 |  1 |\n",
       "| (0B) |  1 |  0 | NA |  1 |\n",
       "| (1B) |  0 |  1 |  2 | NA |\n",
       "\n"
      ],
      "text/plain": [
       "     (0A) (1A) (0B) (1B)\n",
       "(0A) NA    1    1    0  \n",
       "(1A)  1   NA    0    1  \n",
       "(0B)  1    0   NA    1  \n",
       "(1B)  0    1    2   NA  "
      ]
     },
     "metadata": {},
     "output_type": "display_data"
    },
    {
     "data": {
      "text/html": [
       "<table>\n",
       "<caption>A matrix: 4 × 4 of type dbl</caption>\n",
       "<thead>\n",
       "\t<tr><th></th><th scope=col>(0A)</th><th scope=col>(1A)</th><th scope=col>(0B)</th><th scope=col>(1B)</th></tr>\n",
       "</thead>\n",
       "<tbody>\n",
       "\t<tr><th scope=row>(0A)</th><td>NA</td><td> 2</td><td> 1</td><td> 0</td></tr>\n",
       "\t<tr><th scope=row>(1A)</th><td> 1</td><td>NA</td><td> 0</td><td> 1</td></tr>\n",
       "\t<tr><th scope=row>(0B)</th><td> 1</td><td> 0</td><td>NA</td><td> 1</td></tr>\n",
       "\t<tr><th scope=row>(1B)</th><td> 0</td><td> 1</td><td> 1</td><td>NA</td></tr>\n",
       "</tbody>\n",
       "</table>\n"
      ],
      "text/latex": [
       "A matrix: 4 × 4 of type dbl\n",
       "\\begin{tabular}{r|llll}\n",
       "  & (0A) & (1A) & (0B) & (1B)\\\\\n",
       "\\hline\n",
       "\t(0A) & NA &  2 &  1 &  0\\\\\n",
       "\t(1A) &  1 & NA &  0 &  1\\\\\n",
       "\t(0B) &  1 &  0 & NA &  1\\\\\n",
       "\t(1B) &  0 &  1 &  1 & NA\\\\\n",
       "\\end{tabular}\n"
      ],
      "text/markdown": [
       "\n",
       "A matrix: 4 × 4 of type dbl\n",
       "\n",
       "| <!--/--> | (0A) | (1A) | (0B) | (1B) |\n",
       "|---|---|---|---|---|\n",
       "| (0A) | NA |  2 |  1 |  0 |\n",
       "| (1A) |  1 | NA |  0 |  1 |\n",
       "| (0B) |  1 |  0 | NA |  1 |\n",
       "| (1B) |  0 |  1 |  1 | NA |\n",
       "\n"
      ],
      "text/plain": [
       "     (0A) (1A) (0B) (1B)\n",
       "(0A) NA    2    1    0  \n",
       "(1A)  1   NA    0    1  \n",
       "(0B)  1    0   NA    1  \n",
       "(1B)  0    1    1   NA  "
      ]
     },
     "metadata": {},
     "output_type": "display_data"
    },
    {
     "data": {
      "text/html": [
       "<table>\n",
       "<caption>A matrix: 4 × 4 of type dbl</caption>\n",
       "<thead>\n",
       "\t<tr><th></th><th scope=col>(0A)</th><th scope=col>(1A)</th><th scope=col>(0B)</th><th scope=col>(1B)</th></tr>\n",
       "</thead>\n",
       "<tbody>\n",
       "\t<tr><th scope=row>(0A)</th><td>NA</td><td> 2</td><td> 2</td><td> 0</td></tr>\n",
       "\t<tr><th scope=row>(1A)</th><td> 1</td><td>NA</td><td> 0</td><td> 2</td></tr>\n",
       "\t<tr><th scope=row>(0B)</th><td> 2</td><td> 0</td><td>NA</td><td> 2</td></tr>\n",
       "\t<tr><th scope=row>(1B)</th><td> 0</td><td> 2</td><td> 2</td><td>NA</td></tr>\n",
       "</tbody>\n",
       "</table>\n"
      ],
      "text/latex": [
       "A matrix: 4 × 4 of type dbl\n",
       "\\begin{tabular}{r|llll}\n",
       "  & (0A) & (1A) & (0B) & (1B)\\\\\n",
       "\\hline\n",
       "\t(0A) & NA &  2 &  2 &  0\\\\\n",
       "\t(1A) &  1 & NA &  0 &  2\\\\\n",
       "\t(0B) &  2 &  0 & NA &  2\\\\\n",
       "\t(1B) &  0 &  2 &  2 & NA\\\\\n",
       "\\end{tabular}\n"
      ],
      "text/markdown": [
       "\n",
       "A matrix: 4 × 4 of type dbl\n",
       "\n",
       "| <!--/--> | (0A) | (1A) | (0B) | (1B) |\n",
       "|---|---|---|---|---|\n",
       "| (0A) | NA |  2 |  2 |  0 |\n",
       "| (1A) |  1 | NA |  0 |  2 |\n",
       "| (0B) |  2 |  0 | NA |  2 |\n",
       "| (1B) |  0 |  2 |  2 | NA |\n",
       "\n"
      ],
      "text/plain": [
       "     (0A) (1A) (0B) (1B)\n",
       "(0A) NA    2    2    0  \n",
       "(1A)  1   NA    0    2  \n",
       "(0B)  2    0   NA    2  \n",
       "(1B)  0    2    2   NA  "
      ]
     },
     "metadata": {},
     "output_type": "display_data"
    }
   ],
   "source": [
    "trans.rates.nodual.allequal = ParEqual(trans.rates.nodual, c(1,2,1,3,1,4,1,5,1,6,1,7,1,8))\n",
    "\n",
    "#1 free transition models\n",
    "trans.rates.nodual.3 = ParEqual(trans.rates.nodual, c(1,2,1,3,1,4,1,5,1,6,1,7))\n",
    "trans.rates.nodual.3\n",
    "trans.rates.nodual.4 = ParEqual(trans.rates.nodual, c(1,2,1,3,1,4,1,5,1,7,1,8))\n",
    "trans.rates.nodual.4\n",
    "trans.rates.nodual.5 = ParEqual(trans.rates.nodual, c(1,2,1,4,1,5,1,6,1,7,1,8))\n",
    "trans.rates.nodual.5\n",
    "trans.rates.nodual.6 = ParEqual(trans.rates.nodual, c(2,3,2,4,2,5,2,6,2,7,2,8))\n",
    "trans.rates.nodual.6"
   ]
  },
  {
   "cell_type": "code",
   "execution_count": 43,
   "metadata": {},
   "outputs": [
    {
     "data": {
      "text/html": [
       "<table>\n",
       "<caption>A matrix: 4 × 4 of type dbl</caption>\n",
       "<thead>\n",
       "\t<tr><th></th><th scope=col>(0A)</th><th scope=col>(1A)</th><th scope=col>(0B)</th><th scope=col>(1B)</th></tr>\n",
       "</thead>\n",
       "<tbody>\n",
       "\t<tr><th scope=row>(0A)</th><td>NA</td><td> 1</td><td> 1</td><td> 0</td></tr>\n",
       "\t<tr><th scope=row>(1A)</th><td> 1</td><td>NA</td><td> 0</td><td> 1</td></tr>\n",
       "\t<tr><th scope=row>(0B)</th><td> 1</td><td> 0</td><td>NA</td><td> 3</td></tr>\n",
       "\t<tr><th scope=row>(1B)</th><td> 0</td><td> 1</td><td> 2</td><td>NA</td></tr>\n",
       "</tbody>\n",
       "</table>\n"
      ],
      "text/latex": [
       "A matrix: 4 × 4 of type dbl\n",
       "\\begin{tabular}{r|llll}\n",
       "  & (0A) & (1A) & (0B) & (1B)\\\\\n",
       "\\hline\n",
       "\t(0A) & NA &  1 &  1 &  0\\\\\n",
       "\t(1A) &  1 & NA &  0 &  1\\\\\n",
       "\t(0B) &  1 &  0 & NA &  3\\\\\n",
       "\t(1B) &  0 &  1 &  2 & NA\\\\\n",
       "\\end{tabular}\n"
      ],
      "text/markdown": [
       "\n",
       "A matrix: 4 × 4 of type dbl\n",
       "\n",
       "| <!--/--> | (0A) | (1A) | (0B) | (1B) |\n",
       "|---|---|---|---|---|\n",
       "| (0A) | NA |  1 |  1 |  0 |\n",
       "| (1A) |  1 | NA |  0 |  1 |\n",
       "| (0B) |  1 |  0 | NA |  3 |\n",
       "| (1B) |  0 |  1 |  2 | NA |\n",
       "\n"
      ],
      "text/plain": [
       "     (0A) (1A) (0B) (1B)\n",
       "(0A) NA    1    1    0  \n",
       "(1A)  1   NA    0    1  \n",
       "(0B)  1    0   NA    3  \n",
       "(1B)  0    1    2   NA  "
      ]
     },
     "metadata": {},
     "output_type": "display_data"
    },
    {
     "data": {
      "text/html": [
       "<table>\n",
       "<caption>A matrix: 4 × 4 of type dbl</caption>\n",
       "<thead>\n",
       "\t<tr><th></th><th scope=col>(0A)</th><th scope=col>(1A)</th><th scope=col>(0B)</th><th scope=col>(1B)</th></tr>\n",
       "</thead>\n",
       "<tbody>\n",
       "\t<tr><th scope=row>(0A)</th><td>NA</td><td> 2</td><td> 1</td><td> 0</td></tr>\n",
       "\t<tr><th scope=row>(1A)</th><td> 1</td><td>NA</td><td> 0</td><td> 1</td></tr>\n",
       "\t<tr><th scope=row>(0B)</th><td> 1</td><td> 0</td><td>NA</td><td> 3</td></tr>\n",
       "\t<tr><th scope=row>(1B)</th><td> 0</td><td> 1</td><td> 1</td><td>NA</td></tr>\n",
       "</tbody>\n",
       "</table>\n"
      ],
      "text/latex": [
       "A matrix: 4 × 4 of type dbl\n",
       "\\begin{tabular}{r|llll}\n",
       "  & (0A) & (1A) & (0B) & (1B)\\\\\n",
       "\\hline\n",
       "\t(0A) & NA &  2 &  1 &  0\\\\\n",
       "\t(1A) &  1 & NA &  0 &  1\\\\\n",
       "\t(0B) &  1 &  0 & NA &  3\\\\\n",
       "\t(1B) &  0 &  1 &  1 & NA\\\\\n",
       "\\end{tabular}\n"
      ],
      "text/markdown": [
       "\n",
       "A matrix: 4 × 4 of type dbl\n",
       "\n",
       "| <!--/--> | (0A) | (1A) | (0B) | (1B) |\n",
       "|---|---|---|---|---|\n",
       "| (0A) | NA |  2 |  1 |  0 |\n",
       "| (1A) |  1 | NA |  0 |  1 |\n",
       "| (0B) |  1 |  0 | NA |  3 |\n",
       "| (1B) |  0 |  1 |  1 | NA |\n",
       "\n"
      ],
      "text/plain": [
       "     (0A) (1A) (0B) (1B)\n",
       "(0A) NA    2    1    0  \n",
       "(1A)  1   NA    0    1  \n",
       "(0B)  1    0   NA    3  \n",
       "(1B)  0    1    1   NA  "
      ]
     },
     "metadata": {},
     "output_type": "display_data"
    },
    {
     "data": {
      "text/html": [
       "<table>\n",
       "<caption>A matrix: 4 × 4 of type dbl</caption>\n",
       "<thead>\n",
       "\t<tr><th></th><th scope=col>(0A)</th><th scope=col>(1A)</th><th scope=col>(0B)</th><th scope=col>(1B)</th></tr>\n",
       "</thead>\n",
       "<tbody>\n",
       "\t<tr><th scope=row>(0A)</th><td>NA</td><td> 2</td><td> 2</td><td> 0</td></tr>\n",
       "\t<tr><th scope=row>(1A)</th><td> 1</td><td>NA</td><td> 0</td><td> 2</td></tr>\n",
       "\t<tr><th scope=row>(0B)</th><td> 2</td><td> 0</td><td>NA</td><td> 3</td></tr>\n",
       "\t<tr><th scope=row>(1B)</th><td> 0</td><td> 2</td><td> 2</td><td>NA</td></tr>\n",
       "</tbody>\n",
       "</table>\n"
      ],
      "text/latex": [
       "A matrix: 4 × 4 of type dbl\n",
       "\\begin{tabular}{r|llll}\n",
       "  & (0A) & (1A) & (0B) & (1B)\\\\\n",
       "\\hline\n",
       "\t(0A) & NA &  2 &  2 &  0\\\\\n",
       "\t(1A) &  1 & NA &  0 &  2\\\\\n",
       "\t(0B) &  2 &  0 & NA &  3\\\\\n",
       "\t(1B) &  0 &  2 &  2 & NA\\\\\n",
       "\\end{tabular}\n"
      ],
      "text/markdown": [
       "\n",
       "A matrix: 4 × 4 of type dbl\n",
       "\n",
       "| <!--/--> | (0A) | (1A) | (0B) | (1B) |\n",
       "|---|---|---|---|---|\n",
       "| (0A) | NA |  2 |  2 |  0 |\n",
       "| (1A) |  1 | NA |  0 |  2 |\n",
       "| (0B) |  2 |  0 | NA |  3 |\n",
       "| (1B) |  0 |  2 |  2 | NA |\n",
       "\n"
      ],
      "text/plain": [
       "     (0A) (1A) (0B) (1B)\n",
       "(0A) NA    2    2    0  \n",
       "(1A)  1   NA    0    2  \n",
       "(0B)  2    0   NA    3  \n",
       "(1B)  0    2    2   NA  "
      ]
     },
     "metadata": {},
     "output_type": "display_data"
    },
    {
     "data": {
      "text/html": [
       "<table>\n",
       "<caption>A matrix: 4 × 4 of type dbl</caption>\n",
       "<thead>\n",
       "\t<tr><th></th><th scope=col>(0A)</th><th scope=col>(1A)</th><th scope=col>(0B)</th><th scope=col>(1B)</th></tr>\n",
       "</thead>\n",
       "<tbody>\n",
       "\t<tr><th scope=row>(0A)</th><td>NA</td><td> 2</td><td> 1</td><td> 0</td></tr>\n",
       "\t<tr><th scope=row>(1A)</th><td> 1</td><td>NA</td><td> 0</td><td> 1</td></tr>\n",
       "\t<tr><th scope=row>(0B)</th><td> 1</td><td> 0</td><td>NA</td><td> 1</td></tr>\n",
       "\t<tr><th scope=row>(1B)</th><td> 0</td><td> 1</td><td> 3</td><td>NA</td></tr>\n",
       "</tbody>\n",
       "</table>\n"
      ],
      "text/latex": [
       "A matrix: 4 × 4 of type dbl\n",
       "\\begin{tabular}{r|llll}\n",
       "  & (0A) & (1A) & (0B) & (1B)\\\\\n",
       "\\hline\n",
       "\t(0A) & NA &  2 &  1 &  0\\\\\n",
       "\t(1A) &  1 & NA &  0 &  1\\\\\n",
       "\t(0B) &  1 &  0 & NA &  1\\\\\n",
       "\t(1B) &  0 &  1 &  3 & NA\\\\\n",
       "\\end{tabular}\n"
      ],
      "text/markdown": [
       "\n",
       "A matrix: 4 × 4 of type dbl\n",
       "\n",
       "| <!--/--> | (0A) | (1A) | (0B) | (1B) |\n",
       "|---|---|---|---|---|\n",
       "| (0A) | NA |  2 |  1 |  0 |\n",
       "| (1A) |  1 | NA |  0 |  1 |\n",
       "| (0B) |  1 |  0 | NA |  1 |\n",
       "| (1B) |  0 |  1 |  3 | NA |\n",
       "\n"
      ],
      "text/plain": [
       "     (0A) (1A) (0B) (1B)\n",
       "(0A) NA    2    1    0  \n",
       "(1A)  1   NA    0    1  \n",
       "(0B)  1    0   NA    1  \n",
       "(1B)  0    1    3   NA  "
      ]
     },
     "metadata": {},
     "output_type": "display_data"
    },
    {
     "data": {
      "text/html": [
       "<table>\n",
       "<caption>A matrix: 4 × 4 of type dbl</caption>\n",
       "<thead>\n",
       "\t<tr><th></th><th scope=col>(0A)</th><th scope=col>(1A)</th><th scope=col>(0B)</th><th scope=col>(1B)</th></tr>\n",
       "</thead>\n",
       "<tbody>\n",
       "\t<tr><th scope=row>(0A)</th><td>NA</td><td> 2</td><td> 2</td><td> 0</td></tr>\n",
       "\t<tr><th scope=row>(1A)</th><td> 1</td><td>NA</td><td> 0</td><td> 2</td></tr>\n",
       "\t<tr><th scope=row>(0B)</th><td> 2</td><td> 0</td><td>NA</td><td> 2</td></tr>\n",
       "\t<tr><th scope=row>(1B)</th><td> 0</td><td> 2</td><td> 3</td><td>NA</td></tr>\n",
       "</tbody>\n",
       "</table>\n"
      ],
      "text/latex": [
       "A matrix: 4 × 4 of type dbl\n",
       "\\begin{tabular}{r|llll}\n",
       "  & (0A) & (1A) & (0B) & (1B)\\\\\n",
       "\\hline\n",
       "\t(0A) & NA &  2 &  2 &  0\\\\\n",
       "\t(1A) &  1 & NA &  0 &  2\\\\\n",
       "\t(0B) &  2 &  0 & NA &  2\\\\\n",
       "\t(1B) &  0 &  2 &  3 & NA\\\\\n",
       "\\end{tabular}\n"
      ],
      "text/markdown": [
       "\n",
       "A matrix: 4 × 4 of type dbl\n",
       "\n",
       "| <!--/--> | (0A) | (1A) | (0B) | (1B) |\n",
       "|---|---|---|---|---|\n",
       "| (0A) | NA |  2 |  2 |  0 |\n",
       "| (1A) |  1 | NA |  0 |  2 |\n",
       "| (0B) |  2 |  0 | NA |  2 |\n",
       "| (1B) |  0 |  2 |  3 | NA |\n",
       "\n"
      ],
      "text/plain": [
       "     (0A) (1A) (0B) (1B)\n",
       "(0A) NA    2    2    0  \n",
       "(1A)  1   NA    0    2  \n",
       "(0B)  2    0   NA    2  \n",
       "(1B)  0    2    3   NA  "
      ]
     },
     "metadata": {},
     "output_type": "display_data"
    },
    {
     "data": {
      "text/html": [
       "<table>\n",
       "<caption>A matrix: 4 × 4 of type dbl</caption>\n",
       "<thead>\n",
       "\t<tr><th></th><th scope=col>(0A)</th><th scope=col>(1A)</th><th scope=col>(0B)</th><th scope=col>(1B)</th></tr>\n",
       "</thead>\n",
       "<tbody>\n",
       "\t<tr><th scope=row>(0A)</th><td>NA</td><td> 3</td><td> 2</td><td> 0</td></tr>\n",
       "\t<tr><th scope=row>(1A)</th><td> 1</td><td>NA</td><td> 0</td><td> 2</td></tr>\n",
       "\t<tr><th scope=row>(0B)</th><td> 2</td><td> 0</td><td>NA</td><td> 2</td></tr>\n",
       "\t<tr><th scope=row>(1B)</th><td> 0</td><td> 2</td><td> 2</td><td>NA</td></tr>\n",
       "</tbody>\n",
       "</table>\n"
      ],
      "text/latex": [
       "A matrix: 4 × 4 of type dbl\n",
       "\\begin{tabular}{r|llll}\n",
       "  & (0A) & (1A) & (0B) & (1B)\\\\\n",
       "\\hline\n",
       "\t(0A) & NA &  3 &  2 &  0\\\\\n",
       "\t(1A) &  1 & NA &  0 &  2\\\\\n",
       "\t(0B) &  2 &  0 & NA &  2\\\\\n",
       "\t(1B) &  0 &  2 &  2 & NA\\\\\n",
       "\\end{tabular}\n"
      ],
      "text/markdown": [
       "\n",
       "A matrix: 4 × 4 of type dbl\n",
       "\n",
       "| <!--/--> | (0A) | (1A) | (0B) | (1B) |\n",
       "|---|---|---|---|---|\n",
       "| (0A) | NA |  3 |  2 |  0 |\n",
       "| (1A) |  1 | NA |  0 |  2 |\n",
       "| (0B) |  2 |  0 | NA |  2 |\n",
       "| (1B) |  0 |  2 |  2 | NA |\n",
       "\n"
      ],
      "text/plain": [
       "     (0A) (1A) (0B) (1B)\n",
       "(0A) NA    3    2    0  \n",
       "(1A)  1   NA    0    2  \n",
       "(0B)  2    0   NA    2  \n",
       "(1B)  0    2    2   NA  "
      ]
     },
     "metadata": {},
     "output_type": "display_data"
    }
   ],
   "source": [
    "#2 free transition models\n",
    "trans.rates.nodual.7 = ParEqual(trans.rates.nodual, c(1,2,1,3,1,4,1,5,1,7))\n",
    "trans.rates.nodual.7\n",
    "trans.rates.nodual.8 = ParEqual(trans.rates.nodual, c(1,2,1,4,1,5,1,6,1,7))\n",
    "trans.rates.nodual.8\n",
    "trans.rates.nodual.9 = ParEqual(trans.rates.nodual, c(2,3,2,4,2,5,2,6,2,7))\n",
    "trans.rates.nodual.9\n",
    "\n",
    "trans.rates.nodual.10 = ParEqual(trans.rates.nodual, c(1,2,1,4,1,5,1,7,1,8))\n",
    "trans.rates.nodual.10\n",
    "trans.rates.nodual.11 = ParEqual(trans.rates.nodual, c(2,3,2,4,2,5,2,7,2,8))\n",
    "trans.rates.nodual.11\n",
    "\n",
    "trans.rates.nodual.12 = ParEqual(trans.rates.nodual, c(2,4,2,5,2,6,2,7,2,8))\n",
    "trans.rates.nodual.12"
   ]
  },
  {
   "cell_type": "code",
   "execution_count": 44,
   "metadata": {},
   "outputs": [
    {
     "data": {
      "text/html": [
       "<table>\n",
       "<caption>A matrix: 4 × 4 of type dbl</caption>\n",
       "<thead>\n",
       "\t<tr><th></th><th scope=col>(0A)</th><th scope=col>(1A)</th><th scope=col>(0B)</th><th scope=col>(1B)</th></tr>\n",
       "</thead>\n",
       "<tbody>\n",
       "\t<tr><th scope=row>(0A)</th><td>NA</td><td> 2</td><td> 1</td><td> 0</td></tr>\n",
       "\t<tr><th scope=row>(1A)</th><td> 1</td><td>NA</td><td> 0</td><td> 1</td></tr>\n",
       "\t<tr><th scope=row>(0B)</th><td> 1</td><td> 0</td><td>NA</td><td> 4</td></tr>\n",
       "\t<tr><th scope=row>(1B)</th><td> 0</td><td> 1</td><td> 3</td><td>NA</td></tr>\n",
       "</tbody>\n",
       "</table>\n"
      ],
      "text/latex": [
       "A matrix: 4 × 4 of type dbl\n",
       "\\begin{tabular}{r|llll}\n",
       "  & (0A) & (1A) & (0B) & (1B)\\\\\n",
       "\\hline\n",
       "\t(0A) & NA &  2 &  1 &  0\\\\\n",
       "\t(1A) &  1 & NA &  0 &  1\\\\\n",
       "\t(0B) &  1 &  0 & NA &  4\\\\\n",
       "\t(1B) &  0 &  1 &  3 & NA\\\\\n",
       "\\end{tabular}\n"
      ],
      "text/markdown": [
       "\n",
       "A matrix: 4 × 4 of type dbl\n",
       "\n",
       "| <!--/--> | (0A) | (1A) | (0B) | (1B) |\n",
       "|---|---|---|---|---|\n",
       "| (0A) | NA |  2 |  1 |  0 |\n",
       "| (1A) |  1 | NA |  0 |  1 |\n",
       "| (0B) |  1 |  0 | NA |  4 |\n",
       "| (1B) |  0 |  1 |  3 | NA |\n",
       "\n"
      ],
      "text/plain": [
       "     (0A) (1A) (0B) (1B)\n",
       "(0A) NA    2    1    0  \n",
       "(1A)  1   NA    0    1  \n",
       "(0B)  1    0   NA    4  \n",
       "(1B)  0    1    3   NA  "
      ]
     },
     "metadata": {},
     "output_type": "display_data"
    },
    {
     "data": {
      "text/html": [
       "<table>\n",
       "<caption>A matrix: 4 × 4 of type dbl</caption>\n",
       "<thead>\n",
       "\t<tr><th></th><th scope=col>(0A)</th><th scope=col>(1A)</th><th scope=col>(0B)</th><th scope=col>(1B)</th></tr>\n",
       "</thead>\n",
       "<tbody>\n",
       "\t<tr><th scope=row>(0A)</th><td>NA</td><td> 2</td><td> 2</td><td> 0</td></tr>\n",
       "\t<tr><th scope=row>(1A)</th><td> 1</td><td>NA</td><td> 0</td><td> 2</td></tr>\n",
       "\t<tr><th scope=row>(0B)</th><td> 2</td><td> 0</td><td>NA</td><td> 4</td></tr>\n",
       "\t<tr><th scope=row>(1B)</th><td> 0</td><td> 2</td><td> 3</td><td>NA</td></tr>\n",
       "</tbody>\n",
       "</table>\n"
      ],
      "text/latex": [
       "A matrix: 4 × 4 of type dbl\n",
       "\\begin{tabular}{r|llll}\n",
       "  & (0A) & (1A) & (0B) & (1B)\\\\\n",
       "\\hline\n",
       "\t(0A) & NA &  2 &  2 &  0\\\\\n",
       "\t(1A) &  1 & NA &  0 &  2\\\\\n",
       "\t(0B) &  2 &  0 & NA &  4\\\\\n",
       "\t(1B) &  0 &  2 &  3 & NA\\\\\n",
       "\\end{tabular}\n"
      ],
      "text/markdown": [
       "\n",
       "A matrix: 4 × 4 of type dbl\n",
       "\n",
       "| <!--/--> | (0A) | (1A) | (0B) | (1B) |\n",
       "|---|---|---|---|---|\n",
       "| (0A) | NA |  2 |  2 |  0 |\n",
       "| (1A) |  1 | NA |  0 |  2 |\n",
       "| (0B) |  2 |  0 | NA |  4 |\n",
       "| (1B) |  0 |  2 |  3 | NA |\n",
       "\n"
      ],
      "text/plain": [
       "     (0A) (1A) (0B) (1B)\n",
       "(0A) NA    2    2    0  \n",
       "(1A)  1   NA    0    2  \n",
       "(0B)  2    0   NA    4  \n",
       "(1B)  0    2    3   NA  "
      ]
     },
     "metadata": {},
     "output_type": "display_data"
    },
    {
     "data": {
      "text/html": [
       "<table>\n",
       "<caption>A matrix: 4 × 4 of type dbl</caption>\n",
       "<thead>\n",
       "\t<tr><th></th><th scope=col>(0A)</th><th scope=col>(1A)</th><th scope=col>(0B)</th><th scope=col>(1B)</th></tr>\n",
       "</thead>\n",
       "<tbody>\n",
       "\t<tr><th scope=row>(0A)</th><td>NA</td><td> 3</td><td> 2</td><td> 0</td></tr>\n",
       "\t<tr><th scope=row>(1A)</th><td> 1</td><td>NA</td><td> 0</td><td> 2</td></tr>\n",
       "\t<tr><th scope=row>(0B)</th><td> 2</td><td> 0</td><td>NA</td><td> 2</td></tr>\n",
       "\t<tr><th scope=row>(1B)</th><td> 0</td><td> 2</td><td> 4</td><td>NA</td></tr>\n",
       "</tbody>\n",
       "</table>\n"
      ],
      "text/latex": [
       "A matrix: 4 × 4 of type dbl\n",
       "\\begin{tabular}{r|llll}\n",
       "  & (0A) & (1A) & (0B) & (1B)\\\\\n",
       "\\hline\n",
       "\t(0A) & NA &  3 &  2 &  0\\\\\n",
       "\t(1A) &  1 & NA &  0 &  2\\\\\n",
       "\t(0B) &  2 &  0 & NA &  2\\\\\n",
       "\t(1B) &  0 &  2 &  4 & NA\\\\\n",
       "\\end{tabular}\n"
      ],
      "text/markdown": [
       "\n",
       "A matrix: 4 × 4 of type dbl\n",
       "\n",
       "| <!--/--> | (0A) | (1A) | (0B) | (1B) |\n",
       "|---|---|---|---|---|\n",
       "| (0A) | NA |  3 |  2 |  0 |\n",
       "| (1A) |  1 | NA |  0 |  2 |\n",
       "| (0B) |  2 |  0 | NA |  2 |\n",
       "| (1B) |  0 |  2 |  4 | NA |\n",
       "\n"
      ],
      "text/plain": [
       "     (0A) (1A) (0B) (1B)\n",
       "(0A) NA    3    2    0  \n",
       "(1A)  1   NA    0    2  \n",
       "(0B)  2    0   NA    2  \n",
       "(1B)  0    2    4   NA  "
      ]
     },
     "metadata": {},
     "output_type": "display_data"
    }
   ],
   "source": [
    "#3 free transition models\n",
    "trans.rates.nodual.13 = ParEqual(trans.rates.nodual, c(1,2,1,4,1,5,1,7))\n",
    "trans.rates.nodual.13\n",
    "trans.rates.nodual.14 = ParEqual(trans.rates.nodual, c(2,3,2,4,2,5,2,7))\n",
    "trans.rates.nodual.14\n",
    "\n",
    "trans.rates.nodual.15 = ParEqual(trans.rates.nodual, c(2,4,2,5,2,7,2,8))\n",
    "trans.rates.nodual.15"
   ]
  },
  {
   "cell_type": "code",
   "execution_count": 45,
   "metadata": {},
   "outputs": [
    {
     "data": {
      "text/html": [
       "<table>\n",
       "<caption>A matrix: 4 × 4 of type dbl</caption>\n",
       "<thead>\n",
       "\t<tr><th></th><th scope=col>(0A)</th><th scope=col>(1A)</th><th scope=col>(0B)</th><th scope=col>(1B)</th></tr>\n",
       "</thead>\n",
       "<tbody>\n",
       "\t<tr><th scope=row>(0A)</th><td>NA</td><td> 3</td><td> 2</td><td> 0</td></tr>\n",
       "\t<tr><th scope=row>(1A)</th><td> 1</td><td>NA</td><td> 0</td><td> 2</td></tr>\n",
       "\t<tr><th scope=row>(0B)</th><td> 2</td><td> 0</td><td>NA</td><td> 5</td></tr>\n",
       "\t<tr><th scope=row>(1B)</th><td> 0</td><td> 2</td><td> 4</td><td>NA</td></tr>\n",
       "</tbody>\n",
       "</table>\n"
      ],
      "text/latex": [
       "A matrix: 4 × 4 of type dbl\n",
       "\\begin{tabular}{r|llll}\n",
       "  & (0A) & (1A) & (0B) & (1B)\\\\\n",
       "\\hline\n",
       "\t(0A) & NA &  3 &  2 &  0\\\\\n",
       "\t(1A) &  1 & NA &  0 &  2\\\\\n",
       "\t(0B) &  2 &  0 & NA &  5\\\\\n",
       "\t(1B) &  0 &  2 &  4 & NA\\\\\n",
       "\\end{tabular}\n"
      ],
      "text/markdown": [
       "\n",
       "A matrix: 4 × 4 of type dbl\n",
       "\n",
       "| <!--/--> | (0A) | (1A) | (0B) | (1B) |\n",
       "|---|---|---|---|---|\n",
       "| (0A) | NA |  3 |  2 |  0 |\n",
       "| (1A) |  1 | NA |  0 |  2 |\n",
       "| (0B) |  2 |  0 | NA |  5 |\n",
       "| (1B) |  0 |  2 |  4 | NA |\n",
       "\n"
      ],
      "text/plain": [
       "     (0A) (1A) (0B) (1B)\n",
       "(0A) NA    3    2    0  \n",
       "(1A)  1   NA    0    2  \n",
       "(0B)  2    0   NA    5  \n",
       "(1B)  0    2    4   NA  "
      ]
     },
     "metadata": {},
     "output_type": "display_data"
    }
   ],
   "source": [
    "#4 free transition models\n",
    "trans.rates.nodual.16 = ParEqual(trans.rates.nodual, c(2,4,2,5,2,7))\n",
    "trans.rates.nodual.16"
   ]
  },
  {
   "cell_type": "code",
   "execution_count": 46,
   "metadata": {},
   "outputs": [
    {
     "data": {
      "text/html": [
       "<table>\n",
       "<caption>A matrix: 4 × 4 of type dbl</caption>\n",
       "<thead>\n",
       "\t<tr><th></th><th scope=col>(0A)</th><th scope=col>(1A)</th><th scope=col>(0B)</th><th scope=col>(1B)</th></tr>\n",
       "</thead>\n",
       "<tbody>\n",
       "\t<tr><th scope=row>(0A)</th><td>NA</td><td> 3</td><td> 5</td><td> 0</td></tr>\n",
       "\t<tr><th scope=row>(1A)</th><td> 1</td><td>NA</td><td> 0</td><td> 7</td></tr>\n",
       "\t<tr><th scope=row>(0B)</th><td> 2</td><td> 0</td><td>NA</td><td> 8</td></tr>\n",
       "\t<tr><th scope=row>(1B)</th><td> 0</td><td> 4</td><td> 6</td><td>NA</td></tr>\n",
       "</tbody>\n",
       "</table>\n"
      ],
      "text/latex": [
       "A matrix: 4 × 4 of type dbl\n",
       "\\begin{tabular}{r|llll}\n",
       "  & (0A) & (1A) & (0B) & (1B)\\\\\n",
       "\\hline\n",
       "\t(0A) & NA &  3 &  5 &  0\\\\\n",
       "\t(1A) &  1 & NA &  0 &  7\\\\\n",
       "\t(0B) &  2 &  0 & NA &  8\\\\\n",
       "\t(1B) &  0 &  4 &  6 & NA\\\\\n",
       "\\end{tabular}\n"
      ],
      "text/markdown": [
       "\n",
       "A matrix: 4 × 4 of type dbl\n",
       "\n",
       "| <!--/--> | (0A) | (1A) | (0B) | (1B) |\n",
       "|---|---|---|---|---|\n",
       "| (0A) | NA |  3 |  5 |  0 |\n",
       "| (1A) |  1 | NA |  0 |  7 |\n",
       "| (0B) |  2 |  0 | NA |  8 |\n",
       "| (1B) |  0 |  4 |  6 | NA |\n",
       "\n"
      ],
      "text/plain": [
       "     (0A) (1A) (0B) (1B)\n",
       "(0A) NA    3    5    0  \n",
       "(1A)  1   NA    0    7  \n",
       "(0B)  2    0   NA    8  \n",
       "(1B)  0    4    6   NA  "
      ]
     },
     "metadata": {},
     "output_type": "display_data"
    }
   ],
   "source": [
    "trans.rates.nodual"
   ]
  },
  {
   "cell_type": "code",
   "execution_count": 47,
   "metadata": {},
   "outputs": [],
   "source": [
    "trans_list<-list(trans.rates.nodual,\n",
    "trans.rates.nodual.allequal,\n",
    "trans.rates.nodual.1.1,\n",
    "trans.rates.nodual.1.2,\n",
    "trans.rates.nodual.1.4,\n",
    "trans.rates.nodual.3,\n",
    "trans.rates.nodual.4,\n",
    "trans.rates.nodual.5,\n",
    "trans.rates.nodual.6,\n",
    "trans.rates.nodual.7,\n",
    "trans.rates.nodual.8,\n",
    "trans.rates.nodual.9,\n",
    "trans.rates.nodual.10,\n",
    "trans.rates.nodual.11,\n",
    "trans.rates.nodual.12,\n",
    "trans.rates.nodual.13,\n",
    "trans.rates.nodual.14,\n",
    "trans.rates.nodual.15,\n",
    "trans.rates.nodual.16)\n",
    "\n",
    "trans_names<-c(\"trans.rates.nodual\",\n",
    "\"trans.rates.nodual.allequal\",\n",
    "\"trans.rates.nodual.1.1\",\n",
    "\"trans.rates.nodual.1.2\",\n",
    "\"trans.rates.nodual.1.4\",\n",
    "\"trans.rates.nodual.3\",\n",
    "\"trans.rates.nodual.4\",\n",
    "\"trans.rates.nodual.5\",\n",
    "\"trans.rates.nodual.6\",\n",
    "\"trans.rates.nodual.7\",\n",
    "\"trans.rates.nodual.8\",\n",
    "\"trans.rates.nodual.9\",\n",
    "\"trans.rates.nodual.10\",\n",
    "\"trans.rates.nodual.11\",\n",
    "\"trans.rates.nodual.12\",\n",
    "\"trans.rates.nodual.13\",\n",
    "\"trans.rates.nodual.14\",\n",
    "\"trans.rates.nodual.15\",\n",
    "\"trans.rates.nodual.16\")"
   ]
  },
  {
   "cell_type": "code",
   "execution_count": 48,
   "metadata": {},
   "outputs": [],
   "source": [
    "turnover_list<-list(\n",
    "    turnover.allfree,\n",
    "    turnover.hidfree,\n",
    "    turnover.obsfree,\n",
    "    turnover.allequal\n",
    ")\n",
    "\n",
    "turnover_names<-c(\n",
    "    \"turnover.allfree\",\n",
    "    \"turnover.hidfree\",\n",
    "    \"turnover.obsfree\",\n",
    "    \"turnover.allequal\"\n",
    ")\n",
    "\n",
    "eps_list<-list(\n",
    "    eps.allfree,\n",
    "    eps.hidfree,\n",
    "    eps.obsfree,\n",
    "    eps.allequal\n",
    ")\n",
    "\n",
    "eps_names<-c(\n",
    "    \"eps.allfree\",\n",
    "    \"eps.hidfree\",\n",
    "    \"eps.obsfree\",\n",
    "    \"eps.allequal\"\n",
    ")"
   ]
  },
  {
   "cell_type": "code",
   "execution_count": 49,
   "metadata": {},
   "outputs": [],
   "source": [
    "trait_mod<-\"pinVSpal\""
   ]
  },
  {
   "cell_type": "code",
   "execution_count": 174,
   "metadata": {},
   "outputs": [
    {
     "name": "stdout",
     "output_type": "stream",
     "text": [
      "Initializing... \n",
      "Finished. Beginning bounded subplex routine... \n",
      "Finished. Summarizing results... \n"
     ]
    }
   ],
   "source": [
    "m1 = hisse(tree, trait, f=c(1,1), hidden.states=TRUE, turnover.anc=turnover_list[[1]], \n",
    "           eps.anc=eps_list[[1]], trans.rate=trans_list[[1]])"
   ]
  },
  {
   "cell_type": "code",
   "execution_count": 175,
   "metadata": {},
   "outputs": [],
   "source": [
    "save(m1,file=paste(trait_mod,turnover_names[1],eps_names[1],trans_names[1], \"fit.hisse.Rdata\", sep=\"_\"))"
   ]
  },
  {
   "cell_type": "code",
   "execution_count": 50,
   "metadata": {},
   "outputs": [],
   "source": [
    "load(paste(trait_mod,turnover_names[1],eps_names[1],trans_names[1], \"fit.hisse.Rdata\", sep=\"_\"))\n"
   ]
  },
  {
   "cell_type": "code",
   "execution_count": 51,
   "metadata": {},
   "outputs": [
    {
     "data": {
      "text/plain": [
       "\n",
       "Fit\n",
       "       lnL      AIC     AICc ntax\n",
       " -7240.676 14513.35 14513.57 2547\n",
       "\n",
       "Probability of extinction: \n",
       "\n",
       "Diversification Rates\n",
       "                    turnover  ext.frac\n",
       "rate0A             0.1494639 0.6181761\n",
       "alpha0A            1.0000000 1.0000000\n",
       "beta0A             1.0000000 1.0000000\n",
       "timeslice.factor0A 1.0000000 1.0000000\n",
       "\n",
       "                   turnover ext.frac\n",
       "rate1A             9.881495 2.877659\n",
       "alpha1A            1.000000 1.000000\n",
       "beta1A             1.000000 1.000000\n",
       "timeslice.factor1A 1.000000 1.000000\n",
       "\n",
       "                    turnover  ext.frac\n",
       "rate0B             0.4047937 0.2641867\n",
       "alpha0B            1.0000000 1.0000000\n",
       "beta0B             1.0000000 1.0000000\n",
       "timeslice.factor0B 1.0000000 1.0000000\n",
       "\n",
       "                    turnover  ext.frac\n",
       "rate1B             0.3290119 0.5796047\n",
       "alpha1B            1.0000000 1.0000000\n",
       "beta1B             1.0000000 1.0000000\n",
       "timeslice.factor1B 1.0000000 1.0000000\n",
       "\n",
       "Transition Rates\n",
       "             (0A)        (1A)        (0B)         (1B)\n",
       "(0A)           NA 3.49307e-09 0.002488889 0.000000e+00\n",
       "(1A) 100.00000000          NA 0.000000000 1.622092e-05\n",
       "(0B)   0.08641641 0.00000e+00          NA 3.788988e-04\n",
       "(1B)   0.00000000 2.71237e-09 0.001351121           NA\n"
      ]
     },
     "metadata": {},
     "output_type": "display_data"
    }
   ],
   "source": [
    "m1"
   ]
  },
  {
   "cell_type": "code",
   "execution_count": 177,
   "metadata": {},
   "outputs": [
    {
     "data": {
      "text/html": [
       "14513.3523880401"
      ],
      "text/latex": [
       "14513.3523880401"
      ],
      "text/markdown": [
       "14513.3523880401"
      ],
      "text/plain": [
       "[1] 14513.35"
      ]
     },
     "metadata": {},
     "output_type": "display_data"
    }
   ],
   "source": [
    "m1$AIC"
   ]
  },
  {
   "cell_type": "code",
   "execution_count": null,
   "metadata": {},
   "outputs": [],
   "source": [
    "m1.recon = MarginRecon(tree, trait, f=c(1,1), hidden.states=TRUE, pars=m1$solution, \n",
    "                       n.cores=3)"
   ]
  },
  {
   "cell_type": "code",
   "execution_count": null,
   "metadata": {},
   "outputs": [],
   "source": [
    "m1.recon"
   ]
  },
  {
   "cell_type": "code",
   "execution_count": null,
   "metadata": {},
   "outputs": [],
   "source": [
    "for(i in 1:length(turnover_list))\n",
    "    {\n",
    "    for(j in 1:length(trans_list))\n",
    "        {\n",
    "            m = hisse(tree, trait, f=c(1,1), hidden.states=TRUE, turnover.anc=turnover_list[[i]], \n",
    "           eps.anc=eps_list[[i]], trans.rate=trans_list[[j]])\n",
    "            save(m,file=paste(trait_mod,turnover_names[i],eps_names[i],trans_names[j], \"fit.hisse.Rdata\", sep=\"_\"))\n",
    "    }\n",
    "}"
   ]
  },
  {
   "cell_type": "code",
   "execution_count": null,
   "metadata": {},
   "outputs": [],
   "source": []
  }
 ],
 "metadata": {
  "kernelspec": {
   "display_name": "R",
   "language": "R",
   "name": "ir"
  },
  "language_info": {
   "codemirror_mode": "r",
   "file_extension": ".r",
   "mimetype": "text/x-r-source",
   "name": "R",
   "pygments_lexer": "r",
   "version": "4.1.3"
  }
 },
 "nbformat": 4,
 "nbformat_minor": 2
}
